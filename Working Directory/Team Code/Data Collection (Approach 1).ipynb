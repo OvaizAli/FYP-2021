{
 "cells": [
  {
   "cell_type": "code",
   "execution_count": 198,
   "id": "a4d90ad9",
   "metadata": {},
   "outputs": [],
   "source": [
    "import pandas as pd\n",
    "import os\n",
    "path = \"C:\\\\Users\\\\OvaizAli\\\\Desktop\\\\FYP-2021\\\\Working Directory\\\\Data (CSSE) at Johns Hopkins University\\\\COVID-19\\\\csse_covid_19_data\\\\csse_covid_19_daily_reports\\\\\""
   ]
  },
  {
   "cell_type": "code",
   "execution_count": 199,
   "id": "413ba9ba",
   "metadata": {},
   "outputs": [],
   "source": [
    "df_final = pd.DataFrame({'Province_State' : [], 'Country_Region' : [], 'Last_Update' : [], 'Lat' : [], 'Long_' : [],'Confirmed' : [], 'Deaths' : [], 'Recovered' : [], 'Active' : [], 'Combined_Key' : [],'Incident_Rate' : [], 'Case_Fatality_Ratio' : []})\n",
    "for file in os.listdir(path):\n",
    "    if file.endswith(\".csv\"):\n",
    "        df = pd.read_csv(path + file)\n",
    "        try:\n",
    "            df_temp = df[df['Country_Region'] == \"Pakistan\"].copy()\n",
    "            df_temp.drop(['FIPS', 'Admin2'], axis = 1, inplace = True)\n",
    "            \n",
    "            if(len(df_temp.columns) == 12):\n",
    "                df_final = df_final.append(df_temp, True)\n",
    "                df_final.drop(['Combined_Key'], axis = 1, inplace = True)\n",
    "               \n",
    "        except :\n",
    "            continue\n",
    "            "
   ]
  },
  {
   "cell_type": "code",
   "execution_count": 200,
   "id": "f9339296",
   "metadata": {},
   "outputs": [],
   "source": [
    " df_final.drop(['Recovered', 'Active', ], axis = 1, inplace = True)\n",
    "df_final = df_final.dropna(subset=['Province_State'])"
   ]
  },
  {
   "cell_type": "code",
   "execution_count": 201,
   "id": "091150c7",
   "metadata": {},
   "outputs": [
    {
     "data": {
      "text/plain": [
       "Province_State            0\n",
       "Country_Region            0\n",
       "Last_Update               0\n",
       "Lat                       0\n",
       "Long_                     0\n",
       "Confirmed                 0\n",
       "Deaths                    0\n",
       "Incident_Rate          1064\n",
       "Case_Fatality_Ratio    1064\n",
       "Incidence_Rate         2401\n",
       "Case-Fatality_Ratio    2401\n",
       "dtype: int64"
      ]
     },
     "execution_count": 201,
     "metadata": {},
     "output_type": "execute_result"
    }
   ],
   "source": [
    "df_final.isnull().sum()"
   ]
  },
  {
   "cell_type": "code",
   "execution_count": 202,
   "id": "f5ebf972",
   "metadata": {},
   "outputs": [],
   "source": [
    "df_temp = df_final['Case_Fatality_Ratio'].fillna(df_final['Case-Fatality_Ratio'])\n",
    "df_final.loc[df_final['Case_Fatality_Ratio'].isnull(), 'Case_Fatality_Ratio'] = df_temp"
   ]
  },
  {
   "cell_type": "code",
   "execution_count": 203,
   "id": "c3e5fcfc",
   "metadata": {},
   "outputs": [],
   "source": [
    "df_temp = df_final['Incident_Rate'].fillna(df_final['Incidence_Rate'])\n",
    "df_final.loc[df_final['Incident_Rate'].isnull(), 'Incident_Rate'] = df_temp"
   ]
  },
  {
   "cell_type": "code",
   "execution_count": 204,
   "id": "506df105",
   "metadata": {},
   "outputs": [],
   "source": [
    "df_final.drop(['Incidence_Rate', 'Case-Fatality_Ratio'], axis = 1, inplace = True)"
   ]
  },
  {
   "cell_type": "code",
   "execution_count": 205,
   "id": "32e5a06c",
   "metadata": {},
   "outputs": [
    {
     "data": {
      "text/plain": [
       "Province_State         0\n",
       "Country_Region         0\n",
       "Last_Update            0\n",
       "Lat                    0\n",
       "Long_                  0\n",
       "Confirmed              0\n",
       "Deaths                 0\n",
       "Incident_Rate          0\n",
       "Case_Fatality_Ratio    0\n",
       "dtype: int64"
      ]
     },
     "execution_count": 205,
     "metadata": {},
     "output_type": "execute_result"
    }
   ],
   "source": [
    "df_final.isnull().sum()"
   ]
  },
  {
   "cell_type": "code",
   "execution_count": 206,
   "id": "2355d445",
   "metadata": {},
   "outputs": [
    {
     "data": {
      "text/plain": [
       "3465"
      ]
     },
     "execution_count": 206,
     "metadata": {},
     "output_type": "execute_result"
    }
   ],
   "source": [
    "len(df_final)"
   ]
  },
  {
   "cell_type": "code",
   "execution_count": 208,
   "id": "11bf2b5e",
   "metadata": {},
   "outputs": [],
   "source": [
    "df_final.to_csv(\"C:\\\\Users\\\\OvaizAli\\\\Desktop\\\\FYP-2021\\\\Working Directory\\\\All_Province (06-2020 to 10-2021).csv\")"
   ]
  },
  {
   "cell_type": "code",
   "execution_count": null,
   "id": "0fd37746",
   "metadata": {},
   "outputs": [],
   "source": []
  }
 ],
 "metadata": {
  "kernelspec": {
   "display_name": "Python 3",
   "language": "python",
   "name": "python3"
  },
  "language_info": {
   "codemirror_mode": {
    "name": "ipython",
    "version": 3
   },
   "file_extension": ".py",
   "mimetype": "text/x-python",
   "name": "python",
   "nbconvert_exporter": "python",
   "pygments_lexer": "ipython3",
   "version": "3.8.8"
  }
 },
 "nbformat": 4,
 "nbformat_minor": 5
}
