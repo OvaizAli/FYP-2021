{
 "cells": [
  {
   "cell_type": "code",
   "execution_count": 2,
   "metadata": {},
   "outputs": [],
   "source": [
    "import numpy\n",
    "import matplotlib.pyplot as plt\n",
    "import pandas\n",
    "import math\n",
    "from keras.models import Sequential\n",
    "from keras.layers import Dense\n",
    "from keras.layers import LSTM\n",
    "from sklearn.preprocessing import MinMaxScaler\n",
    "from sklearn.metrics import mean_squared_error\n",
    "\n",
    "import numpy\n",
    "import matplotlib.pyplot as plt\n",
    "import pandas\n",
    "import math\n",
    "from keras.models import Sequential\n",
    "from keras.layers import Dense\n",
    "from keras.layers import LSTM\n",
    "from sklearn.preprocessing import MinMaxScaler\n",
    "from sklearn.metrics import mean_squared_error"
   ]
  },
  {
   "cell_type": "code",
   "execution_count": 16,
   "metadata": {},
   "outputs": [],
   "source": [
    "numpy.random.seed(7)"
   ]
  },
  {
   "cell_type": "code",
   "execution_count": 32,
   "metadata": {},
   "outputs": [],
   "source": [
    "dataframe = pandas.read_csv('Sindh_Updated.csv', engine='python')\n",
    "dataframe\n",
    "# dataframe.drop('Last_Update', axis=1, inplace=True)\n",
    "dataframe.drop('Province_State', axis=1, inplace=True)\n",
    "dataframe.drop('Date', axis=1, inplace=True)\n",
    "dataset = dataframe.values\n",
    "# dataset = dataset.astype('float32')"
   ]
  },
  {
   "cell_type": "code",
   "execution_count": 33,
   "metadata": {},
   "outputs": [
    {
     "data": {
      "text/plain": [
       "(183, 12)"
      ]
     },
     "execution_count": 33,
     "metadata": {},
     "output_type": "execute_result"
    }
   ],
   "source": [
    "dataset.shape\n",
    "# dataset"
   ]
  },
  {
   "cell_type": "code",
   "execution_count": 10,
   "metadata": {},
   "outputs": [],
   "source": [
    "scaler = MinMaxScaler(feature_range=(0, 9))\n",
    "dataset = scaler.fit_transform(dataset)"
   ]
  },
  {
   "cell_type": "code",
   "execution_count": 34,
   "metadata": {},
   "outputs": [
    {
     "name": "stdout",
     "output_type": "stream",
     "text": [
      "122 61\n"
     ]
    }
   ],
   "source": [
    "train_size = int(len(dataset) * 0.67)\n",
    "test_size = len(dataset) - train_size\n",
    "train, test = dataset[0:train_size,:], dataset[train_size:len(dataset),:]\n",
    "print(len(train), len(test))"
   ]
  },
  {
   "cell_type": "code",
   "execution_count": 35,
   "metadata": {},
   "outputs": [],
   "source": [
    "def create_dataset(dataset, look_back=1):\n",
    "    dataX, dataY = [], []\n",
    "    for i in range(len(dataset)-look_back-1):\n",
    "        a = dataset[i:(i+look_back), 0]\n",
    "        dataX.append(a)\n",
    "        dataY.append(dataset[i + look_back, 0])\n",
    "    return numpy.array(dataX), numpy.array(dataY)"
   ]
  },
  {
   "cell_type": "code",
   "execution_count": 49,
   "metadata": {},
   "outputs": [],
   "source": [
    "look_back = 7\n",
    "trainX, trainY = create_dataset(train, look_back)\n",
    "testX, testY = create_dataset(test, look_back)"
   ]
  },
  {
   "cell_type": "code",
   "execution_count": 50,
   "metadata": {},
   "outputs": [],
   "source": [
    "trainX = numpy.reshape(trainX, (trainX.shape[0], 1, trainX.shape[1]))\n",
    "testX = numpy.reshape(testX, (testX.shape[0], 1, testX.shape[1]))"
   ]
  },
  {
   "cell_type": "code",
   "execution_count": 51,
   "metadata": {},
   "outputs": [
    {
     "data": {
      "text/plain": [
       "array([[89225., 89225., 90721., 94528., 96236., 97626., 99362.]])"
      ]
     },
     "execution_count": 51,
     "metadata": {},
     "output_type": "execute_result"
    }
   ],
   "source": [
    "trainX[1]"
   ]
  },
  {
   "cell_type": "code",
   "execution_count": 52,
   "metadata": {},
   "outputs": [
    {
     "data": {
      "text/plain": [
       "100900.0"
      ]
     },
     "execution_count": 52,
     "metadata": {},
     "output_type": "execute_result"
    }
   ],
   "source": [
    "trainY[1]"
   ]
  },
  {
   "cell_type": "code",
   "execution_count": 53,
   "metadata": {},
   "outputs": [
    {
     "data": {
      "text/plain": [
       "7"
      ]
     },
     "execution_count": 53,
     "metadata": {},
     "output_type": "execute_result"
    }
   ],
   "source": [
    "look_back"
   ]
  },
  {
   "cell_type": "code",
   "execution_count": 48,
   "metadata": {},
   "outputs": [
    {
     "name": "stdout",
     "output_type": "stream",
     "text": [
      "Epoch 1/100\n",
      "114/114 - 43s - loss: 16673176576.0000\n",
      "Epoch 2/100\n",
      "114/114 - 0s - loss: 16673103872.0000\n",
      "Epoch 3/100\n",
      "114/114 - 0s - loss: 16673030144.0000\n",
      "Epoch 4/100\n",
      "114/114 - 0s - loss: 16672956416.0000\n",
      "Epoch 5/100\n",
      "114/114 - 0s - loss: 16672883712.0000\n",
      "Epoch 6/100\n",
      "114/114 - 0s - loss: 16672809984.0000\n",
      "Epoch 7/100\n",
      "114/114 - 0s - loss: 16672733184.0000\n",
      "Epoch 8/100\n",
      "114/114 - 0s - loss: 16672660480.0000\n",
      "Epoch 9/100\n",
      "114/114 - 0s - loss: 16672586752.0000\n",
      "Epoch 10/100\n",
      "114/114 - 0s - loss: 16672510976.0000\n",
      "Epoch 11/100\n",
      "114/114 - 0s - loss: 16672441344.0000\n",
      "Epoch 12/100\n",
      "114/114 - 0s - loss: 16672366592.0000\n",
      "Epoch 13/100\n",
      "114/114 - 0s - loss: 16672290816.0000\n",
      "Epoch 14/100\n",
      "114/114 - 0s - loss: 16672219136.0000\n",
      "Epoch 15/100\n",
      "114/114 - 0s - loss: 16672142336.0000\n",
      "Epoch 16/100\n",
      "114/114 - 0s - loss: 16672067584.0000\n",
      "Epoch 17/100\n",
      "114/114 - 0s - loss: 16671996928.0000\n",
      "Epoch 18/100\n",
      "114/114 - 0s - loss: 16671926272.0000\n",
      "Epoch 19/100\n",
      "114/114 - 0s - loss: 16671849472.0000\n",
      "Epoch 20/100\n",
      "114/114 - 0s - loss: 16671772672.0000\n",
      "Epoch 21/100\n",
      "114/114 - 0s - loss: 16671699968.0000\n",
      "Epoch 22/100\n",
      "114/114 - 0s - loss: 16671626240.0000\n",
      "Epoch 23/100\n",
      "114/114 - 0s - loss: 16671552512.0000\n",
      "Epoch 24/100\n",
      "114/114 - 0s - loss: 16671479808.0000\n",
      "Epoch 25/100\n",
      "114/114 - 0s - loss: 16671406080.0000\n",
      "Epoch 26/100\n",
      "114/114 - 0s - loss: 16671335424.0000\n",
      "Epoch 27/100\n",
      "114/114 - 0s - loss: 16671260672.0000\n",
      "Epoch 28/100\n",
      "114/114 - 0s - loss: 16671187968.0000\n",
      "Epoch 29/100\n",
      "114/114 - 0s - loss: 16671106048.0000\n",
      "Epoch 30/100\n",
      "114/114 - 0s - loss: 16671035392.0000\n",
      "Epoch 31/100\n",
      "114/114 - 0s - loss: 16670960640.0000\n",
      "Epoch 32/100\n",
      "114/114 - 0s - loss: 16670888960.0000\n",
      "Epoch 33/100\n",
      "114/114 - 0s - loss: 16670813184.0000\n",
      "Epoch 34/100\n",
      "114/114 - 0s - loss: 16670741504.0000\n",
      "Epoch 35/100\n",
      "114/114 - 0s - loss: 16670664704.0000\n",
      "Epoch 36/100\n",
      "114/114 - 0s - loss: 16670598144.0000\n",
      "Epoch 37/100\n",
      "114/114 - 0s - loss: 16670522368.0000\n",
      "Epoch 38/100\n",
      "114/114 - 0s - loss: 16670446592.0000\n",
      "Epoch 39/100\n",
      "114/114 - 0s - loss: 16670372864.0000\n",
      "Epoch 40/100\n",
      "114/114 - 0s - loss: 16670296064.0000\n",
      "Epoch 41/100\n",
      "114/114 - 0s - loss: 16670222336.0000\n",
      "Epoch 42/100\n",
      "114/114 - 0s - loss: 16670152704.0000\n",
      "Epoch 43/100\n",
      "114/114 - 0s - loss: 16670076928.0000\n",
      "Epoch 44/100\n",
      "114/114 - 0s - loss: 16670000128.0000\n",
      "Epoch 45/100\n",
      "114/114 - 0s - loss: 16669931520.0000\n",
      "Epoch 46/100\n",
      "114/114 - 0s - loss: 16669854720.0000\n",
      "Epoch 47/100\n",
      "114/114 - 0s - loss: 16669784064.0000\n",
      "Epoch 48/100\n",
      "114/114 - 0s - loss: 16669710336.0000\n",
      "Epoch 49/100\n",
      "114/114 - 0s - loss: 16669635584.0000\n",
      "Epoch 50/100\n",
      "114/114 - 0s - loss: 16669565952.0000\n",
      "Epoch 51/100\n",
      "114/114 - 0s - loss: 16669487104.0000\n",
      "Epoch 52/100\n",
      "114/114 - 0s - loss: 16669416448.0000\n",
      "Epoch 53/100\n",
      "114/114 - 0s - loss: 16669342720.0000\n",
      "Epoch 54/100\n",
      "114/114 - 0s - loss: 16669268992.0000\n",
      "Epoch 55/100\n",
      "114/114 - 0s - loss: 16669193216.0000\n",
      "Epoch 56/100\n",
      "114/114 - 0s - loss: 16669121536.0000\n",
      "Epoch 57/100\n",
      "114/114 - 0s - loss: 16669045760.0000\n",
      "Epoch 58/100\n",
      "114/114 - 0s - loss: 16668976128.0000\n",
      "Epoch 59/100\n",
      "114/114 - 0s - loss: 16668900352.0000\n",
      "Epoch 60/100\n",
      "114/114 - 0s - loss: 16668825600.0000\n",
      "Epoch 61/100\n",
      "114/114 - 0s - loss: 16668753920.0000\n",
      "Epoch 62/100\n",
      "114/114 - 0s - loss: 16668676096.0000\n",
      "Epoch 63/100\n",
      "114/114 - 0s - loss: 16668604416.0000\n",
      "Epoch 64/100\n",
      "114/114 - 0s - loss: 16668527616.0000\n",
      "Epoch 65/100\n",
      "114/114 - 0s - loss: 16668454912.0000\n",
      "Epoch 66/100\n",
      "114/114 - 0s - loss: 16668379136.0000\n",
      "Epoch 67/100\n",
      "114/114 - 0s - loss: 16668307456.0000\n",
      "Epoch 68/100\n",
      "114/114 - 0s - loss: 16668236800.0000\n",
      "Epoch 69/100\n",
      "114/114 - 0s - loss: 16668163072.0000\n",
      "Epoch 70/100\n",
      "114/114 - 0s - loss: 16668089344.0000\n",
      "Epoch 71/100\n",
      "114/114 - 0s - loss: 16668014592.0000\n",
      "Epoch 72/100\n",
      "114/114 - 0s - loss: 16667940864.0000\n",
      "Epoch 73/100\n",
      "114/114 - 0s - loss: 16667872256.0000\n",
      "Epoch 74/100\n",
      "114/114 - 0s - loss: 16667791360.0000\n",
      "Epoch 75/100\n",
      "114/114 - 0s - loss: 16667716608.0000\n",
      "Epoch 76/100\n",
      "114/114 - 0s - loss: 16667650048.0000\n",
      "Epoch 77/100\n",
      "114/114 - 0s - loss: 16667572224.0000\n",
      "Epoch 78/100\n",
      "114/114 - 0s - loss: 16667499520.0000\n",
      "Epoch 79/100\n",
      "114/114 - 0s - loss: 16667422720.0000\n",
      "Epoch 80/100\n",
      "114/114 - 0s - loss: 16667350016.0000\n",
      "Epoch 81/100\n",
      "114/114 - 0s - loss: 16667276288.0000\n",
      "Epoch 82/100\n",
      "114/114 - 0s - loss: 16667203584.0000\n",
      "Epoch 83/100\n",
      "114/114 - 0s - loss: 16667128832.0000\n",
      "Epoch 84/100\n",
      "114/114 - 0s - loss: 16667057152.0000\n",
      "Epoch 85/100\n",
      "114/114 - 0s - loss: 16666982400.0000\n",
      "Epoch 86/100\n",
      "114/114 - 0s - loss: 16666909696.0000\n",
      "Epoch 87/100\n",
      "114/114 - 0s - loss: 16666833920.0000\n",
      "Epoch 88/100\n",
      "114/114 - 0s - loss: 16666758144.0000\n",
      "Epoch 89/100\n",
      "114/114 - 0s - loss: 16666686464.0000\n",
      "Epoch 90/100\n",
      "114/114 - 0s - loss: 16666615808.0000\n",
      "Epoch 91/100\n",
      "114/114 - 0s - loss: 16666536960.0000\n",
      "Epoch 92/100\n",
      "114/114 - 0s - loss: 16666470400.0000\n",
      "Epoch 93/100\n",
      "114/114 - 0s - loss: 16666388480.0000\n",
      "Epoch 94/100\n",
      "114/114 - 0s - loss: 16666321920.0000\n",
      "Epoch 95/100\n",
      "114/114 - 0s - loss: 16666244096.0000\n",
      "Epoch 96/100\n",
      "114/114 - 0s - loss: 16666170368.0000\n",
      "Epoch 97/100\n",
      "114/114 - 0s - loss: 16666095616.0000\n",
      "Epoch 98/100\n",
      "114/114 - 0s - loss: 16666021888.0000\n",
      "Epoch 99/100\n",
      "114/114 - 0s - loss: 16665951232.0000\n",
      "Epoch 100/100\n",
      "114/114 - 0s - loss: 16665878528.0000\n"
     ]
    },
    {
     "data": {
      "text/plain": [
       "<keras.callbacks.History at 0x1e37615b310>"
      ]
     },
     "execution_count": 48,
     "metadata": {},
     "output_type": "execute_result"
    }
   ],
   "source": [
    "model = Sequential()\n",
    "model.add(LSTM(4, input_shape=(1, look_back)))\n",
    "model.add(Dense(1))\n",
    "model.compile(loss='mean_squared_error', optimizer='adam')\n",
    "model.fit(trainX, trainY, epochs=100, batch_size=1, verbose=2)"
   ]
  },
  {
   "cell_type": "code",
   "execution_count": 29,
   "metadata": {},
   "outputs": [],
   "source": [
    "trainPredict = model.predict(trainX)\n",
    "testPredict = model.predict(testX)\n",
    "# invert predictions\n",
    "# trainPredict = scaler.inverse_transform(trainPredict)\n",
    "# trainY = scaler.inverse_transform([trainY])\n",
    "# testPredict = scaler.inverse_transform(testPredict)\n",
    "# testY = scaler.inverse_transform([testY])\n",
    "# calculate root mean squared error\n",
    "# trainScore = math.sqrt(mean_squared_error(trainY[0], trainPredict[:,0]))\n",
    "# print('Train Score: %.2f RMSE' % (trainScore))\n",
    "# testScore = math.sqrt(mean_squared_error(testY[0], testPredict[:,0]))\n",
    "# print('Test Score: %.2f RMSE' % (testScore))"
   ]
  },
  {
   "cell_type": "code",
   "execution_count": 30,
   "metadata": {},
   "outputs": [
    {
     "data": {
      "image/png": "[encoded data removed]",
      "text/plain": [
       "<Figure size 432x288 with 1 Axes>"
      ]
     },
     "metadata": {
      "needs_background": "light"
     },
     "output_type": "display_data"
    }
   ],
   "source": [
    "trainPredictPlot = numpy.empty_like(dataset)\n",
    "trainPredictPlot[:, :] = numpy.nan\n",
    "trainPredictPlot[look_back:len(trainPredict)+look_back, :] = trainPredict\n",
    "# shift test predictions for plotting\n",
    "testPredictPlot = numpy.empty_like(dataset)\n",
    "testPredictPlot[:, :] = numpy.nan\n",
    "testPredictPlot[len(trainPredict)+(look_back*2)+1:len(dataset)-1, :] = testPredict\n",
    "# plot baseline and predictions\n",
    "plt.plot(scaler.inverse_transform(dataset))\n",
    "plt.plot(trainPredictPlot)\n",
    "plt.plot(testPredictPlot)\n",
    "plt.show()"
   ]
  },
  {
   "cell_type": "code",
   "execution_count": 31,
   "metadata": {},
   "outputs": [
    {
     "data": {
      "image/png": "[encoded data removed]",
      "text/plain": [
       "<Figure size 432x288 with 1 Axes>"
      ]
     },
     "metadata": {
      "needs_background": "light"
     },
     "output_type": "display_data"
    }
   ],
   "source": [
    "trainPredictPlot = numpy.empty_like(dataset)\n",
    "trainPredictPlot[:, :] = numpy.nan\n",
    "trainPredictPlot[look_back:len(trainPredict)+look_back, :] = trainPredict\n",
    "# shift test predictions for plotting\n",
    "testPredictPlot = numpy.empty_like(dataset)\n",
    "testPredictPlot[:, :] = numpy.nan\n",
    "testPredictPlot[len(trainPredict)+(look_back*2)+1:len(dataset)-1, :] = testPredict\n",
    "# plot baseline and predictions\n",
    "plt.plot(scaler.inverse_transform(dataset))\n",
    "plt.plot(trainPredictPlot)\n",
    "plt.plot(testPredictPlot)\n",
    "plt.show()"
   ]
  },
  {
   "cell_type": "code",
   "execution_count": null,
   "metadata": {},
   "outputs": [],
   "source": []
  }
 ],
 "metadata": {
  "kernelspec": {
   "display_name": "Python 3",
   "language": "python",
   "name": "python3"
  },
  "language_info": {
   "codemirror_mode": {
    "name": "ipython",
    "version": 3
   },
   "file_extension": ".py",
   "mimetype": "text/x-python",
   "name": "python",
   "nbconvert_exporter": "python",
   "pygments_lexer": "ipython3",
   "version": "3.8.8"
  }
 },
 "nbformat": 4,
 "nbformat_minor": 4
}
