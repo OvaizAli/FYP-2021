{
 "cells": [
  {
   "cell_type": "code",
   "execution_count": 1,
   "id": "93c2bfcf",
   "metadata": {
    "id": "93c2bfcf"
   },
   "outputs": [],
   "source": [
    "import math\n",
    "import numpy as np\n",
    "import pandas as pd\n",
    "import matplotlib.pyplot as plt\n",
    "from sklearn.linear_model import Ridge\n",
    "from sklearn.model_selection import GridSearchCV\n",
    "import warnings\n",
    "warnings.filterwarnings(\"ignore\")"
   ]
  },
  {
   "cell_type": "code",
   "execution_count": 2,
   "id": "f8b356ba",
   "metadata": {
    "id": "f8b356ba"
   },
   "outputs": [],
   "source": [
    "def data_spilt(data, orders, start):\n",
    "    x_train = np.empty((len(data) - start - orders, orders))\n",
    "    y_train = data[start + orders:]\n",
    "\n",
    "    for i in range(len(data) - start - orders):\n",
    "        x_train[i] = data[i + start:start + orders + i]\n",
    "\n",
    "    # Exclude the day (Feb. 12, 2020) of the change of the definition of confirmed cases in Hubei China.\n",
    "    x_train = np.delete(x_train, np.s_[28 - (orders + 1) - start:28 - start], 0)\n",
    "    y_train = np.delete(y_train, np.s_[28 - (orders + 1) - start:28 - start])\n",
    "\n",
    "    return x_train, y_train"
   ]
  },
  {
   "cell_type": "code",
   "execution_count": 3,
   "id": "453ad602",
   "metadata": {
    "id": "453ad602"
   },
   "outputs": [],
   "source": [
    "def ridge(x, y):\n",
    "    print('\\nStart searching good parameters for the task...')\n",
    "    parameters = {'alpha': np.arange(0, 0.100005, 0.000005).tolist(),\n",
    "                  \"tol\": [1e-8],\n",
    "                  'fit_intercept': [True, False],\n",
    "                  'normalize': [True, False]}\n",
    "\n",
    "    clf = GridSearchCV(Ridge(), parameters, n_jobs=-1, cv=5)\n",
    "    clf.fit(x, y)\n",
    "\n",
    "    print('\\nResults for the parameters grid search:')\n",
    "    print('Model:', clf.best_estimator_)\n",
    "    print('Score:', clf.best_score_)\n",
    "    return clf"
   ]
  },
  {
   "cell_type": "code",
   "execution_count": 4,
   "id": "8b7f24c6",
   "metadata": {
    "colab": {
     "base_uri": "https://localhost:8080/",
     "height": 328
    },
    "id": "8b7f24c6",
    "outputId": "bc111d37-c6fe-4bc6-86c6-40ca83dc0b09"
   },
   "outputs": [
    {
     "data": {
      "text/html": [
       "<div>\n",
       "<style scoped>\n",
       "    .dataframe tbody tr th:only-of-type {\n",
       "        vertical-align: middle;\n",
       "    }\n",
       "\n",
       "    .dataframe tbody tr th {\n",
       "        vertical-align: top;\n",
       "    }\n",
       "\n",
       "    .dataframe thead th {\n",
       "        text-align: right;\n",
       "    }\n",
       "</style>\n",
       "<table border=\"1\" class=\"dataframe\">\n",
       "  <thead>\n",
       "    <tr style=\"text-align: right;\">\n",
       "      <th></th>\n",
       "      <th>Unnamed: 0</th>\n",
       "      <th>Province</th>\n",
       "      <th>Country_Region</th>\n",
       "      <th>Date</th>\n",
       "      <th>Day</th>\n",
       "      <th>Month</th>\n",
       "      <th>Year</th>\n",
       "      <th>Lat</th>\n",
       "      <th>Long_</th>\n",
       "      <th>Confirmed</th>\n",
       "      <th>...</th>\n",
       "      <th>admis_upper_vax</th>\n",
       "      <th>admis_lower_vax</th>\n",
       "      <th>admis_mean_unvax</th>\n",
       "      <th>admis_upper_unvax</th>\n",
       "      <th>admis_lower_unvax</th>\n",
       "      <th>Temp</th>\n",
       "      <th>Wind</th>\n",
       "      <th>Barometer</th>\n",
       "      <th>Visibility</th>\n",
       "      <th>Weather</th>\n",
       "    </tr>\n",
       "  </thead>\n",
       "  <tbody>\n",
       "    <tr>\n",
       "      <th>0</th>\n",
       "      <td>0</td>\n",
       "      <td>Balochistan</td>\n",
       "      <td>Pakistan</td>\n",
       "      <td>2020-03-10</td>\n",
       "      <td>10</td>\n",
       "      <td>3</td>\n",
       "      <td>2020</td>\n",
       "      <td>28.328492</td>\n",
       "      <td>65.898403</td>\n",
       "      <td>1.0</td>\n",
       "      <td>...</td>\n",
       "      <td>0.0</td>\n",
       "      <td>0.0</td>\n",
       "      <td>25.615120</td>\n",
       "      <td>44.61881</td>\n",
       "      <td>10.791250</td>\n",
       "      <td>46.29</td>\n",
       "      <td>15.00</td>\n",
       "      <td>31.43</td>\n",
       "      <td>0.00</td>\n",
       "      <td>Haze.</td>\n",
       "    </tr>\n",
       "    <tr>\n",
       "      <th>1</th>\n",
       "      <td>1</td>\n",
       "      <td>Islamabad</td>\n",
       "      <td>Pakistan</td>\n",
       "      <td>2020-03-10</td>\n",
       "      <td>10</td>\n",
       "      <td>3</td>\n",
       "      <td>2020</td>\n",
       "      <td>33.665087</td>\n",
       "      <td>73.121219</td>\n",
       "      <td>2.0</td>\n",
       "      <td>...</td>\n",
       "      <td>0.0</td>\n",
       "      <td>0.0</td>\n",
       "      <td>0.004133</td>\n",
       "      <td>0.00000</td>\n",
       "      <td>0.000000</td>\n",
       "      <td>65.14</td>\n",
       "      <td>9.57</td>\n",
       "      <td>34.71</td>\n",
       "      <td>21.33</td>\n",
       "      <td>Clear.</td>\n",
       "    </tr>\n",
       "    <tr>\n",
       "      <th>2</th>\n",
       "      <td>2</td>\n",
       "      <td>Punjab</td>\n",
       "      <td>Pakistan</td>\n",
       "      <td>2020-03-10</td>\n",
       "      <td>10</td>\n",
       "      <td>3</td>\n",
       "      <td>2020</td>\n",
       "      <td>30.811346</td>\n",
       "      <td>72.139132</td>\n",
       "      <td>0.0</td>\n",
       "      <td>...</td>\n",
       "      <td>0.0</td>\n",
       "      <td>0.0</td>\n",
       "      <td>40.904370</td>\n",
       "      <td>89.53674</td>\n",
       "      <td>11.384460</td>\n",
       "      <td>56.40</td>\n",
       "      <td>2.44</td>\n",
       "      <td>23.67</td>\n",
       "      <td>11.88</td>\n",
       "      <td>Clear.</td>\n",
       "    </tr>\n",
       "    <tr>\n",
       "      <th>3</th>\n",
       "      <td>3</td>\n",
       "      <td>Sindh</td>\n",
       "      <td>Pakistan</td>\n",
       "      <td>2020-03-10</td>\n",
       "      <td>10</td>\n",
       "      <td>3</td>\n",
       "      <td>2020</td>\n",
       "      <td>26.009446</td>\n",
       "      <td>68.776807</td>\n",
       "      <td>0.0</td>\n",
       "      <td>...</td>\n",
       "      <td>0.0</td>\n",
       "      <td>0.0</td>\n",
       "      <td>22.339800</td>\n",
       "      <td>81.02134</td>\n",
       "      <td>6.179772</td>\n",
       "      <td>65.14</td>\n",
       "      <td>9.57</td>\n",
       "      <td>34.71</td>\n",
       "      <td>21.33</td>\n",
       "      <td>Clear.</td>\n",
       "    </tr>\n",
       "    <tr>\n",
       "      <th>4</th>\n",
       "      <td>4</td>\n",
       "      <td>Khyber Pakhtunkhwa</td>\n",
       "      <td>Pakistan</td>\n",
       "      <td>2020-03-10</td>\n",
       "      <td>10</td>\n",
       "      <td>3</td>\n",
       "      <td>2020</td>\n",
       "      <td>34.485332</td>\n",
       "      <td>72.091690</td>\n",
       "      <td>0.0</td>\n",
       "      <td>...</td>\n",
       "      <td>0.0</td>\n",
       "      <td>0.0</td>\n",
       "      <td>17.376130</td>\n",
       "      <td>39.58196</td>\n",
       "      <td>5.953569</td>\n",
       "      <td>48.80</td>\n",
       "      <td>4.64</td>\n",
       "      <td>49.20</td>\n",
       "      <td>23.21</td>\n",
       "      <td>Fog.</td>\n",
       "    </tr>\n",
       "  </tbody>\n",
       "</table>\n",
       "<p>5 rows × 75 columns</p>\n",
       "</div>"
      ],
      "text/plain": [
       "   Unnamed: 0            Province Country_Region        Date  Day  Month  \\\n",
       "0           0         Balochistan       Pakistan  2020-03-10   10      3   \n",
       "1           1           Islamabad       Pakistan  2020-03-10   10      3   \n",
       "2           2              Punjab       Pakistan  2020-03-10   10      3   \n",
       "3           3               Sindh       Pakistan  2020-03-10   10      3   \n",
       "4           4  Khyber Pakhtunkhwa       Pakistan  2020-03-10   10      3   \n",
       "\n",
       "   Year        Lat      Long_  Confirmed  ...  admis_upper_vax  \\\n",
       "0  2020  28.328492  65.898403        1.0  ...              0.0   \n",
       "1  2020  33.665087  73.121219        2.0  ...              0.0   \n",
       "2  2020  30.811346  72.139132        0.0  ...              0.0   \n",
       "3  2020  26.009446  68.776807        0.0  ...              0.0   \n",
       "4  2020  34.485332  72.091690        0.0  ...              0.0   \n",
       "\n",
       "   admis_lower_vax  admis_mean_unvax  admis_upper_unvax  admis_lower_unvax  \\\n",
       "0              0.0         25.615120           44.61881          10.791250   \n",
       "1              0.0          0.004133            0.00000           0.000000   \n",
       "2              0.0         40.904370           89.53674          11.384460   \n",
       "3              0.0         22.339800           81.02134           6.179772   \n",
       "4              0.0         17.376130           39.58196           5.953569   \n",
       "\n",
       "    Temp   Wind  Barometer  Visibility  Weather  \n",
       "0  46.29  15.00      31.43        0.00    Haze.  \n",
       "1  65.14   9.57      34.71       21.33   Clear.  \n",
       "2  56.40   2.44      23.67       11.88   Clear.  \n",
       "3  65.14   9.57      34.71       21.33   Clear.  \n",
       "4  48.80   4.64      49.20       23.21     Fog.  \n",
       "\n",
       "[5 rows x 75 columns]"
      ]
     },
     "execution_count": 4,
     "metadata": {},
     "output_type": "execute_result"
    }
   ],
   "source": [
    "df = pd.read_csv(r\"F:\\FYP\\Final_Data(2022).csv\")\n",
    "df.head()"
   ]
  },
  {
   "cell_type": "code",
   "execution_count": 5,
   "id": "0bc12d57",
   "metadata": {
    "id": "0bc12d57"
   },
   "outputs": [
    {
     "data": {
      "text/html": [
       "<div>\n",
       "<style scoped>\n",
       "    .dataframe tbody tr th:only-of-type {\n",
       "        vertical-align: middle;\n",
       "    }\n",
       "\n",
       "    .dataframe tbody tr th {\n",
       "        vertical-align: top;\n",
       "    }\n",
       "\n",
       "    .dataframe thead th {\n",
       "        text-align: right;\n",
       "    }\n",
       "</style>\n",
       "<table border=\"1\" class=\"dataframe\">\n",
       "  <thead>\n",
       "    <tr style=\"text-align: right;\">\n",
       "      <th></th>\n",
       "      <th>index</th>\n",
       "      <th>Unnamed: 0</th>\n",
       "      <th>Province</th>\n",
       "      <th>Country_Region</th>\n",
       "      <th>Date</th>\n",
       "      <th>Day</th>\n",
       "      <th>Month</th>\n",
       "      <th>Year</th>\n",
       "      <th>Lat</th>\n",
       "      <th>Long_</th>\n",
       "      <th>...</th>\n",
       "      <th>admis_upper_vax</th>\n",
       "      <th>admis_lower_vax</th>\n",
       "      <th>admis_mean_unvax</th>\n",
       "      <th>admis_upper_unvax</th>\n",
       "      <th>admis_lower_unvax</th>\n",
       "      <th>Temp</th>\n",
       "      <th>Wind</th>\n",
       "      <th>Barometer</th>\n",
       "      <th>Visibility</th>\n",
       "      <th>Weather</th>\n",
       "    </tr>\n",
       "  </thead>\n",
       "  <tbody>\n",
       "    <tr>\n",
       "      <th>0</th>\n",
       "      <td>2</td>\n",
       "      <td>2</td>\n",
       "      <td>Punjab</td>\n",
       "      <td>Pakistan</td>\n",
       "      <td>2020-03-10</td>\n",
       "      <td>10</td>\n",
       "      <td>3</td>\n",
       "      <td>2020</td>\n",
       "      <td>30.811346</td>\n",
       "      <td>72.139132</td>\n",
       "      <td>...</td>\n",
       "      <td>0.0</td>\n",
       "      <td>0.0</td>\n",
       "      <td>40.90437</td>\n",
       "      <td>89.53674</td>\n",
       "      <td>11.38446</td>\n",
       "      <td>56.40</td>\n",
       "      <td>2.44</td>\n",
       "      <td>23.67</td>\n",
       "      <td>11.88</td>\n",
       "      <td>Clear.</td>\n",
       "    </tr>\n",
       "    <tr>\n",
       "      <th>1</th>\n",
       "      <td>9</td>\n",
       "      <td>9</td>\n",
       "      <td>Punjab</td>\n",
       "      <td>Pakistan</td>\n",
       "      <td>2020-03-11</td>\n",
       "      <td>11</td>\n",
       "      <td>3</td>\n",
       "      <td>2020</td>\n",
       "      <td>30.811346</td>\n",
       "      <td>72.139132</td>\n",
       "      <td>...</td>\n",
       "      <td>0.0</td>\n",
       "      <td>0.0</td>\n",
       "      <td>54.93888</td>\n",
       "      <td>122.02440</td>\n",
       "      <td>18.87995</td>\n",
       "      <td>66.81</td>\n",
       "      <td>1.65</td>\n",
       "      <td>20.31</td>\n",
       "      <td>9.32</td>\n",
       "      <td>Clear.</td>\n",
       "    </tr>\n",
       "    <tr>\n",
       "      <th>2</th>\n",
       "      <td>16</td>\n",
       "      <td>16</td>\n",
       "      <td>Punjab</td>\n",
       "      <td>Pakistan</td>\n",
       "      <td>2020-03-12</td>\n",
       "      <td>12</td>\n",
       "      <td>3</td>\n",
       "      <td>2020</td>\n",
       "      <td>30.811346</td>\n",
       "      <td>72.139132</td>\n",
       "      <td>...</td>\n",
       "      <td>0.0</td>\n",
       "      <td>0.0</td>\n",
       "      <td>68.11369</td>\n",
       "      <td>138.27810</td>\n",
       "      <td>30.12372</td>\n",
       "      <td>53.31</td>\n",
       "      <td>4.90</td>\n",
       "      <td>53.12</td>\n",
       "      <td>18.58</td>\n",
       "      <td>Passing clouds.</td>\n",
       "    </tr>\n",
       "    <tr>\n",
       "      <th>3</th>\n",
       "      <td>23</td>\n",
       "      <td>23</td>\n",
       "      <td>Punjab</td>\n",
       "      <td>Pakistan</td>\n",
       "      <td>2020-03-13</td>\n",
       "      <td>13</td>\n",
       "      <td>3</td>\n",
       "      <td>2020</td>\n",
       "      <td>30.811346</td>\n",
       "      <td>72.139132</td>\n",
       "      <td>...</td>\n",
       "      <td>0.0</td>\n",
       "      <td>0.0</td>\n",
       "      <td>76.74755</td>\n",
       "      <td>139.84620</td>\n",
       "      <td>36.38107</td>\n",
       "      <td>56.46</td>\n",
       "      <td>6.56</td>\n",
       "      <td>77.27</td>\n",
       "      <td>27.94</td>\n",
       "      <td>Drizzle. Mostly cloudy.</td>\n",
       "    </tr>\n",
       "    <tr>\n",
       "      <th>4</th>\n",
       "      <td>30</td>\n",
       "      <td>30</td>\n",
       "      <td>Punjab</td>\n",
       "      <td>Pakistan</td>\n",
       "      <td>2020-03-14</td>\n",
       "      <td>14</td>\n",
       "      <td>3</td>\n",
       "      <td>2020</td>\n",
       "      <td>30.811346</td>\n",
       "      <td>72.139132</td>\n",
       "      <td>...</td>\n",
       "      <td>0.0</td>\n",
       "      <td>0.0</td>\n",
       "      <td>74.69784</td>\n",
       "      <td>130.49930</td>\n",
       "      <td>29.46047</td>\n",
       "      <td>56.56</td>\n",
       "      <td>5.71</td>\n",
       "      <td>43.00</td>\n",
       "      <td>19.36</td>\n",
       "      <td>Passing clouds.</td>\n",
       "    </tr>\n",
       "  </tbody>\n",
       "</table>\n",
       "<p>5 rows × 76 columns</p>\n",
       "</div>"
      ],
      "text/plain": [
       "   index  Unnamed: 0 Province Country_Region        Date  Day  Month  Year  \\\n",
       "0      2           2   Punjab       Pakistan  2020-03-10   10      3  2020   \n",
       "1      9           9   Punjab       Pakistan  2020-03-11   11      3  2020   \n",
       "2     16          16   Punjab       Pakistan  2020-03-12   12      3  2020   \n",
       "3     23          23   Punjab       Pakistan  2020-03-13   13      3  2020   \n",
       "4     30          30   Punjab       Pakistan  2020-03-14   14      3  2020   \n",
       "\n",
       "         Lat      Long_  ...  admis_upper_vax  admis_lower_vax  \\\n",
       "0  30.811346  72.139132  ...              0.0              0.0   \n",
       "1  30.811346  72.139132  ...              0.0              0.0   \n",
       "2  30.811346  72.139132  ...              0.0              0.0   \n",
       "3  30.811346  72.139132  ...              0.0              0.0   \n",
       "4  30.811346  72.139132  ...              0.0              0.0   \n",
       "\n",
       "   admis_mean_unvax  admis_upper_unvax  admis_lower_unvax   Temp  Wind  \\\n",
       "0          40.90437           89.53674           11.38446  56.40  2.44   \n",
       "1          54.93888          122.02440           18.87995  66.81  1.65   \n",
       "2          68.11369          138.27810           30.12372  53.31  4.90   \n",
       "3          76.74755          139.84620           36.38107  56.46  6.56   \n",
       "4          74.69784          130.49930           29.46047  56.56  5.71   \n",
       "\n",
       "   Barometer  Visibility                  Weather  \n",
       "0      23.67       11.88                   Clear.  \n",
       "1      20.31        9.32                   Clear.  \n",
       "2      53.12       18.58          Passing clouds.  \n",
       "3      77.27       27.94  Drizzle. Mostly cloudy.  \n",
       "4      43.00       19.36          Passing clouds.  \n",
       "\n",
       "[5 rows x 76 columns]"
      ]
     },
     "execution_count": 5,
     "metadata": {},
     "output_type": "execute_result"
    }
   ],
   "source": [
    "df_punjab = df[df[\"Province\"] == \"Punjab\"]\n",
    "df_punjab.reset_index(inplace = True)\n",
    "df_punjab.head()"
   ]
  },
  {
   "cell_type": "code",
   "execution_count": 6,
   "id": "503297c6",
   "metadata": {
    "id": "503297c6"
   },
   "outputs": [],
   "source": [
    "########## data ##########\n",
    "# data collected from https://voice.baidu.com/act/newpneumonia/newpneumonia\n",
    "# X_cml = cumulative confirmed cases\n",
    "X_cml = np.array(df_punjab[\"Confirmed\"])[14:-50]\n",
    "# recovered = cumulative recovered cases\n",
    "recovered = np.array(df_punjab[\"Deaths\"])[14:-50]\n",
    "# death = cumulative deaths\n",
    "death = np.array(df_punjab[\"Recovered\"])[14:-50]\n",
    "\n",
    "population = 110012442"
   ]
  },
  {
   "cell_type": "code",
   "execution_count": 7,
   "id": "fdbaebe0",
   "metadata": {
    "id": "fdbaebe0"
   },
   "outputs": [],
   "source": [
    "########## data preprocess ##########\n",
    "X = X_cml - recovered - death\n",
    "R = recovered + death\n",
    "\n",
    "n = np.array([population] * len(X))\n",
    "\n",
    "S = n - X - R\n",
    "\n",
    "X_diff = np.array([X[:-1], X[1:]]).T\n",
    "R_diff = np.array([R[:-1], R[1:]]).T\n",
    "\n",
    "gamma = (R[1:] - R[:-1]) / X[:-1]\n",
    "beta = n[:-1] * (X[1:] - X[:-1] + R[1:] - R[:-1]) / (X[:-1] * (n[:-1] - X[:-1] - R[:-1]))\n",
    "R0 = beta / gamma"
   ]
  },
  {
   "cell_type": "code",
   "execution_count": 8,
   "id": "0332066c",
   "metadata": {
    "id": "0332066c"
   },
   "outputs": [
    {
     "name": "stdout",
     "output_type": "stream",
     "text": [
      "\n",
      "The latest transmission rate beta of SIR model: 0.001944349429844715\n",
      "The latest recovering rate gamma of SIR model: 0.001790346742665059\n",
      "The latest basic reproduction number R0: 1.0860183580697962\n"
     ]
    }
   ],
   "source": [
    "########## Parameters for Ridge Regression ##########\n",
    "##### Orders of the two FIR filters in (12), (13) in the paper. #####\n",
    "orders_beta = 3\n",
    "orders_gamma = 3\n",
    "\n",
    "##### Select a starting day for the data training in the ridge regression. #####\n",
    "start_beta = 10\n",
    "start_gamma = 10\n",
    "\n",
    "########## Print Info ##########\n",
    "print(\"\\nThe latest transmission rate beta of SIR model:\", beta[-1])\n",
    "print(\"The latest recovering rate gamma of SIR model:\", gamma[-1])\n",
    "print(\"The latest basic reproduction number R0:\", R0[-1])\n",
    "\n",
    "########## Ridge Regression ##########\n",
    "##### Split the data to the training set and testing set #####\n",
    "x_beta, y_beta = data_spilt(beta, orders_beta, start_beta)\n",
    "x_gamma, y_gamma = data_spilt(gamma, orders_gamma, start_gamma)"
   ]
  },
  {
   "cell_type": "code",
   "execution_count": 9,
   "id": "1d4a65d0",
   "metadata": {
    "id": "1d4a65d0"
   },
   "outputs": [],
   "source": [
    "##### Searching good parameters #####\n",
    "# clf_beta = ridge(x_beta, y_beta)\n",
    "# clf_gamma = ridge(x_gamma, y_gamma)"
   ]
  },
  {
   "cell_type": "code",
   "execution_count": 10,
   "id": "24ce7188",
   "metadata": {
    "id": "24ce7188"
   },
   "outputs": [],
   "source": [
    "##### Training and Testing #####\n",
    "clf_beta = Ridge(alpha=0.003765, copy_X=True, fit_intercept=False, max_iter=None, normalize=True, random_state=None, solver='auto', tol=1e-08).fit(x_beta, y_beta)\n",
    "clf_gamma = Ridge(alpha=0.001675, copy_X=True, fit_intercept=False, max_iter=None,normalize=True, random_state=None, solver='auto', tol=1e-08).fit(x_gamma, y_gamma)\n",
    "\n",
    "beta_hat = clf_beta.predict(x_beta)\n",
    "gamma_hat = clf_gamma.predict(x_gamma)\n"
   ]
  },
  {
   "cell_type": "code",
   "execution_count": 11,
   "id": "26695380",
   "metadata": {
    "id": "26695380"
   },
   "outputs": [
    {
     "data": {
      "text/plain": [
       "<matplotlib.legend.Legend at 0x1854e486670>"
      ]
     },
     "execution_count": 11,
     "metadata": {},
     "output_type": "execute_result"
    },
    {
     "data": {
      "image/png": "[encoded data removed]",
      "text/plain": [
       "<Figure size 432x288 with 1 Axes>"
      ]
     },
     "metadata": {
      "needs_background": "light"
     },
     "output_type": "display_data"
    },
    {
     "data": {
      "image/png": "[encoded data removed]",
      "text/plain": [
       "<Figure size 432x288 with 1 Axes>"
      ]
     },
     "metadata": {
      "needs_background": "light"
     },
     "output_type": "display_data"
    }
   ],
   "source": [
    "##### Plot the training and testing results #####\n",
    "plt.figure(1)\n",
    "plt.plot(y_beta, label=r'$\\beta (t)$')\n",
    "plt.plot(beta_hat, label=r'$\\hat{\\beta}(t)$')\n",
    "plt.legend()\n",
    "\n",
    "plt.figure(2)\n",
    "plt.plot(y_gamma, label=r'$\\gamma (t)$')\n",
    "plt.plot(gamma_hat, label=r'$\\hat{\\gamma}(t)$')\n",
    "plt.legend()"
   ]
  },
  {
   "cell_type": "code",
   "execution_count": 12,
   "id": "dceb6564",
   "metadata": {
    "id": "dceb6564"
   },
   "outputs": [],
   "source": [
    "########## Time-dependent SIR model ##########\n",
    "\n",
    "##### Parameters for the Time-dependent SIR model #####\n",
    "stop_X = 0 # stopping criteria\n",
    "stop_day = 100 # maximum iteration days (W in the paper)\n",
    "\n",
    "day_count = 0\n",
    "turning_point = 0\n",
    "\n",
    "S_predict = [S[-1]]\n",
    "X_predict = [X[-1]]\n",
    "R_predict = [R[-1]]\n",
    "\n",
    "predict_beta = np.array(beta[-orders_beta:]).tolist()\n",
    "predict_gamma = np.array(gamma[-orders_gamma:]).tolist()\n",
    "while (X_predict[-1] >= stop_X) and (day_count <= stop_day):\n",
    "    if predict_beta[-1] > predict_gamma[-1]:\n",
    "        turning_point += 1\n",
    "\n",
    "    next_beta = clf_beta.predict(np.asarray([predict_beta[-orders_beta:]]))[0]\n",
    "    next_gamma = clf_gamma.predict(np.asarray([predict_gamma[-orders_gamma:]]))[0]\n",
    "\n",
    "    if next_beta < 0:\n",
    "        next_beta = 0\n",
    "    if next_gamma < 0:\n",
    "        next_gamma = 0\n",
    "\n",
    "    predict_beta.append(next_beta)\n",
    "    predict_gamma.append(next_gamma)\n",
    "\n",
    "    next_S = ((-predict_beta[-1] * S_predict[-1] *\n",
    "               X_predict[-1]) / n[-1]) + S_predict[-1]\n",
    "    next_X = ((predict_beta[-1] * S_predict[-1] * X_predict[-1]) /\n",
    "              n[-1]) - (predict_gamma[-1] * X_predict[-1]) + X_predict[-1]\n",
    "    next_R = (predict_gamma[-1] * X_predict[-1]) + R_predict[-1]\n",
    "\n",
    "    S_predict.append(next_S)\n",
    "    X_predict.append(next_X)\n",
    "    R_predict.append(next_R)\n",
    "\n",
    "    day_count += 1"
   ]
  },
  {
   "cell_type": "code",
   "execution_count": 13,
   "id": "bf748c8b",
   "metadata": {
    "id": "bf748c8b"
   },
   "outputs": [
    {
     "name": "stdout",
     "output_type": "stream",
     "text": [
      "\n",
      "Confirmed cases tomorrow in Punjab: 444359.0\n",
      "Infected persons tomorrow in Punjab: 27394.0\n",
      "Recovered + Death persons tomorrow in Punjab: 416965.0\n",
      "\n",
      "End day: 101\n",
      "Confirmed cases on the end day in Punjab: 444628.0\n",
      "\n",
      "Turing point in Punjab: 101\n"
     ]
    }
   ],
   "source": [
    "########## Print Info ##########\n",
    "print('\\nConfirmed cases tomorrow in Punjab:', np.rint(X_predict[1] + R_predict[1]))\n",
    "print('Infected persons tomorrow in Punjab:', np.rint(X_predict[1]))\n",
    "print('Recovered + Death persons tomorrow in Punjab:', np.rint(R_predict[1]))\n",
    "\n",
    "print('\\nEnd day:', day_count)\n",
    "print('Confirmed cases on the end day in Punjab:', np.rint(X_predict[-2] + R_predict[-2]))\n",
    "\n",
    "print('\\nTuring point in Punjab:', turning_point)"
   ]
  },
  {
   "cell_type": "code",
   "execution_count": 14,
   "id": "40b14adf",
   "metadata": {
    "id": "40b14adf"
   },
   "outputs": [
    {
     "data": {
      "image/png": "[encoded data removed]",
      "text/plain": [
       "<Figure size 432x288 with 1 Axes>"
      ]
     },
     "metadata": {
      "needs_background": "light"
     },
     "output_type": "display_data"
    }
   ],
   "source": [
    "########## Plot the time evolution of the time-dependent SIR model ##########\n",
    "plt.figure(3)\n",
    "plt.plot(range(len(X) - 1, len(X) - 1 + len(X_predict)), X_predict, '*-', label=r'$\\hat{X}(t)$', color='darkorange')\n",
    "plt.plot(range(len(X) - 1, len(X) - 1 + len(X_predict)), R_predict, '*-', label=r'$\\hat{R}(t)$', color='limegreen')\n",
    "plt.plot(range(len(X)), X, 'o--', label=r'$X(t)$', color='chocolate')\n",
    "plt.plot(range(len(X)), R, 'o--', label=r'$R(t)$', color='darkgreen')\n",
    "plt.xlabel('Day')\n",
    "plt.ylabel('Person')\n",
    "plt.title('Time evolution of the time-dependent SIR model for Punjab.')\n",
    "\n",
    "plt.legend()\n",
    "\n",
    "plt.show()"
   ]
  },
  {
   "cell_type": "code",
   "execution_count": null,
   "id": "67a2724b",
   "metadata": {
    "id": "67a2724b"
   },
   "outputs": [],
   "source": []
  }
 ],
 "metadata": {
  "colab": {
   "name": "SIR_Punjab.ipynb",
   "provenance": []
  },
  "kernelspec": {
   "display_name": "Python 3 (ipykernel)",
   "language": "python",
   "name": "python3"
  },
  "language_info": {
   "codemirror_mode": {
    "name": "ipython",
    "version": 3
   },
   "file_extension": ".py",
   "mimetype": "text/x-python",
   "name": "python",
   "nbconvert_exporter": "python",
   "pygments_lexer": "ipython3",
   "version": "3.9.7"
  }
 },
 "nbformat": 4,
 "nbformat_minor": 5
}
