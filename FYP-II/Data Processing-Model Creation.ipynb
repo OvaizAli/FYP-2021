{
 "cells": [
  {
   "cell_type": "code",
   "execution_count": 1,
   "id": "c9c356db",
   "metadata": {},
   "outputs": [],
   "source": [
    "import pandas as pd\n",
    "import numpy as np\n",
    "import tensorflow as tf\n",
    "import datetime\n",
    "# from datetime import datetime"
   ]
  },
  {
   "cell_type": "code",
   "execution_count": 2,
   "id": "6ba1f6e4",
   "metadata": {},
   "outputs": [],
   "source": [
    "df = pd.read_csv(\"C:\\\\Users\\\\OvaizAli\\\\Desktop\\\\FYP-2021\\\\FYP-I\\\\Master\\\\Data Collection\\\\CollectedData\\\\Final_Data (2022).csv\", index_col = False)"
   ]
  },
  {
   "cell_type": "code",
   "execution_count": 3,
   "id": "41accdb5",
   "metadata": {},
   "outputs": [],
   "source": [
    "df.drop(columns = ['Unnamed: 0'], inplace = True)"
   ]
  },
  {
   "cell_type": "code",
   "execution_count": 119,
   "id": "164cb868",
   "metadata": {},
   "outputs": [
    {
     "data": {
      "text/html": [
       "<div>\n",
       "<style scoped>\n",
       "    .dataframe tbody tr th:only-of-type {\n",
       "        vertical-align: middle;\n",
       "    }\n",
       "\n",
       "    .dataframe tbody tr th {\n",
       "        vertical-align: top;\n",
       "    }\n",
       "\n",
       "    .dataframe thead th {\n",
       "        text-align: right;\n",
       "    }\n",
       "</style>\n",
       "<table border=\"1\" class=\"dataframe\">\n",
       "  <thead>\n",
       "    <tr style=\"text-align: right;\">\n",
       "      <th></th>\n",
       "      <th>Province</th>\n",
       "      <th>Country_Region</th>\n",
       "      <th>Date</th>\n",
       "      <th>Day</th>\n",
       "      <th>Month</th>\n",
       "      <th>Year</th>\n",
       "      <th>Lat</th>\n",
       "      <th>Long_</th>\n",
       "      <th>Confirmed</th>\n",
       "      <th>Deaths</th>\n",
       "      <th>...</th>\n",
       "      <th>admis_upper_vax</th>\n",
       "      <th>admis_lower_vax</th>\n",
       "      <th>admis_mean_unvax</th>\n",
       "      <th>admis_upper_unvax</th>\n",
       "      <th>admis_lower_unvax</th>\n",
       "      <th>Temp</th>\n",
       "      <th>Wind</th>\n",
       "      <th>Barometer</th>\n",
       "      <th>Visibility</th>\n",
       "      <th>Weather</th>\n",
       "    </tr>\n",
       "  </thead>\n",
       "  <tbody>\n",
       "    <tr>\n",
       "      <th>0</th>\n",
       "      <td>Balochistan</td>\n",
       "      <td>Pakistan</td>\n",
       "      <td>2020-03-10</td>\n",
       "      <td>10</td>\n",
       "      <td>3</td>\n",
       "      <td>2020</td>\n",
       "      <td>28.328492</td>\n",
       "      <td>65.898403</td>\n",
       "      <td>1.0</td>\n",
       "      <td>0.0</td>\n",
       "      <td>...</td>\n",
       "      <td>0.0</td>\n",
       "      <td>0.0</td>\n",
       "      <td>25.615120</td>\n",
       "      <td>44.61881</td>\n",
       "      <td>10.791250</td>\n",
       "      <td>46.29</td>\n",
       "      <td>15.00</td>\n",
       "      <td>31.43</td>\n",
       "      <td>0.00</td>\n",
       "      <td>Haze.</td>\n",
       "    </tr>\n",
       "    <tr>\n",
       "      <th>1</th>\n",
       "      <td>Islamabad</td>\n",
       "      <td>Pakistan</td>\n",
       "      <td>2020-03-10</td>\n",
       "      <td>10</td>\n",
       "      <td>3</td>\n",
       "      <td>2020</td>\n",
       "      <td>33.665087</td>\n",
       "      <td>73.121219</td>\n",
       "      <td>2.0</td>\n",
       "      <td>0.0</td>\n",
       "      <td>...</td>\n",
       "      <td>0.0</td>\n",
       "      <td>0.0</td>\n",
       "      <td>0.004133</td>\n",
       "      <td>0.00000</td>\n",
       "      <td>0.000000</td>\n",
       "      <td>65.14</td>\n",
       "      <td>9.57</td>\n",
       "      <td>34.71</td>\n",
       "      <td>21.33</td>\n",
       "      <td>Clear.</td>\n",
       "    </tr>\n",
       "    <tr>\n",
       "      <th>2</th>\n",
       "      <td>Punjab</td>\n",
       "      <td>Pakistan</td>\n",
       "      <td>2020-03-10</td>\n",
       "      <td>10</td>\n",
       "      <td>3</td>\n",
       "      <td>2020</td>\n",
       "      <td>30.811346</td>\n",
       "      <td>72.139132</td>\n",
       "      <td>0.0</td>\n",
       "      <td>0.0</td>\n",
       "      <td>...</td>\n",
       "      <td>0.0</td>\n",
       "      <td>0.0</td>\n",
       "      <td>40.904370</td>\n",
       "      <td>89.53674</td>\n",
       "      <td>11.384460</td>\n",
       "      <td>56.40</td>\n",
       "      <td>2.44</td>\n",
       "      <td>23.67</td>\n",
       "      <td>11.88</td>\n",
       "      <td>Clear.</td>\n",
       "    </tr>\n",
       "    <tr>\n",
       "      <th>3</th>\n",
       "      <td>Sindh</td>\n",
       "      <td>Pakistan</td>\n",
       "      <td>2020-03-10</td>\n",
       "      <td>10</td>\n",
       "      <td>3</td>\n",
       "      <td>2020</td>\n",
       "      <td>26.009446</td>\n",
       "      <td>68.776807</td>\n",
       "      <td>0.0</td>\n",
       "      <td>0.0</td>\n",
       "      <td>...</td>\n",
       "      <td>0.0</td>\n",
       "      <td>0.0</td>\n",
       "      <td>22.339800</td>\n",
       "      <td>81.02134</td>\n",
       "      <td>6.179772</td>\n",
       "      <td>65.14</td>\n",
       "      <td>9.57</td>\n",
       "      <td>34.71</td>\n",
       "      <td>21.33</td>\n",
       "      <td>Clear.</td>\n",
       "    </tr>\n",
       "    <tr>\n",
       "      <th>4</th>\n",
       "      <td>Khyber Pakhtunkhwa</td>\n",
       "      <td>Pakistan</td>\n",
       "      <td>2020-03-10</td>\n",
       "      <td>10</td>\n",
       "      <td>3</td>\n",
       "      <td>2020</td>\n",
       "      <td>34.485332</td>\n",
       "      <td>72.091690</td>\n",
       "      <td>0.0</td>\n",
       "      <td>0.0</td>\n",
       "      <td>...</td>\n",
       "      <td>0.0</td>\n",
       "      <td>0.0</td>\n",
       "      <td>17.376130</td>\n",
       "      <td>39.58196</td>\n",
       "      <td>5.953569</td>\n",
       "      <td>48.80</td>\n",
       "      <td>4.64</td>\n",
       "      <td>49.20</td>\n",
       "      <td>23.21</td>\n",
       "      <td>Fog.</td>\n",
       "    </tr>\n",
       "    <tr>\n",
       "      <th>5</th>\n",
       "      <td>Azad Jammu and Kashmir</td>\n",
       "      <td>Pakistan</td>\n",
       "      <td>2020-03-10</td>\n",
       "      <td>10</td>\n",
       "      <td>3</td>\n",
       "      <td>2020</td>\n",
       "      <td>34.027401</td>\n",
       "      <td>73.947253</td>\n",
       "      <td>0.0</td>\n",
       "      <td>0.0</td>\n",
       "      <td>...</td>\n",
       "      <td>0.0</td>\n",
       "      <td>0.0</td>\n",
       "      <td>0.000000</td>\n",
       "      <td>0.00000</td>\n",
       "      <td>0.000000</td>\n",
       "      <td>39.86</td>\n",
       "      <td>1.86</td>\n",
       "      <td>42.43</td>\n",
       "      <td>0.00</td>\n",
       "      <td>Clear.</td>\n",
       "    </tr>\n",
       "    <tr>\n",
       "      <th>6</th>\n",
       "      <td>Gilgit-Baltistan</td>\n",
       "      <td>Pakistan</td>\n",
       "      <td>2020-03-10</td>\n",
       "      <td>10</td>\n",
       "      <td>3</td>\n",
       "      <td>2020</td>\n",
       "      <td>35.792146</td>\n",
       "      <td>74.982138</td>\n",
       "      <td>2.0</td>\n",
       "      <td>0.0</td>\n",
       "      <td>...</td>\n",
       "      <td>0.0</td>\n",
       "      <td>0.0</td>\n",
       "      <td>12.495310</td>\n",
       "      <td>23.41426</td>\n",
       "      <td>3.297438</td>\n",
       "      <td>32.71</td>\n",
       "      <td>3.71</td>\n",
       "      <td>23.57</td>\n",
       "      <td>12.82</td>\n",
       "      <td>Fog.</td>\n",
       "    </tr>\n",
       "  </tbody>\n",
       "</table>\n",
       "<p>7 rows × 74 columns</p>\n",
       "</div>"
      ],
      "text/plain": [
       "                 Province Country_Region        Date  Day  Month  Year  \\\n",
       "0             Balochistan       Pakistan  2020-03-10   10      3  2020   \n",
       "1               Islamabad       Pakistan  2020-03-10   10      3  2020   \n",
       "2                  Punjab       Pakistan  2020-03-10   10      3  2020   \n",
       "3                   Sindh       Pakistan  2020-03-10   10      3  2020   \n",
       "4      Khyber Pakhtunkhwa       Pakistan  2020-03-10   10      3  2020   \n",
       "5  Azad Jammu and Kashmir       Pakistan  2020-03-10   10      3  2020   \n",
       "6        Gilgit-Baltistan       Pakistan  2020-03-10   10      3  2020   \n",
       "\n",
       "         Lat      Long_  Confirmed  Deaths  ...  admis_upper_vax  \\\n",
       "0  28.328492  65.898403        1.0     0.0  ...              0.0   \n",
       "1  33.665087  73.121219        2.0     0.0  ...              0.0   \n",
       "2  30.811346  72.139132        0.0     0.0  ...              0.0   \n",
       "3  26.009446  68.776807        0.0     0.0  ...              0.0   \n",
       "4  34.485332  72.091690        0.0     0.0  ...              0.0   \n",
       "5  34.027401  73.947253        0.0     0.0  ...              0.0   \n",
       "6  35.792146  74.982138        2.0     0.0  ...              0.0   \n",
       "\n",
       "   admis_lower_vax  admis_mean_unvax  admis_upper_unvax  admis_lower_unvax  \\\n",
       "0              0.0         25.615120           44.61881          10.791250   \n",
       "1              0.0          0.004133            0.00000           0.000000   \n",
       "2              0.0         40.904370           89.53674          11.384460   \n",
       "3              0.0         22.339800           81.02134           6.179772   \n",
       "4              0.0         17.376130           39.58196           5.953569   \n",
       "5              0.0          0.000000            0.00000           0.000000   \n",
       "6              0.0         12.495310           23.41426           3.297438   \n",
       "\n",
       "    Temp   Wind  Barometer  Visibility  Weather  \n",
       "0  46.29  15.00      31.43        0.00    Haze.  \n",
       "1  65.14   9.57      34.71       21.33   Clear.  \n",
       "2  56.40   2.44      23.67       11.88   Clear.  \n",
       "3  65.14   9.57      34.71       21.33   Clear.  \n",
       "4  48.80   4.64      49.20       23.21     Fog.  \n",
       "5  39.86   1.86      42.43        0.00   Clear.  \n",
       "6  32.71   3.71      23.57       12.82     Fog.  \n",
       "\n",
       "[7 rows x 74 columns]"
      ]
     },
     "execution_count": 119,
     "metadata": {},
     "output_type": "execute_result"
    }
   ],
   "source": [
    "df.head(7)"
   ]
  },
  {
   "cell_type": "code",
   "execution_count": 56,
   "id": "ec91066a",
   "metadata": {},
   "outputs": [
    {
     "data": {
      "text/plain": [
       "Index(['Province', 'Country_Region', 'Date', 'Day', 'Month', 'Year', 'Lat',\n",
       "       'Long_', 'Confirmed', 'Deaths', 'Daily_Confirmed', 'Recovered',\n",
       "       'Daily_Deaths', 'inf_mean', 'inf_upper', 'inf_lower',\n",
       "       'seir_cumulative_mean', 'seir_cumulative_lower',\n",
       "       'seir_cumulative_upper', 'inf_cuml_mean', 'inf_cuml_lower',\n",
       "       'inf_cuml_upper', 'seir_daily_mean', 'seir_daily_lower',\n",
       "       'seir_daily_upper', 'seir_daily_unscaled_mean',\n",
       "       'seir_daily_unscaled_lower', 'seir_daily_unscaled_upper',\n",
       "       'seir_cumulative_unscaled_mean', 'seir_cumulative_unscaled_lower',\n",
       "       'seir_cumulative_unscaled_upper', 'cases_mean', 'cases_lower',\n",
       "       'cases_upper', 'inf_cuml_mean_vax', 'inf_cuml_lower_vax',\n",
       "       'inf_cuml_upper_vax', 'inf_cuml_mean_unvax', 'inf_cuml_lower_unvax',\n",
       "       'inf_cuml_upper_unvax', 'inf_mean_vax', 'inf_lower_vax',\n",
       "       'inf_upper_vax', 'inf_mean_unvax', 'inf_lower_unvax', 'inf_upper_unvax',\n",
       "       'population', 'mobility_mean', 'mobility_obs', 'testing_obs',\n",
       "       'pneumonia_mean', 'pneumonia_obs', 'mask_use_mean', 'mask_use_obs',\n",
       "       'hospital_beds_mean', 'hospital_beds_upper', 'hospital_beds_lower',\n",
       "       'icu_beds_mean', 'icu_beds_upper', 'icu_beds_lower', 'admis_mean',\n",
       "       'admis_upper', 'admis_lower', 'admis_mean_vax', 'admis_upper_vax',\n",
       "       'admis_lower_vax', 'admis_mean_unvax', 'admis_upper_unvax',\n",
       "       'admis_lower_unvax', 'Temp', 'Wind', 'Barometer', 'Visibility',\n",
       "       'Weather'],\n",
       "      dtype='object')"
      ]
     },
     "execution_count": 56,
     "metadata": {},
     "output_type": "execute_result"
    }
   ],
   "source": [
    "df.columns"
   ]
  },
  {
   "cell_type": "markdown",
   "id": "bb12ffcb",
   "metadata": {},
   "source": [
    "# Tensors for Confirmed Cases"
   ]
  },
  {
   "cell_type": "code",
   "execution_count": 57,
   "id": "b998d57e",
   "metadata": {},
   "outputs": [],
   "source": [
    "sConfirmed = df[df['Province'] == 'Sindh']['Daily_Confirmed'].values\n",
    "bConfirmed = df[df['Province'] == 'Balochistan']['Daily_Confirmed'].values\n",
    "gConfirmed = df[df['Province'] == 'Gilgit-Baltistan']['Daily_Confirmed'].values\n",
    "iConfirmed = df[df['Province'] == 'Islamabad']['Daily_Confirmed'].values\n",
    "pConfirmed = df[df['Province'] == 'Punjab']['Daily_Confirmed'].values\n",
    "kConfirmed = df[df['Province'] == 'Khyber Pakhtunkhwa']['Daily_Confirmed'].values\n",
    "aConfirmed = df[df['Province'] == 'Azad Jammu and Kashmir']['Daily_Confirmed'].values"
   ]
  },
  {
   "cell_type": "code",
   "execution_count": 58,
   "id": "4841967a",
   "metadata": {},
   "outputs": [
    {
     "data": {
      "text/plain": [
       "True"
      ]
     },
     "execution_count": 58,
     "metadata": {},
     "output_type": "execute_result"
    }
   ],
   "source": [
    "len(sConfirmed) == len(bConfirmed) == len(iConfirmed) == len(pConfirmed) == len(kConfirmed) == len(aConfirmed) == len(gConfirmed)"
   ]
  },
  {
   "cell_type": "code",
   "execution_count": 59,
   "id": "53fae91c",
   "metadata": {},
   "outputs": [],
   "source": [
    "sbConfirmed = np.zeros(len(sConfirmed)*2)\n",
    "giConfirmed = np.zeros(len(sConfirmed)*2)\n",
    "pkConfirmed = np.zeros(len(sConfirmed)*2)\n",
    "axConfirmed = np.zeros(len(sConfirmed)*2)"
   ]
  },
  {
   "cell_type": "code",
   "execution_count": 60,
   "id": "48166774",
   "metadata": {},
   "outputs": [
    {
     "data": {
      "text/plain": [
       "1406"
      ]
     },
     "execution_count": 60,
     "metadata": {},
     "output_type": "execute_result"
    }
   ],
   "source": [
    "len(sbConfirmed)\n",
    "# S B\n",
    "# G I\n",
    "# P K\n",
    "# A -"
   ]
  },
  {
   "cell_type": "code",
   "execution_count": 61,
   "id": "56b6c5b5",
   "metadata": {},
   "outputs": [],
   "source": [
    "for i in range(0, len(sConfirmed), 2):\n",
    "    sbConfirmed[i] = sConfirmed[i]\n",
    "    sbConfirmed[i+1] = bConfirmed[i]"
   ]
  },
  {
   "cell_type": "code",
   "execution_count": 62,
   "id": "5ccbb427",
   "metadata": {},
   "outputs": [],
   "source": [
    "for i in range(0, len(sConfirmed), 2):\n",
    "    giConfirmed[i] = gConfirmed[i]\n",
    "    giConfirmed[i+1] = iConfirmed[i]"
   ]
  },
  {
   "cell_type": "code",
   "execution_count": 63,
   "id": "4a3f9621",
   "metadata": {},
   "outputs": [],
   "source": [
    "for i in range(0, len(sConfirmed), 2):\n",
    "    pkConfirmed[i] = pConfirmed[i]\n",
    "    pkConfirmed[i+1] = kConfirmed[i]"
   ]
  },
  {
   "cell_type": "code",
   "execution_count": 64,
   "id": "5c56455c",
   "metadata": {},
   "outputs": [],
   "source": [
    "for i in range(0, len(sConfirmed), 2):\n",
    "    axConfirmed[i] = aConfirmed[i]\n",
    "    axConfirmed[i+1] = -1"
   ]
  },
  {
   "cell_type": "code",
   "execution_count": 65,
   "id": "ed8788c3",
   "metadata": {},
   "outputs": [],
   "source": [
    "AllConfirmed = np.zeros((4, len(sConfirmed)*2))"
   ]
  },
  {
   "cell_type": "code",
   "execution_count": 66,
   "id": "9b98cefb",
   "metadata": {},
   "outputs": [],
   "source": [
    "AllConfirmed[0] = sbConfirmed\n",
    "AllConfirmed[1] = giConfirmed\n",
    "AllConfirmed[2] = pkConfirmed\n",
    "AllConfirmed[3] = axConfirmed"
   ]
  },
  {
   "cell_type": "code",
   "execution_count": 67,
   "id": "a4b3bcfb",
   "metadata": {},
   "outputs": [],
   "source": [
    "# AllConfirmed[0]"
   ]
  },
  {
   "cell_type": "code",
   "execution_count": 68,
   "id": "55e4c7df",
   "metadata": {},
   "outputs": [],
   "source": [
    "# AllConfirmed"
   ]
  },
  {
   "cell_type": "code",
   "execution_count": 69,
   "id": "1a2ced7a",
   "metadata": {},
   "outputs": [],
   "source": [
    "# AllConfirmed[0][:8]"
   ]
  },
  {
   "cell_type": "code",
   "execution_count": 70,
   "id": "8ede5512",
   "metadata": {},
   "outputs": [],
   "source": [
    "# len(sbConfirmed)/8"
   ]
  },
  {
   "cell_type": "code",
   "execution_count": 71,
   "id": "28b80746",
   "metadata": {},
   "outputs": [],
   "source": [
    "tempArr = np.zeros((4, 8))"
   ]
  },
  {
   "cell_type": "code",
   "execution_count": 72,
   "id": "8dd2a491",
   "metadata": {},
   "outputs": [],
   "source": [
    "tensorsArr = np.zeros((88, 4, 8))"
   ]
  },
  {
   "cell_type": "code",
   "execution_count": 73,
   "id": "433bff1a",
   "metadata": {},
   "outputs": [],
   "source": [
    "# tensorsArr[43]"
   ]
  },
  {
   "cell_type": "code",
   "execution_count": 74,
   "id": "d5d2987c",
   "metadata": {},
   "outputs": [],
   "source": [
    "stIndex = 0\n",
    "enIndex = 8\n",
    "for tIndex in range(88):\n",
    "    for i in range(4):\n",
    "        tempArr[i] = AllConfirmed[i][stIndex:enIndex]\n",
    "    stIndex += 8\n",
    "    enIndex += 8\n",
    "    tensorsArr[tIndex] = tempArr"
   ]
  },
  {
   "cell_type": "code",
   "execution_count": 244,
   "id": "373ea9ae",
   "metadata": {},
   "outputs": [
    {
     "data": {
      "text/plain": [
       "4"
      ]
     },
     "execution_count": 244,
     "metadata": {},
     "output_type": "execute_result"
    }
   ],
   "source": [
    "len(tensorsArr[0])"
   ]
  },
  {
   "cell_type": "code",
   "execution_count": 75,
   "id": "e974dd56",
   "metadata": {},
   "outputs": [],
   "source": [
    "finalTensorsArr = np.zeros((44, 8, 8))"
   ]
  },
  {
   "cell_type": "code",
   "execution_count": 76,
   "id": "c6ed241e",
   "metadata": {},
   "outputs": [],
   "source": [
    "# finalTensorsArr[0]"
   ]
  },
  {
   "cell_type": "code",
   "execution_count": 77,
   "id": "60dbba78",
   "metadata": {},
   "outputs": [],
   "source": [
    "# tensorsArr[0]"
   ]
  },
  {
   "cell_type": "code",
   "execution_count": 78,
   "id": "dcd56e14",
   "metadata": {},
   "outputs": [],
   "source": [
    "stIndex = 0\n",
    "enIndex = 8\n",
    "for tIndex in range(0, 88, 2):\n",
    "    tfIndex = tIndex//2\n",
    "    for i in range(8):\n",
    "        if(i < 4):\n",
    "#             print(tensors[tIndex][i])\n",
    "            finalTensorsArr[tfIndex][i] = tensorsArr[tIndex][i]\n",
    "#             print(FinalTensors[tfIndex][i])\n",
    "        else:\n",
    "#             print(tensors[tIndex][i-4])\n",
    "            finalTensorsArr[tfIndex][i] = tensorsArr[tIndex][i-4]\n",
    "#             print(FinalTensors[tfIndex][i-4])\n",
    "#     print(FinalTensors[tfIndex])\n",
    "#     print(\"\\n\")"
   ]
  },
  {
   "cell_type": "code",
   "execution_count": 79,
   "id": "8270b8e1",
   "metadata": {},
   "outputs": [],
   "source": [
    "# print(finalTensorsArr[0])"
   ]
  },
  {
   "cell_type": "code",
   "execution_count": 80,
   "id": "df312c47",
   "metadata": {},
   "outputs": [],
   "source": [
    "confirmedTensors = [] "
   ]
  },
  {
   "cell_type": "code",
   "execution_count": 81,
   "id": "4ec1047f",
   "metadata": {},
   "outputs": [],
   "source": [
    "for i in range(44):\n",
    "    confirmedTensors.append(tf.convert_to_tensor(finalTensorsArr[i], dtype=tf.float64))"
   ]
  },
  {
   "cell_type": "code",
   "execution_count": 82,
   "id": "440e7917",
   "metadata": {},
   "outputs": [
    {
     "data": {
      "text/plain": [
       "<tf.Tensor: shape=(8, 8), dtype=float64, numpy=\n",
       "array([[ 0.,  1.,  0.,  0.,  0.,  0.,  0.,  3.],\n",
       "       [ 2.,  2.,  0.,  0.,  0.,  1.,  0.,  0.],\n",
       "       [ 0.,  0.,  0.,  0.,  0.,  0.,  0., 15.],\n",
       "       [ 0., -1.,  0., -1.,  0., -1.,  0., -1.],\n",
       "       [ 0.,  1.,  0.,  0.,  0.,  0.,  0.,  3.],\n",
       "       [ 2.,  2.,  0.,  0.,  0.,  1.,  0.,  0.],\n",
       "       [ 0.,  0.,  0.,  0.,  0.,  0.,  0., 15.],\n",
       "       [ 0., -1.,  0., -1.,  0., -1.,  0., -1.]])>"
      ]
     },
     "execution_count": 82,
     "metadata": {},
     "output_type": "execute_result"
    }
   ],
   "source": [
    "confirmedTensors[0]"
   ]
  },
  {
   "cell_type": "code",
   "execution_count": 215,
   "id": "1aefebd6",
   "metadata": {},
   "outputs": [
    {
     "data": {
      "text/plain": [
       "352"
      ]
     },
     "execution_count": 215,
     "metadata": {},
     "output_type": "execute_result"
    }
   ],
   "source": [
    "len(confirmedTensors) * 8"
   ]
  },
  {
   "cell_type": "code",
   "execution_count": 111,
   "id": "8e9fcec5",
   "metadata": {},
   "outputs": [],
   "source": [
    "y_tempConfirmed = []"
   ]
  },
  {
   "cell_type": "code",
   "execution_count": 112,
   "id": "ac8eeff0",
   "metadata": {},
   "outputs": [],
   "source": [
    "x = 0\n",
    "for i in range(0, len(df['Date']), 7):\n",
    "    try:\n",
    "        y_tempConfirmed.append(df[df['Date'] == str(datetime.datetime.strptime(df['Date'].iloc[i], '%Y-%m-%d') + datetime.timedelta(days=8))[:10]]['Daily_Confirmed'].values)\n",
    "#         for data in df[(df['Date'] == str(datetime.datetime.strptime(df['Date'].iloc[i], '%Y-%m-%d') + datetime.timedelta(days=8))[:10])]['Daily_Confirmed']:\n",
    "#             print(data)\n",
    "#         print(df[\n",
    "#         (df['Date'] == str(datetime.datetime.strptime(df['Date'].iloc[i], '%Y-%m-%d') + datetime.timedelta(days=8))[:10])\n",
    "#     & (df['Province'] == 'Sindh')]['Daily_Confirmed'].values[0])\n",
    "    except:\n",
    "        continue"
   ]
  },
  {
   "cell_type": "code",
   "execution_count": 263,
   "id": "3cbe0b78",
   "metadata": {},
   "outputs": [],
   "source": [
    "y_tempConfirmed = y_tempConfirmed[:695]"
   ]
  },
  {
   "cell_type": "code",
   "execution_count": 264,
   "id": "a662504f",
   "metadata": {},
   "outputs": [],
   "source": [
    "# Balochistan\n",
    "# Islamabad\n",
    "# Punjab\n",
    "# Sindh\n",
    "# Khyber Pakhtunkhwa\n",
    "# Azad Jammu and Kashmir\n",
    "# Gilgit-Baltistan"
   ]
  },
  {
   "cell_type": "code",
   "execution_count": 265,
   "id": "a7da4a12",
   "metadata": {},
   "outputs": [],
   "source": [
    "bCases = []\n",
    "iCases = []\n",
    "pCases = []\n",
    "sCases = []\n",
    "kCases = []\n",
    "aCases = []\n",
    "gCases = []"
   ]
  },
  {
   "cell_type": "code",
   "execution_count": 267,
   "id": "5626f430",
   "metadata": {},
   "outputs": [],
   "source": [
    "for i in range(len(y_tempConfirmed)):\n",
    "    try:\n",
    "        bCases.append(y_tempConfirmed[i][0])\n",
    "        iCases.append(y_tempConfirmed[i][1])\n",
    "        pCases.append(y_tempConfirmed[i][2])\n",
    "        sCases.append(y_tempConfirmed[i][3])\n",
    "        kCases.append(y_tempConfirmed[i][4])\n",
    "        aCases.append(y_tempConfirmed[i][5])\n",
    "        gCases.append(y_tempConfirmed[i][6])\n",
    "    except:\n",
    "        continue"
   ]
  },
  {
   "cell_type": "code",
   "execution_count": 268,
   "id": "cfad96fc",
   "metadata": {},
   "outputs": [],
   "source": [
    "bSumCases = np.zeros(87)\n",
    "iSumCases = np.zeros(87)\n",
    "pSumCases = np.zeros(87)\n",
    "sSumCases = np.zeros(87)\n",
    "kSumCases = np.zeros(87)\n",
    "aSumCases = np.zeros(87)\n",
    "gSumCases = np.zeros(87)"
   ]
  },
  {
   "cell_type": "code",
   "execution_count": 269,
   "id": "50154875",
   "metadata": {},
   "outputs": [],
   "source": [
    "for i in range(0, len(bCases), 8):    \n",
    "    try:\n",
    "        for j in range(8):\n",
    "            if (i > 0):\n",
    "                bSumCases[int(i/8)] += bCases[i+j]\n",
    "                iSumCases[int(i/8)] += iCases[i+j]\n",
    "                pSumCases[int(i/8)] += pCases[i+j]\n",
    "                sSumCases[int(i/8)] += sCases[i+j]\n",
    "                kSumCases[int(i/8)] += kCases[i+j]\n",
    "                aSumCases[int(i/8)] += aCases[i+j]\n",
    "                gSumCases[int(i/8)] += gCases[i+j]\n",
    "            else:\n",
    "                bSumCases[int(i)] += bCases[i+j]\n",
    "                iSumCases[int(i)] += iCases[i+j]\n",
    "                pSumCases[int(i)] += pCases[i+j]\n",
    "                sSumCases[int(i)] += sCases[i+j]\n",
    "                kSumCases[int(i)] += kCases[i+j]\n",
    "                aSumCases[int(i)] += aCases[i+j]\n",
    "                gSumCases[int(i)] += gCases[i+j]\n",
    "    except:\n",
    "        continue"
   ]
  },
  {
   "cell_type": "code",
   "execution_count": 273,
   "id": "bcb0792d",
   "metadata": {},
   "outputs": [
    {
     "data": {
      "text/plain": [
       "400.0"
      ]
     },
     "execution_count": 273,
     "metadata": {},
     "output_type": "execute_result"
    }
   ],
   "source": [
    "bSumCases[86]"
   ]
  },
  {
   "cell_type": "code",
   "execution_count": 274,
   "id": "ea788777",
   "metadata": {},
   "outputs": [],
   "source": [
    "ySumConfirmed = np.zeros((86, 8, 1))"
   ]
  },
  {
   "cell_type": "code",
   "execution_count": 275,
   "id": "83595b59",
   "metadata": {},
   "outputs": [
    {
     "data": {
      "text/plain": [
       "array([[0.],\n",
       "       [0.],\n",
       "       [0.],\n",
       "       [0.],\n",
       "       [0.],\n",
       "       [0.],\n",
       "       [0.],\n",
       "       [0.]])"
      ]
     },
     "execution_count": 275,
     "metadata": {},
     "output_type": "execute_result"
    }
   ],
   "source": [
    "ySumConfirmed[0]"
   ]
  },
  {
   "cell_type": "code",
   "execution_count": 276,
   "id": "8238986c",
   "metadata": {},
   "outputs": [],
   "source": [
    "for i in range(86):\n",
    "    ySumConfirmed[i][0] = bSumCases[i] \n",
    "    ySumConfirmed[i][1] = iSumCases[i]  \n",
    "    ySumConfirmed[i][2] = pSumCases[i] \n",
    "    ySumConfirmed[i][3] = sSumCases[i]  \n",
    "    ySumConfirmed[i][4] = kSumCases[i] \n",
    "    ySumConfirmed[i][5] = aSumCases[i] \n",
    "    ySumConfirmed[i][6] = gSumCases[i] \n",
    "    ySumConfirmed[i][7] = -1"
   ]
  },
  {
   "cell_type": "code",
   "execution_count": 277,
   "id": "ef140ca7",
   "metadata": {},
   "outputs": [
    {
     "data": {
      "text/plain": [
       "86"
      ]
     },
     "execution_count": 277,
     "metadata": {},
     "output_type": "execute_result"
    }
   ],
   "source": [
    "len(ySumConfirmed)"
   ]
  },
  {
   "cell_type": "code",
   "execution_count": 280,
   "id": "f1721795",
   "metadata": {},
   "outputs": [
    {
     "data": {
      "text/plain": [
       "array([[ 5.2500e+02],\n",
       "       [ 8.9450e+03],\n",
       "       [ 1.6081e+04],\n",
       "       [ 1.5133e+04],\n",
       "       [ 1.1400e+04],\n",
       "       [ 3.5890e+03],\n",
       "       [ 2.4200e+02],\n",
       "       [-1.0000e+00]])"
      ]
     },
     "execution_count": 280,
     "metadata": {},
     "output_type": "execute_result"
    }
   ],
   "source": [
    "ySumConfirmed[85]"
   ]
  },
  {
   "cell_type": "code",
   "execution_count": 281,
   "id": "ae3e5805",
   "metadata": {},
   "outputs": [],
   "source": [
    "yConfirmedTensors = []"
   ]
  },
  {
   "cell_type": "code",
   "execution_count": 282,
   "id": "40dde936",
   "metadata": {},
   "outputs": [],
   "source": [
    "for i in range(86):\n",
    "    yConfirmedTensors.append(tf.convert_to_tensor(ySumConfirmed[i], dtype=tf.float64))"
   ]
  },
  {
   "cell_type": "code",
   "execution_count": 290,
   "id": "51491e89",
   "metadata": {},
   "outputs": [],
   "source": [
    "X = confirmedTensors\n",
    "y = yConfirmedTensors[:44]"
   ]
  },
  {
   "cell_type": "code",
   "execution_count": 291,
   "id": "633cc89c",
   "metadata": {},
   "outputs": [
    {
     "data": {
      "text/plain": [
       "44"
      ]
     },
     "execution_count": 291,
     "metadata": {},
     "output_type": "execute_result"
    }
   ],
   "source": [
    "len(X)"
   ]
  },
  {
   "cell_type": "code",
   "execution_count": 292,
   "id": "87a55998",
   "metadata": {},
   "outputs": [
    {
     "data": {
      "text/plain": [
       "44"
      ]
     },
     "execution_count": 292,
     "metadata": {},
     "output_type": "execute_result"
    }
   ],
   "source": [
    "len(y)"
   ]
  }
 ],
 "metadata": {
  "kernelspec": {
   "display_name": "Python 3",
   "language": "python",
   "name": "python3"
  },
  "language_info": {
   "codemirror_mode": {
    "name": "ipython",
    "version": 3
   },
   "file_extension": ".py",
   "mimetype": "text/x-python",
   "name": "python",
   "nbconvert_exporter": "python",
   "pygments_lexer": "ipython3",
   "version": "3.8.8"
  }
 },
 "nbformat": 4,
 "nbformat_minor": 5
}
