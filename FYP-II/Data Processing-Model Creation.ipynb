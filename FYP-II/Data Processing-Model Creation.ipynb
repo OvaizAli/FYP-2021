{
 "cells": [
  {
   "cell_type": "markdown",
   "id": "6f538dd3",
   "metadata": {},
   "source": [
    "# Importing Necessary Libraries"
   ]
  },
  {
   "cell_type": "code",
   "execution_count": 171,
   "id": "c9c356db",
   "metadata": {},
   "outputs": [],
   "source": [
    "import pandas as pd\n",
    "import numpy as np\n",
    "import tensorflow as tf\n",
    "import datetime\n",
    "from numpy import expand_dims\n",
    "import tensorflow as tf\n",
    "from tensorflow.keras.models import Sequential\n",
    "from tensorflow.keras.layers import Dense,Dropout,Flatten,Conv2D,MaxPooling2D,Activation,Dropout"
   ]
  },
  {
   "cell_type": "markdown",
   "id": "dc28953f",
   "metadata": {},
   "source": [
    "# Loading Dataset"
   ]
  },
  {
   "cell_type": "code",
   "execution_count": 172,
   "id": "6ba1f6e4",
   "metadata": {},
   "outputs": [],
   "source": [
    "df = pd.read_csv(\"C:\\\\Users\\\\OvaizAli\\\\Desktop\\\\FYP-2021\\\\FYP-I\\\\Master\\\\Data Collection\\\\CollectedData\\\\Final_Data (2022).csv\", index_col = False)"
   ]
  },
  {
   "cell_type": "code",
   "execution_count": 173,
   "id": "41accdb5",
   "metadata": {},
   "outputs": [],
   "source": [
    "df.drop(columns = ['Unnamed: 0'], inplace = True)"
   ]
  },
  {
   "cell_type": "code",
   "execution_count": 174,
   "id": "164cb868",
   "metadata": {},
   "outputs": [
    {
     "data": {
      "text/html": [
       "<div>\n",
       "<style scoped>\n",
       "    .dataframe tbody tr th:only-of-type {\n",
       "        vertical-align: middle;\n",
       "    }\n",
       "\n",
       "    .dataframe tbody tr th {\n",
       "        vertical-align: top;\n",
       "    }\n",
       "\n",
       "    .dataframe thead th {\n",
       "        text-align: right;\n",
       "    }\n",
       "</style>\n",
       "<table border=\"1\" class=\"dataframe\">\n",
       "  <thead>\n",
       "    <tr style=\"text-align: right;\">\n",
       "      <th></th>\n",
       "      <th>Province</th>\n",
       "      <th>Country_Region</th>\n",
       "      <th>Date</th>\n",
       "      <th>Day</th>\n",
       "      <th>Month</th>\n",
       "      <th>Year</th>\n",
       "      <th>Lat</th>\n",
       "      <th>Long_</th>\n",
       "      <th>Confirmed</th>\n",
       "      <th>Deaths</th>\n",
       "      <th>...</th>\n",
       "      <th>admis_upper_vax</th>\n",
       "      <th>admis_lower_vax</th>\n",
       "      <th>admis_mean_unvax</th>\n",
       "      <th>admis_upper_unvax</th>\n",
       "      <th>admis_lower_unvax</th>\n",
       "      <th>Temp</th>\n",
       "      <th>Wind</th>\n",
       "      <th>Barometer</th>\n",
       "      <th>Visibility</th>\n",
       "      <th>Weather</th>\n",
       "    </tr>\n",
       "  </thead>\n",
       "  <tbody>\n",
       "    <tr>\n",
       "      <th>0</th>\n",
       "      <td>Balochistan</td>\n",
       "      <td>Pakistan</td>\n",
       "      <td>2020-03-10</td>\n",
       "      <td>10</td>\n",
       "      <td>3</td>\n",
       "      <td>2020</td>\n",
       "      <td>28.328492</td>\n",
       "      <td>65.898403</td>\n",
       "      <td>1.0</td>\n",
       "      <td>0.0</td>\n",
       "      <td>...</td>\n",
       "      <td>0.0</td>\n",
       "      <td>0.0</td>\n",
       "      <td>25.615120</td>\n",
       "      <td>44.61881</td>\n",
       "      <td>10.791250</td>\n",
       "      <td>46.29</td>\n",
       "      <td>15.00</td>\n",
       "      <td>31.43</td>\n",
       "      <td>0.00</td>\n",
       "      <td>Haze.</td>\n",
       "    </tr>\n",
       "    <tr>\n",
       "      <th>1</th>\n",
       "      <td>Islamabad</td>\n",
       "      <td>Pakistan</td>\n",
       "      <td>2020-03-10</td>\n",
       "      <td>10</td>\n",
       "      <td>3</td>\n",
       "      <td>2020</td>\n",
       "      <td>33.665087</td>\n",
       "      <td>73.121219</td>\n",
       "      <td>2.0</td>\n",
       "      <td>0.0</td>\n",
       "      <td>...</td>\n",
       "      <td>0.0</td>\n",
       "      <td>0.0</td>\n",
       "      <td>0.004133</td>\n",
       "      <td>0.00000</td>\n",
       "      <td>0.000000</td>\n",
       "      <td>65.14</td>\n",
       "      <td>9.57</td>\n",
       "      <td>34.71</td>\n",
       "      <td>21.33</td>\n",
       "      <td>Clear.</td>\n",
       "    </tr>\n",
       "    <tr>\n",
       "      <th>2</th>\n",
       "      <td>Punjab</td>\n",
       "      <td>Pakistan</td>\n",
       "      <td>2020-03-10</td>\n",
       "      <td>10</td>\n",
       "      <td>3</td>\n",
       "      <td>2020</td>\n",
       "      <td>30.811346</td>\n",
       "      <td>72.139132</td>\n",
       "      <td>0.0</td>\n",
       "      <td>0.0</td>\n",
       "      <td>...</td>\n",
       "      <td>0.0</td>\n",
       "      <td>0.0</td>\n",
       "      <td>40.904370</td>\n",
       "      <td>89.53674</td>\n",
       "      <td>11.384460</td>\n",
       "      <td>56.40</td>\n",
       "      <td>2.44</td>\n",
       "      <td>23.67</td>\n",
       "      <td>11.88</td>\n",
       "      <td>Clear.</td>\n",
       "    </tr>\n",
       "    <tr>\n",
       "      <th>3</th>\n",
       "      <td>Sindh</td>\n",
       "      <td>Pakistan</td>\n",
       "      <td>2020-03-10</td>\n",
       "      <td>10</td>\n",
       "      <td>3</td>\n",
       "      <td>2020</td>\n",
       "      <td>26.009446</td>\n",
       "      <td>68.776807</td>\n",
       "      <td>0.0</td>\n",
       "      <td>0.0</td>\n",
       "      <td>...</td>\n",
       "      <td>0.0</td>\n",
       "      <td>0.0</td>\n",
       "      <td>22.339800</td>\n",
       "      <td>81.02134</td>\n",
       "      <td>6.179772</td>\n",
       "      <td>65.14</td>\n",
       "      <td>9.57</td>\n",
       "      <td>34.71</td>\n",
       "      <td>21.33</td>\n",
       "      <td>Clear.</td>\n",
       "    </tr>\n",
       "    <tr>\n",
       "      <th>4</th>\n",
       "      <td>Khyber Pakhtunkhwa</td>\n",
       "      <td>Pakistan</td>\n",
       "      <td>2020-03-10</td>\n",
       "      <td>10</td>\n",
       "      <td>3</td>\n",
       "      <td>2020</td>\n",
       "      <td>34.485332</td>\n",
       "      <td>72.091690</td>\n",
       "      <td>0.0</td>\n",
       "      <td>0.0</td>\n",
       "      <td>...</td>\n",
       "      <td>0.0</td>\n",
       "      <td>0.0</td>\n",
       "      <td>17.376130</td>\n",
       "      <td>39.58196</td>\n",
       "      <td>5.953569</td>\n",
       "      <td>48.80</td>\n",
       "      <td>4.64</td>\n",
       "      <td>49.20</td>\n",
       "      <td>23.21</td>\n",
       "      <td>Fog.</td>\n",
       "    </tr>\n",
       "    <tr>\n",
       "      <th>5</th>\n",
       "      <td>Azad Jammu and Kashmir</td>\n",
       "      <td>Pakistan</td>\n",
       "      <td>2020-03-10</td>\n",
       "      <td>10</td>\n",
       "      <td>3</td>\n",
       "      <td>2020</td>\n",
       "      <td>34.027401</td>\n",
       "      <td>73.947253</td>\n",
       "      <td>0.0</td>\n",
       "      <td>0.0</td>\n",
       "      <td>...</td>\n",
       "      <td>0.0</td>\n",
       "      <td>0.0</td>\n",
       "      <td>0.000000</td>\n",
       "      <td>0.00000</td>\n",
       "      <td>0.000000</td>\n",
       "      <td>39.86</td>\n",
       "      <td>1.86</td>\n",
       "      <td>42.43</td>\n",
       "      <td>0.00</td>\n",
       "      <td>Clear.</td>\n",
       "    </tr>\n",
       "    <tr>\n",
       "      <th>6</th>\n",
       "      <td>Gilgit-Baltistan</td>\n",
       "      <td>Pakistan</td>\n",
       "      <td>2020-03-10</td>\n",
       "      <td>10</td>\n",
       "      <td>3</td>\n",
       "      <td>2020</td>\n",
       "      <td>35.792146</td>\n",
       "      <td>74.982138</td>\n",
       "      <td>2.0</td>\n",
       "      <td>0.0</td>\n",
       "      <td>...</td>\n",
       "      <td>0.0</td>\n",
       "      <td>0.0</td>\n",
       "      <td>12.495310</td>\n",
       "      <td>23.41426</td>\n",
       "      <td>3.297438</td>\n",
       "      <td>32.71</td>\n",
       "      <td>3.71</td>\n",
       "      <td>23.57</td>\n",
       "      <td>12.82</td>\n",
       "      <td>Fog.</td>\n",
       "    </tr>\n",
       "  </tbody>\n",
       "</table>\n",
       "<p>7 rows × 74 columns</p>\n",
       "</div>"
      ],
      "text/plain": [
       "                 Province Country_Region        Date  Day  Month  Year  \\\n",
       "0             Balochistan       Pakistan  2020-03-10   10      3  2020   \n",
       "1               Islamabad       Pakistan  2020-03-10   10      3  2020   \n",
       "2                  Punjab       Pakistan  2020-03-10   10      3  2020   \n",
       "3                   Sindh       Pakistan  2020-03-10   10      3  2020   \n",
       "4      Khyber Pakhtunkhwa       Pakistan  2020-03-10   10      3  2020   \n",
       "5  Azad Jammu and Kashmir       Pakistan  2020-03-10   10      3  2020   \n",
       "6        Gilgit-Baltistan       Pakistan  2020-03-10   10      3  2020   \n",
       "\n",
       "         Lat      Long_  Confirmed  Deaths  ...  admis_upper_vax  \\\n",
       "0  28.328492  65.898403        1.0     0.0  ...              0.0   \n",
       "1  33.665087  73.121219        2.0     0.0  ...              0.0   \n",
       "2  30.811346  72.139132        0.0     0.0  ...              0.0   \n",
       "3  26.009446  68.776807        0.0     0.0  ...              0.0   \n",
       "4  34.485332  72.091690        0.0     0.0  ...              0.0   \n",
       "5  34.027401  73.947253        0.0     0.0  ...              0.0   \n",
       "6  35.792146  74.982138        2.0     0.0  ...              0.0   \n",
       "\n",
       "   admis_lower_vax  admis_mean_unvax  admis_upper_unvax  admis_lower_unvax  \\\n",
       "0              0.0         25.615120           44.61881          10.791250   \n",
       "1              0.0          0.004133            0.00000           0.000000   \n",
       "2              0.0         40.904370           89.53674          11.384460   \n",
       "3              0.0         22.339800           81.02134           6.179772   \n",
       "4              0.0         17.376130           39.58196           5.953569   \n",
       "5              0.0          0.000000            0.00000           0.000000   \n",
       "6              0.0         12.495310           23.41426           3.297438   \n",
       "\n",
       "    Temp   Wind  Barometer  Visibility  Weather  \n",
       "0  46.29  15.00      31.43        0.00    Haze.  \n",
       "1  65.14   9.57      34.71       21.33   Clear.  \n",
       "2  56.40   2.44      23.67       11.88   Clear.  \n",
       "3  65.14   9.57      34.71       21.33   Clear.  \n",
       "4  48.80   4.64      49.20       23.21     Fog.  \n",
       "5  39.86   1.86      42.43        0.00   Clear.  \n",
       "6  32.71   3.71      23.57       12.82     Fog.  \n",
       "\n",
       "[7 rows x 74 columns]"
      ]
     },
     "execution_count": 174,
     "metadata": {},
     "output_type": "execute_result"
    }
   ],
   "source": [
    "df.head(7)"
   ]
  },
  {
   "cell_type": "markdown",
   "id": "bb12ffcb",
   "metadata": {},
   "source": [
    "# Creating Tensors for Confirmed Cases"
   ]
  },
  {
   "cell_type": "markdown",
   "id": "f309b6aa",
   "metadata": {},
   "source": [
    "### Generating \"X\" from Tabular Data"
   ]
  },
  {
   "cell_type": "code",
   "execution_count": 175,
   "id": "b998d57e",
   "metadata": {},
   "outputs": [],
   "source": [
    "sConfirmed = df[df['Province'] == 'Sindh']['Daily_Confirmed'].values\n",
    "bConfirmed = df[df['Province'] == 'Balochistan']['Daily_Confirmed'].values\n",
    "gConfirmed = df[df['Province'] == 'Gilgit-Baltistan']['Daily_Confirmed'].values\n",
    "iConfirmed = df[df['Province'] == 'Islamabad']['Daily_Confirmed'].values\n",
    "pConfirmed = df[df['Province'] == 'Punjab']['Daily_Confirmed'].values\n",
    "kConfirmed = df[df['Province'] == 'Khyber Pakhtunkhwa']['Daily_Confirmed'].values\n",
    "aConfirmed = df[df['Province'] == 'Azad Jammu and Kashmir']['Daily_Confirmed'].values"
   ]
  },
  {
   "cell_type": "code",
   "execution_count": 176,
   "id": "4841967a",
   "metadata": {},
   "outputs": [
    {
     "data": {
      "text/plain": [
       "True"
      ]
     },
     "execution_count": 176,
     "metadata": {},
     "output_type": "execute_result"
    }
   ],
   "source": [
    "len(sConfirmed) == len(bConfirmed) == len(iConfirmed) == len(pConfirmed) == len(kConfirmed) == len(aConfirmed) == len(gConfirmed)"
   ]
  },
  {
   "cell_type": "code",
   "execution_count": 177,
   "id": "53fae91c",
   "metadata": {},
   "outputs": [],
   "source": [
    "sbConfirmed = np.zeros(len(sConfirmed)*2)\n",
    "giConfirmed = np.zeros(len(sConfirmed)*2)\n",
    "pkConfirmed = np.zeros(len(sConfirmed)*2)\n",
    "axConfirmed = np.zeros(len(sConfirmed)*2)"
   ]
  },
  {
   "cell_type": "code",
   "execution_count": 178,
   "id": "48166774",
   "metadata": {},
   "outputs": [
    {
     "data": {
      "text/plain": [
       "1406"
      ]
     },
     "execution_count": 178,
     "metadata": {},
     "output_type": "execute_result"
    }
   ],
   "source": [
    "len(sbConfirmed)\n",
    "# S B\n",
    "# G I\n",
    "# P K\n",
    "# A -"
   ]
  },
  {
   "cell_type": "code",
   "execution_count": 179,
   "id": "56b6c5b5",
   "metadata": {},
   "outputs": [],
   "source": [
    "for i in range(0, len(sConfirmed), 2):\n",
    "    sbConfirmed[i] = sConfirmed[i]\n",
    "    sbConfirmed[i+1] = bConfirmed[i]"
   ]
  },
  {
   "cell_type": "code",
   "execution_count": 180,
   "id": "5ccbb427",
   "metadata": {},
   "outputs": [],
   "source": [
    "for i in range(0, len(sConfirmed), 2):\n",
    "    giConfirmed[i] = gConfirmed[i]\n",
    "    giConfirmed[i+1] = iConfirmed[i]"
   ]
  },
  {
   "cell_type": "code",
   "execution_count": 181,
   "id": "4a3f9621",
   "metadata": {},
   "outputs": [],
   "source": [
    "for i in range(0, len(sConfirmed), 2):\n",
    "    pkConfirmed[i] = pConfirmed[i]\n",
    "    pkConfirmed[i+1] = kConfirmed[i]"
   ]
  },
  {
   "cell_type": "code",
   "execution_count": 182,
   "id": "5c56455c",
   "metadata": {},
   "outputs": [],
   "source": [
    "for i in range(0, len(sConfirmed), 2):\n",
    "    axConfirmed[i] = aConfirmed[i]\n",
    "    axConfirmed[i+1] = -1"
   ]
  },
  {
   "cell_type": "code",
   "execution_count": 183,
   "id": "ed8788c3",
   "metadata": {},
   "outputs": [],
   "source": [
    "AllConfirmed = np.zeros((4, len(sConfirmed)*2))"
   ]
  },
  {
   "cell_type": "code",
   "execution_count": 184,
   "id": "9b98cefb",
   "metadata": {},
   "outputs": [],
   "source": [
    "AllConfirmed[0] = sbConfirmed\n",
    "AllConfirmed[1] = giConfirmed\n",
    "AllConfirmed[2] = pkConfirmed\n",
    "AllConfirmed[3] = axConfirmed"
   ]
  },
  {
   "cell_type": "code",
   "execution_count": 189,
   "id": "28b80746",
   "metadata": {},
   "outputs": [],
   "source": [
    "tempArr = np.zeros((4, 8))"
   ]
  },
  {
   "cell_type": "code",
   "execution_count": 190,
   "id": "8dd2a491",
   "metadata": {},
   "outputs": [],
   "source": [
    "tensorsArr = np.zeros((88, 4, 8))"
   ]
  },
  {
   "cell_type": "code",
   "execution_count": 191,
   "id": "d5d2987c",
   "metadata": {},
   "outputs": [],
   "source": [
    "stIndex = 0\n",
    "enIndex = 8\n",
    "for tIndex in range(88):\n",
    "    for i in range(4):\n",
    "        tempArr[i] = AllConfirmed[i][stIndex:enIndex]\n",
    "    stIndex += 8\n",
    "    enIndex += 8\n",
    "    tensorsArr[tIndex] = tempArr"
   ]
  },
  {
   "cell_type": "code",
   "execution_count": 192,
   "id": "91dd4417",
   "metadata": {},
   "outputs": [
    {
     "data": {
      "text/plain": [
       "4"
      ]
     },
     "execution_count": 192,
     "metadata": {},
     "output_type": "execute_result"
    }
   ],
   "source": [
    "len(tensorsArr[0])"
   ]
  },
  {
   "cell_type": "code",
   "execution_count": 193,
   "id": "0f73ea0a",
   "metadata": {},
   "outputs": [
    {
     "data": {
      "text/plain": [
       "array([[ 0.,  1.,  0.,  0.,  0.,  0.,  0.,  3.],\n",
       "       [ 2.,  2.,  0.,  0.,  0.,  1.,  0.,  0.],\n",
       "       [ 0.,  0.,  0.,  0.,  0.,  0.,  0., 15.],\n",
       "       [ 0., -1.,  0., -1.,  0., -1.,  0., -1.]])"
      ]
     },
     "execution_count": 193,
     "metadata": {},
     "output_type": "execute_result"
    }
   ],
   "source": [
    "tensorsArr[0]"
   ]
  },
  {
   "cell_type": "code",
   "execution_count": 194,
   "id": "e974dd56",
   "metadata": {},
   "outputs": [],
   "source": [
    "finalTensorsArr = np.zeros((44, 8, 8))"
   ]
  },
  {
   "cell_type": "code",
   "execution_count": 167,
   "id": "dcd56e14",
   "metadata": {},
   "outputs": [],
   "source": [
    "stIndex = 0\n",
    "enIndex = 8\n",
    "for tIndex in range(0, 88, 2):\n",
    "    tfIndex = tIndex//2\n",
    "    for i in range(8):\n",
    "        if(i < 4):\n",
    "#             print(tensors[tIndex][i])\n",
    "            finalTensorsArr[tfIndex][i] = tensorsArr[tIndex][i]\n",
    "#             print(FinalTensors[tfIndex][i])\n",
    "        else:\n",
    "#             print(tensors[tIndex][i-4])\n",
    "            finalTensorsArr[tfIndex][i] = tensorsArr[tIndex][i-4]\n",
    "#             print(FinalTensors[tfIndex][i-4])\n",
    "#     print(FinalTensors[tfIndex])\n",
    "#     print(\"\\n\")"
   ]
  },
  {
   "cell_type": "code",
   "execution_count": 168,
   "id": "df312c47",
   "metadata": {},
   "outputs": [],
   "source": [
    "confirmedTensors = []"
   ]
  },
  {
   "cell_type": "code",
   "execution_count": 169,
   "id": "4ec1047f",
   "metadata": {},
   "outputs": [],
   "source": [
    "for i in range(44):\n",
    "    confirmedTensors.append(tf.convert_to_tensor(finalTensorsArr[i], dtype=tf.float64))"
   ]
  },
  {
   "cell_type": "code",
   "execution_count": 170,
   "id": "440e7917",
   "metadata": {},
   "outputs": [
    {
     "data": {
      "text/plain": [
       "<tf.Tensor: shape=(8, 8), dtype=float64, numpy=\n",
       "array([[ 0.,  1.,  0.,  0.,  0.,  0.,  0.,  3.],\n",
       "       [ 2.,  2.,  0.,  0.,  0.,  1.,  0.,  0.],\n",
       "       [ 0.,  0.,  0.,  0.,  0.,  0.,  0., 15.],\n",
       "       [ 0., -1.,  0., -1.,  0., -1.,  0., -1.],\n",
       "       [ 0.,  1.,  0.,  0.,  0.,  0.,  0.,  3.],\n",
       "       [ 2.,  2.,  0.,  0.,  0.,  1.,  0.,  0.],\n",
       "       [ 0.,  0.,  0.,  0.,  0.,  0.,  0., 15.],\n",
       "       [ 0., -1.,  0., -1.,  0., -1.,  0., -1.]])>"
      ]
     },
     "execution_count": 170,
     "metadata": {},
     "output_type": "execute_result"
    }
   ],
   "source": [
    "confirmedTensors[0]"
   ]
  },
  {
   "cell_type": "code",
   "execution_count": 37,
   "id": "317a8337",
   "metadata": {},
   "outputs": [
    {
     "data": {
      "text/plain": [
       "352"
      ]
     },
     "execution_count": 37,
     "metadata": {},
     "output_type": "execute_result"
    }
   ],
   "source": [
    "len(confirmedTensors) * 8"
   ]
  },
  {
   "cell_type": "markdown",
   "id": "00644e61",
   "metadata": {},
   "source": [
    "### Generating \"y\" from Tabular Data"
   ]
  },
  {
   "cell_type": "code",
   "execution_count": 38,
   "id": "8e9fcec5",
   "metadata": {},
   "outputs": [],
   "source": [
    "y_tempConfirmed = []"
   ]
  },
  {
   "cell_type": "code",
   "execution_count": 39,
   "id": "6fb97e5e",
   "metadata": {},
   "outputs": [],
   "source": [
    "x = 0\n",
    "for i in range(0, len(df['Date']), 7):\n",
    "    try:\n",
    "        y_tempConfirmed.append(df[df['Date'] == str(datetime.datetime.strptime(df['Date'].iloc[i], '%Y-%m-%d') + datetime.timedelta(days=7))[:10]]['Daily_Confirmed'].values)\n",
    "#         for data in df[(df['Date'] == str(datetime.datetime.strptime(df['Date'].iloc[i], '%Y-%m-%d') + datetime.timedelta(days=8))[:10])]['Daily_Confirmed']:\n",
    "#             print(data)\n",
    "#         print(df[\n",
    "#         (df['Date'] == str(datetime.datetime.strptime(df['Date'].iloc[i], '%Y-%m-%d') + datetime.timedelta(days=8))[:10])\n",
    "#     & (df['Province'] == 'Sindh')]['Daily_Confirmed'].values[0])\n",
    "    except:\n",
    "        continue"
   ]
  },
  {
   "cell_type": "code",
   "execution_count": 40,
   "id": "c6cc8496",
   "metadata": {},
   "outputs": [
    {
     "data": {
      "text/plain": [
       "array([ 1.,  1., 25.,  0.,  2.,  0.,  0.])"
      ]
     },
     "execution_count": 40,
     "metadata": {},
     "output_type": "execute_result"
    }
   ],
   "source": [
    "y_tempConfirmed[0]"
   ]
  },
  {
   "cell_type": "code",
   "execution_count": 41,
   "id": "7d64e3ef",
   "metadata": {},
   "outputs": [],
   "source": [
    "y_tempConfirmed = y_tempConfirmed[:696]"
   ]
  },
  {
   "cell_type": "code",
   "execution_count": 42,
   "id": "ad759f55",
   "metadata": {},
   "outputs": [],
   "source": [
    "# Balochistan\n",
    "# Islamabad\n",
    "# Punjab\n",
    "# Sindh\n",
    "# Khyber Pakhtunkhwa\n",
    "# Azad Jammu and Kashmir\n",
    "# Gilgit-Baltistan"
   ]
  },
  {
   "cell_type": "code",
   "execution_count": 43,
   "id": "809044d8",
   "metadata": {},
   "outputs": [],
   "source": [
    "bCases = []\n",
    "iCases = []\n",
    "pCases = []\n",
    "sCases = []\n",
    "kCases = []\n",
    "aCases = []\n",
    "gCases = []"
   ]
  },
  {
   "cell_type": "code",
   "execution_count": 44,
   "id": "ef8d4ff4",
   "metadata": {},
   "outputs": [],
   "source": [
    "for i in range(len(y_tempConfirmed)):\n",
    "    try:\n",
    "        bCases.append(y_tempConfirmed[i][0])\n",
    "        iCases.append(y_tempConfirmed[i][1])\n",
    "        pCases.append(y_tempConfirmed[i][2])\n",
    "        sCases.append(y_tempConfirmed[i][3])\n",
    "        kCases.append(y_tempConfirmed[i][4])\n",
    "        aCases.append(y_tempConfirmed[i][5])\n",
    "        gCases.append(y_tempConfirmed[i][6])\n",
    "    except:\n",
    "        continue"
   ]
  },
  {
   "cell_type": "code",
   "execution_count": 45,
   "id": "3e51af4a",
   "metadata": {},
   "outputs": [],
   "source": [
    "bSumCases = np.zeros(88)\n",
    "iSumCases = np.zeros(88)\n",
    "pSumCases = np.zeros(88)\n",
    "sSumCases = np.zeros(88)\n",
    "kSumCases = np.zeros(88)\n",
    "aSumCases = np.zeros(88)\n",
    "gSumCases = np.zeros(88)"
   ]
  },
  {
   "cell_type": "code",
   "execution_count": 46,
   "id": "05b5c8c0",
   "metadata": {},
   "outputs": [],
   "source": [
    "for i in range(0, len(bCases), 7):    \n",
    "    try:\n",
    "        for j in range(7):\n",
    "            if (i > 0):\n",
    "                bSumCases[int(i/7)] += bCases[i+j]\n",
    "                iSumCases[int(i/7)] += iCases[i+j]\n",
    "                pSumCases[int(i/7)] += pCases[i+j]\n",
    "                sSumCases[int(i/7)] += sCases[i+j]\n",
    "                kSumCases[int(i/7)] += kCases[i+j]\n",
    "                aSumCases[int(i/7)] += aCases[i+j]\n",
    "                gSumCases[int(i/7)] += gCases[i+j]\n",
    "            else:\n",
    "                bSumCases[int(i)] += bCases[i+j]\n",
    "                iSumCases[int(i)] += iCases[i+j]\n",
    "                pSumCases[int(i)] += pCases[i+j]\n",
    "                sSumCases[int(i)] += sCases[i+j]\n",
    "                kSumCases[int(i)] += kCases[i+j]\n",
    "                aSumCases[int(i)] += aCases[i+j]\n",
    "                gSumCases[int(i)] += gCases[i+j]\n",
    "    except:\n",
    "        continue"
   ]
  },
  {
   "cell_type": "code",
   "execution_count": 115,
   "id": "38073c1d",
   "metadata": {},
   "outputs": [],
   "source": [
    "ySumConfirmed = np.zeros((88, 7, 1))"
   ]
  },
  {
   "cell_type": "code",
   "execution_count": 116,
   "id": "31d8fcb1",
   "metadata": {},
   "outputs": [
    {
     "data": {
      "text/plain": [
       "array([[0.],\n",
       "       [0.],\n",
       "       [0.],\n",
       "       [0.],\n",
       "       [0.],\n",
       "       [0.],\n",
       "       [0.]])"
      ]
     },
     "execution_count": 116,
     "metadata": {},
     "output_type": "execute_result"
    }
   ],
   "source": [
    "ySumConfirmed[0]"
   ]
  },
  {
   "cell_type": "code",
   "execution_count": 117,
   "id": "73559f42",
   "metadata": {},
   "outputs": [],
   "source": [
    "for i in range(88):\n",
    "    ySumConfirmed[i][0] = bSumCases[i] \n",
    "    ySumConfirmed[i][1] = iSumCases[i]  \n",
    "    ySumConfirmed[i][2] = pSumCases[i] \n",
    "    ySumConfirmed[i][3] = sSumCases[i]  \n",
    "    ySumConfirmed[i][4] = kSumCases[i] \n",
    "    ySumConfirmed[i][5] = aSumCases[i] \n",
    "    ySumConfirmed[i][6] = gSumCases[i] "
   ]
  },
  {
   "cell_type": "code",
   "execution_count": 118,
   "id": "2b798b16",
   "metadata": {},
   "outputs": [
    {
     "data": {
      "text/plain": [
       "88"
      ]
     },
     "execution_count": 118,
     "metadata": {},
     "output_type": "execute_result"
    }
   ],
   "source": [
    "len(ySumConfirmed)"
   ]
  },
  {
   "cell_type": "code",
   "execution_count": 119,
   "id": "3042620b",
   "metadata": {},
   "outputs": [
    {
     "data": {
      "text/plain": [
       "array([[  44.],\n",
       "       [ 144.],\n",
       "       [ 576.],\n",
       "       [1044.],\n",
       "       [ 482.],\n",
       "       [  24.],\n",
       "       [   5.]])"
      ]
     },
     "execution_count": 119,
     "metadata": {},
     "output_type": "execute_result"
    }
   ],
   "source": [
    "ySumConfirmed[87]"
   ]
  },
  {
   "cell_type": "code",
   "execution_count": 121,
   "id": "7acf25c4",
   "metadata": {},
   "outputs": [],
   "source": [
    "yConfirmedTensors = np.zeros((88, 7, 1))"
   ]
  },
  {
   "cell_type": "code",
   "execution_count": 122,
   "id": "927f414f",
   "metadata": {},
   "outputs": [],
   "source": [
    "for i in range(88):\n",
    "    yConfirmedTensors[i] = tf.convert_to_tensor(ySumConfirmed[i], dtype=tf.float64)"
   ]
  },
  {
   "cell_type": "markdown",
   "id": "e0812e5a",
   "metadata": {},
   "source": [
    "# Data Preparation"
   ]
  },
  {
   "cell_type": "code",
   "execution_count": 123,
   "id": "0a1d2124",
   "metadata": {},
   "outputs": [],
   "source": [
    "X = confirmedTensors\n",
    "y = yConfirmedTensors[:44]"
   ]
  },
  {
   "cell_type": "code",
   "execution_count": 131,
   "id": "208a28c8",
   "metadata": {},
   "outputs": [],
   "source": [
    "X = np.array(X)"
   ]
  },
  {
   "cell_type": "code",
   "execution_count": 132,
   "id": "02fe41c7",
   "metadata": {},
   "outputs": [
    {
     "data": {
      "text/plain": [
       "(44, 8, 8)"
      ]
     },
     "execution_count": 132,
     "metadata": {},
     "output_type": "execute_result"
    }
   ],
   "source": [
    "X.shape"
   ]
  },
  {
   "cell_type": "code",
   "execution_count": 146,
   "id": "6117ad23",
   "metadata": {},
   "outputs": [],
   "source": [
    "# Expanding the dimensions for the CNN\n",
    "X = expand_dims(X, axis=3)"
   ]
  },
  {
   "cell_type": "code",
   "execution_count": 147,
   "id": "a6b5da72",
   "metadata": {},
   "outputs": [
    {
     "data": {
      "text/plain": [
       "(44, 8, 8, 1, 1)"
      ]
     },
     "execution_count": 147,
     "metadata": {},
     "output_type": "execute_result"
    }
   ],
   "source": [
    "X.shape"
   ]
  },
  {
   "cell_type": "code",
   "execution_count": 134,
   "id": "96c9b03a",
   "metadata": {},
   "outputs": [
    {
     "data": {
      "text/plain": [
       "(44, 7, 1)"
      ]
     },
     "execution_count": 134,
     "metadata": {},
     "output_type": "execute_result"
    }
   ],
   "source": [
    "y.shape"
   ]
  },
  {
   "cell_type": "markdown",
   "id": "452700f9",
   "metadata": {},
   "source": [
    "# Model Implementation for Predicting Confirmed Cases for each Province in next 7 days"
   ]
  },
  {
   "cell_type": "code",
   "execution_count": 137,
   "id": "c2a95143",
   "metadata": {},
   "outputs": [],
   "source": [
    "model = Sequential()\n",
    "\n",
    "model.add(Conv2D(64, (3, 3), input_shape=(8, 8, 1)))\n",
    "model.add(Activation(\"relu\"))\n",
    "model.add(MaxPooling2D((2,2), padding='same'))\n",
    "model.add(Dropout(0.25))\n",
    "\n",
    "model.add(Conv2D(64, (3, 3), input_shape=(8, 8, 1)))\n",
    "model.add(Activation(\"relu\"))\n",
    "model.add(MaxPooling2D((2,2), padding='same'))\n",
    "model.add(Dropout(0.25))\n",
    "\n",
    "model.add(Flatten())\n",
    "model.add(Dense(36, activation='relu'))\n",
    "model.add(Dropout(0.5))\n",
    "model.add(Dense(7, activation='softmax'))\n",
    "\n",
    "model.compile(loss=tf.keras.losses.MeanSquaredError(), optimizer='adam')"
   ]
  },
  {
   "cell_type": "code",
   "execution_count": 138,
   "id": "fef2147f",
   "metadata": {},
   "outputs": [
    {
     "name": "stdout",
     "output_type": "stream",
     "text": [
      "Epoch 1/10\n",
      "2/2 [==============================] - 6s 804ms/step - loss: 10738289.0000 - val_loss: 15774983.0000\n",
      "Epoch 2/10\n",
      "2/2 [==============================] - 0s 68ms/step - loss: 10738060.0000 - val_loss: 15774610.0000\n",
      "Epoch 3/10\n",
      "2/2 [==============================] - 0s 54ms/step - loss: 10738154.0000 - val_loss: 15774396.0000\n",
      "Epoch 4/10\n",
      "2/2 [==============================] - 0s 60ms/step - loss: 10738342.0000 - val_loss: 15774396.0000\n",
      "Epoch 5/10\n",
      "2/2 [==============================] - 0s 50ms/step - loss: 10738210.0000 - val_loss: 15774396.0000\n",
      "Epoch 6/10\n",
      "2/2 [==============================] - 0s 57ms/step - loss: 10738171.0000 - val_loss: 15774396.0000\n",
      "Epoch 7/10\n",
      "2/2 [==============================] - 0s 46ms/step - loss: 10738074.0000 - val_loss: 15774396.0000\n",
      "Epoch 8/10\n",
      "2/2 [==============================] - 0s 44ms/step - loss: 10737945.0000 - val_loss: 15774396.0000\n",
      "Epoch 9/10\n",
      "2/2 [==============================] - 0s 40ms/step - loss: 10737940.0000 - val_loss: 15774396.0000\n",
      "Epoch 10/10\n",
      "2/2 [==============================] - 0s 39ms/step - loss: 10737829.0000 - val_loss: 15774396.0000\n"
     ]
    },
    {
     "data": {
      "text/plain": [
       "<tensorflow.python.keras.callbacks.History at 0x28cf325bdc0>"
      ]
     },
     "execution_count": 138,
     "metadata": {},
     "output_type": "execute_result"
    }
   ],
   "source": [
    "model.fit(X, y, batch_size = 32, epochs = 10, validation_split = 0.2)"
   ]
  }
 ],
 "metadata": {
  "kernelspec": {
   "display_name": "Python 3",
   "language": "python",
   "name": "python3"
  },
  "language_info": {
   "codemirror_mode": {
    "name": "ipython",
    "version": 3
   },
   "file_extension": ".py",
   "mimetype": "text/x-python",
   "name": "python",
   "nbconvert_exporter": "python",
   "pygments_lexer": "ipython3",
   "version": "3.8.8"
  }
 },
 "nbformat": 4,
 "nbformat_minor": 5
}
