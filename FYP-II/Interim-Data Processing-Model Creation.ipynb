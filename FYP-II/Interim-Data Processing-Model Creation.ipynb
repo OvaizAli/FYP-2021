{
 "cells": [
  {
   "cell_type": "markdown",
   "id": "e153919a",
   "metadata": {},
   "source": [
    "# Importing Necessary Libraries"
   ]
  },
  {
   "cell_type": "code",
   "execution_count": 259,
   "id": "c9c356db",
   "metadata": {},
   "outputs": [],
   "source": [
    "import pandas as pd\n",
    "import numpy as np\n",
    "import tensorflow as tf\n",
    "import datetime\n",
    "from numpy import expand_dims\n",
    "import tensorflow as tf\n",
    "from tensorflow.keras.models import Sequential\n",
    "from tensorflow.keras.layers import Dense,Dropout,Flatten,Conv2D,MaxPooling2D,Activation,Dropout"
   ]
  },
  {
   "cell_type": "markdown",
   "id": "d10efb14",
   "metadata": {},
   "source": [
    "# Loading Dataset"
   ]
  },
  {
   "cell_type": "code",
   "execution_count": 260,
   "id": "6ba1f6e4",
   "metadata": {},
   "outputs": [],
   "source": [
    "df = pd.read_csv(\"C:\\\\Users\\\\OvaizAli\\\\Desktop\\\\FYP-2021\\\\FYP-I\\\\Master\\\\Data Collection\\\\CollectedData\\\\Final_Data (2022).csv\", index_col = False)"
   ]
  },
  {
   "cell_type": "code",
   "execution_count": 261,
   "id": "41accdb5",
   "metadata": {},
   "outputs": [],
   "source": [
    "df.drop(columns = ['Unnamed: 0'], inplace = True)"
   ]
  },
  {
   "cell_type": "code",
   "execution_count": 262,
   "id": "164cb868",
   "metadata": {},
   "outputs": [
    {
     "data": {
      "text/html": [
       "<div>\n",
       "<style scoped>\n",
       "    .dataframe tbody tr th:only-of-type {\n",
       "        vertical-align: middle;\n",
       "    }\n",
       "\n",
       "    .dataframe tbody tr th {\n",
       "        vertical-align: top;\n",
       "    }\n",
       "\n",
       "    .dataframe thead th {\n",
       "        text-align: right;\n",
       "    }\n",
       "</style>\n",
       "<table border=\"1\" class=\"dataframe\">\n",
       "  <thead>\n",
       "    <tr style=\"text-align: right;\">\n",
       "      <th></th>\n",
       "      <th>Province</th>\n",
       "      <th>Country_Region</th>\n",
       "      <th>Date</th>\n",
       "      <th>Day</th>\n",
       "      <th>Month</th>\n",
       "      <th>Year</th>\n",
       "      <th>Lat</th>\n",
       "      <th>Long_</th>\n",
       "      <th>Confirmed</th>\n",
       "      <th>Deaths</th>\n",
       "      <th>...</th>\n",
       "      <th>admis_upper_vax</th>\n",
       "      <th>admis_lower_vax</th>\n",
       "      <th>admis_mean_unvax</th>\n",
       "      <th>admis_upper_unvax</th>\n",
       "      <th>admis_lower_unvax</th>\n",
       "      <th>Temp</th>\n",
       "      <th>Wind</th>\n",
       "      <th>Barometer</th>\n",
       "      <th>Visibility</th>\n",
       "      <th>Weather</th>\n",
       "    </tr>\n",
       "  </thead>\n",
       "  <tbody>\n",
       "    <tr>\n",
       "      <th>0</th>\n",
       "      <td>Balochistan</td>\n",
       "      <td>Pakistan</td>\n",
       "      <td>2020-03-10</td>\n",
       "      <td>10</td>\n",
       "      <td>3</td>\n",
       "      <td>2020</td>\n",
       "      <td>28.328492</td>\n",
       "      <td>65.898403</td>\n",
       "      <td>1.0</td>\n",
       "      <td>0.0</td>\n",
       "      <td>...</td>\n",
       "      <td>0.0</td>\n",
       "      <td>0.0</td>\n",
       "      <td>25.615120</td>\n",
       "      <td>44.61881</td>\n",
       "      <td>10.791250</td>\n",
       "      <td>46.29</td>\n",
       "      <td>15.00</td>\n",
       "      <td>31.43</td>\n",
       "      <td>0.00</td>\n",
       "      <td>Haze.</td>\n",
       "    </tr>\n",
       "    <tr>\n",
       "      <th>1</th>\n",
       "      <td>Islamabad</td>\n",
       "      <td>Pakistan</td>\n",
       "      <td>2020-03-10</td>\n",
       "      <td>10</td>\n",
       "      <td>3</td>\n",
       "      <td>2020</td>\n",
       "      <td>33.665087</td>\n",
       "      <td>73.121219</td>\n",
       "      <td>2.0</td>\n",
       "      <td>0.0</td>\n",
       "      <td>...</td>\n",
       "      <td>0.0</td>\n",
       "      <td>0.0</td>\n",
       "      <td>0.004133</td>\n",
       "      <td>0.00000</td>\n",
       "      <td>0.000000</td>\n",
       "      <td>65.14</td>\n",
       "      <td>9.57</td>\n",
       "      <td>34.71</td>\n",
       "      <td>21.33</td>\n",
       "      <td>Clear.</td>\n",
       "    </tr>\n",
       "    <tr>\n",
       "      <th>2</th>\n",
       "      <td>Punjab</td>\n",
       "      <td>Pakistan</td>\n",
       "      <td>2020-03-10</td>\n",
       "      <td>10</td>\n",
       "      <td>3</td>\n",
       "      <td>2020</td>\n",
       "      <td>30.811346</td>\n",
       "      <td>72.139132</td>\n",
       "      <td>0.0</td>\n",
       "      <td>0.0</td>\n",
       "      <td>...</td>\n",
       "      <td>0.0</td>\n",
       "      <td>0.0</td>\n",
       "      <td>40.904370</td>\n",
       "      <td>89.53674</td>\n",
       "      <td>11.384460</td>\n",
       "      <td>56.40</td>\n",
       "      <td>2.44</td>\n",
       "      <td>23.67</td>\n",
       "      <td>11.88</td>\n",
       "      <td>Clear.</td>\n",
       "    </tr>\n",
       "    <tr>\n",
       "      <th>3</th>\n",
       "      <td>Sindh</td>\n",
       "      <td>Pakistan</td>\n",
       "      <td>2020-03-10</td>\n",
       "      <td>10</td>\n",
       "      <td>3</td>\n",
       "      <td>2020</td>\n",
       "      <td>26.009446</td>\n",
       "      <td>68.776807</td>\n",
       "      <td>0.0</td>\n",
       "      <td>0.0</td>\n",
       "      <td>...</td>\n",
       "      <td>0.0</td>\n",
       "      <td>0.0</td>\n",
       "      <td>22.339800</td>\n",
       "      <td>81.02134</td>\n",
       "      <td>6.179772</td>\n",
       "      <td>65.14</td>\n",
       "      <td>9.57</td>\n",
       "      <td>34.71</td>\n",
       "      <td>21.33</td>\n",
       "      <td>Clear.</td>\n",
       "    </tr>\n",
       "    <tr>\n",
       "      <th>4</th>\n",
       "      <td>Khyber Pakhtunkhwa</td>\n",
       "      <td>Pakistan</td>\n",
       "      <td>2020-03-10</td>\n",
       "      <td>10</td>\n",
       "      <td>3</td>\n",
       "      <td>2020</td>\n",
       "      <td>34.485332</td>\n",
       "      <td>72.091690</td>\n",
       "      <td>0.0</td>\n",
       "      <td>0.0</td>\n",
       "      <td>...</td>\n",
       "      <td>0.0</td>\n",
       "      <td>0.0</td>\n",
       "      <td>17.376130</td>\n",
       "      <td>39.58196</td>\n",
       "      <td>5.953569</td>\n",
       "      <td>48.80</td>\n",
       "      <td>4.64</td>\n",
       "      <td>49.20</td>\n",
       "      <td>23.21</td>\n",
       "      <td>Fog.</td>\n",
       "    </tr>\n",
       "    <tr>\n",
       "      <th>5</th>\n",
       "      <td>Azad Jammu and Kashmir</td>\n",
       "      <td>Pakistan</td>\n",
       "      <td>2020-03-10</td>\n",
       "      <td>10</td>\n",
       "      <td>3</td>\n",
       "      <td>2020</td>\n",
       "      <td>34.027401</td>\n",
       "      <td>73.947253</td>\n",
       "      <td>0.0</td>\n",
       "      <td>0.0</td>\n",
       "      <td>...</td>\n",
       "      <td>0.0</td>\n",
       "      <td>0.0</td>\n",
       "      <td>0.000000</td>\n",
       "      <td>0.00000</td>\n",
       "      <td>0.000000</td>\n",
       "      <td>39.86</td>\n",
       "      <td>1.86</td>\n",
       "      <td>42.43</td>\n",
       "      <td>0.00</td>\n",
       "      <td>Clear.</td>\n",
       "    </tr>\n",
       "    <tr>\n",
       "      <th>6</th>\n",
       "      <td>Gilgit-Baltistan</td>\n",
       "      <td>Pakistan</td>\n",
       "      <td>2020-03-10</td>\n",
       "      <td>10</td>\n",
       "      <td>3</td>\n",
       "      <td>2020</td>\n",
       "      <td>35.792146</td>\n",
       "      <td>74.982138</td>\n",
       "      <td>2.0</td>\n",
       "      <td>0.0</td>\n",
       "      <td>...</td>\n",
       "      <td>0.0</td>\n",
       "      <td>0.0</td>\n",
       "      <td>12.495310</td>\n",
       "      <td>23.41426</td>\n",
       "      <td>3.297438</td>\n",
       "      <td>32.71</td>\n",
       "      <td>3.71</td>\n",
       "      <td>23.57</td>\n",
       "      <td>12.82</td>\n",
       "      <td>Fog.</td>\n",
       "    </tr>\n",
       "  </tbody>\n",
       "</table>\n",
       "<p>7 rows × 74 columns</p>\n",
       "</div>"
      ],
      "text/plain": [
       "                 Province Country_Region        Date  Day  Month  Year  \\\n",
       "0             Balochistan       Pakistan  2020-03-10   10      3  2020   \n",
       "1               Islamabad       Pakistan  2020-03-10   10      3  2020   \n",
       "2                  Punjab       Pakistan  2020-03-10   10      3  2020   \n",
       "3                   Sindh       Pakistan  2020-03-10   10      3  2020   \n",
       "4      Khyber Pakhtunkhwa       Pakistan  2020-03-10   10      3  2020   \n",
       "5  Azad Jammu and Kashmir       Pakistan  2020-03-10   10      3  2020   \n",
       "6        Gilgit-Baltistan       Pakistan  2020-03-10   10      3  2020   \n",
       "\n",
       "         Lat      Long_  Confirmed  Deaths  ...  admis_upper_vax  \\\n",
       "0  28.328492  65.898403        1.0     0.0  ...              0.0   \n",
       "1  33.665087  73.121219        2.0     0.0  ...              0.0   \n",
       "2  30.811346  72.139132        0.0     0.0  ...              0.0   \n",
       "3  26.009446  68.776807        0.0     0.0  ...              0.0   \n",
       "4  34.485332  72.091690        0.0     0.0  ...              0.0   \n",
       "5  34.027401  73.947253        0.0     0.0  ...              0.0   \n",
       "6  35.792146  74.982138        2.0     0.0  ...              0.0   \n",
       "\n",
       "   admis_lower_vax  admis_mean_unvax  admis_upper_unvax  admis_lower_unvax  \\\n",
       "0              0.0         25.615120           44.61881          10.791250   \n",
       "1              0.0          0.004133            0.00000           0.000000   \n",
       "2              0.0         40.904370           89.53674          11.384460   \n",
       "3              0.0         22.339800           81.02134           6.179772   \n",
       "4              0.0         17.376130           39.58196           5.953569   \n",
       "5              0.0          0.000000            0.00000           0.000000   \n",
       "6              0.0         12.495310           23.41426           3.297438   \n",
       "\n",
       "    Temp   Wind  Barometer  Visibility  Weather  \n",
       "0  46.29  15.00      31.43        0.00    Haze.  \n",
       "1  65.14   9.57      34.71       21.33   Clear.  \n",
       "2  56.40   2.44      23.67       11.88   Clear.  \n",
       "3  65.14   9.57      34.71       21.33   Clear.  \n",
       "4  48.80   4.64      49.20       23.21     Fog.  \n",
       "5  39.86   1.86      42.43        0.00   Clear.  \n",
       "6  32.71   3.71      23.57       12.82     Fog.  \n",
       "\n",
       "[7 rows x 74 columns]"
      ]
     },
     "execution_count": 262,
     "metadata": {},
     "output_type": "execute_result"
    }
   ],
   "source": [
    "df.head(7)"
   ]
  },
  {
   "cell_type": "markdown",
   "id": "bb12ffcb",
   "metadata": {},
   "source": [
    "# Creating Tensors for Confirmed Cases"
   ]
  },
  {
   "cell_type": "markdown",
   "id": "7f81a7a7",
   "metadata": {},
   "source": [
    "### Generating \"X\" from Tabular Data"
   ]
  },
  {
   "cell_type": "code",
   "execution_count": 263,
   "id": "b998d57e",
   "metadata": {},
   "outputs": [],
   "source": [
    "# Getting Daily_Confirmed cases for each province\n",
    "sConfirmed = df[df['Province'] == 'Sindh']['Daily_Confirmed'].values\n",
    "bConfirmed = df[df['Province'] == 'Balochistan']['Daily_Confirmed'].values\n",
    "gConfirmed = df[df['Province'] == 'Gilgit-Baltistan']['Daily_Confirmed'].values\n",
    "iConfirmed = df[df['Province'] == 'Islamabad']['Daily_Confirmed'].values\n",
    "pConfirmed = df[df['Province'] == 'Punjab']['Daily_Confirmed'].values\n",
    "kConfirmed = df[df['Province'] == 'Khyber Pakhtunkhwa']['Daily_Confirmed'].values\n",
    "aConfirmed = df[df['Province'] == 'Azad Jammu and Kashmir']['Daily_Confirmed'].values"
   ]
  },
  {
   "cell_type": "code",
   "execution_count": 264,
   "id": "4841967a",
   "metadata": {},
   "outputs": [
    {
     "data": {
      "text/plain": [
       "True"
      ]
     },
     "execution_count": 264,
     "metadata": {},
     "output_type": "execute_result"
    }
   ],
   "source": [
    "len(sConfirmed) == len(bConfirmed) == len(iConfirmed) == len(pConfirmed) == len(kConfirmed) == len(aConfirmed) == len(gConfirmed)"
   ]
  },
  {
   "cell_type": "code",
   "execution_count": 265,
   "id": "9fa21c4b",
   "metadata": {},
   "outputs": [
    {
     "data": {
      "text/plain": [
       "703"
      ]
     },
     "execution_count": 265,
     "metadata": {},
     "output_type": "execute_result"
    }
   ],
   "source": [
    "len(bConfirmed)"
   ]
  },
  {
   "cell_type": "code",
   "execution_count": 266,
   "id": "53fae91c",
   "metadata": {},
   "outputs": [],
   "source": [
    "# Combining Daily_Confirmed cases to make 4*4 Matrix\n",
    "sbConfirmed = np.zeros(len(sConfirmed)*2)\n",
    "giConfirmed = np.zeros(len(sConfirmed)*2)\n",
    "pkConfirmed = np.zeros(len(sConfirmed)*2)\n",
    "axConfirmed = np.zeros(len(sConfirmed)*2)"
   ]
  },
  {
   "cell_type": "code",
   "execution_count": 267,
   "id": "48166774",
   "metadata": {},
   "outputs": [
    {
     "data": {
      "text/plain": [
       "1406"
      ]
     },
     "execution_count": 267,
     "metadata": {},
     "output_type": "execute_result"
    }
   ],
   "source": [
    "len(sbConfirmed)\n",
    "# S B\n",
    "# G I\n",
    "# P K\n",
    "# A -"
   ]
  },
  {
   "cell_type": "code",
   "execution_count": 268,
   "id": "56b6c5b5",
   "metadata": {},
   "outputs": [],
   "source": [
    "for i in range(len(sbConfirmed)):\n",
    "    if(i%2 == 0):\n",
    "        sbConfirmed[i] = sConfirmed[i//2]\n",
    "    elif(i%2 == 1):\n",
    "        sbConfirmed[i] = bConfirmed[(i - 1)//2]"
   ]
  },
  {
   "cell_type": "code",
   "execution_count": 269,
   "id": "5ccbb427",
   "metadata": {},
   "outputs": [],
   "source": [
    "for i in range(len(giConfirmed)):\n",
    "    if(i%2 == 0):\n",
    "        giConfirmed[i] = gConfirmed[i//2]\n",
    "    elif(i%2 == 1):\n",
    "        giConfirmed[i] = iConfirmed[(i - 1)//2]"
   ]
  },
  {
   "cell_type": "code",
   "execution_count": 270,
   "id": "4a3f9621",
   "metadata": {},
   "outputs": [],
   "source": [
    "for i in range(len(pkConfirmed)):\n",
    "    if(i%2 == 0):\n",
    "        pkConfirmed[i] = pConfirmed[i//2]\n",
    "    elif(i%2 == 1):\n",
    "        pkConfirmed[i] = kConfirmed[(i - 1)//2]"
   ]
  },
  {
   "cell_type": "code",
   "execution_count": 271,
   "id": "5c56455c",
   "metadata": {},
   "outputs": [],
   "source": [
    "for i in range(len(axConfirmed)):\n",
    "    if(i%2 == 0):\n",
    "        axConfirmed[i] = aConfirmed[i//2]\n",
    "    elif(i%2 == 1):\n",
    "        axConfirmed[i] = -1"
   ]
  },
  {
   "cell_type": "code",
   "execution_count": 272,
   "id": "ed8788c3",
   "metadata": {},
   "outputs": [],
   "source": [
    "AllConfirmed = np.zeros((4, len(sbConfirmed)))"
   ]
  },
  {
   "cell_type": "code",
   "execution_count": 273,
   "id": "9b98cefb",
   "metadata": {},
   "outputs": [],
   "source": [
    "AllConfirmed[0] = sbConfirmed\n",
    "AllConfirmed[1] = giConfirmed\n",
    "AllConfirmed[2] = pkConfirmed\n",
    "AllConfirmed[3] = axConfirmed"
   ]
  },
  {
   "cell_type": "code",
   "execution_count": 274,
   "id": "28b80746",
   "metadata": {},
   "outputs": [],
   "source": [
    "tempArr = np.zeros((4, 8))"
   ]
  },
  {
   "cell_type": "code",
   "execution_count": 275,
   "id": "f03e1d48",
   "metadata": {},
   "outputs": [
    {
     "data": {
      "text/plain": [
       "175.75"
      ]
     },
     "execution_count": 275,
     "metadata": {},
     "output_type": "execute_result"
    }
   ],
   "source": [
    "AllConfirmed.shape[1]/8"
   ]
  },
  {
   "cell_type": "code",
   "execution_count": 276,
   "id": "8dd2a491",
   "metadata": {},
   "outputs": [],
   "source": [
    "tensorsArr = np.zeros((175, 4, 8))"
   ]
  },
  {
   "cell_type": "code",
   "execution_count": 277,
   "id": "d5d2987c",
   "metadata": {},
   "outputs": [],
   "source": [
    "stIndex = 0\n",
    "enIndex = 8\n",
    "for tIndex in range(175):\n",
    "    for i in range(4):\n",
    "        tempArr[i] = AllConfirmed[i][stIndex:enIndex]\n",
    "    stIndex += 8\n",
    "    enIndex += 8\n",
    "    tensorsArr[tIndex] = tempArr"
   ]
  },
  {
   "cell_type": "code",
   "execution_count": 278,
   "id": "17d8a1fc",
   "metadata": {},
   "outputs": [
    {
     "data": {
      "text/plain": [
       "175"
      ]
     },
     "execution_count": 278,
     "metadata": {},
     "output_type": "execute_result"
    }
   ],
   "source": [
    "len(tensorsArr)"
   ]
  },
  {
   "cell_type": "code",
   "execution_count": 279,
   "id": "e974dd56",
   "metadata": {},
   "outputs": [],
   "source": [
    "finalTensorsArr = np.zeros((88, 8, 8))"
   ]
  },
  {
   "cell_type": "code",
   "execution_count": 280,
   "id": "dcd56e14",
   "metadata": {},
   "outputs": [],
   "source": [
    "stIndex = 0\n",
    "enIndex = 8\n",
    "for tIndex in range(0, 176, 2):\n",
    "    tfIndex = tIndex//2\n",
    "    for i in range(8):\n",
    "        if(i < 4):\n",
    "#             print(tensors[tIndex][i])\n",
    "            finalTensorsArr[tfIndex][i] = tensorsArr[tIndex][i]\n",
    "#             print(FinalTensors[tfIndex][i])\n",
    "        else:\n",
    "#             print(tensors[tIndex][i-4])\n",
    "            finalTensorsArr[tfIndex][i] = tensorsArr[tIndex][i-4]\n",
    "#             print(FinalTensors[tfIndex][i-4])\n",
    "#     print(FinalTensors[tfIndex])\n",
    "#     print(\"\\n\")"
   ]
  },
  {
   "cell_type": "code",
   "execution_count": 324,
   "id": "f3c3c3e8",
   "metadata": {},
   "outputs": [
    {
     "data": {
      "text/plain": [
       "(88, 8, 8)"
      ]
     },
     "execution_count": 324,
     "metadata": {},
     "output_type": "execute_result"
    }
   ],
   "source": [
    "finalTensorsArr.shape"
   ]
  },
  {
   "cell_type": "code",
   "execution_count": 325,
   "id": "9910941d",
   "metadata": {},
   "outputs": [
    {
     "data": {
      "text/plain": [
       "array([[ 0.,  1.,  0.,  0.,  0.,  0.,  0.,  5.],\n",
       "       [ 2.,  2.,  1.,  0.,  0.,  0.,  0.,  1.],\n",
       "       [ 0.,  0.,  0.,  0.,  0.,  0.,  0.,  0.],\n",
       "       [ 0., -1.,  0., -1.,  0., -1.,  0., -1.],\n",
       "       [ 0.,  1.,  0.,  0.,  0.,  0.,  0.,  5.],\n",
       "       [ 2.,  2.,  1.,  0.,  0.,  0.,  0.,  1.],\n",
       "       [ 0.,  0.,  0.,  0.,  0.,  0.,  0.,  0.],\n",
       "       [ 0., -1.,  0., -1.,  0., -1.,  0., -1.]])"
      ]
     },
     "execution_count": 325,
     "metadata": {},
     "output_type": "execute_result"
    }
   ],
   "source": [
    "finalTensorsArr[0]"
   ]
  },
  {
   "cell_type": "code",
   "execution_count": 326,
   "id": "e34cb176",
   "metadata": {},
   "outputs": [
    {
     "data": {
      "text/plain": [
       "704"
      ]
     },
     "execution_count": 326,
     "metadata": {},
     "output_type": "execute_result"
    }
   ],
   "source": [
    "88 * 8"
   ]
  },
  {
   "cell_type": "code",
   "execution_count": 282,
   "id": "df312c47",
   "metadata": {},
   "outputs": [],
   "source": [
    "confirmedTensors = []"
   ]
  },
  {
   "cell_type": "code",
   "execution_count": 283,
   "id": "4ec1047f",
   "metadata": {},
   "outputs": [],
   "source": [
    "for i in range(88):\n",
    "    confirmedTensors.append(tf.convert_to_tensor(finalTensorsArr[i], dtype=tf.float64))"
   ]
  },
  {
   "cell_type": "code",
   "execution_count": 284,
   "id": "440e7917",
   "metadata": {},
   "outputs": [
    {
     "data": {
      "text/plain": [
       "<tf.Tensor: shape=(8, 8), dtype=float64, numpy=\n",
       "array([[ 1.779e+03,  7.700e+01,  1.952e+03,  7.700e+01,  1.527e+03,\n",
       "         7.400e+01,  8.630e+02,  3.400e+01],\n",
       "       [ 6.900e+01,  6.150e+02,  3.600e+01,  4.990e+02,  1.800e+01,\n",
       "         4.650e+02,  5.000e+00,  2.910e+02],\n",
       "       [ 2.031e+03,  1.258e+03,  1.597e+03,  1.515e+03,  1.196e+03,\n",
       "         1.480e+03,  1.052e+03,  9.200e+02],\n",
       "       [ 5.710e+02, -1.000e+00,  4.610e+02, -1.000e+00,  2.130e+02,\n",
       "        -1.000e+00,  1.730e+02, -1.000e+00],\n",
       "       [ 1.779e+03,  7.700e+01,  1.952e+03,  7.700e+01,  1.527e+03,\n",
       "         7.400e+01,  8.630e+02,  3.400e+01],\n",
       "       [ 6.900e+01,  6.150e+02,  3.600e+01,  4.990e+02,  1.800e+01,\n",
       "         4.650e+02,  5.000e+00,  2.910e+02],\n",
       "       [ 2.031e+03,  1.258e+03,  1.597e+03,  1.515e+03,  1.196e+03,\n",
       "         1.480e+03,  1.052e+03,  9.200e+02],\n",
       "       [ 5.710e+02, -1.000e+00,  4.610e+02, -1.000e+00,  2.130e+02,\n",
       "        -1.000e+00,  1.730e+02, -1.000e+00]])>"
      ]
     },
     "execution_count": 284,
     "metadata": {},
     "output_type": "execute_result"
    }
   ],
   "source": [
    "confirmedTensors[87]"
   ]
  },
  {
   "cell_type": "code",
   "execution_count": 285,
   "id": "8ac898dc",
   "metadata": {},
   "outputs": [
    {
     "data": {
      "text/plain": [
       "88"
      ]
     },
     "execution_count": 285,
     "metadata": {},
     "output_type": "execute_result"
    }
   ],
   "source": [
    "len(confirmedTensors)"
   ]
  },
  {
   "cell_type": "code",
   "execution_count": 286,
   "id": "317a8337",
   "metadata": {},
   "outputs": [
    {
     "data": {
      "text/plain": [
       "704"
      ]
     },
     "execution_count": 286,
     "metadata": {},
     "output_type": "execute_result"
    }
   ],
   "source": [
    "len(confirmedTensors) * 8"
   ]
  },
  {
   "cell_type": "markdown",
   "id": "25273d23",
   "metadata": {},
   "source": [
    "### Generating \"y\" from Tabular Data"
   ]
  },
  {
   "cell_type": "code",
   "execution_count": 336,
   "id": "8e9fcec5",
   "metadata": {},
   "outputs": [],
   "source": [
    "y_tempConfirmed = []"
   ]
  },
  {
   "cell_type": "code",
   "execution_count": 337,
   "id": "6fb97e5e",
   "metadata": {},
   "outputs": [],
   "source": [
    "for i in range(0, len(df['Date']), 7):\n",
    "    try:\n",
    "        y_tempConfirmed.append(df[df['Date'] == str(datetime.datetime.strptime(df['Date'].iloc[i], '%Y-%m-%d') + datetime.timedelta(days=7))[:10]]['Daily_Confirmed'].values)\n",
    "#         for data in df[(df['Date'] == str(datetime.datetime.strptime(df['Date'].iloc[i], '%Y-%m-%d') + datetime.timedelta(days=8))[:10])]['Daily_Confirmed']:\n",
    "#             print(data)\n",
    "#         print(df[\n",
    "#         (df['Date'] == str(datetime.datetime.strptime(df['Date'].iloc[i], '%Y-%m-%d') + datetime.timedelta(days=8))[:10])\n",
    "#     & (df['Province'] == 'Sindh')]['Daily_Confirmed'].values[0])\n",
    "    except:\n",
    "        print(i)\n",
    "        continue"
   ]
  },
  {
   "cell_type": "code",
   "execution_count": 338,
   "id": "c6cc8496",
   "metadata": {},
   "outputs": [
    {
     "data": {
      "text/plain": [
       "array([ 1.,  1., 25.,  0.,  2.,  0.,  0.])"
      ]
     },
     "execution_count": 338,
     "metadata": {},
     "output_type": "execute_result"
    }
   ],
   "source": [
    "y_tempConfirmed[0]"
   ]
  },
  {
   "cell_type": "code",
   "execution_count": 344,
   "id": "7d64e3ef",
   "metadata": {},
   "outputs": [],
   "source": [
    "y_tempConfirmed = y_tempConfirmed[:696]"
   ]
  },
  {
   "cell_type": "code",
   "execution_count": 292,
   "id": "ad759f55",
   "metadata": {},
   "outputs": [],
   "source": [
    "# Balochistan\n",
    "# Islamabad\n",
    "# Punjab\n",
    "# Sindh\n",
    "# Khyber Pakhtunkhwa\n",
    "# Azad Jammu and Kashmir\n",
    "# Gilgit-Baltistan"
   ]
  },
  {
   "cell_type": "code",
   "execution_count": 293,
   "id": "809044d8",
   "metadata": {},
   "outputs": [],
   "source": [
    "bCases = []\n",
    "iCases = []\n",
    "pCases = []\n",
    "sCases = []\n",
    "kCases = []\n",
    "aCases = []\n",
    "gCases = []"
   ]
  },
  {
   "cell_type": "code",
   "execution_count": 294,
   "id": "ef8d4ff4",
   "metadata": {},
   "outputs": [],
   "source": [
    "for i in range(len(y_tempConfirmed)):\n",
    "    try:\n",
    "        bCases.append(y_tempConfirmed[i][0])\n",
    "        iCases.append(y_tempConfirmed[i][1])\n",
    "        pCases.append(y_tempConfirmed[i][2])\n",
    "        sCases.append(y_tempConfirmed[i][3])\n",
    "        kCases.append(y_tempConfirmed[i][4])\n",
    "        aCases.append(y_tempConfirmed[i][5])\n",
    "        gCases.append(y_tempConfirmed[i][6])\n",
    "    except:\n",
    "        continue"
   ]
  },
  {
   "cell_type": "code",
   "execution_count": 295,
   "id": "3e51af4a",
   "metadata": {},
   "outputs": [],
   "source": [
    "bSumCases = np.zeros(100)\n",
    "iSumCases = np.zeros(100)\n",
    "pSumCases = np.zeros(100)\n",
    "sSumCases = np.zeros(100)\n",
    "kSumCases = np.zeros(100)\n",
    "aSumCases = np.zeros(100)\n",
    "gSumCases = np.zeros(100)"
   ]
  },
  {
   "cell_type": "code",
   "execution_count": 352,
   "id": "5b5cd1af",
   "metadata": {},
   "outputs": [
    {
     "name": "stdout",
     "output_type": "stream",
     "text": [
      "0\n",
      "1\n",
      "2\n",
      "3\n",
      "4\n",
      "5\n",
      "6\n",
      "7\n",
      "8\n",
      "9\n",
      "10\n",
      "11\n",
      "12\n",
      "13\n",
      "14\n",
      "15\n",
      "16\n",
      "17\n",
      "18\n",
      "19\n",
      "20\n",
      "21\n",
      "22\n",
      "23\n",
      "24\n",
      "25\n",
      "26\n",
      "27\n",
      "28\n",
      "29\n",
      "30\n",
      "31\n",
      "32\n",
      "33\n",
      "34\n",
      "35\n",
      "36\n",
      "37\n",
      "38\n",
      "39\n",
      "40\n",
      "41\n",
      "42\n",
      "43\n",
      "44\n",
      "45\n",
      "46\n",
      "47\n",
      "48\n",
      "49\n",
      "50\n",
      "51\n",
      "52\n",
      "53\n",
      "54\n",
      "55\n",
      "56\n",
      "57\n",
      "58\n",
      "59\n",
      "60\n",
      "61\n",
      "62\n",
      "63\n",
      "64\n",
      "65\n",
      "66\n",
      "67\n",
      "68\n",
      "69\n",
      "70\n",
      "71\n",
      "72\n",
      "73\n",
      "74\n",
      "75\n",
      "76\n",
      "77\n",
      "78\n",
      "79\n",
      "80\n",
      "81\n",
      "82\n",
      "83\n",
      "84\n",
      "85\n",
      "86\n",
      "87\n",
      "88\n",
      "89\n",
      "90\n",
      "91\n",
      "92\n",
      "93\n",
      "94\n",
      "95\n",
      "96\n",
      "97\n",
      "98\n",
      "99\n"
     ]
    }
   ],
   "source": [
    "for i in range(0, len(bCases), 7): \n",
    "    print(i//7)"
   ]
  },
  {
   "cell_type": "code",
   "execution_count": 358,
   "id": "05b5c8c0",
   "metadata": {},
   "outputs": [],
   "source": [
    "for i in range(0, len(bCases) - 7, 7): \n",
    "    try:\n",
    "        for j in range(7):\n",
    "            if (i > 0):\n",
    "#                 print(int(i//7))\n",
    "                bSumCases[int(i/7)] += bCases[i+j]\n",
    "                iSumCases[int(i/7)] += iCases[i+j]\n",
    "                pSumCases[int(i/7)] += pCases[i+j]\n",
    "                sSumCases[int(i/7)] += sCases[i+j]\n",
    "                kSumCases[int(i/7)] += kCases[i+j]\n",
    "                aSumCases[int(i/7)] += aCases[i+j]\n",
    "                gSumCases[int(i/7)] += gCases[i+j]\n",
    "            else:\n",
    "#                 print(int(i))\n",
    "                bSumCases[int(i)] += bCases[i+j]\n",
    "                iSumCases[int(i)] += iCases[i+j]\n",
    "                pSumCases[int(i)] += pCases[i+j]\n",
    "                sSumCases[int(i)] += sCases[i+j]\n",
    "                kSumCases[int(i)] += kCases[i+j]\n",
    "                aSumCases[int(i)] += aCases[i+j]\n",
    "                gSumCases[int(i)] += gCases[i+j]\n",
    "    except:\n",
    "        continue"
   ]
  },
  {
   "cell_type": "code",
   "execution_count": 359,
   "id": "38073c1d",
   "metadata": {},
   "outputs": [],
   "source": [
    "ySumConfirmed = np.zeros((100, 7, 1))"
   ]
  },
  {
   "cell_type": "code",
   "execution_count": 360,
   "id": "31d8fcb1",
   "metadata": {},
   "outputs": [
    {
     "data": {
      "text/plain": [
       "array([[0.],\n",
       "       [0.],\n",
       "       [0.],\n",
       "       [0.],\n",
       "       [0.],\n",
       "       [0.],\n",
       "       [0.]])"
      ]
     },
     "execution_count": 360,
     "metadata": {},
     "output_type": "execute_result"
    }
   ],
   "source": [
    "ySumConfirmed[0]"
   ]
  },
  {
   "cell_type": "code",
   "execution_count": 361,
   "id": "73559f42",
   "metadata": {},
   "outputs": [],
   "source": [
    "for i in range(100):\n",
    "    ySumConfirmed[i][0] = bSumCases[i] \n",
    "    ySumConfirmed[i][1] = iSumCases[i]  \n",
    "    ySumConfirmed[i][2] = pSumCases[i] \n",
    "    ySumConfirmed[i][3] = sSumCases[i]  \n",
    "    ySumConfirmed[i][4] = kSumCases[i] \n",
    "    ySumConfirmed[i][5] = aSumCases[i] \n",
    "    ySumConfirmed[i][6] = gSumCases[i] "
   ]
  },
  {
   "cell_type": "code",
   "execution_count": 364,
   "id": "2b798b16",
   "metadata": {},
   "outputs": [
    {
     "data": {
      "text/plain": [
       "array([[ 1242.],\n",
       "       [ 6948.],\n",
       "       [25506.],\n",
       "       [24552.],\n",
       "       [33921.],\n",
       "       [ 5409.],\n",
       "       [ 1098.]])"
      ]
     },
     "execution_count": 364,
     "metadata": {},
     "output_type": "execute_result"
    }
   ],
   "source": [
    "ySumConfirmed[99]"
   ]
  },
  {
   "cell_type": "code",
   "execution_count": 365,
   "id": "3042620b",
   "metadata": {},
   "outputs": [
    {
     "data": {
      "text/plain": [
       "array([[ 1242.],\n",
       "       [ 6948.],\n",
       "       [25506.],\n",
       "       [24552.],\n",
       "       [33921.],\n",
       "       [ 5409.],\n",
       "       [ 1098.]])"
      ]
     },
     "execution_count": 365,
     "metadata": {},
     "output_type": "execute_result"
    }
   ],
   "source": [
    "ySumConfirmed[99]"
   ]
  },
  {
   "cell_type": "code",
   "execution_count": 366,
   "id": "7acf25c4",
   "metadata": {},
   "outputs": [],
   "source": [
    "yConfirmedTensors = np.zeros((100, 7, 1))"
   ]
  },
  {
   "cell_type": "code",
   "execution_count": 367,
   "id": "927f414f",
   "metadata": {},
   "outputs": [],
   "source": [
    "for i in range(100):\n",
    "    yConfirmedTensors[i] = tf.convert_to_tensor(ySumConfirmed[i], dtype=tf.float64)"
   ]
  },
  {
   "cell_type": "code",
   "execution_count": 369,
   "id": "1341eadb",
   "metadata": {},
   "outputs": [
    {
     "data": {
      "text/plain": [
       "array([[ 1242.],\n",
       "       [ 6948.],\n",
       "       [25506.],\n",
       "       [24552.],\n",
       "       [33921.],\n",
       "       [ 5409.],\n",
       "       [ 1098.]])"
      ]
     },
     "execution_count": 369,
     "metadata": {},
     "output_type": "execute_result"
    }
   ],
   "source": [
    "yConfirmedTensors[99]"
   ]
  },
  {
   "cell_type": "markdown",
   "id": "5b71d6d0",
   "metadata": {},
   "source": [
    "# Data Preparation"
   ]
  },
  {
   "cell_type": "code",
   "execution_count": 304,
   "id": "c75bc059",
   "metadata": {},
   "outputs": [
    {
     "data": {
      "text/plain": [
       "88"
      ]
     },
     "execution_count": 304,
     "metadata": {},
     "output_type": "execute_result"
    }
   ],
   "source": [
    "len(confirmedTensors)"
   ]
  },
  {
   "cell_type": "code",
   "execution_count": 305,
   "id": "77f10dcd",
   "metadata": {},
   "outputs": [
    {
     "data": {
      "text/plain": [
       "88"
      ]
     },
     "execution_count": 305,
     "metadata": {},
     "output_type": "execute_result"
    }
   ],
   "source": [
    "len(yConfirmedTensors[:88])"
   ]
  },
  {
   "cell_type": "code",
   "execution_count": 306,
   "id": "0a1d2124",
   "metadata": {},
   "outputs": [],
   "source": [
    "X = confirmedTensors\n",
    "y = yConfirmedTensors[:88]"
   ]
  },
  {
   "cell_type": "code",
   "execution_count": 307,
   "id": "3a262b88",
   "metadata": {},
   "outputs": [],
   "source": [
    "X = np.array(X)"
   ]
  },
  {
   "cell_type": "code",
   "execution_count": 308,
   "id": "c7a0c124",
   "metadata": {},
   "outputs": [
    {
     "data": {
      "text/plain": [
       "(88, 8, 8)"
      ]
     },
     "execution_count": 308,
     "metadata": {},
     "output_type": "execute_result"
    }
   ],
   "source": [
    "X.shape"
   ]
  },
  {
   "cell_type": "code",
   "execution_count": 309,
   "id": "b4e6a853",
   "metadata": {},
   "outputs": [],
   "source": [
    "# Expanding the dimensions for the CNN\n",
    "X = expand_dims(X, axis=3)"
   ]
  },
  {
   "cell_type": "code",
   "execution_count": 310,
   "id": "1a2bff16",
   "metadata": {},
   "outputs": [
    {
     "data": {
      "text/plain": [
       "(88, 8, 8, 1)"
      ]
     },
     "execution_count": 310,
     "metadata": {},
     "output_type": "execute_result"
    }
   ],
   "source": [
    "X.shape"
   ]
  },
  {
   "cell_type": "code",
   "execution_count": 311,
   "id": "2d175303",
   "metadata": {},
   "outputs": [
    {
     "data": {
      "text/plain": [
       "(88, 7, 1)"
      ]
     },
     "execution_count": 311,
     "metadata": {},
     "output_type": "execute_result"
    }
   ],
   "source": [
    "y.shape"
   ]
  },
  {
   "cell_type": "markdown",
   "id": "8259c6d7",
   "metadata": {},
   "source": [
    "# Model Implementation for Predicting Confirmed Cases for each Province in next 7 days"
   ]
  },
  {
   "cell_type": "code",
   "execution_count": 312,
   "id": "37dcf0dd",
   "metadata": {},
   "outputs": [],
   "source": [
    "model = Sequential()\n",
    "\n",
    "model.add(Conv2D(8, (2, 2), input_shape=(8, 8, 1)))\n",
    "model.add(Activation(\"relu\"))\n",
    "model.add(MaxPooling2D((2,2), padding='same'))\n",
    "# model.add(Dropout(0.25))\n",
    "\n",
    "model.add(Conv2D(4, (2, 2)))\n",
    "model.add(Activation(\"relu\"))\n",
    "model.add(MaxPooling2D((2,2), padding='same'))\n",
    "# model.add(Dropout(0.25))\n",
    "\n",
    "model.add(Flatten())\n",
    "model.add(Dense(36, activation='relu'))\n",
    "# model.add(Dropout(0.5))\n",
    "model.add(Dense(7, activation='linear'))\n",
    "\n",
    "model.compile(loss=tf.keras.losses.MeanSquaredError(), optimizer='adam')"
   ]
  },
  {
   "cell_type": "code",
   "execution_count": 313,
   "id": "1900ec76",
   "metadata": {},
   "outputs": [
    {
     "data": {
      "text/plain": [
       "52.8"
      ]
     },
     "execution_count": 313,
     "metadata": {},
     "output_type": "execute_result"
    }
   ],
   "source": [
    "88 * 0.6"
   ]
  },
  {
   "cell_type": "code",
   "execution_count": 314,
   "id": "9ea20fe1",
   "metadata": {},
   "outputs": [],
   "source": [
    "X_train = X[:52]\n",
    "y_train = y[:52]"
   ]
  },
  {
   "cell_type": "code",
   "execution_count": 315,
   "id": "c97c25cd",
   "metadata": {},
   "outputs": [],
   "source": [
    "X_test = X[52:]\n",
    "y_test = y[52:]"
   ]
  },
  {
   "cell_type": "code",
   "execution_count": 316,
   "id": "6f0117a2",
   "metadata": {},
   "outputs": [
    {
     "name": "stdout",
     "output_type": "stream",
     "text": [
      "Epoch 1/50\n",
      "11/11 [==============================] - 1s 31ms/step - loss: 10527961.0000 - val_loss: 7426702.0000\n",
      "Epoch 2/50\n",
      "11/11 [==============================] - 0s 4ms/step - loss: 9620948.0000 - val_loss: 7194618.0000\n",
      "Epoch 3/50\n",
      "11/11 [==============================] - 0s 4ms/step - loss: 8546802.0000 - val_loss: 7325736.5000\n",
      "Epoch 4/50\n",
      "11/11 [==============================] - 0s 4ms/step - loss: 7506032.5000 - val_loss: 7791112.0000\n",
      "Epoch 5/50\n",
      "11/11 [==============================] - 0s 4ms/step - loss: 6180360.5000 - val_loss: 8953580.0000\n",
      "Epoch 6/50\n",
      "11/11 [==============================] - 0s 4ms/step - loss: 4989020.5000 - val_loss: 11259412.0000\n",
      "Epoch 7/50\n",
      "11/11 [==============================] - 0s 4ms/step - loss: 3721488.7500 - val_loss: 14078959.0000\n",
      "Epoch 8/50\n",
      "11/11 [==============================] - 0s 4ms/step - loss: 2938243.5000 - val_loss: 17409090.0000\n",
      "Epoch 9/50\n",
      "11/11 [==============================] - 0s 4ms/step - loss: 2237739.0000 - val_loss: 20388084.0000\n",
      "Epoch 10/50\n",
      "11/11 [==============================] - 0s 4ms/step - loss: 1838746.7500 - val_loss: 20902778.0000\n",
      "Epoch 11/50\n",
      "11/11 [==============================] - 0s 4ms/step - loss: 1654227.5000 - val_loss: 22729086.0000\n",
      "Epoch 12/50\n",
      "11/11 [==============================] - 0s 4ms/step - loss: 1505749.3750 - val_loss: 23500218.0000\n",
      "Epoch 13/50\n",
      "11/11 [==============================] - 0s 4ms/step - loss: 1445774.8750 - val_loss: 23957876.0000\n",
      "Epoch 14/50\n",
      "11/11 [==============================] - 0s 4ms/step - loss: 1426678.8750 - val_loss: 23875934.0000\n",
      "Epoch 15/50\n",
      "11/11 [==============================] - 0s 4ms/step - loss: 1412773.2500 - val_loss: 23747784.0000\n",
      "Epoch 16/50\n",
      "11/11 [==============================] - 0s 4ms/step - loss: 1409562.5000 - val_loss: 24371116.0000\n",
      "Epoch 17/50\n",
      "11/11 [==============================] - 0s 4ms/step - loss: 1400799.2500 - val_loss: 23601678.0000\n",
      "Epoch 18/50\n",
      "11/11 [==============================] - 0s 4ms/step - loss: 1396025.6250 - val_loss: 23428858.0000\n",
      "Epoch 19/50\n",
      "11/11 [==============================] - 0s 4ms/step - loss: 1394664.6250 - val_loss: 22763374.0000\n",
      "Epoch 20/50\n",
      "11/11 [==============================] - 0s 4ms/step - loss: 1404371.3750 - val_loss: 21767398.0000\n",
      "Epoch 21/50\n",
      "11/11 [==============================] - 0s 4ms/step - loss: 1378922.8750 - val_loss: 23134200.0000\n",
      "Epoch 22/50\n",
      "11/11 [==============================] - 0s 4ms/step - loss: 1397073.5000 - val_loss: 24055182.0000\n",
      "Epoch 23/50\n",
      "11/11 [==============================] - 0s 4ms/step - loss: 1390081.8750 - val_loss: 22826098.0000\n",
      "Epoch 24/50\n",
      "11/11 [==============================] - 0s 4ms/step - loss: 1382875.8750 - val_loss: 22848154.0000\n",
      "Epoch 25/50\n",
      "11/11 [==============================] - 0s 4ms/step - loss: 1386026.8750 - val_loss: 21682398.0000\n",
      "Epoch 26/50\n",
      "11/11 [==============================] - 0s 4ms/step - loss: 1368261.5000 - val_loss: 21969128.0000\n",
      "Epoch 27/50\n",
      "11/11 [==============================] - 0s 4ms/step - loss: 1382607.6250 - val_loss: 22728722.0000\n",
      "Epoch 28/50\n",
      "11/11 [==============================] - 0s 4ms/step - loss: 1383824.1250 - val_loss: 21219362.0000\n",
      "Epoch 29/50\n",
      "11/11 [==============================] - 0s 4ms/step - loss: 1351092.5000 - val_loss: 22858536.0000\n",
      "Epoch 30/50\n",
      "11/11 [==============================] - 0s 4ms/step - loss: 1355311.0000 - val_loss: 25163104.0000\n",
      "Epoch 31/50\n",
      "11/11 [==============================] - 0s 4ms/step - loss: 1380015.7500 - val_loss: 25715400.0000\n",
      "Epoch 32/50\n",
      "11/11 [==============================] - 0s 4ms/step - loss: 1368472.6250 - val_loss: 25396440.0000\n",
      "Epoch 33/50\n",
      "11/11 [==============================] - 0s 4ms/step - loss: 1365276.2500 - val_loss: 23782284.0000\n",
      "Epoch 34/50\n",
      "11/11 [==============================] - 0s 5ms/step - loss: 1340282.5000 - val_loss: 22060556.0000\n",
      "Epoch 35/50\n",
      "11/11 [==============================] - 0s 4ms/step - loss: 1344571.6250 - val_loss: 22723256.0000\n",
      "Epoch 36/50\n",
      "11/11 [==============================] - 0s 4ms/step - loss: 1327335.7500 - val_loss: 22119712.0000\n",
      "Epoch 37/50\n",
      "11/11 [==============================] - 0s 5ms/step - loss: 1328571.3750 - val_loss: 22498444.0000\n",
      "Epoch 38/50\n",
      "11/11 [==============================] - 0s 4ms/step - loss: 1321000.2500 - val_loss: 22562608.0000\n",
      "Epoch 39/50\n",
      "11/11 [==============================] - 0s 4ms/step - loss: 1344244.3750 - val_loss: 20580466.0000\n",
      "Epoch 40/50\n",
      "11/11 [==============================] - 0s 4ms/step - loss: 1327369.2500 - val_loss: 21078786.0000\n",
      "Epoch 41/50\n",
      "11/11 [==============================] - 0s 4ms/step - loss: 1306721.5000 - val_loss: 22592358.0000\n",
      "Epoch 42/50\n",
      "11/11 [==============================] - 0s 4ms/step - loss: 1315551.7500 - val_loss: 23993494.0000\n",
      "Epoch 43/50\n",
      "11/11 [==============================] - 0s 4ms/step - loss: 1295450.5000 - val_loss: 22632840.0000\n",
      "Epoch 44/50\n",
      "11/11 [==============================] - 0s 4ms/step - loss: 1308604.2500 - val_loss: 21194814.0000\n",
      "Epoch 45/50\n",
      "11/11 [==============================] - 0s 4ms/step - loss: 1318372.2500 - val_loss: 21110482.0000\n",
      "Epoch 46/50\n",
      "11/11 [==============================] - 0s 4ms/step - loss: 1319090.0000 - val_loss: 20398658.0000\n",
      "Epoch 47/50\n",
      "11/11 [==============================] - 0s 4ms/step - loss: 1293777.5000 - val_loss: 22172206.0000\n",
      "Epoch 48/50\n",
      "11/11 [==============================] - 0s 5ms/step - loss: 1287075.7500 - val_loss: 23334910.0000\n",
      "Epoch 49/50\n",
      "11/11 [==============================] - 0s 4ms/step - loss: 1285081.5000 - val_loss: 23379234.0000\n",
      "Epoch 50/50\n",
      "11/11 [==============================] - 0s 4ms/step - loss: 1303158.0000 - val_loss: 22264830.0000\n"
     ]
    },
    {
     "data": {
      "text/plain": [
       "<tensorflow.python.keras.callbacks.History at 0x223c9772820>"
      ]
     },
     "execution_count": 316,
     "metadata": {},
     "output_type": "execute_result"
    }
   ],
   "source": [
    "model.fit(X_train, y_train, batch_size = 4, epochs = 50, validation_split = 0.2)"
   ]
  },
  {
   "cell_type": "code",
   "execution_count": 321,
   "id": "83434da3",
   "metadata": {},
   "outputs": [],
   "source": [
    "prediction = model.predict(X_test)"
   ]
  },
  {
   "cell_type": "code",
   "execution_count": 322,
   "id": "e7c3d5ac",
   "metadata": {},
   "outputs": [
    {
     "data": {
      "text/plain": [
       "array([ 1217.508  ,  2060.8367 , 10392.71   , 13156.645  ,  4059.9255 ,\n",
       "         231.00931,    64.74897], dtype=float32)"
      ]
     },
     "execution_count": 322,
     "metadata": {},
     "output_type": "execute_result"
    }
   ],
   "source": [
    "prediction[-1]"
   ]
  },
  {
   "cell_type": "code",
   "execution_count": 320,
   "id": "6c25e140",
   "metadata": {},
   "outputs": [
    {
     "data": {
      "text/plain": [
       "array([[  44.],\n",
       "       [ 144.],\n",
       "       [ 576.],\n",
       "       [1044.],\n",
       "       [ 482.],\n",
       "       [  24.],\n",
       "       [   5.]])"
      ]
     },
     "execution_count": 320,
     "metadata": {},
     "output_type": "execute_result"
    }
   ],
   "source": [
    "y_test[-1]"
   ]
  }
 ],
 "metadata": {
  "kernelspec": {
   "display_name": "Python 3",
   "language": "python",
   "name": "python3"
  },
  "language_info": {
   "codemirror_mode": {
    "name": "ipython",
    "version": 3
   },
   "file_extension": ".py",
   "mimetype": "text/x-python",
   "name": "python",
   "nbconvert_exporter": "python",
   "pygments_lexer": "ipython3",
   "version": "3.8.8"
  }
 },
 "nbformat": 4,
 "nbformat_minor": 5
}
