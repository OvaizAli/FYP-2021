{
 "cells": [
  {
   "cell_type": "code",
   "execution_count": 33,
   "id": "c9c356db",
   "metadata": {},
   "outputs": [],
   "source": [
    "import pandas as pd\n",
    "import numpy as np\n",
    "import tensorflow as tf"
   ]
  },
  {
   "cell_type": "code",
   "execution_count": 2,
   "id": "6ba1f6e4",
   "metadata": {},
   "outputs": [],
   "source": [
    "df = pd.read_csv(\"C:\\\\Users\\\\OvaizAli\\\\Desktop\\\\FYP-2021\\\\FYP-I\\\\Master\\\\Data Collection\\\\CollectedData\\\\Final_Data (2022).csv\", index_col = False)"
   ]
  },
  {
   "cell_type": "code",
   "execution_count": 3,
   "id": "41accdb5",
   "metadata": {},
   "outputs": [],
   "source": [
    "df.drop(columns = ['Unnamed: 0'], inplace = True)"
   ]
  },
  {
   "cell_type": "code",
   "execution_count": 4,
   "id": "164cb868",
   "metadata": {},
   "outputs": [
    {
     "data": {
      "text/html": [
       "<div>\n",
       "<style scoped>\n",
       "    .dataframe tbody tr th:only-of-type {\n",
       "        vertical-align: middle;\n",
       "    }\n",
       "\n",
       "    .dataframe tbody tr th {\n",
       "        vertical-align: top;\n",
       "    }\n",
       "\n",
       "    .dataframe thead th {\n",
       "        text-align: right;\n",
       "    }\n",
       "</style>\n",
       "<table border=\"1\" class=\"dataframe\">\n",
       "  <thead>\n",
       "    <tr style=\"text-align: right;\">\n",
       "      <th></th>\n",
       "      <th>Province</th>\n",
       "      <th>Country_Region</th>\n",
       "      <th>Date</th>\n",
       "      <th>Day</th>\n",
       "      <th>Month</th>\n",
       "      <th>Year</th>\n",
       "      <th>Lat</th>\n",
       "      <th>Long_</th>\n",
       "      <th>Confirmed</th>\n",
       "      <th>Deaths</th>\n",
       "      <th>...</th>\n",
       "      <th>admis_upper_vax</th>\n",
       "      <th>admis_lower_vax</th>\n",
       "      <th>admis_mean_unvax</th>\n",
       "      <th>admis_upper_unvax</th>\n",
       "      <th>admis_lower_unvax</th>\n",
       "      <th>Temp</th>\n",
       "      <th>Wind</th>\n",
       "      <th>Barometer</th>\n",
       "      <th>Visibility</th>\n",
       "      <th>Weather</th>\n",
       "    </tr>\n",
       "  </thead>\n",
       "  <tbody>\n",
       "    <tr>\n",
       "      <th>0</th>\n",
       "      <td>Balochistan</td>\n",
       "      <td>Pakistan</td>\n",
       "      <td>2020-03-10</td>\n",
       "      <td>10</td>\n",
       "      <td>3</td>\n",
       "      <td>2020</td>\n",
       "      <td>28.328492</td>\n",
       "      <td>65.898403</td>\n",
       "      <td>1.0</td>\n",
       "      <td>0.0</td>\n",
       "      <td>...</td>\n",
       "      <td>0.0</td>\n",
       "      <td>0.0</td>\n",
       "      <td>25.615120</td>\n",
       "      <td>44.61881</td>\n",
       "      <td>10.791250</td>\n",
       "      <td>46.29</td>\n",
       "      <td>15.00</td>\n",
       "      <td>31.43</td>\n",
       "      <td>0.00</td>\n",
       "      <td>Haze.</td>\n",
       "    </tr>\n",
       "    <tr>\n",
       "      <th>1</th>\n",
       "      <td>Islamabad</td>\n",
       "      <td>Pakistan</td>\n",
       "      <td>2020-03-10</td>\n",
       "      <td>10</td>\n",
       "      <td>3</td>\n",
       "      <td>2020</td>\n",
       "      <td>33.665087</td>\n",
       "      <td>73.121219</td>\n",
       "      <td>2.0</td>\n",
       "      <td>0.0</td>\n",
       "      <td>...</td>\n",
       "      <td>0.0</td>\n",
       "      <td>0.0</td>\n",
       "      <td>0.004133</td>\n",
       "      <td>0.00000</td>\n",
       "      <td>0.000000</td>\n",
       "      <td>65.14</td>\n",
       "      <td>9.57</td>\n",
       "      <td>34.71</td>\n",
       "      <td>21.33</td>\n",
       "      <td>Clear.</td>\n",
       "    </tr>\n",
       "    <tr>\n",
       "      <th>2</th>\n",
       "      <td>Punjab</td>\n",
       "      <td>Pakistan</td>\n",
       "      <td>2020-03-10</td>\n",
       "      <td>10</td>\n",
       "      <td>3</td>\n",
       "      <td>2020</td>\n",
       "      <td>30.811346</td>\n",
       "      <td>72.139132</td>\n",
       "      <td>0.0</td>\n",
       "      <td>0.0</td>\n",
       "      <td>...</td>\n",
       "      <td>0.0</td>\n",
       "      <td>0.0</td>\n",
       "      <td>40.904370</td>\n",
       "      <td>89.53674</td>\n",
       "      <td>11.384460</td>\n",
       "      <td>56.40</td>\n",
       "      <td>2.44</td>\n",
       "      <td>23.67</td>\n",
       "      <td>11.88</td>\n",
       "      <td>Clear.</td>\n",
       "    </tr>\n",
       "    <tr>\n",
       "      <th>3</th>\n",
       "      <td>Sindh</td>\n",
       "      <td>Pakistan</td>\n",
       "      <td>2020-03-10</td>\n",
       "      <td>10</td>\n",
       "      <td>3</td>\n",
       "      <td>2020</td>\n",
       "      <td>26.009446</td>\n",
       "      <td>68.776807</td>\n",
       "      <td>0.0</td>\n",
       "      <td>0.0</td>\n",
       "      <td>...</td>\n",
       "      <td>0.0</td>\n",
       "      <td>0.0</td>\n",
       "      <td>22.339800</td>\n",
       "      <td>81.02134</td>\n",
       "      <td>6.179772</td>\n",
       "      <td>65.14</td>\n",
       "      <td>9.57</td>\n",
       "      <td>34.71</td>\n",
       "      <td>21.33</td>\n",
       "      <td>Clear.</td>\n",
       "    </tr>\n",
       "    <tr>\n",
       "      <th>4</th>\n",
       "      <td>Khyber Pakhtunkhwa</td>\n",
       "      <td>Pakistan</td>\n",
       "      <td>2020-03-10</td>\n",
       "      <td>10</td>\n",
       "      <td>3</td>\n",
       "      <td>2020</td>\n",
       "      <td>34.485332</td>\n",
       "      <td>72.091690</td>\n",
       "      <td>0.0</td>\n",
       "      <td>0.0</td>\n",
       "      <td>...</td>\n",
       "      <td>0.0</td>\n",
       "      <td>0.0</td>\n",
       "      <td>17.376130</td>\n",
       "      <td>39.58196</td>\n",
       "      <td>5.953569</td>\n",
       "      <td>48.80</td>\n",
       "      <td>4.64</td>\n",
       "      <td>49.20</td>\n",
       "      <td>23.21</td>\n",
       "      <td>Fog.</td>\n",
       "    </tr>\n",
       "    <tr>\n",
       "      <th>5</th>\n",
       "      <td>Azad Jammu and Kashmir</td>\n",
       "      <td>Pakistan</td>\n",
       "      <td>2020-03-10</td>\n",
       "      <td>10</td>\n",
       "      <td>3</td>\n",
       "      <td>2020</td>\n",
       "      <td>34.027401</td>\n",
       "      <td>73.947253</td>\n",
       "      <td>0.0</td>\n",
       "      <td>0.0</td>\n",
       "      <td>...</td>\n",
       "      <td>0.0</td>\n",
       "      <td>0.0</td>\n",
       "      <td>0.000000</td>\n",
       "      <td>0.00000</td>\n",
       "      <td>0.000000</td>\n",
       "      <td>39.86</td>\n",
       "      <td>1.86</td>\n",
       "      <td>42.43</td>\n",
       "      <td>0.00</td>\n",
       "      <td>Clear.</td>\n",
       "    </tr>\n",
       "    <tr>\n",
       "      <th>6</th>\n",
       "      <td>Gilgit-Baltistan</td>\n",
       "      <td>Pakistan</td>\n",
       "      <td>2020-03-10</td>\n",
       "      <td>10</td>\n",
       "      <td>3</td>\n",
       "      <td>2020</td>\n",
       "      <td>35.792146</td>\n",
       "      <td>74.982138</td>\n",
       "      <td>2.0</td>\n",
       "      <td>0.0</td>\n",
       "      <td>...</td>\n",
       "      <td>0.0</td>\n",
       "      <td>0.0</td>\n",
       "      <td>12.495310</td>\n",
       "      <td>23.41426</td>\n",
       "      <td>3.297438</td>\n",
       "      <td>32.71</td>\n",
       "      <td>3.71</td>\n",
       "      <td>23.57</td>\n",
       "      <td>12.82</td>\n",
       "      <td>Fog.</td>\n",
       "    </tr>\n",
       "  </tbody>\n",
       "</table>\n",
       "<p>7 rows × 74 columns</p>\n",
       "</div>"
      ],
      "text/plain": [
       "                 Province Country_Region        Date  Day  Month  Year  \\\n",
       "0             Balochistan       Pakistan  2020-03-10   10      3  2020   \n",
       "1               Islamabad       Pakistan  2020-03-10   10      3  2020   \n",
       "2                  Punjab       Pakistan  2020-03-10   10      3  2020   \n",
       "3                   Sindh       Pakistan  2020-03-10   10      3  2020   \n",
       "4      Khyber Pakhtunkhwa       Pakistan  2020-03-10   10      3  2020   \n",
       "5  Azad Jammu and Kashmir       Pakistan  2020-03-10   10      3  2020   \n",
       "6        Gilgit-Baltistan       Pakistan  2020-03-10   10      3  2020   \n",
       "\n",
       "         Lat      Long_  Confirmed  Deaths  ...  admis_upper_vax  \\\n",
       "0  28.328492  65.898403        1.0     0.0  ...              0.0   \n",
       "1  33.665087  73.121219        2.0     0.0  ...              0.0   \n",
       "2  30.811346  72.139132        0.0     0.0  ...              0.0   \n",
       "3  26.009446  68.776807        0.0     0.0  ...              0.0   \n",
       "4  34.485332  72.091690        0.0     0.0  ...              0.0   \n",
       "5  34.027401  73.947253        0.0     0.0  ...              0.0   \n",
       "6  35.792146  74.982138        2.0     0.0  ...              0.0   \n",
       "\n",
       "   admis_lower_vax  admis_mean_unvax  admis_upper_unvax  admis_lower_unvax  \\\n",
       "0              0.0         25.615120           44.61881          10.791250   \n",
       "1              0.0          0.004133            0.00000           0.000000   \n",
       "2              0.0         40.904370           89.53674          11.384460   \n",
       "3              0.0         22.339800           81.02134           6.179772   \n",
       "4              0.0         17.376130           39.58196           5.953569   \n",
       "5              0.0          0.000000            0.00000           0.000000   \n",
       "6              0.0         12.495310           23.41426           3.297438   \n",
       "\n",
       "    Temp   Wind  Barometer  Visibility  Weather  \n",
       "0  46.29  15.00      31.43        0.00    Haze.  \n",
       "1  65.14   9.57      34.71       21.33   Clear.  \n",
       "2  56.40   2.44      23.67       11.88   Clear.  \n",
       "3  65.14   9.57      34.71       21.33   Clear.  \n",
       "4  48.80   4.64      49.20       23.21     Fog.  \n",
       "5  39.86   1.86      42.43        0.00   Clear.  \n",
       "6  32.71   3.71      23.57       12.82     Fog.  \n",
       "\n",
       "[7 rows x 74 columns]"
      ]
     },
     "execution_count": 4,
     "metadata": {},
     "output_type": "execute_result"
    }
   ],
   "source": [
    "df.head(7)"
   ]
  },
  {
   "cell_type": "markdown",
   "id": "bb12ffcb",
   "metadata": {},
   "source": [
    "# Tensors for Confirmed Cases"
   ]
  },
  {
   "cell_type": "code",
   "execution_count": 5,
   "id": "b998d57e",
   "metadata": {},
   "outputs": [],
   "source": [
    "sConfirmed = df[df['Province'] == 'Sindh']['Confirmed'].values\n",
    "bConfirmed = df[df['Province'] == 'Balochistan']['Confirmed'].values\n",
    "gConfirmed = df[df['Province'] == 'Gilgit-Baltistan']['Confirmed'].values\n",
    "iConfirmed = df[df['Province'] == 'Islamabad']['Confirmed'].values\n",
    "pConfirmed = df[df['Province'] == 'Punjab']['Confirmed'].values\n",
    "kConfirmed = df[df['Province'] == 'Khyber Pakhtunkhwa']['Confirmed'].values\n",
    "aConfirmed = df[df['Province'] == 'Azad Jammu and Kashmir']['Confirmed'].values"
   ]
  },
  {
   "cell_type": "code",
   "execution_count": 6,
   "id": "4841967a",
   "metadata": {},
   "outputs": [
    {
     "data": {
      "text/plain": [
       "True"
      ]
     },
     "execution_count": 6,
     "metadata": {},
     "output_type": "execute_result"
    }
   ],
   "source": [
    "len(sConfirmed) == len(bConfirmed) == len(iConfirmed) == len(pConfirmed) == len(kConfirmed) == len(aConfirmed) == len(gConfirmed)"
   ]
  },
  {
   "cell_type": "code",
   "execution_count": 7,
   "id": "53fae91c",
   "metadata": {},
   "outputs": [],
   "source": [
    "sbConfirmed = np.zeros(len(sConfirmed)*2)\n",
    "giConfirmed = np.zeros(len(sConfirmed)*2)\n",
    "pkConfirmed = np.zeros(len(sConfirmed)*2)\n",
    "axConfirmed = np.zeros(len(sConfirmed)*2)"
   ]
  },
  {
   "cell_type": "code",
   "execution_count": 8,
   "id": "48166774",
   "metadata": {},
   "outputs": [
    {
     "data": {
      "text/plain": [
       "1406"
      ]
     },
     "execution_count": 8,
     "metadata": {},
     "output_type": "execute_result"
    }
   ],
   "source": [
    "len(sbConfirmed)\n",
    "# S B\n",
    "# G I\n",
    "# P K\n",
    "# A -"
   ]
  },
  {
   "cell_type": "code",
   "execution_count": 9,
   "id": "56b6c5b5",
   "metadata": {},
   "outputs": [],
   "source": [
    "for i in range(0, len(sConfirmed), 2):\n",
    "    sbConfirmed[i] = sConfirmed[i]\n",
    "    sbConfirmed[i+1] = bConfirmed[i]"
   ]
  },
  {
   "cell_type": "code",
   "execution_count": 10,
   "id": "5ccbb427",
   "metadata": {},
   "outputs": [],
   "source": [
    "for i in range(0, len(sConfirmed), 2):\n",
    "    giConfirmed[i] = gConfirmed[i]\n",
    "    giConfirmed[i+1] = iConfirmed[i]"
   ]
  },
  {
   "cell_type": "code",
   "execution_count": 11,
   "id": "4a3f9621",
   "metadata": {},
   "outputs": [],
   "source": [
    "for i in range(0, len(sConfirmed), 2):\n",
    "    pkConfirmed[i] = pConfirmed[i]\n",
    "    pkConfirmed[i+1] = kConfirmed[i]"
   ]
  },
  {
   "cell_type": "code",
   "execution_count": 12,
   "id": "5c56455c",
   "metadata": {},
   "outputs": [],
   "source": [
    "for i in range(0, len(sConfirmed), 2):\n",
    "    axConfirmed[i] = aConfirmed[i]\n",
    "    axConfirmed[i+1] = np.nan"
   ]
  },
  {
   "cell_type": "code",
   "execution_count": 13,
   "id": "ed8788c3",
   "metadata": {},
   "outputs": [],
   "source": [
    "AllConfirmed = np.zeros((4, len(sConfirmed)*2))"
   ]
  },
  {
   "cell_type": "code",
   "execution_count": 14,
   "id": "9b98cefb",
   "metadata": {},
   "outputs": [],
   "source": [
    "AllConfirmed[0] = sbConfirmed\n",
    "AllConfirmed[1] = giConfirmed\n",
    "AllConfirmed[2] = pkConfirmed\n",
    "AllConfirmed[3] = axConfirmed"
   ]
  },
  {
   "cell_type": "code",
   "execution_count": 15,
   "id": "a4b3bcfb",
   "metadata": {},
   "outputs": [
    {
     "data": {
      "text/plain": [
       "array([0., 1., 0., ..., 0., 0., 0.])"
      ]
     },
     "execution_count": 15,
     "metadata": {},
     "output_type": "execute_result"
    }
   ],
   "source": [
    "AllConfirmed[0]"
   ]
  },
  {
   "cell_type": "code",
   "execution_count": 16,
   "id": "55e4c7df",
   "metadata": {},
   "outputs": [
    {
     "data": {
      "text/plain": [
       "array([[ 0.,  1.,  0., ...,  0.,  0.,  0.],\n",
       "       [ 2.,  2.,  3., ...,  0.,  0.,  0.],\n",
       "       [ 0.,  0.,  0., ...,  0.,  0.,  0.],\n",
       "       [ 0., nan,  0., ...,  0.,  0.,  0.]])"
      ]
     },
     "execution_count": 16,
     "metadata": {},
     "output_type": "execute_result"
    }
   ],
   "source": [
    "AllConfirmed"
   ]
  },
  {
   "cell_type": "code",
   "execution_count": 17,
   "id": "1a2ced7a",
   "metadata": {},
   "outputs": [
    {
     "data": {
      "text/plain": [
       "array([ 0.,  1.,  0.,  1.,  0.,  6.,  0., 14.])"
      ]
     },
     "execution_count": 17,
     "metadata": {},
     "output_type": "execute_result"
    }
   ],
   "source": [
    "AllConfirmed[0][:8]"
   ]
  },
  {
   "cell_type": "code",
   "execution_count": 18,
   "id": "8ede5512",
   "metadata": {},
   "outputs": [
    {
     "data": {
      "text/plain": [
       "175.75"
      ]
     },
     "execution_count": 18,
     "metadata": {},
     "output_type": "execute_result"
    }
   ],
   "source": [
    "len(sbConfirmed)/8"
   ]
  },
  {
   "cell_type": "code",
   "execution_count": 19,
   "id": "28b80746",
   "metadata": {},
   "outputs": [],
   "source": [
    "tempArr = np.zeros((4, 8))"
   ]
  },
  {
   "cell_type": "code",
   "execution_count": 20,
   "id": "8dd2a491",
   "metadata": {},
   "outputs": [],
   "source": [
    "tensorsArr = np.zeros((88, 4, 8))"
   ]
  },
  {
   "cell_type": "code",
   "execution_count": 21,
   "id": "433bff1a",
   "metadata": {},
   "outputs": [
    {
     "data": {
      "text/plain": [
       "array([[0., 0., 0., 0., 0., 0., 0., 0.],\n",
       "       [0., 0., 0., 0., 0., 0., 0., 0.],\n",
       "       [0., 0., 0., 0., 0., 0., 0., 0.],\n",
       "       [0., 0., 0., 0., 0., 0., 0., 0.]])"
      ]
     },
     "execution_count": 21,
     "metadata": {},
     "output_type": "execute_result"
    }
   ],
   "source": [
    "tensorsArr[43]"
   ]
  },
  {
   "cell_type": "code",
   "execution_count": 22,
   "id": "d5d2987c",
   "metadata": {},
   "outputs": [],
   "source": [
    "stIndex = 0\n",
    "enIndex = 8\n",
    "for tIndex in range(88):\n",
    "    for i in range(4):\n",
    "        tempArr[i] = AllConfirmed[i][stIndex:enIndex]\n",
    "    stIndex += 8\n",
    "    enIndex += 8\n",
    "    tensorsArr[tIndex] = tempArr"
   ]
  },
  {
   "cell_type": "code",
   "execution_count": 23,
   "id": "e974dd56",
   "metadata": {},
   "outputs": [],
   "source": [
    "finalTensorsArr = np.zeros((44, 8, 8))"
   ]
  },
  {
   "cell_type": "code",
   "execution_count": 24,
   "id": "c6ed241e",
   "metadata": {},
   "outputs": [
    {
     "data": {
      "text/plain": [
       "array([[0., 0., 0., 0., 0., 0., 0., 0.],\n",
       "       [0., 0., 0., 0., 0., 0., 0., 0.],\n",
       "       [0., 0., 0., 0., 0., 0., 0., 0.],\n",
       "       [0., 0., 0., 0., 0., 0., 0., 0.],\n",
       "       [0., 0., 0., 0., 0., 0., 0., 0.],\n",
       "       [0., 0., 0., 0., 0., 0., 0., 0.],\n",
       "       [0., 0., 0., 0., 0., 0., 0., 0.],\n",
       "       [0., 0., 0., 0., 0., 0., 0., 0.]])"
      ]
     },
     "execution_count": 24,
     "metadata": {},
     "output_type": "execute_result"
    }
   ],
   "source": [
    "finalTensorsArr[0]"
   ]
  },
  {
   "cell_type": "code",
   "execution_count": 25,
   "id": "60dbba78",
   "metadata": {},
   "outputs": [
    {
     "data": {
      "text/plain": [
       "array([[ 0.,  1.,  0.,  1.,  0.,  6.,  0., 14.],\n",
       "       [ 2.,  2.,  3.,  2.,  3.,  4.,  3.,  4.],\n",
       "       [ 0.,  0.,  0.,  0.,  0.,  0.,  1., 15.],\n",
       "       [ 0., nan,  0., nan,  0., nan,  0., nan]])"
      ]
     },
     "execution_count": 25,
     "metadata": {},
     "output_type": "execute_result"
    }
   ],
   "source": [
    "tensorsArr[0]"
   ]
  },
  {
   "cell_type": "code",
   "execution_count": 26,
   "id": "dcd56e14",
   "metadata": {},
   "outputs": [],
   "source": [
    "stIndex = 0\n",
    "enIndex = 8\n",
    "for tIndex in range(0, 88, 2):\n",
    "    tfIndex = tIndex//2\n",
    "    for i in range(8):\n",
    "        if(i < 4):\n",
    "#             print(tensors[tIndex][i])\n",
    "            finalTensorsArr[tfIndex][i] = tensorsArr[tIndex][i]\n",
    "#             print(FinalTensors[tfIndex][i])\n",
    "        else:\n",
    "#             print(tensors[tIndex][i-4])\n",
    "            finalTensorsArr[tfIndex][i] = tensorsArr[tIndex][i-4]\n",
    "#             print(FinalTensors[tfIndex][i-4])\n",
    "#     print(FinalTensors[tfIndex])\n",
    "#     print(\"\\n\")"
   ]
  },
  {
   "cell_type": "code",
   "execution_count": 35,
   "id": "8270b8e1",
   "metadata": {},
   "outputs": [
    {
     "name": "stdout",
     "output_type": "stream",
     "text": [
      "[[ 0.  1.  0.  1.  0.  6.  0. 14.]\n",
      " [ 2.  2.  3.  2.  3.  4.  3.  4.]\n",
      " [ 0.  0.  0.  0.  0.  0.  1. 15.]\n",
      " [ 0. nan  0. nan  0. nan  0. nan]\n",
      " [ 0.  1.  0.  1.  0.  6.  0. 14.]\n",
      " [ 2.  2.  3.  2.  3.  4.  3.  4.]\n",
      " [ 0.  0.  0.  0.  0.  0.  1. 15.]\n",
      " [ 0. nan  0. nan  0. nan  0. nan]]\n"
     ]
    }
   ],
   "source": [
    "print(finalTensorsArr[0])"
   ]
  },
  {
   "cell_type": "code",
   "execution_count": 39,
   "id": "df312c47",
   "metadata": {},
   "outputs": [],
   "source": [
    "confirmedTensors = [] "
   ]
  },
  {
   "cell_type": "code",
   "execution_count": 42,
   "id": "4ec1047f",
   "metadata": {},
   "outputs": [],
   "source": [
    "for i in range(44):\n",
    "    confirmedTensors.append(tf.convert_to_tensor(finalTensorsArr[i], dtype=tf.float64))"
   ]
  },
  {
   "cell_type": "code",
   "execution_count": 46,
   "id": "440e7917",
   "metadata": {},
   "outputs": [
    {
     "data": {
      "text/plain": [
       "<tf.Tensor: shape=(8, 8), dtype=float64, numpy=\n",
       "array([[ 0.,  1.,  0.,  1.,  0.,  6.,  0., 14.],\n",
       "       [ 2.,  2.,  3.,  2.,  3.,  4.,  3.,  4.],\n",
       "       [ 0.,  0.,  0.,  0.,  0.,  0.,  1., 15.],\n",
       "       [ 0., nan,  0., nan,  0., nan,  0., nan],\n",
       "       [ 0.,  1.,  0.,  1.,  0.,  6.,  0., 14.],\n",
       "       [ 2.,  2.,  3.,  2.,  3.,  4.,  3.,  4.],\n",
       "       [ 0.,  0.,  0.,  0.,  0.,  0.,  1., 15.],\n",
       "       [ 0., nan,  0., nan,  0., nan,  0., nan]])>"
      ]
     },
     "execution_count": 46,
     "metadata": {},
     "output_type": "execute_result"
    }
   ],
   "source": [
    "confirmedTensors[0]"
   ]
  },
  {
   "cell_type": "code",
   "execution_count": null,
   "id": "8e9fcec5",
   "metadata": {},
   "outputs": [],
   "source": []
  }
 ],
 "metadata": {
  "kernelspec": {
   "display_name": "Python 3",
   "language": "python",
   "name": "python3"
  },
  "language_info": {
   "codemirror_mode": {
    "name": "ipython",
    "version": 3
   },
   "file_extension": ".py",
   "mimetype": "text/x-python",
   "name": "python",
   "nbconvert_exporter": "python",
   "pygments_lexer": "ipython3",
   "version": "3.8.8"
  }
 },
 "nbformat": 4,
 "nbformat_minor": 5
}
