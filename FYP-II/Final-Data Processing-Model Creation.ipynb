{
 "cells": [
  {
   "cell_type": "markdown",
   "id": "e153919a",
   "metadata": {},
   "source": [
    "# Importing Necessary Libraries"
   ]
  },
  {
   "cell_type": "code",
   "execution_count": 1,
   "id": "c9c356db",
   "metadata": {},
   "outputs": [],
   "source": [
    "import pandas as pd\n",
    "import numpy as np\n",
    "import tensorflow as tf\n",
    "import datetime\n",
    "from numpy import expand_dims\n",
    "import tensorflow as tf\n",
    "from tensorflow.keras.models import Sequential\n",
    "from tensorflow.keras.layers import Dense,Dropout,Flatten,Conv2D,MaxPooling2D,Activation,Dropout"
   ]
  },
  {
   "cell_type": "markdown",
   "id": "d10efb14",
   "metadata": {},
   "source": [
    "# Loading Dataset"
   ]
  },
  {
   "cell_type": "code",
   "execution_count": 2,
   "id": "6ba1f6e4",
   "metadata": {},
   "outputs": [],
   "source": [
    "df = pd.read_csv(\"C:\\\\Users\\\\OvaizAli\\\\Desktop\\\\FYP-2021\\\\FYP-I\\\\Master\\\\Data Collection\\\\CollectedData\\\\Final_Data (2022).csv\", index_col = False)"
   ]
  },
  {
   "cell_type": "code",
   "execution_count": 3,
   "id": "41accdb5",
   "metadata": {},
   "outputs": [],
   "source": [
    "df.drop(columns = ['Unnamed: 0'], inplace = True)"
   ]
  },
  {
   "cell_type": "code",
   "execution_count": 4,
   "id": "164cb868",
   "metadata": {},
   "outputs": [
    {
     "data": {
      "text/html": [
       "<div>\n",
       "<style scoped>\n",
       "    .dataframe tbody tr th:only-of-type {\n",
       "        vertical-align: middle;\n",
       "    }\n",
       "\n",
       "    .dataframe tbody tr th {\n",
       "        vertical-align: top;\n",
       "    }\n",
       "\n",
       "    .dataframe thead th {\n",
       "        text-align: right;\n",
       "    }\n",
       "</style>\n",
       "<table border=\"1\" class=\"dataframe\">\n",
       "  <thead>\n",
       "    <tr style=\"text-align: right;\">\n",
       "      <th></th>\n",
       "      <th>Province</th>\n",
       "      <th>Country_Region</th>\n",
       "      <th>Date</th>\n",
       "      <th>Day</th>\n",
       "      <th>Month</th>\n",
       "      <th>Year</th>\n",
       "      <th>Lat</th>\n",
       "      <th>Long_</th>\n",
       "      <th>Confirmed</th>\n",
       "      <th>Deaths</th>\n",
       "      <th>...</th>\n",
       "      <th>admis_upper_vax</th>\n",
       "      <th>admis_lower_vax</th>\n",
       "      <th>admis_mean_unvax</th>\n",
       "      <th>admis_upper_unvax</th>\n",
       "      <th>admis_lower_unvax</th>\n",
       "      <th>Temp</th>\n",
       "      <th>Wind</th>\n",
       "      <th>Barometer</th>\n",
       "      <th>Visibility</th>\n",
       "      <th>Weather</th>\n",
       "    </tr>\n",
       "  </thead>\n",
       "  <tbody>\n",
       "    <tr>\n",
       "      <th>0</th>\n",
       "      <td>Balochistan</td>\n",
       "      <td>Pakistan</td>\n",
       "      <td>2020-03-10</td>\n",
       "      <td>10</td>\n",
       "      <td>3</td>\n",
       "      <td>2020</td>\n",
       "      <td>28.328492</td>\n",
       "      <td>65.898403</td>\n",
       "      <td>1.0</td>\n",
       "      <td>0.0</td>\n",
       "      <td>...</td>\n",
       "      <td>0.0</td>\n",
       "      <td>0.0</td>\n",
       "      <td>25.615120</td>\n",
       "      <td>44.61881</td>\n",
       "      <td>10.791250</td>\n",
       "      <td>46.29</td>\n",
       "      <td>15.00</td>\n",
       "      <td>31.43</td>\n",
       "      <td>0.00</td>\n",
       "      <td>Haze.</td>\n",
       "    </tr>\n",
       "    <tr>\n",
       "      <th>1</th>\n",
       "      <td>Islamabad</td>\n",
       "      <td>Pakistan</td>\n",
       "      <td>2020-03-10</td>\n",
       "      <td>10</td>\n",
       "      <td>3</td>\n",
       "      <td>2020</td>\n",
       "      <td>33.665087</td>\n",
       "      <td>73.121219</td>\n",
       "      <td>2.0</td>\n",
       "      <td>0.0</td>\n",
       "      <td>...</td>\n",
       "      <td>0.0</td>\n",
       "      <td>0.0</td>\n",
       "      <td>0.004133</td>\n",
       "      <td>0.00000</td>\n",
       "      <td>0.000000</td>\n",
       "      <td>65.14</td>\n",
       "      <td>9.57</td>\n",
       "      <td>34.71</td>\n",
       "      <td>21.33</td>\n",
       "      <td>Clear.</td>\n",
       "    </tr>\n",
       "    <tr>\n",
       "      <th>2</th>\n",
       "      <td>Punjab</td>\n",
       "      <td>Pakistan</td>\n",
       "      <td>2020-03-10</td>\n",
       "      <td>10</td>\n",
       "      <td>3</td>\n",
       "      <td>2020</td>\n",
       "      <td>30.811346</td>\n",
       "      <td>72.139132</td>\n",
       "      <td>0.0</td>\n",
       "      <td>0.0</td>\n",
       "      <td>...</td>\n",
       "      <td>0.0</td>\n",
       "      <td>0.0</td>\n",
       "      <td>40.904370</td>\n",
       "      <td>89.53674</td>\n",
       "      <td>11.384460</td>\n",
       "      <td>56.40</td>\n",
       "      <td>2.44</td>\n",
       "      <td>23.67</td>\n",
       "      <td>11.88</td>\n",
       "      <td>Clear.</td>\n",
       "    </tr>\n",
       "    <tr>\n",
       "      <th>3</th>\n",
       "      <td>Sindh</td>\n",
       "      <td>Pakistan</td>\n",
       "      <td>2020-03-10</td>\n",
       "      <td>10</td>\n",
       "      <td>3</td>\n",
       "      <td>2020</td>\n",
       "      <td>26.009446</td>\n",
       "      <td>68.776807</td>\n",
       "      <td>0.0</td>\n",
       "      <td>0.0</td>\n",
       "      <td>...</td>\n",
       "      <td>0.0</td>\n",
       "      <td>0.0</td>\n",
       "      <td>22.339800</td>\n",
       "      <td>81.02134</td>\n",
       "      <td>6.179772</td>\n",
       "      <td>65.14</td>\n",
       "      <td>9.57</td>\n",
       "      <td>34.71</td>\n",
       "      <td>21.33</td>\n",
       "      <td>Clear.</td>\n",
       "    </tr>\n",
       "    <tr>\n",
       "      <th>4</th>\n",
       "      <td>Khyber Pakhtunkhwa</td>\n",
       "      <td>Pakistan</td>\n",
       "      <td>2020-03-10</td>\n",
       "      <td>10</td>\n",
       "      <td>3</td>\n",
       "      <td>2020</td>\n",
       "      <td>34.485332</td>\n",
       "      <td>72.091690</td>\n",
       "      <td>0.0</td>\n",
       "      <td>0.0</td>\n",
       "      <td>...</td>\n",
       "      <td>0.0</td>\n",
       "      <td>0.0</td>\n",
       "      <td>17.376130</td>\n",
       "      <td>39.58196</td>\n",
       "      <td>5.953569</td>\n",
       "      <td>48.80</td>\n",
       "      <td>4.64</td>\n",
       "      <td>49.20</td>\n",
       "      <td>23.21</td>\n",
       "      <td>Fog.</td>\n",
       "    </tr>\n",
       "    <tr>\n",
       "      <th>5</th>\n",
       "      <td>Azad Jammu and Kashmir</td>\n",
       "      <td>Pakistan</td>\n",
       "      <td>2020-03-10</td>\n",
       "      <td>10</td>\n",
       "      <td>3</td>\n",
       "      <td>2020</td>\n",
       "      <td>34.027401</td>\n",
       "      <td>73.947253</td>\n",
       "      <td>0.0</td>\n",
       "      <td>0.0</td>\n",
       "      <td>...</td>\n",
       "      <td>0.0</td>\n",
       "      <td>0.0</td>\n",
       "      <td>0.000000</td>\n",
       "      <td>0.00000</td>\n",
       "      <td>0.000000</td>\n",
       "      <td>39.86</td>\n",
       "      <td>1.86</td>\n",
       "      <td>42.43</td>\n",
       "      <td>0.00</td>\n",
       "      <td>Clear.</td>\n",
       "    </tr>\n",
       "    <tr>\n",
       "      <th>6</th>\n",
       "      <td>Gilgit-Baltistan</td>\n",
       "      <td>Pakistan</td>\n",
       "      <td>2020-03-10</td>\n",
       "      <td>10</td>\n",
       "      <td>3</td>\n",
       "      <td>2020</td>\n",
       "      <td>35.792146</td>\n",
       "      <td>74.982138</td>\n",
       "      <td>2.0</td>\n",
       "      <td>0.0</td>\n",
       "      <td>...</td>\n",
       "      <td>0.0</td>\n",
       "      <td>0.0</td>\n",
       "      <td>12.495310</td>\n",
       "      <td>23.41426</td>\n",
       "      <td>3.297438</td>\n",
       "      <td>32.71</td>\n",
       "      <td>3.71</td>\n",
       "      <td>23.57</td>\n",
       "      <td>12.82</td>\n",
       "      <td>Fog.</td>\n",
       "    </tr>\n",
       "  </tbody>\n",
       "</table>\n",
       "<p>7 rows × 74 columns</p>\n",
       "</div>"
      ],
      "text/plain": [
       "                 Province Country_Region        Date  Day  Month  Year  \\\n",
       "0             Balochistan       Pakistan  2020-03-10   10      3  2020   \n",
       "1               Islamabad       Pakistan  2020-03-10   10      3  2020   \n",
       "2                  Punjab       Pakistan  2020-03-10   10      3  2020   \n",
       "3                   Sindh       Pakistan  2020-03-10   10      3  2020   \n",
       "4      Khyber Pakhtunkhwa       Pakistan  2020-03-10   10      3  2020   \n",
       "5  Azad Jammu and Kashmir       Pakistan  2020-03-10   10      3  2020   \n",
       "6        Gilgit-Baltistan       Pakistan  2020-03-10   10      3  2020   \n",
       "\n",
       "         Lat      Long_  Confirmed  Deaths  ...  admis_upper_vax  \\\n",
       "0  28.328492  65.898403        1.0     0.0  ...              0.0   \n",
       "1  33.665087  73.121219        2.0     0.0  ...              0.0   \n",
       "2  30.811346  72.139132        0.0     0.0  ...              0.0   \n",
       "3  26.009446  68.776807        0.0     0.0  ...              0.0   \n",
       "4  34.485332  72.091690        0.0     0.0  ...              0.0   \n",
       "5  34.027401  73.947253        0.0     0.0  ...              0.0   \n",
       "6  35.792146  74.982138        2.0     0.0  ...              0.0   \n",
       "\n",
       "   admis_lower_vax  admis_mean_unvax  admis_upper_unvax  admis_lower_unvax  \\\n",
       "0              0.0         25.615120           44.61881          10.791250   \n",
       "1              0.0          0.004133            0.00000           0.000000   \n",
       "2              0.0         40.904370           89.53674          11.384460   \n",
       "3              0.0         22.339800           81.02134           6.179772   \n",
       "4              0.0         17.376130           39.58196           5.953569   \n",
       "5              0.0          0.000000            0.00000           0.000000   \n",
       "6              0.0         12.495310           23.41426           3.297438   \n",
       "\n",
       "    Temp   Wind  Barometer  Visibility  Weather  \n",
       "0  46.29  15.00      31.43        0.00    Haze.  \n",
       "1  65.14   9.57      34.71       21.33   Clear.  \n",
       "2  56.40   2.44      23.67       11.88   Clear.  \n",
       "3  65.14   9.57      34.71       21.33   Clear.  \n",
       "4  48.80   4.64      49.20       23.21     Fog.  \n",
       "5  39.86   1.86      42.43        0.00   Clear.  \n",
       "6  32.71   3.71      23.57       12.82     Fog.  \n",
       "\n",
       "[7 rows x 74 columns]"
      ]
     },
     "execution_count": 4,
     "metadata": {},
     "output_type": "execute_result"
    }
   ],
   "source": [
    "df.head(7)"
   ]
  },
  {
   "cell_type": "markdown",
   "id": "c31a5a50",
   "metadata": {},
   "source": [
    "# Defining Functions For Tensor Creation (Tabular to Image)"
   ]
  },
  {
   "cell_type": "code",
   "execution_count": 5,
   "id": "9962a16e",
   "metadata": {},
   "outputs": [],
   "source": [
    "def createTensors(col):\n",
    "    \n",
    "    sindh = df[df['Province'] == 'Sindh'][col].values\n",
    "    balochistan = df[df['Province'] == 'Balochistan'][col].values\n",
    "    gilgit = df[df['Province'] == 'Gilgit-Baltistan'][col].values\n",
    "    islamabad = df[df['Province'] == 'Islamabad'][col].values\n",
    "    punjab = df[df['Province'] == 'Punjab'][col].values\n",
    "    kpk = df[df['Province'] == 'Khyber Pakhtunkhwa'][col].values\n",
    "    kashmir = df[df['Province'] == 'Azad Jammu and Kashmir'][col].values\n",
    "    \n",
    "    sb = np.zeros(len(sindh)*2)\n",
    "    gi = np.zeros(len(sindh)*2)\n",
    "    pk = np.zeros(len(sindh)*2)\n",
    "    ax = np.zeros(len(sindh)*2)\n",
    "    \n",
    "    for i in range(len(sb)):\n",
    "        if(i%2 == 0):\n",
    "            sb[i] = sindh[i//2]\n",
    "        elif(i%2 == 1):\n",
    "            sb[i] = balochistan[(i - 1)//2]\n",
    "        \n",
    "    for i in range(len(gi)):\n",
    "        if(i%2 == 0):\n",
    "            gi[i] = gilgit[i//2]\n",
    "        elif(i%2 == 1):\n",
    "            gi[i] = islamabad[(i - 1)//2]\n",
    "        \n",
    "    for i in range(len(pk)):\n",
    "        if(i%2 == 0):\n",
    "            pk[i] = punjab[i//2]\n",
    "        elif(i%2 == 1):\n",
    "            pk[i] = kpk[(i - 1)//2]\n",
    "    \n",
    "    for i in range(len(ax)):\n",
    "        if(i%2 == 0):\n",
    "            ax[i] = kashmir[i//2]\n",
    "        elif(i%2 == 1):\n",
    "            ax[i] = -1\n",
    "    \n",
    "    AllData = np.zeros((4, len(sb)))\n",
    "    AllData[0] = sb\n",
    "    AllData[1] = gi\n",
    "    AllData[2] = pk\n",
    "    AllData[3] = ax\n",
    "    \n",
    "    \n",
    "    tempArr = np.zeros((4, 8))\n",
    "    tensorsArr = np.zeros((175, 4, 8))\n",
    "    \n",
    "    stIndex = 0\n",
    "    enIndex = 8\n",
    "    for tIndex in range(175):\n",
    "        for i in range(4):\n",
    "            tempArr[i] = AllData[i][stIndex:enIndex]\n",
    "        stIndex += 8\n",
    "        enIndex += 8\n",
    "        tensorsArr[tIndex] = tempArr\n",
    "    \n",
    "    finalTensorsArr = np.zeros((88, 8, 8))\n",
    "    stIndex = 0\n",
    "    enIndex = 8\n",
    "    for tIndex in range(0, 176, 2):\n",
    "        tfIndex = tIndex//2\n",
    "        for i in range(8):\n",
    "            if(i < 4):\n",
    "                finalTensorsArr[tfIndex][i] = tensorsArr[tIndex][i]\n",
    "            else:\n",
    "                finalTensorsArr[tfIndex][i] = tensorsArr[tIndex][i-4]\n",
    "\n",
    "    convTensors = []\n",
    "    \n",
    "    for i in range(88):\n",
    "        convTensors.append(tf.convert_to_tensor(finalTensorsArr[i], dtype=tf.float64))\n",
    "\n",
    "    return convTensors"
   ]
  },
  {
   "cell_type": "code",
   "execution_count": 6,
   "id": "20295bd7",
   "metadata": {},
   "outputs": [],
   "source": [
    "def createYtensor(col):\n",
    "    y_temp = []\n",
    "    for i in range(0, len(df['Date']), 7):\n",
    "        try:\n",
    "            y_temp.append(df[df['Date'] == str(datetime.datetime.strptime(df['Date'].iloc[i], '%Y-%m-%d') + datetime.timedelta(days=7))[:10]][col].values)\n",
    "        except:\n",
    "            continue\n",
    "            \n",
    "    y_temp = y_temp[:696]\n",
    "    \n",
    "    bData = []\n",
    "    iData = []\n",
    "    pData = []\n",
    "    sData = []\n",
    "    kData = []\n",
    "    aData = []\n",
    "    gData = []\n",
    "    \n",
    "    for i in range(len(y_temp)):\n",
    "        try:\n",
    "            bData.append(y_temp[i][0])\n",
    "            iData.append(y_temp[i][1])\n",
    "            pData.append(y_temp[i][2])\n",
    "            sData.append(y_temp[i][3])\n",
    "            kData.append(y_temp[i][4])\n",
    "            aData.append(y_temp[i][5])\n",
    "            gData.append(y_temp[i][6])\n",
    "        except:\n",
    "            continue\n",
    "        \n",
    "    bSum = np.zeros(100)\n",
    "    iSum = np.zeros(100)\n",
    "    pSum = np.zeros(100)\n",
    "    sSum = np.zeros(100)\n",
    "    kSum = np.zeros(100)\n",
    "    aSum = np.zeros(100)\n",
    "    gSum = np.zeros(100)\n",
    "\n",
    "    for i in range(0, len(bData) - 7, 7): \n",
    "        try:\n",
    "            for j in range(7):\n",
    "                if (i > 0):\n",
    "    #                 print(int(i//7))\n",
    "                    bSum[int(i/7)] += bData[i+j]\n",
    "                    iSum[int(i/7)] += iData[i+j]\n",
    "                    pSum[int(i/7)] += pData[i+j]\n",
    "                    sSum[int(i/7)] += sData[i+j]\n",
    "                    kSum[int(i/7)] += kData[i+j]\n",
    "                    aSum[int(i/7)] += aData[i+j]\n",
    "                    gSum[int(i/7)] += gData[i+j]\n",
    "                else:\n",
    "    #                 print(int(i))\n",
    "                    bSum[int(i)] += bData[i+j]\n",
    "                    iSum[int(i)] += iData[i+j]\n",
    "                    pSum[int(i)] += pData[i+j]\n",
    "                    sSum[int(i)] += sData[i+j]\n",
    "                    kSum[int(i)] += kData[i+j]\n",
    "                    aSum[int(i)] += aData[i+j]\n",
    "                    gSum[int(i)] += gData[i+j]\n",
    "        except:\n",
    "            continue\n",
    "\n",
    "    ySum = np.zeros((100, 7, 1))\n",
    "    \n",
    "    for i in range(100):\n",
    "        ySum[i][0] = bSum[i] \n",
    "        ySum[i][1] = iSum[i]  \n",
    "        ySum[i][2] = pSum[i] \n",
    "        ySum[i][3] = sSum[i]  \n",
    "        ySum[i][4] = kSum[i] \n",
    "        ySum[i][5] = aSum[i] \n",
    "        ySum[i][6] = gSum[i] \n",
    "\n",
    "    yTensors = np.zeros((100, 7, 1))\n",
    "    for i in range(100):\n",
    "        yTensors[i] = tf.convert_to_tensor(ySum[i], dtype=tf.float64)\n",
    "    \n",
    "    return yTensors[:88]\n",
    "    "
   ]
  },
  {
   "cell_type": "markdown",
   "id": "1df9f782",
   "metadata": {},
   "source": [
    "# Defining Function For Model Creation"
   ]
  },
  {
   "cell_type": "code",
   "execution_count": 7,
   "id": "37dcf0dd",
   "metadata": {},
   "outputs": [],
   "source": [
    "def createModel():\n",
    "    model = Sequential()\n",
    "\n",
    "    model.add(Conv2D(8, (2, 2), input_shape=(8, 8, 6)))\n",
    "    model.add(Activation(\"relu\"))\n",
    "    model.add(MaxPooling2D((2,2), padding='same'))\n",
    "    # model.add(Dropout(0.25))\n",
    "\n",
    "    model.add(Conv2D(4, (2, 2)))\n",
    "    model.add(Activation(\"relu\"))\n",
    "    model.add(MaxPooling2D((2,2), padding='same'))\n",
    "    # model.add(Dropout(0.25))\n",
    "\n",
    "    model.add(Flatten())\n",
    "    model.add(Dense(36, activation='relu'))\n",
    "    # model.add(Dropout(0.5))\n",
    "    model.add(Dense(7, activation='linear'))\n",
    "\n",
    "    model.compile(loss=tf.keras.losses.MeanSquaredError(), optimizer='adam')\n",
    "    \n",
    "    return model"
   ]
  },
  {
   "cell_type": "markdown",
   "id": "5b71d6d0",
   "metadata": {},
   "source": [
    "# Data Preparation"
   ]
  },
  {
   "cell_type": "code",
   "execution_count": 8,
   "id": "642ec580",
   "metadata": {},
   "outputs": [],
   "source": [
    "comTensors = expand_dims(createTensors(\"Daily_Confirmed\"), axis=3)\n",
    "deathTensors = expand_dims(createTensors(\"Daily_Deaths\"), axis=3)\n",
    "recTensors = expand_dims(createTensors(\"Daily_Confirmed\"), axis=3)\n",
    "mobTensors = expand_dims(createTensors(\"mobility_mean\"), axis=3)\n",
    "popTensors = expand_dims(createTensors(\"population\"), axis=3)\n",
    "maskTensors = expand_dims(createTensors(\"mask_use_mean\"), axis=3)"
   ]
  },
  {
   "cell_type": "code",
   "execution_count": 9,
   "id": "c75bc059",
   "metadata": {},
   "outputs": [],
   "source": [
    "X = tf.concat([comTensors, deathTensors, recTensors, mobTensors, popTensors, maskTensors], 3)"
   ]
  },
  {
   "cell_type": "markdown",
   "id": "8259c6d7",
   "metadata": {},
   "source": [
    "# Model Implementation for Predicting Confirmed Daily Cases for each Province in next 7 days"
   ]
  },
  {
   "cell_type": "code",
   "execution_count": 10,
   "id": "2b537103",
   "metadata": {},
   "outputs": [],
   "source": [
    "y = createYtensor(\"Daily_Confirmed\")[:88]"
   ]
  },
  {
   "cell_type": "code",
   "execution_count": 11,
   "id": "9ea20fe1",
   "metadata": {},
   "outputs": [],
   "source": [
    "# Giving 80% data for Training\n",
    "X_train = X[:70]\n",
    "y_train = y[:70]"
   ]
  },
  {
   "cell_type": "code",
   "execution_count": 12,
   "id": "c97c25cd",
   "metadata": {},
   "outputs": [],
   "source": [
    "# Giving 20% data for Training\n",
    "X_test = X[70:]\n",
    "y_test = y[70:]"
   ]
  },
  {
   "cell_type": "code",
   "execution_count": 13,
   "id": "6f0117a2",
   "metadata": {},
   "outputs": [
    {
     "name": "stdout",
     "output_type": "stream",
     "text": [
      "Epoch 1/50\n",
      "14/14 [==============================] - 1s 17ms/step - loss: 53666648162304.0000 - val_loss: 15249475371008.0000\n",
      "Epoch 2/50\n",
      "14/14 [==============================] - 0s 4ms/step - loss: 8672284508160.0000 - val_loss: 4224250806272.0000\n",
      "Epoch 3/50\n",
      "14/14 [==============================] - 0s 3ms/step - loss: 2330728857600.0000 - val_loss: 984975671296.0000\n",
      "Epoch 4/50\n",
      "14/14 [==============================] - 0s 3ms/step - loss: 542229725184.0000 - val_loss: 233925689344.0000\n",
      "Epoch 5/50\n",
      "14/14 [==============================] - 0s 3ms/step - loss: 149098217472.0000 - val_loss: 73282207744.0000\n",
      "Epoch 6/50\n",
      "14/14 [==============================] - 0s 3ms/step - loss: 42972139520.0000 - val_loss: 17806649344.0000\n",
      "Epoch 7/50\n",
      "14/14 [==============================] - 0s 4ms/step - loss: 9033881600.0000 - val_loss: 3142715392.0000\n",
      "Epoch 8/50\n",
      "14/14 [==============================] - 0s 3ms/step - loss: 1551084288.0000 - val_loss: 521863680.0000\n",
      "Epoch 9/50\n",
      "14/14 [==============================] - 0s 3ms/step - loss: 215622864.0000 - val_loss: 37032948.0000\n",
      "Epoch 10/50\n",
      "14/14 [==============================] - 0s 5ms/step - loss: 14296751.0000 - val_loss: 11879247.0000\n",
      "Epoch 11/50\n",
      "14/14 [==============================] - 0s 3ms/step - loss: 12430760.0000 - val_loss: 12588181.0000\n",
      "Epoch 12/50\n",
      "14/14 [==============================] - 0s 3ms/step - loss: 9314212.0000 - val_loss: 11416570.0000\n",
      "Epoch 13/50\n",
      "14/14 [==============================] - 0s 3ms/step - loss: 7198812.0000 - val_loss: 10384712.0000\n",
      "Epoch 14/50\n",
      "14/14 [==============================] - 0s 3ms/step - loss: 6447497.5000 - val_loss: 9781963.0000\n",
      "Epoch 15/50\n",
      "14/14 [==============================] - 0s 3ms/step - loss: 6574339.5000 - val_loss: 9609658.0000\n",
      "Epoch 16/50\n",
      "14/14 [==============================] - 0s 3ms/step - loss: 6749700.5000 - val_loss: 10579289.0000\n",
      "Epoch 17/50\n",
      "14/14 [==============================] - 0s 3ms/step - loss: 6509383.5000 - val_loss: 9430029.0000\n",
      "Epoch 18/50\n",
      "14/14 [==============================] - 0s 3ms/step - loss: 6396522.5000 - val_loss: 10217464.0000\n",
      "Epoch 19/50\n",
      "14/14 [==============================] - 0s 3ms/step - loss: 6420820.5000 - val_loss: 9618566.0000\n",
      "Epoch 20/50\n",
      "14/14 [==============================] - 0s 3ms/step - loss: 6476660.5000 - val_loss: 9792967.0000\n",
      "Epoch 21/50\n",
      "14/14 [==============================] - 0s 3ms/step - loss: 6375843.0000 - val_loss: 10389447.0000\n",
      "Epoch 22/50\n",
      "14/14 [==============================] - 0s 3ms/step - loss: 6445720.0000 - val_loss: 10035255.0000\n",
      "Epoch 23/50\n",
      "14/14 [==============================] - 0s 3ms/step - loss: 6568418.5000 - val_loss: 9889610.0000\n",
      "Epoch 24/50\n",
      "14/14 [==============================] - 0s 3ms/step - loss: 6475080.5000 - val_loss: 10020814.0000\n",
      "Epoch 25/50\n",
      "14/14 [==============================] - 0s 4ms/step - loss: 6559424.0000 - val_loss: 10489206.0000\n",
      "Epoch 26/50\n",
      "14/14 [==============================] - 0s 3ms/step - loss: 6455048.5000 - val_loss: 9806992.0000\n",
      "Epoch 27/50\n",
      "14/14 [==============================] - 0s 3ms/step - loss: 6418092.5000 - val_loss: 10511859.0000\n",
      "Epoch 28/50\n",
      "14/14 [==============================] - 0s 3ms/step - loss: 6474419.5000 - val_loss: 9540646.0000\n",
      "Epoch 29/50\n",
      "14/14 [==============================] - 0s 3ms/step - loss: 6575530.5000 - val_loss: 10184481.0000\n",
      "Epoch 30/50\n",
      "14/14 [==============================] - 0s 3ms/step - loss: 6490243.0000 - val_loss: 10786064.0000\n",
      "Epoch 31/50\n",
      "14/14 [==============================] - 0s 4ms/step - loss: 6615296.0000 - val_loss: 9600738.0000\n",
      "Epoch 32/50\n",
      "14/14 [==============================] - 0s 4ms/step - loss: 6297169.0000 - val_loss: 10051565.0000\n",
      "Epoch 33/50\n",
      "14/14 [==============================] - 0s 3ms/step - loss: 6410305.0000 - val_loss: 9920517.0000\n",
      "Epoch 34/50\n",
      "14/14 [==============================] - 0s 3ms/step - loss: 6402314.5000 - val_loss: 10082139.0000\n",
      "Epoch 35/50\n",
      "14/14 [==============================] - 0s 3ms/step - loss: 6415092.5000 - val_loss: 10134573.0000\n",
      "Epoch 36/50\n",
      "14/14 [==============================] - 0s 3ms/step - loss: 6649676.0000 - val_loss: 10099126.0000\n",
      "Epoch 37/50\n",
      "14/14 [==============================] - 0s 3ms/step - loss: 6919709.0000 - val_loss: 9753315.0000\n",
      "Epoch 38/50\n",
      "14/14 [==============================] - 0s 4ms/step - loss: 6721531.0000 - val_loss: 9647174.0000\n",
      "Epoch 39/50\n",
      "14/14 [==============================] - 0s 3ms/step - loss: 6614440.5000 - val_loss: 10463534.0000\n",
      "Epoch 40/50\n",
      "14/14 [==============================] - 0s 3ms/step - loss: 6449449.0000 - val_loss: 9600742.0000\n",
      "Epoch 41/50\n",
      "14/14 [==============================] - 0s 3ms/step - loss: 6424773.0000 - val_loss: 10256145.0000\n",
      "Epoch 42/50\n",
      "14/14 [==============================] - 0s 3ms/step - loss: 6440331.0000 - val_loss: 10185333.0000\n",
      "Epoch 43/50\n",
      "14/14 [==============================] - 0s 3ms/step - loss: 6437259.5000 - val_loss: 9694699.0000\n",
      "Epoch 44/50\n",
      "14/14 [==============================] - 0s 4ms/step - loss: 6686195.5000 - val_loss: 10114619.0000\n",
      "Epoch 45/50\n",
      "14/14 [==============================] - 0s 3ms/step - loss: 6893693.5000 - val_loss: 11353894.0000\n",
      "Epoch 46/50\n",
      "14/14 [==============================] - 0s 3ms/step - loss: 6629225.5000 - val_loss: 9653329.0000\n",
      "Epoch 47/50\n",
      "14/14 [==============================] - 0s 3ms/step - loss: 6846764.5000 - val_loss: 10444345.0000\n",
      "Epoch 48/50\n",
      "14/14 [==============================] - 0s 3ms/step - loss: 6852081.0000 - val_loss: 9704609.0000\n",
      "Epoch 49/50\n",
      "14/14 [==============================] - 0s 3ms/step - loss: 6810076.5000 - val_loss: 10852401.0000\n",
      "Epoch 50/50\n",
      "14/14 [==============================] - 0s 4ms/step - loss: 7253271.0000 - val_loss: 11687235.0000\n"
     ]
    },
    {
     "data": {
      "text/plain": [
       "<tensorflow.python.keras.callbacks.History at 0x21c22979220>"
      ]
     },
     "execution_count": 13,
     "metadata": {},
     "output_type": "execute_result"
    }
   ],
   "source": [
    "conModel = createModel()\n",
    "conModel.fit(X_train, y_train, batch_size = 4, epochs = 50, validation_split = 0.2)"
   ]
  },
  {
   "cell_type": "code",
   "execution_count": 14,
   "id": "83434da3",
   "metadata": {},
   "outputs": [],
   "source": [
    "prediction = conModel.predict(X_test)"
   ]
  },
  {
   "cell_type": "code",
   "execution_count": 15,
   "id": "e7c3d5ac",
   "metadata": {},
   "outputs": [
    {
     "data": {
      "text/plain": [
       "array([  16.3429 , 1476.5193 , 4256.1543 , 3250.5264 ,  893.49725,\n",
       "        871.1695 , -142.20673], dtype=float32)"
      ]
     },
     "execution_count": 15,
     "metadata": {},
     "output_type": "execute_result"
    }
   ],
   "source": [
    "prediction[-1]"
   ]
  },
  {
   "cell_type": "code",
   "execution_count": 16,
   "id": "6c25e140",
   "metadata": {},
   "outputs": [
    {
     "data": {
      "text/plain": [
       "array([[  44.],\n",
       "       [ 144.],\n",
       "       [ 576.],\n",
       "       [1044.],\n",
       "       [ 482.],\n",
       "       [  24.],\n",
       "       [   5.]])"
      ]
     },
     "execution_count": 16,
     "metadata": {},
     "output_type": "execute_result"
    }
   ],
   "source": [
    "y_test[-1]"
   ]
  },
  {
   "cell_type": "markdown",
   "id": "08294526",
   "metadata": {},
   "source": [
    "# Model Implementation for Predicting Confirmed Daily Deaths for each Province in next 7 days"
   ]
  },
  {
   "cell_type": "code",
   "execution_count": 17,
   "id": "07679cd8",
   "metadata": {},
   "outputs": [],
   "source": [
    "y = createYtensor(\"Daily_Deaths\")[:88]"
   ]
  },
  {
   "cell_type": "code",
   "execution_count": 18,
   "id": "ffdf8c29",
   "metadata": {},
   "outputs": [],
   "source": [
    "# Giving 80% data for Training\n",
    "X_train = X[:70]\n",
    "y_train = y[:70]"
   ]
  },
  {
   "cell_type": "code",
   "execution_count": 19,
   "id": "57a6efa1",
   "metadata": {},
   "outputs": [],
   "source": [
    "# Giving 20% data for Training\n",
    "X_test = X[70:]\n",
    "y_test = y[70:]"
   ]
  },
  {
   "cell_type": "code",
   "execution_count": 20,
   "id": "543e2be7",
   "metadata": {},
   "outputs": [
    {
     "name": "stdout",
     "output_type": "stream",
     "text": [
      "Epoch 1/50\n",
      "14/14 [==============================] - 1s 17ms/step - loss: 23963570798592.0000 - val_loss: 2786468560896.0000\n",
      "Epoch 2/50\n",
      "14/14 [==============================] - 0s 3ms/step - loss: 903364149248.0000 - val_loss: 263015186432.0000\n",
      "Epoch 3/50\n",
      "14/14 [==============================] - 0s 3ms/step - loss: 177816354816.0000 - val_loss: 68070711296.0000\n",
      "Epoch 4/50\n",
      "14/14 [==============================] - 0s 3ms/step - loss: 34919620608.0000 - val_loss: 25385189376.0000\n",
      "Epoch 5/50\n",
      "14/14 [==============================] - 0s 3ms/step - loss: 21753853952.0000 - val_loss: 14736279552.0000\n",
      "Epoch 6/50\n",
      "14/14 [==============================] - 0s 3ms/step - loss: 11003673600.0000 - val_loss: 8489182208.0000\n",
      "Epoch 7/50\n",
      "14/14 [==============================] - 0s 3ms/step - loss: 6915673088.0000 - val_loss: 5224450560.0000\n",
      "Epoch 8/50\n",
      "14/14 [==============================] - 0s 3ms/step - loss: 4288526848.0000 - val_loss: 3383159040.0000\n",
      "Epoch 9/50\n",
      "14/14 [==============================] - 0s 3ms/step - loss: 2752058624.0000 - val_loss: 2122610688.0000\n",
      "Epoch 10/50\n",
      "14/14 [==============================] - 0s 3ms/step - loss: 1721532032.0000 - val_loss: 1318198144.0000\n",
      "Epoch 11/50\n",
      "14/14 [==============================] - 0s 3ms/step - loss: 1058910656.0000 - val_loss: 803111104.0000\n",
      "Epoch 12/50\n",
      "14/14 [==============================] - 0s 3ms/step - loss: 640176128.0000 - val_loss: 479784128.0000\n",
      "Epoch 13/50\n",
      "14/14 [==============================] - 0s 4ms/step - loss: 379081696.0000 - val_loss: 280594496.0000\n",
      "Epoch 14/50\n",
      "14/14 [==============================] - 0s 4ms/step - loss: 219590880.0000 - val_loss: 160422800.0000\n",
      "Epoch 15/50\n",
      "14/14 [==============================] - 0s 3ms/step - loss: 124329288.0000 - val_loss: 89604968.0000\n",
      "Epoch 16/50\n",
      "14/14 [==============================] - 0s 3ms/step - loss: 68744672.0000 - val_loss: 48869312.0000\n",
      "Epoch 17/50\n",
      "14/14 [==============================] - 0s 3ms/step - loss: 37107976.0000 - val_loss: 26017826.0000\n",
      "Epoch 18/50\n",
      "14/14 [==============================] - 0s 3ms/step - loss: 19546404.0000 - val_loss: 13517856.0000\n",
      "Epoch 19/50\n",
      "14/14 [==============================] - 0s 3ms/step - loss: 10042602.0000 - val_loss: 6852939.0000\n",
      "Epoch 20/50\n",
      "14/14 [==============================] - 0s 3ms/step - loss: 5030923.0000 - val_loss: 3389482.0000\n",
      "Epoch 21/50\n",
      "14/14 [==============================] - 0s 3ms/step - loss: 2455594.2500 - val_loss: 1636572.0000\n",
      "Epoch 22/50\n",
      "14/14 [==============================] - 0s 4ms/step - loss: 1167571.0000 - val_loss: 773104.0625\n",
      "Epoch 23/50\n",
      "14/14 [==============================] - 0s 3ms/step - loss: 540587.8750 - val_loss: 359147.8438\n",
      "Epoch 24/50\n",
      "14/14 [==============================] - 0s 3ms/step - loss: 244501.1250 - val_loss: 166972.5938\n",
      "Epoch 25/50\n",
      "14/14 [==============================] - 0s 3ms/step - loss: 108646.7734 - val_loss: 80443.1406\n",
      "Epoch 26/50\n",
      "14/14 [==============================] - 0s 3ms/step - loss: 48209.0938 - val_loss: 41995.8828\n",
      "Epoch 27/50\n",
      "14/14 [==============================] - 0s 3ms/step - loss: 22100.8770 - val_loss: 24981.3340\n",
      "Epoch 28/50\n",
      "14/14 [==============================] - 0s 3ms/step - loss: 11332.0205 - val_loss: 18943.5723\n",
      "Epoch 29/50\n",
      "14/14 [==============================] - 0s 3ms/step - loss: 6946.1123 - val_loss: 15481.5498\n",
      "Epoch 30/50\n",
      "14/14 [==============================] - 0s 4ms/step - loss: 5219.0220 - val_loss: 14715.1738\n",
      "Epoch 31/50\n",
      "14/14 [==============================] - 0s 3ms/step - loss: 4642.8271 - val_loss: 14827.1973\n",
      "Epoch 32/50\n",
      "14/14 [==============================] - 0s 3ms/step - loss: 4382.7607 - val_loss: 13701.8828\n",
      "Epoch 33/50\n",
      "14/14 [==============================] - 0s 3ms/step - loss: 4420.8633 - val_loss: 13868.0146\n",
      "Epoch 34/50\n",
      "14/14 [==============================] - 0s 3ms/step - loss: 4408.0503 - val_loss: 14666.1514\n",
      "Epoch 35/50\n",
      "14/14 [==============================] - 0s 3ms/step - loss: 4513.0674 - val_loss: 14284.0605\n",
      "Epoch 36/50\n",
      "14/14 [==============================] - 0s 3ms/step - loss: 4452.2554 - val_loss: 13539.1328\n",
      "Epoch 37/50\n",
      "14/14 [==============================] - 0s 3ms/step - loss: 4372.3110 - val_loss: 14657.4717\n",
      "Epoch 38/50\n",
      "14/14 [==============================] - 0s 3ms/step - loss: 4337.8599 - val_loss: 14105.0098\n",
      "Epoch 39/50\n",
      "14/14 [==============================] - 0s 3ms/step - loss: 4247.9385 - val_loss: 14274.0439\n",
      "Epoch 40/50\n",
      "14/14 [==============================] - 0s 4ms/step - loss: 4308.2939 - val_loss: 14041.7979\n",
      "Epoch 41/50\n",
      "14/14 [==============================] - 0s 4ms/step - loss: 4316.1235 - val_loss: 13564.7686\n",
      "Epoch 42/50\n",
      "14/14 [==============================] - 0s 4ms/step - loss: 4283.1660 - val_loss: 14306.0078\n",
      "Epoch 43/50\n",
      "14/14 [==============================] - 0s 4ms/step - loss: 4276.8037 - val_loss: 14708.1670\n",
      "Epoch 44/50\n",
      "14/14 [==============================] - 0s 3ms/step - loss: 4282.3315 - val_loss: 13872.1201\n",
      "Epoch 45/50\n",
      "14/14 [==============================] - 0s 4ms/step - loss: 4261.5786 - val_loss: 13930.5537\n",
      "Epoch 46/50\n",
      "14/14 [==============================] - 0s 4ms/step - loss: 4264.9551 - val_loss: 14429.3232\n",
      "Epoch 47/50\n",
      "14/14 [==============================] - 0s 3ms/step - loss: 4240.1030 - val_loss: 14104.4004\n",
      "Epoch 48/50\n",
      "14/14 [==============================] - 0s 4ms/step - loss: 4238.7964 - val_loss: 13636.5801\n",
      "Epoch 49/50\n",
      "14/14 [==============================] - 0s 3ms/step - loss: 4250.4028 - val_loss: 13779.1934\n",
      "Epoch 50/50\n",
      "14/14 [==============================] - 0s 4ms/step - loss: 4237.7393 - val_loss: 14242.5557\n"
     ]
    },
    {
     "data": {
      "text/plain": [
       "<tensorflow.python.keras.callbacks.History at 0x21c23c9d190>"
      ]
     },
     "execution_count": 20,
     "metadata": {},
     "output_type": "execute_result"
    }
   ],
   "source": [
    "deathModel = createModel()\n",
    "deathModel.fit(X_train, y_train, batch_size = 4, epochs = 50, validation_split = 0.2)"
   ]
  },
  {
   "cell_type": "code",
   "execution_count": 21,
   "id": "54a9ecfd",
   "metadata": {},
   "outputs": [],
   "source": [
    "prediction = deathModel.predict(X_test)"
   ]
  },
  {
   "cell_type": "code",
   "execution_count": 22,
   "id": "a4029771",
   "metadata": {},
   "outputs": [
    {
     "data": {
      "text/plain": [
       "array([61.121704 , -2.3676796, 22.486385 , 13.840597 ,  3.9235687,\n",
       "       64.25782  , 49.686123 ], dtype=float32)"
      ]
     },
     "execution_count": 22,
     "metadata": {},
     "output_type": "execute_result"
    }
   ],
   "source": [
    "prediction[-1]"
   ]
  },
  {
   "cell_type": "code",
   "execution_count": 23,
   "id": "71223739",
   "metadata": {},
   "outputs": [
    {
     "data": {
      "text/plain": [
       "array([[ 0.],\n",
       "       [ 4.],\n",
       "       [21.],\n",
       "       [ 8.],\n",
       "       [18.],\n",
       "       [ 0.],\n",
       "       [ 0.]])"
      ]
     },
     "execution_count": 23,
     "metadata": {},
     "output_type": "execute_result"
    }
   ],
   "source": [
    "y_test[-1]"
   ]
  },
  {
   "cell_type": "markdown",
   "id": "40030414",
   "metadata": {},
   "source": [
    "# Model Implementation for Predicting Confirmed Daily Recovered Cases for each Province in next 7 days"
   ]
  },
  {
   "cell_type": "code",
   "execution_count": 28,
   "id": "4e62140a",
   "metadata": {},
   "outputs": [],
   "source": [
    "y = createYtensor(\"Recovered\")[:88]"
   ]
  },
  {
   "cell_type": "code",
   "execution_count": 29,
   "id": "aa05c906",
   "metadata": {},
   "outputs": [],
   "source": [
    "# Giving 80% data for Training\n",
    "X_train = X[:70]\n",
    "y_train = y[:70]"
   ]
  },
  {
   "cell_type": "code",
   "execution_count": 30,
   "id": "10975e75",
   "metadata": {},
   "outputs": [],
   "source": [
    "# Giving 20% data for Training\n",
    "X_test = X[70:]\n",
    "y_test = y[70:]"
   ]
  },
  {
   "cell_type": "code",
   "execution_count": 31,
   "id": "865700a1",
   "metadata": {},
   "outputs": [
    {
     "name": "stdout",
     "output_type": "stream",
     "text": [
      "Epoch 1/50\n",
      "14/14 [==============================] - 0s 11ms/step - loss: 3057085841408.0000 - val_loss: 966949928960.0000\n",
      "Epoch 2/50\n",
      "14/14 [==============================] - 0s 3ms/step - loss: 341661089792.0000 - val_loss: 720839245824.0000\n",
      "Epoch 3/50\n",
      "14/14 [==============================] - 0s 3ms/step - loss: 121760169984.0000 - val_loss: 523520245760.0000\n",
      "Epoch 4/50\n",
      "14/14 [==============================] - 0s 4ms/step - loss: 87799087104.0000 - val_loss: 574400888832.0000\n",
      "Epoch 5/50\n",
      "14/14 [==============================] - 0s 3ms/step - loss: 81261625344.0000 - val_loss: 577326350336.0000\n",
      "Epoch 6/50\n",
      "14/14 [==============================] - 0s 3ms/step - loss: 79833128960.0000 - val_loss: 574868226048.0000\n",
      "Epoch 7/50\n",
      "14/14 [==============================] - 0s 3ms/step - loss: 78929707008.0000 - val_loss: 580428169216.0000\n",
      "Epoch 8/50\n",
      "14/14 [==============================] - 0s 4ms/step - loss: 78693457920.0000 - val_loss: 574693703680.0000\n",
      "Epoch 9/50\n",
      "14/14 [==============================] - 0s 3ms/step - loss: 78653947904.0000 - val_loss: 564259061760.0000\n",
      "Epoch 10/50\n",
      "14/14 [==============================] - 0s 3ms/step - loss: 79021023232.0000 - val_loss: 560450174976.0000\n",
      "Epoch 11/50\n",
      "14/14 [==============================] - 0s 4ms/step - loss: 78585331712.0000 - val_loss: 577249017856.0000\n",
      "Epoch 12/50\n",
      "14/14 [==============================] - 0s 3ms/step - loss: 79146213376.0000 - val_loss: 578625077248.0000\n",
      "Epoch 13/50\n",
      "14/14 [==============================] - 0s 3ms/step - loss: 80823148544.0000 - val_loss: 555593170944.0000\n",
      "Epoch 14/50\n",
      "14/14 [==============================] - 0s 3ms/step - loss: 79086772224.0000 - val_loss: 597760868352.0000\n",
      "Epoch 15/50\n",
      "14/14 [==============================] - 0s 4ms/step - loss: 79044362240.0000 - val_loss: 576879656960.0000\n",
      "Epoch 16/50\n",
      "14/14 [==============================] - 0s 3ms/step - loss: 79387213824.0000 - val_loss: 573495115776.0000\n",
      "Epoch 17/50\n",
      "14/14 [==============================] - 0s 3ms/step - loss: 79484575744.0000 - val_loss: 581264146432.0000\n",
      "Epoch 18/50\n",
      "14/14 [==============================] - 0s 4ms/step - loss: 81295040512.0000 - val_loss: 563986366464.0000\n",
      "Epoch 19/50\n",
      "14/14 [==============================] - 0s 4ms/step - loss: 78717329408.0000 - val_loss: 580772429824.0000\n",
      "Epoch 20/50\n",
      "14/14 [==============================] - 0s 3ms/step - loss: 78717059072.0000 - val_loss: 580597383168.0000\n",
      "Epoch 21/50\n",
      "14/14 [==============================] - 0s 4ms/step - loss: 78599700480.0000 - val_loss: 585377251328.0000\n",
      "Epoch 22/50\n",
      "14/14 [==============================] - 0s 4ms/step - loss: 78788714496.0000 - val_loss: 557833060352.0000\n",
      "Epoch 23/50\n",
      "14/14 [==============================] - 0s 4ms/step - loss: 79374508032.0000 - val_loss: 581503877120.0000\n",
      "Epoch 24/50\n",
      "14/14 [==============================] - 0s 4ms/step - loss: 79294930944.0000 - val_loss: 570836713472.0000\n",
      "Epoch 25/50\n",
      "14/14 [==============================] - 0s 4ms/step - loss: 78624112640.0000 - val_loss: 577774419968.0000\n",
      "Epoch 26/50\n",
      "14/14 [==============================] - 0s 4ms/step - loss: 80621846528.0000 - val_loss: 591599173632.0000\n",
      "Epoch 27/50\n",
      "14/14 [==============================] - 0s 4ms/step - loss: 80971489280.0000 - val_loss: 555956830208.0000\n",
      "Epoch 28/50\n",
      "14/14 [==============================] - 0s 4ms/step - loss: 80547348480.0000 - val_loss: 589134495744.0000\n",
      "Epoch 29/50\n",
      "14/14 [==============================] - 0s 4ms/step - loss: 79810207744.0000 - val_loss: 553263300608.0000\n",
      "Epoch 30/50\n",
      "14/14 [==============================] - 0s 4ms/step - loss: 78877401088.0000 - val_loss: 555250810880.0000\n",
      "Epoch 31/50\n",
      "14/14 [==============================] - 0s 3ms/step - loss: 79794102272.0000 - val_loss: 583965605888.0000\n",
      "Epoch 32/50\n",
      "14/14 [==============================] - 0s 4ms/step - loss: 79393693696.0000 - val_loss: 561703419904.0000\n",
      "Epoch 33/50\n",
      "14/14 [==============================] - 0s 4ms/step - loss: 79828475904.0000 - val_loss: 553597403136.0000\n",
      "Epoch 34/50\n",
      "14/14 [==============================] - 0s 3ms/step - loss: 80946790400.0000 - val_loss: 599873945600.0000\n",
      "Epoch 35/50\n",
      "14/14 [==============================] - 0s 4ms/step - loss: 81020010496.0000 - val_loss: 571221868544.0000\n",
      "Epoch 36/50\n",
      "14/14 [==============================] - 0s 4ms/step - loss: 80220430336.0000 - val_loss: 559912910848.0000\n",
      "Epoch 37/50\n",
      "14/14 [==============================] - 0s 4ms/step - loss: 81214513152.0000 - val_loss: 568902615040.0000\n",
      "Epoch 38/50\n",
      "14/14 [==============================] - 0s 4ms/step - loss: 79044845568.0000 - val_loss: 541524197376.0000\n",
      "Epoch 39/50\n",
      "14/14 [==============================] - 0s 4ms/step - loss: 81306755072.0000 - val_loss: 604805726208.0000\n",
      "Epoch 40/50\n",
      "14/14 [==============================] - 0s 4ms/step - loss: 80517357568.0000 - val_loss: 563051233280.0000\n",
      "Epoch 41/50\n",
      "14/14 [==============================] - 0s 4ms/step - loss: 79860580352.0000 - val_loss: 546024226816.0000\n",
      "Epoch 42/50\n",
      "14/14 [==============================] - 0s 4ms/step - loss: 78965981184.0000 - val_loss: 563126665216.0000\n",
      "Epoch 43/50\n",
      "14/14 [==============================] - 0s 4ms/step - loss: 78775263232.0000 - val_loss: 588591923200.0000\n",
      "Epoch 44/50\n",
      "14/14 [==============================] - 0s 4ms/step - loss: 81851301888.0000 - val_loss: 607844499456.0000\n",
      "Epoch 45/50\n",
      "14/14 [==============================] - 0s 3ms/step - loss: 81154818048.0000 - val_loss: 572830384128.0000\n",
      "Epoch 46/50\n",
      "14/14 [==============================] - 0s 3ms/step - loss: 80602357760.0000 - val_loss: 608007487488.0000\n",
      "Epoch 47/50\n",
      "14/14 [==============================] - 0s 3ms/step - loss: 79610642432.0000 - val_loss: 567635083264.0000\n",
      "Epoch 48/50\n",
      "14/14 [==============================] - 0s 4ms/step - loss: 78859075584.0000 - val_loss: 571498954752.0000\n",
      "Epoch 49/50\n",
      "14/14 [==============================] - 0s 4ms/step - loss: 80141336576.0000 - val_loss: 595916685312.0000\n",
      "Epoch 50/50\n",
      "14/14 [==============================] - 0s 3ms/step - loss: 80171548672.0000 - val_loss: 596409974784.0000\n"
     ]
    },
    {
     "data": {
      "text/plain": [
       "<tensorflow.python.keras.callbacks.History at 0x21c24d195b0>"
      ]
     },
     "execution_count": 31,
     "metadata": {},
     "output_type": "execute_result"
    }
   ],
   "source": [
    "recModel = createModel()\n",
    "recModel.fit(X_train, y_train, batch_size = 4, epochs = 50, validation_split = 0.2)"
   ]
  },
  {
   "cell_type": "code",
   "execution_count": 32,
   "id": "cbc4925a",
   "metadata": {},
   "outputs": [],
   "source": [
    "prediction = recModel.predict(X_test)"
   ]
  },
  {
   "cell_type": "code",
   "execution_count": 33,
   "id": "9251d086",
   "metadata": {},
   "outputs": [
    {
     "data": {
      "text/plain": [
       "array([ 82450.11  ,  93733.26  , 629762.7   , 810793.4   , 204496.27  ,\n",
       "        34246.21  ,  -1954.6055], dtype=float32)"
      ]
     },
     "execution_count": 33,
     "metadata": {},
     "output_type": "execute_result"
    }
   ],
   "source": [
    "prediction[-1]"
   ]
  },
  {
   "cell_type": "code",
   "execution_count": 34,
   "id": "ff6d8074",
   "metadata": {},
   "outputs": [
    {
     "data": {
      "text/plain": [
       "array([[ 223690.],\n",
       "       [ 701595.],\n",
       "       [2814007.],\n",
       "       [3040854.],\n",
       "       [1172976.],\n",
       "       [ 218234.],\n",
       "       [  71301.]])"
      ]
     },
     "execution_count": 34,
     "metadata": {},
     "output_type": "execute_result"
    }
   ],
   "source": [
    "y_test[-1]"
   ]
  }
 ],
 "metadata": {
  "kernelspec": {
   "display_name": "Python 3",
   "language": "python",
   "name": "python3"
  },
  "language_info": {
   "codemirror_mode": {
    "name": "ipython",
    "version": 3
   },
   "file_extension": ".py",
   "mimetype": "text/x-python",
   "name": "python",
   "nbconvert_exporter": "python",
   "pygments_lexer": "ipython3",
   "version": "3.8.8"
  }
 },
 "nbformat": 4,
 "nbformat_minor": 5
}
