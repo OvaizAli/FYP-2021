{
 "cells": [
  {
   "cell_type": "markdown",
   "id": "766b373e",
   "metadata": {
    "id": "766b373e"
   },
   "source": [
    "# Parsing all the Data from the Files available on \"COVID-19 Data Repository by the Center for Systems Science and Engineering (CSSE) at Johns Hopkins University\"  \n",
    "\n",
    "Link : https://github.com/CSSEGISandData/COVID-19/tree/master/csse_covid_19_data/csse_covid_19_daily_reports"
   ]
  },
  {
   "cell_type": "code",
   "execution_count": 140,
   "id": "324befb4",
   "metadata": {
    "id": "324befb4"
   },
   "outputs": [],
   "source": [
    "import pandas as pd\n",
    "import os\n",
    "import ast\n",
    "import numpy as np\n",
    "from datetime import datetime\n",
    "import warnings\n",
    "warnings.filterwarnings(\"ignore\")"
   ]
  },
  {
   "cell_type": "code",
   "execution_count": 141,
   "id": "15829641",
   "metadata": {},
   "outputs": [],
   "source": [
    "path = \"C:\\\\Users\\\\OvaizAli\\\\Desktop\\\\FYP-2021\\\\Working Directory\\\\Raw Data (CSSE) at Johns Hopkins University\\\\COVID-19\\\\csse_covid_19_data\\\\csse_covid_19_daily_reports\\\\\""
   ]
  },
  {
   "cell_type": "code",
   "execution_count": 142,
   "id": "413ba9ba",
   "metadata": {
    "id": "413ba9ba"
   },
   "outputs": [
    {
     "ename": "FileNotFoundError",
     "evalue": "[WinError 3] The system cannot find the path specified: 'C:\\\\Users\\\\OvaizAli\\\\Desktop\\\\FYP-2021\\\\Working Directory\\\\Raw Data (CSSE) at Johns Hopkins University\\\\COVID-19\\\\csse_covid_19_data\\\\csse_covid_19_daily_reports\\\\'",
     "output_type": "error",
     "traceback": [
      "\u001b[1;31m---------------------------------------------------------------------------\u001b[0m",
      "\u001b[1;31mFileNotFoundError\u001b[0m                         Traceback (most recent call last)",
      "\u001b[1;32m<ipython-input-142-8254099ca19e>\u001b[0m in \u001b[0;36m<module>\u001b[1;34m\u001b[0m\n\u001b[0;32m      1\u001b[0m \u001b[0mdf_final\u001b[0m \u001b[1;33m=\u001b[0m \u001b[0mpd\u001b[0m\u001b[1;33m.\u001b[0m\u001b[0mDataFrame\u001b[0m\u001b[1;33m(\u001b[0m\u001b[1;33m{\u001b[0m\u001b[1;34m'Province_State'\u001b[0m \u001b[1;33m:\u001b[0m \u001b[1;33m[\u001b[0m\u001b[1;33m]\u001b[0m\u001b[1;33m,\u001b[0m \u001b[1;34m'Country_Region'\u001b[0m \u001b[1;33m:\u001b[0m \u001b[1;33m[\u001b[0m\u001b[1;33m]\u001b[0m\u001b[1;33m,\u001b[0m \u001b[1;34m'Last_Update'\u001b[0m \u001b[1;33m:\u001b[0m \u001b[1;33m[\u001b[0m\u001b[1;33m]\u001b[0m\u001b[1;33m,\u001b[0m \u001b[1;34m'Lat'\u001b[0m \u001b[1;33m:\u001b[0m \u001b[1;33m[\u001b[0m\u001b[1;33m]\u001b[0m\u001b[1;33m,\u001b[0m \u001b[1;34m'Long_'\u001b[0m \u001b[1;33m:\u001b[0m \u001b[1;33m[\u001b[0m\u001b[1;33m]\u001b[0m\u001b[1;33m,\u001b[0m\u001b[1;34m'Confirmed'\u001b[0m \u001b[1;33m:\u001b[0m \u001b[1;33m[\u001b[0m\u001b[1;33m]\u001b[0m\u001b[1;33m,\u001b[0m \u001b[1;34m'Deaths'\u001b[0m \u001b[1;33m:\u001b[0m \u001b[1;33m[\u001b[0m\u001b[1;33m]\u001b[0m\u001b[1;33m,\u001b[0m \u001b[1;34m'Recovered'\u001b[0m \u001b[1;33m:\u001b[0m \u001b[1;33m[\u001b[0m\u001b[1;33m]\u001b[0m\u001b[1;33m,\u001b[0m \u001b[1;34m'Active'\u001b[0m \u001b[1;33m:\u001b[0m \u001b[1;33m[\u001b[0m\u001b[1;33m]\u001b[0m\u001b[1;33m,\u001b[0m \u001b[1;34m'Combined_Key'\u001b[0m \u001b[1;33m:\u001b[0m \u001b[1;33m[\u001b[0m\u001b[1;33m]\u001b[0m\u001b[1;33m,\u001b[0m\u001b[1;34m'Incident_Rate'\u001b[0m \u001b[1;33m:\u001b[0m \u001b[1;33m[\u001b[0m\u001b[1;33m]\u001b[0m\u001b[1;33m,\u001b[0m \u001b[1;34m'Case_Fatality_Ratio'\u001b[0m \u001b[1;33m:\u001b[0m \u001b[1;33m[\u001b[0m\u001b[1;33m]\u001b[0m\u001b[1;33m}\u001b[0m\u001b[1;33m)\u001b[0m\u001b[1;33m\u001b[0m\u001b[1;33m\u001b[0m\u001b[0m\n\u001b[1;32m----> 2\u001b[1;33m \u001b[1;32mfor\u001b[0m \u001b[0mfile\u001b[0m \u001b[1;32min\u001b[0m \u001b[0mos\u001b[0m\u001b[1;33m.\u001b[0m\u001b[0mlistdir\u001b[0m\u001b[1;33m(\u001b[0m\u001b[0mpath\u001b[0m\u001b[1;33m)\u001b[0m\u001b[1;33m:\u001b[0m\u001b[1;33m\u001b[0m\u001b[1;33m\u001b[0m\u001b[0m\n\u001b[0m\u001b[0;32m      3\u001b[0m     \u001b[1;32mif\u001b[0m \u001b[0mfile\u001b[0m\u001b[1;33m.\u001b[0m\u001b[0mendswith\u001b[0m\u001b[1;33m(\u001b[0m\u001b[1;34m\".csv\"\u001b[0m\u001b[1;33m)\u001b[0m\u001b[1;33m:\u001b[0m\u001b[1;33m\u001b[0m\u001b[1;33m\u001b[0m\u001b[0m\n\u001b[0;32m      4\u001b[0m         \u001b[0mdf\u001b[0m \u001b[1;33m=\u001b[0m \u001b[0mpd\u001b[0m\u001b[1;33m.\u001b[0m\u001b[0mread_csv\u001b[0m\u001b[1;33m(\u001b[0m\u001b[0mpath\u001b[0m \u001b[1;33m+\u001b[0m \u001b[0mfile\u001b[0m\u001b[1;33m,\u001b[0m \u001b[0mindex_col\u001b[0m\u001b[1;33m=\u001b[0m\u001b[1;32mFalse\u001b[0m\u001b[1;33m)\u001b[0m\u001b[1;33m\u001b[0m\u001b[1;33m\u001b[0m\u001b[0m\n\u001b[0;32m      5\u001b[0m         \u001b[1;32mtry\u001b[0m\u001b[1;33m:\u001b[0m\u001b[1;33m\u001b[0m\u001b[1;33m\u001b[0m\u001b[0m\n",
      "\u001b[1;31mFileNotFoundError\u001b[0m: [WinError 3] The system cannot find the path specified: 'C:\\\\Users\\\\OvaizAli\\\\Desktop\\\\FYP-2021\\\\Working Directory\\\\Raw Data (CSSE) at Johns Hopkins University\\\\COVID-19\\\\csse_covid_19_data\\\\csse_covid_19_daily_reports\\\\'"
     ]
    }
   ],
   "source": [
    "df_final = pd.DataFrame({'Province_State' : [], 'Country_Region' : [], 'Last_Update' : [], 'Lat' : [], 'Long_' : [],'Confirmed' : [], 'Deaths' : [], 'Recovered' : [], 'Active' : [], 'Combined_Key' : [],'Incident_Rate' : [], 'Case_Fatality_Ratio' : []})\n",
    "for file in os.listdir(path):\n",
    "    if file.endswith(\".csv\"):\n",
    "        df = pd.read_csv(path + file, index_col=False)\n",
    "        try:\n",
    "            df_temp = df[df['Country_Region'] == \"Pakistan\"].copy()\n",
    "            df_temp.drop(['FIPS', 'Admin2'], axis = 1, inplace = True)\n",
    "            \n",
    "            if(len(df_temp.columns) == 12):\n",
    "                df_final = df_final.append(df_temp, True)\n",
    "                df_final.drop(['Combined_Key'], axis = 1, inplace = True)\n",
    "               \n",
    "        except :\n",
    "            continue\n",
    "            "
   ]
  },
  {
   "cell_type": "code",
   "execution_count": null,
   "id": "8b960ebd",
   "metadata": {},
   "outputs": [],
   "source": [
    "df_final.isnull().sum()"
   ]
  },
  {
   "cell_type": "code",
   "execution_count": null,
   "id": "3dc2f5dd",
   "metadata": {
    "id": "3dc2f5dd"
   },
   "outputs": [],
   "source": [
    "df_final.drop(['Active'], axis = 1, inplace = True)\n",
    "df_final = df_final.dropna(subset=['Province_State'])"
   ]
  },
  {
   "cell_type": "code",
   "execution_count": null,
   "id": "4634b65e",
   "metadata": {
    "id": "4634b65e"
   },
   "outputs": [],
   "source": [
    "df_final.drop(['Incident_Rate', 'Incidence_Rate', 'Case-Fatality_Ratio', 'Case_Fatality_Ratio'], axis = 1, inplace = True)"
   ]
  },
  {
   "cell_type": "code",
   "execution_count": null,
   "id": "09c6c9eb",
   "metadata": {
    "id": "09c6c9eb",
    "outputId": "ad1abfe8-d277-4217-e238-8d50ce52c08a"
   },
   "outputs": [],
   "source": [
    "df_final.isnull().sum()"
   ]
  },
  {
   "cell_type": "code",
   "execution_count": null,
   "id": "9c4cfea0",
   "metadata": {
    "id": "9c4cfea0"
   },
   "outputs": [],
   "source": [
    "# df_temp = df_final['Case_Fatality_Ratio'].fillna(df_final['Case-Fatality_Ratio'])\n",
    "# df_final.loc[df_final['Case_Fatality_Ratio'].isnull(), 'Case_Fatality_Ratio'] = df_temp"
   ]
  },
  {
   "cell_type": "code",
   "execution_count": null,
   "id": "5b721939",
   "metadata": {
    "id": "5b721939"
   },
   "outputs": [],
   "source": [
    "# df_temp = df_final['Incident_Rate'].fillna(df_final['Incidence_Rate'])\n",
    "# df_final.loc[df_final['Incident_Rate'].isnull(), 'Incident_Rate'] = df_temp"
   ]
  },
  {
   "cell_type": "code",
   "execution_count": null,
   "id": "69ca77ae",
   "metadata": {
    "id": "69ca77ae"
   },
   "outputs": [],
   "source": [
    "# df_final = df_final.dropna(subset=['Incidence_Rate', 'Case-Fatality_Ratio'])"
   ]
  },
  {
   "cell_type": "code",
   "execution_count": null,
   "id": "fd3f5425",
   "metadata": {
    "id": "fd3f5425",
    "outputId": "431d5320-755d-4301-98c3-300c29a6d89d"
   },
   "outputs": [],
   "source": [
    "df_final.isnull().sum()"
   ]
  },
  {
   "cell_type": "code",
   "execution_count": null,
   "id": "edd4153d",
   "metadata": {
    "id": "edd4153d",
    "outputId": "6fecb2c1-2bd0-42af-efef-5b80c8da2931"
   },
   "outputs": [],
   "source": [
    "len(df_final)"
   ]
  },
  {
   "cell_type": "code",
   "execution_count": null,
   "id": "a87c6717",
   "metadata": {
    "id": "a87c6717"
   },
   "outputs": [],
   "source": [
    "df_final.to_csv(\"C:\\\\Users\\\\OvaizAli\\\\Desktop\\\\FYP-2021\\\\Master\\\\FYP-I\\\\Data Collection\\\\CollectedData\\\\JHU Data\\\\All_Province (06-2020 to 02-2022).csv\", index = False)"
   ]
  },
  {
   "cell_type": "markdown",
   "id": "db82d534",
   "metadata": {
    "id": "db82d534"
   },
   "source": [
    "# Remaining Data Preparation For Merging"
   ]
  },
  {
   "cell_type": "code",
   "execution_count": null,
   "id": "dcc33f93",
   "metadata": {
    "id": "dcc33f93",
    "outputId": "1651aaf2-9370-4733-a07c-68b4c6eba779"
   },
   "outputs": [],
   "source": [
    "path = \"C:\\\\Users\\\\OvaizAli\\\\Desktop\\\\FYP-2021\\\\Working Directory\\\\Raw Data (CSSE) at Johns Hopkins University\\\\COVID-19\\\\remaining_province_wise_data\\\\Pakistan_Province_summary_covid19_confirmed.csv\"\n",
    "df_confirmed = pd.read_csv(path, index_col=False)\n",
    "df_confirmed.drop(['code'], axis = 1, inplace = True)\n",
    "df_confirmed.sort_values(by=['Date'])\n",
    "df_confirmed['Date'] = pd.to_datetime(df_confirmed['Date'])\n",
    "\n",
    "confirmed_cases = df_confirmed[df_confirmed['Date'] < \"2020-06-11\"]\n",
    "confirmed_cases.head()"
   ]
  },
  {
   "cell_type": "code",
   "execution_count": null,
   "id": "3f115017",
   "metadata": {
    "id": "3f115017",
    "outputId": "6fff0be4-f8df-41dc-88f2-c6e9d0d44137"
   },
   "outputs": [],
   "source": [
    "path = \"C:\\\\Users\\\\OvaizAli\\\\Desktop\\\\FYP-2021\\\\Working Directory\\\\Raw Data (CSSE) at Johns Hopkins University\\\\COVID-19\\\\remaining_province_wise_data\\\\Pakistan_Province_summary_covid19_death.csv\"\n",
    "df_deaths = pd.read_csv(path, index_col=False)\n",
    "df_deaths.drop(['code'], axis = 1, inplace = True)\n",
    "df_deaths.sort_values(by=['Date'])\n",
    "df_deaths['Date'] = pd.to_datetime(df_deaths['Date'])\n",
    "\n",
    "deaths = df_deaths[df_deaths['Date'] < \"2020-06-11\"]\n",
    "deaths.head()"
   ]
  },
  {
   "cell_type": "code",
   "execution_count": null,
   "id": "83b7df44",
   "metadata": {
    "id": "83b7df44",
    "outputId": "f124a029-2632-404a-910a-3cd829a5d8f7"
   },
   "outputs": [],
   "source": [
    "remaining_data = confirmed_cases.merge(deaths, how='inner', on=['Province', 'Date'])\n",
    "remaining_data = remaining_data.rename(columns={\"Confirmed cases\" : \"Confirmed\"})\n",
    "remaining_data['Date'] = pd.to_datetime(remaining_data['Date']).dt.date\n",
    "remaining_data.head()"
   ]
  },
  {
   "cell_type": "markdown",
   "id": "a709f24b",
   "metadata": {
    "id": "a709f24b"
   },
   "source": [
    "# Merging All the Data into One File"
   ]
  },
  {
   "cell_type": "code",
   "execution_count": null,
   "id": "b66f485a",
   "metadata": {
    "id": "b66f485a"
   },
   "outputs": [],
   "source": [
    "df_final['Last_Update'] = pd.to_datetime(df_final['Last_Update']).dt.date\n"
   ]
  },
  {
   "cell_type": "code",
   "execution_count": null,
   "id": "4d495a1e",
   "metadata": {
    "id": "4d495a1e"
   },
   "outputs": [],
   "source": [
    "df_final = df_final.rename(columns={\"Province_State\" : \"Province\",\"Last_Update\" : \"Date\"})"
   ]
  },
  {
   "cell_type": "code",
   "execution_count": null,
   "id": "c2d8cd26",
   "metadata": {
    "id": "c2d8cd26",
    "outputId": "b536c895-c6e3-4f5d-d08e-71a248e53a93"
   },
   "outputs": [],
   "source": [
    "len(remaining_data)"
   ]
  },
  {
   "cell_type": "code",
   "execution_count": null,
   "id": "b74e47e8",
   "metadata": {
    "id": "b74e47e8",
    "outputId": "e0c3e832-d9a6-4a28-820d-d9d84493cf04"
   },
   "outputs": [],
   "source": [
    "df_final.tail(7)"
   ]
  },
  {
   "cell_type": "code",
   "execution_count": null,
   "id": "8c89bd69",
   "metadata": {
    "id": "8c89bd69"
   },
   "outputs": [],
   "source": [
    " df_final = df_final.append(remaining_data)"
   ]
  },
  {
   "cell_type": "code",
   "execution_count": null,
   "id": "ec1addfa",
   "metadata": {
    "id": "ec1addfa",
    "outputId": "e56cf36c-95cf-4c43-e02e-c0ac55a85671"
   },
   "outputs": [],
   "source": [
    "df_final.isnull().sum()"
   ]
  },
  {
   "cell_type": "code",
   "execution_count": null,
   "id": "5bef65fa",
   "metadata": {
    "id": "5bef65fa"
   },
   "outputs": [],
   "source": [
    "df_final.loc[df_final['Country_Region'].isnull(), 'Country_Region'] = \"Pakistan\""
   ]
  },
  {
   "cell_type": "code",
   "execution_count": null,
   "id": "3b41cf75",
   "metadata": {
    "id": "3b41cf75"
   },
   "outputs": [],
   "source": [
    "# df_final[df_final['Province'] == 'Sindh'][['Lat', 'Long_']]\n",
    "# 26.009446, 68.776807\n",
    "# df_final[df_final['Province'] == 'Punjab'][['Lat', 'Long_']]\n",
    "# 30.811346, 72.139132\n",
    "# df_final[df_final['Province'] == 'Gilgit-Baltistan'][['Lat', 'Long_']]\n",
    "# 35.792146, 74.982138\n",
    "# df_final[df_final['Province'] == 'Islamabad'][['Lat', 'Long_']]\n",
    "# 33.665087, 73.121219\n",
    "# df_final[df_final['Province'] == 'Khyber Pakhtunkhwa'][['Lat', 'Long_']]\n",
    "# 34.485332, 72.09169\n",
    "# df_final[df_final['Province'] == 'Balochistan'][['Lat', 'Long_']]\n",
    "# 28.328492, 65.898403\n",
    "# df_final[df_final['Province'] == 'Azad Jammu and Kashmir'][['Lat', 'Long_']]\n",
    "# 34.027401, 73.947253"
   ]
  },
  {
   "cell_type": "code",
   "execution_count": null,
   "id": "d4586613",
   "metadata": {
    "id": "d4586613"
   },
   "outputs": [],
   "source": [
    "df_final.loc[df_final['Province'] == 'Sindh', 'Lat'] = 26.009446\n",
    "df_final.loc[df_final['Province'] == 'Sindh', 'Long_'] = 68.776807\n",
    "\n",
    "df_final.loc[df_final['Province'] == 'Punjab', 'Lat'] = 30.811346\n",
    "df_final.loc[df_final['Province'] == 'Punjab', 'Long_'] = 72.139132\n",
    "\n",
    "df_final.loc[df_final['Province'] == 'Gilgit-Baltistan', 'Lat'] = 35.792146\n",
    "df_final.loc[df_final['Province'] == 'Gilgit-Baltistan', 'Long_'] = 74.982138\n",
    "\n",
    "df_final.loc[df_final['Province'] == 'Islamabad', 'Lat'] = 33.665087\n",
    "df_final.loc[df_final['Province'] == 'Islamabad', 'Long_'] = 73.121219\n",
    "\n",
    "df_final.loc[df_final['Province'] == 'Khyber Pakhtunkhwa', 'Lat'] = 34.485332\n",
    "df_final.loc[df_final['Province'] == 'Khyber Pakhtunkhwa', 'Long_'] = 72.09169\n",
    "\n",
    "df_final.loc[df_final['Province'] == 'Balochistan', 'Lat'] = 28.328492\n",
    "df_final.loc[df_final['Province'] == 'Balochistan', 'Long_'] = 65.898403\n",
    "\n",
    "df_final.loc[df_final['Province'] == 'Azad Jammu and Kashmir', 'Lat'] = 34.027401\n",
    "df_final.loc[df_final['Province'] == 'Azad Jammu and Kashmir', 'Long_'] = 73.947253"
   ]
  },
  {
   "cell_type": "code",
   "execution_count": null,
   "id": "ae3c5f30",
   "metadata": {
    "id": "ae3c5f30",
    "outputId": "4fa1210d-ea7d-4886-fb89-9223d52c04f7"
   },
   "outputs": [],
   "source": [
    "df_final.isnull().sum()"
   ]
  },
  {
   "cell_type": "code",
   "execution_count": null,
   "id": "590ce865",
   "metadata": {},
   "outputs": [],
   "source": [
    "df_final.head()"
   ]
  },
  {
   "cell_type": "code",
   "execution_count": null,
   "id": "c28db416",
   "metadata": {
    "id": "c28db416"
   },
   "outputs": [],
   "source": [
    "df_final.to_csv(\"C:\\\\Users\\\\OvaizAli\\\\Desktop\\\\FYP-2021\\\\Master\\\\FYP-I\\\\Data Collection\\\\CollectedData\\\\JHU Data\\\\All_Province (03-2020 to 02-2022).csv\", index = False)"
   ]
  },
  {
   "cell_type": "markdown",
   "id": "prxB0wbkMNQj",
   "metadata": {
    "id": "prxB0wbkMNQj"
   },
   "source": [
    "# Working on Data From IHME"
   ]
  },
  {
   "cell_type": "code",
   "execution_count": null,
   "id": "gyKoAhyXMMX6",
   "metadata": {
    "id": "gyKoAhyXMMX6"
   },
   "outputs": [],
   "source": [
    "path2020 = \"C:\\\\Users\\\\OvaizAli\\\\Desktop\\\\FYP-2021\\\\Working Directory\\\\data_download_file_reference_2020.csv\"\n",
    "path2021 = \"C:\\\\Users\\\\OvaizAli\\\\Desktop\\\\FYP-2021\\\\Working Directory\\\\data_download_file_reference_2021.csv\"\n",
    "path2022 = \"C:\\\\Users\\\\OvaizAli\\\\Desktop\\\\FYP-2021\\\\Working Directory\\\\data_download_file_reference_2022.csv\""
   ]
  },
  {
   "cell_type": "code",
   "execution_count": null,
   "id": "355ea831",
   "metadata": {},
   "outputs": [],
   "source": [
    "df2020 = pd.read_csv(path2020, index_col = False)\n",
    "df2021 = pd.read_csv(path2021, index_col = False)\n",
    "df2022 = pd.read_csv(path2022, index_col = False)"
   ]
  },
  {
   "cell_type": "code",
   "execution_count": null,
   "id": "209f28e5",
   "metadata": {},
   "outputs": [],
   "source": [
    "dfNull2020 = df2020.columns[df2020.isnull().any()]\n",
    "df2020.drop(dfNull2020, axis = 1, inplace = True)\n",
    "\n",
    "dfNull2021 = df2021.columns[df2021.isnull().any()]\n",
    "df2021.drop(dfNull2021, axis = 1, inplace = True)\n",
    "\n",
    "dfNull2022 = df2022.columns[df2022.isnull().any()]\n",
    "df2022.drop(dfNull2022, axis = 1, inplace = True)"
   ]
  },
  {
   "cell_type": "code",
   "execution_count": null,
   "id": "b2b7a09c",
   "metadata": {},
   "outputs": [],
   "source": [
    "df_All_IHME = pd.DataFrame()\n",
    "\n",
    "provinces = ['Sindh', 'Punjab', 'Balochistan', 'Azad Jammu & Kashmir', \"Gilgit-Baltistan\", \"Islamabad Capital Territory\", \"Khyber Pakhtunkhwa\"]\n",
    "\n",
    "for i in range(len(provinces)):\n",
    "    df_All_IHME = df_All_IHME.append(df2020[df2020['location_name'] == provinces[i]])\n",
    "    df_All_IHME = df_All_IHME.append(df2021[df2021['location_name'] == provinces[i]])\n",
    "    df_All_IHME = df_All_IHME.append(df2022[df2022['location_name'] == provinces[i]])"
   ]
  },
  {
   "cell_type": "code",
   "execution_count": null,
   "id": "0f578393",
   "metadata": {},
   "outputs": [],
   "source": [
    "len(df_All_IHME)"
   ]
  },
  {
   "cell_type": "code",
   "execution_count": null,
   "id": "WhMm4sM9MZ3j",
   "metadata": {
    "colab": {
     "base_uri": "https://localhost:8080/",
     "height": 275
    },
    "id": "WhMm4sM9MZ3j",
    "outputId": "c9fd1831-d3fe-4860-e9ca-4f4d594075c8"
   },
   "outputs": [],
   "source": [
    "df_All_IHME.head()"
   ]
  },
  {
   "cell_type": "code",
   "execution_count": null,
   "id": "_hHmiALzMoby",
   "metadata": {
    "id": "_hHmiALzMoby"
   },
   "outputs": [],
   "source": [
    "df_All_IHME.drop([df_All_IHME.columns[0], \"location_id\", \"version_name\"], axis = 1, inplace = True)"
   ]
  },
  {
   "cell_type": "code",
   "execution_count": null,
   "id": "jV0VF2NfZiXj",
   "metadata": {
    "colab": {
     "base_uri": "https://localhost:8080/"
    },
    "id": "jV0VF2NfZiXj",
    "outputId": "e07aca69-9ef2-41ab-f16f-89f56477f5c1"
   },
   "outputs": [],
   "source": [
    "len(df_All_IHME)"
   ]
  },
  {
   "cell_type": "code",
   "execution_count": null,
   "id": "D4Try6pPUYIe",
   "metadata": {
    "id": "D4Try6pPUYIe"
   },
   "outputs": [],
   "source": [
    "nan_value = float(\"NaN\")\n",
    "df_All_IHME.replace(\"\", nan_value, inplace=True)\n",
    "df_All_IHME.dropna(how='any', axis=1, inplace=True)"
   ]
  },
  {
   "cell_type": "code",
   "execution_count": null,
   "id": "1Mgnmd1LSjEm",
   "metadata": {
    "colab": {
     "base_uri": "https://localhost:8080/"
    },
    "id": "1Mgnmd1LSjEm",
    "outputId": "dc79f1c0-a348-468a-bb96-65977af31260"
   },
   "outputs": [],
   "source": [
    "df_All_IHME.isnull().sum()"
   ]
  },
  {
   "cell_type": "code",
   "execution_count": null,
   "id": "W2tRHRsbeTZM",
   "metadata": {
    "id": "W2tRHRsbeTZM"
   },
   "outputs": [],
   "source": [
    "df_All_IHME = df_All_IHME.rename(columns={'date' : 'Date', 'location_name' : 'Province'})"
   ]
  },
  {
   "cell_type": "code",
   "execution_count": null,
   "id": "rSgylVmc01Gc",
   "metadata": {
    "id": "rSgylVmc01Gc"
   },
   "outputs": [],
   "source": [
    "df_All_IHME['Date'] = pd.to_datetime(df_All_IHME['Date']).dt.date"
   ]
  },
  {
   "cell_type": "code",
   "execution_count": null,
   "id": "iXo0jONkZ2FL",
   "metadata": {
    "colab": {
     "base_uri": "https://localhost:8080/",
     "height": 422
    },
    "id": "iXo0jONkZ2FL",
    "outputId": "140fe276-9b29-4f80-b57d-17e43934c6e7"
   },
   "outputs": [],
   "source": [
    "df_All_IHME.head(7)"
   ]
  },
  {
   "cell_type": "code",
   "execution_count": null,
   "id": "Axi0Dv9ie5TP",
   "metadata": {
    "id": "Axi0Dv9ie5TP"
   },
   "outputs": [],
   "source": [
    "df_All_IHME.loc[df_All_IHME['Province'] == \"Azad Jammu & Kashmir\", 'Province'] = \"Azad Jammu and Kashmir\"\n",
    "df_All_IHME.loc[df_All_IHME['Province'] == \"Islamabad Capital Territory\", 'Province'] = \"Islamabad\""
   ]
  },
  {
   "cell_type": "code",
   "execution_count": null,
   "id": "___QnOJFf2ax",
   "metadata": {
    "colab": {
     "base_uri": "https://localhost:8080/",
     "height": 405
    },
    "id": "___QnOJFf2ax",
    "outputId": "63ad2ddc-6087-4322-c642-78e389bd0727"
   },
   "outputs": [],
   "source": [
    "df_All_IHME.head(7)"
   ]
  },
  {
   "cell_type": "code",
   "execution_count": null,
   "id": "321jEdZSabI0",
   "metadata": {
    "id": "321jEdZSabI0"
   },
   "outputs": [],
   "source": [
    "df_All_IHME.to_csv(\"C:\\\\Users\\\\OvaizAli\\\\Desktop\\\\FYP-2021\\\\Master\\\\FYP-I\\\\Data Collection\\\\CollectedData\\\\IHME Data\\\\IHME.csv\", index = False)"
   ]
  },
  {
   "cell_type": "markdown",
   "id": "2jwxaSuGb1G7",
   "metadata": {
    "id": "2jwxaSuGb1G7"
   },
   "source": [
    "# Merging All the Data from JHU and IHME"
   ]
  },
  {
   "cell_type": "code",
   "execution_count": null,
   "id": "7AFK4mm1b0XU",
   "metadata": {
    "id": "7AFK4mm1b0XU"
   },
   "outputs": [],
   "source": [
    "path = \"C:\\\\Users\\\\OvaizAli\\\\Desktop\\\\FYP-2021\\\\Master\\\\FYP-I\\\\Data Collection\\\\CollectedData\\\\JHU Data\\\\All_Province (03-2020 to 02-2022).csv\""
   ]
  },
  {
   "cell_type": "code",
   "execution_count": null,
   "id": "QorrCec1dSHN",
   "metadata": {
    "colab": {
     "base_uri": "https://localhost:8080/",
     "height": 266
    },
    "id": "QorrCec1dSHN",
    "outputId": "0722fcc7-0511-4feb-929d-8941470f153a"
   },
   "outputs": [],
   "source": [
    "df_JHU = pd.read_csv(path)\n",
    "df_JHU.head(7)"
   ]
  },
  {
   "cell_type": "code",
   "execution_count": null,
   "id": "2f562d0f",
   "metadata": {},
   "outputs": [],
   "source": [
    "df_JHU['Date'] = pd.to_datetime(df_JHU['Date']).dt.date"
   ]
  },
  {
   "cell_type": "code",
   "execution_count": null,
   "id": "Rdmajm2Qdcbc",
   "metadata": {
    "colab": {
     "base_uri": "https://localhost:8080/",
     "height": 374
    },
    "id": "Rdmajm2Qdcbc",
    "outputId": "df186c62-0b32-414d-ed23-e88a6bf1e253"
   },
   "outputs": [],
   "source": [
    "df_JHU_IHME = pd.merge(left=df_JHU, right=df_All_IHME, how='left', left_on=['Date', 'Province'], right_on=['Date', 'Province'])"
   ]
  },
  {
   "cell_type": "code",
   "execution_count": null,
   "id": "1ggJCYcyghTu",
   "metadata": {
    "colab": {
     "base_uri": "https://localhost:8080/",
     "height": 326
    },
    "id": "1ggJCYcyghTu",
    "outputId": "3ef79cf2-358f-430c-db57-6cb7a6ef870f"
   },
   "outputs": [],
   "source": [
    "df_JHU_IHME.head() "
   ]
  },
  {
   "cell_type": "code",
   "execution_count": null,
   "id": "KiESWERyhS7y",
   "metadata": {
    "colab": {
     "base_uri": "https://localhost:8080/"
    },
    "id": "KiESWERyhS7y",
    "outputId": "1e9dc2a4-1f87-4786-9526-abe6d9c21fbe"
   },
   "outputs": [],
   "source": [
    "df_JHU_IHME.isnull().sum()"
   ]
  },
  {
   "cell_type": "code",
   "execution_count": null,
   "id": "2caf03bf",
   "metadata": {},
   "outputs": [],
   "source": [
    "df_JHU_IHME.rename(columns={'Unnamed: 0':'S.No'}, inplace=True )"
   ]
  },
  {
   "cell_type": "code",
   "execution_count": null,
   "id": "ffe011d7",
   "metadata": {},
   "outputs": [],
   "source": [
    "df_JHU_IHME.head()"
   ]
  },
  {
   "cell_type": "code",
   "execution_count": null,
   "id": "hlYJL2VSjblG",
   "metadata": {
    "id": "hlYJL2VSjblG"
   },
   "outputs": [],
   "source": [
    "df_JHU_IHME.to_csv('C:\\\\Users\\\\OvaizAli\\\\Desktop\\\\FYP-2021\\\\Master\\\\FYP-I\\\\Data Collection\\\\CollectedData\\\\JHU_IHME.csv', index = False)"
   ]
  },
  {
   "cell_type": "markdown",
   "id": "d3689e66",
   "metadata": {},
   "source": [
    "# Merging Weather related Data to JHU_IHME"
   ]
  },
  {
   "cell_type": "code",
   "execution_count": null,
   "id": "43ee0018",
   "metadata": {},
   "outputs": [],
   "source": [
    "path = 'C:\\\\Users\\\\OvaizAli\\\\Desktop\\\\FYP-2021\\\\Master\\\\FYP-I\\\\Data Collection\\\\CollectedData\\\\JHU_IHME.csv'"
   ]
  },
  {
   "cell_type": "code",
   "execution_count": null,
   "id": "b295f47e",
   "metadata": {},
   "outputs": [],
   "source": [
    "df_JHU_IHME = pd.read_csv(path)"
   ]
  },
  {
   "cell_type": "code",
   "execution_count": null,
   "id": "4f9b7acf",
   "metadata": {},
   "outputs": [],
   "source": [
    "# df_JHU_IHME.drop(['Unnamed: 0'], axis = 1, inplace = True)"
   ]
  },
  {
   "cell_type": "code",
   "execution_count": null,
   "id": "fbeb1d9c",
   "metadata": {},
   "outputs": [],
   "source": [
    "df_JHU_IHME.head(7)"
   ]
  },
  {
   "cell_type": "code",
   "execution_count": null,
   "id": "0aeb5011",
   "metadata": {},
   "outputs": [],
   "source": [
    "sindh_weather_path = 'C:\\\\Users\\\\OvaizAli\\\\Desktop\\\\FYP-2021\\\\Working Directory\\\\Sindh.csv'\n",
    "punjab_weather_path = 'C:\\\\Users\\\\OvaizAli\\\\Desktop\\\\FYP-2021\\\\Working Directory\\\\Punjab.csv'\n",
    "isb_weather_path = 'C:\\\\Users\\\\OvaizAli\\\\Desktop\\\\FYP-2021\\\\Working Directory\\\\ISB.csv'\n",
    "bal_weather_path = 'C:\\\\Users\\\\OvaizAli\\\\Desktop\\\\FYP-2021\\\\Working Directory\\\\Bal.csv'\n",
    "ajk_weather_path = 'C:\\\\Users\\\\OvaizAli\\\\Desktop\\\\FYP-2021\\\\Working Directory\\\\AJK.csv'\n",
    "kpk_weather_path = 'C:\\\\Users\\\\OvaizAli\\\\Desktop\\\\FYP-2021\\\\Working Directory\\\\KPK.csv'\n",
    "gb_weather_path = 'C:\\\\Users\\\\OvaizAli\\\\Desktop\\\\FYP-2021\\\\Working Directory\\\\GB.csv'"
   ]
  },
  {
   "cell_type": "code",
   "execution_count": null,
   "id": "4c223df8",
   "metadata": {},
   "outputs": [],
   "source": [
    "df_sindh = pd.read_csv(sindh_weather_path)\n",
    "df_sindh.drop(['Unnamed: 0'], axis = 1, inplace = True)\n",
    "\n",
    "df_punjab = pd.read_csv(punjab_weather_path)\n",
    "df_punjab.drop(['Unnamed: 0'], axis = 1, inplace = True)\n",
    "\n",
    "df_isb = pd.read_csv(isb_weather_path)\n",
    "df_isb.drop(['Unnamed: 0'], axis = 1, inplace = True)\n",
    "\n",
    "df_bal = pd.read_csv(bal_weather_path)\n",
    "df_bal.drop(['Unnamed: 0'], axis = 1, inplace = True)\n",
    "\n",
    "df_ajk = pd.read_csv(ajk_weather_path)\n",
    "df_ajk.drop(['Unnamed: 0'], axis = 1, inplace = True)\n",
    "\n",
    "df_kpk = pd.read_csv(kpk_weather_path)\n",
    "df_kpk.drop(['Unnamed: 0'], axis = 1, inplace = True)\n",
    "\n",
    "df_gb = pd.read_csv(gb_weather_path)\n",
    "df_gb.drop(['Unnamed: 0'], axis = 1, inplace = True)"
   ]
  },
  {
   "cell_type": "code",
   "execution_count": null,
   "id": "abb59663",
   "metadata": {},
   "outputs": [],
   "source": [
    "df_sindh.head(2)"
   ]
  },
  {
   "cell_type": "code",
   "execution_count": null,
   "id": "64ee7ebf",
   "metadata": {},
   "outputs": [],
   "source": [
    "ast.literal_eval(df_sindh['January 1, 2020'][0])"
   ]
  },
  {
   "cell_type": "code",
   "execution_count": null,
   "id": "3bcb7f58",
   "metadata": {
    "scrolled": true
   },
   "outputs": [],
   "source": [
    "ast.literal_eval(df_sindh['January 1, 2020'][3])['Weather']"
   ]
  },
  {
   "cell_type": "code",
   "execution_count": null,
   "id": "24a1724c",
   "metadata": {},
   "outputs": [],
   "source": [
    "sindh_final_dict = {}\n",
    "for i in df_sindh.columns:\n",
    "    tTemp = 0\n",
    "    tWind = 0\n",
    "    tBarometer = 0\n",
    "    tVisibility = 0\n",
    "    for j in range(len(df_sindh[i])):\n",
    "        try:\n",
    "            tTemp += float(ast.literal_eval(df_sindh[i][j])['Temp'][:2])\n",
    "            tWind += float(ast.literal_eval(df_sindh[i][j])['Wind'][:2])\n",
    "            tBarometer += float(ast.literal_eval(df_sindh[i][j])['Barometer'][:2])\n",
    "            tVisibility += float(ast.literal_eval(df_sindh[i][j])['Visibility'][:5])\n",
    "            \n",
    "        except:\n",
    "            continue\n",
    "    sindh_final_dict[i] = {\"Temp\" : round(tTemp/j, 2), \"Wind\" : round(tWind/j, 2), \"Barometer\" : round(tBarometer/j, 2),\n",
    "                          \"Visibility\" : round(tVisibility/j, 2), \"Weather\" : ast.literal_eval(df_sindh[i][0])['Weather']}\n",
    "    "
   ]
  },
  {
   "cell_type": "code",
   "execution_count": null,
   "id": "d354ed29",
   "metadata": {},
   "outputs": [],
   "source": [
    "punjab_final_dict = {}\n",
    "for i in df_punjab.columns:\n",
    "    tTemp = 0\n",
    "    tWind = 0\n",
    "    tBarometer = 0\n",
    "    tVisibility = 0\n",
    "    for j in range(len(df_punjab[i])):\n",
    "        try:\n",
    "            tTemp += float(ast.literal_eval(df_punjab[i][j])['Temp'][:2])\n",
    "            tWind += float(ast.literal_eval(df_punjab[i][j])['Wind'][:2])\n",
    "            tBarometer += float(ast.literal_eval(df_punjab[i][j])['Barometer'][:2])\n",
    "            tVisibility += float(ast.literal_eval(df_punjab[i][j])['Visibility'][:5])\n",
    "            \n",
    "        except:\n",
    "            continue\n",
    "    punjab_final_dict[i] = {\"Temp\" : round(tTemp/j, 2), \"Wind\" : round(tWind/j, 2), \"Barometer\" : round(tBarometer/j, 2),\n",
    "                          \"Visibility\" : round(tVisibility/j, 2), \"Weather\" : ast.literal_eval(df_punjab[i][0])['Weather']}\n",
    "    "
   ]
  },
  {
   "cell_type": "code",
   "execution_count": null,
   "id": "7b01520f",
   "metadata": {},
   "outputs": [],
   "source": [
    "isb_final_dict = {}\n",
    "for i in df_isb.columns:\n",
    "    tTemp = 0\n",
    "    tWind = 0\n",
    "    tBarometer = 0\n",
    "    tVisibility = 0\n",
    "    for j in range(len(df_isb[i])):\n",
    "        try:\n",
    "            tTemp += float(ast.literal_eval(df_isb[i][j])['Temp'][:2])\n",
    "            tWind += float(ast.literal_eval(df_isb[i][j])['Wind'][:2])\n",
    "            tBarometer += float(ast.literal_eval(df_isb[i][j])['Barometer'][:2])\n",
    "            tVisibility += float(ast.literal_eval(df_isb[i][j])['Visibility'][:5])\n",
    "            \n",
    "        except:\n",
    "            continue\n",
    "    isb_final_dict[i] = {\"Temp\" : round(tTemp/j, 2), \"Wind\" : round(tWind/j, 2), \"Barometer\" : round(tBarometer/j, 2),\n",
    "                          \"Visibility\" : round(tVisibility/j, 2), \"Weather\" : ast.literal_eval(df_isb[i][0])['Weather']}\n",
    "    "
   ]
  },
  {
   "cell_type": "code",
   "execution_count": null,
   "id": "51497664",
   "metadata": {},
   "outputs": [],
   "source": [
    "bal_final_dict = {}\n",
    "for i in df_bal.columns:\n",
    "    tTemp = 0\n",
    "    tWind = 0\n",
    "    tBarometer = 0\n",
    "    tVisibility = 0\n",
    "    for j in range(len(df_bal[i])):\n",
    "        try:\n",
    "            tTemp += float(ast.literal_eval(df_bal[i][j])['Temp'][:2])\n",
    "            tWind += float(ast.literal_eval(df_bal[i][j])['Wind'][:2])\n",
    "            tBarometer += float(ast.literal_eval(df_bal[i][j])['Barometer'][:2])\n",
    "            tVisibility += float(ast.literal_eval(df_bal[i][j])['Visibility'][:5])\n",
    "            \n",
    "        except:\n",
    "            continue\n",
    "    bal_final_dict[i] = {\"Temp\" : round(tTemp/j, 2), \"Wind\" : round(tWind/j, 2), \"Barometer\" : round(tBarometer/j, 2),\n",
    "                          \"Visibility\" : round(tVisibility/j, 2), \"Weather\" : ast.literal_eval(df_bal[i][0])['Weather']}\n",
    "    "
   ]
  },
  {
   "cell_type": "code",
   "execution_count": null,
   "id": "179b3f4e",
   "metadata": {},
   "outputs": [],
   "source": [
    "ajk_final_dict = {}\n",
    "for i in df_ajk.columns:\n",
    "    tTemp = 0\n",
    "    tWind = 0\n",
    "    tBarometer = 0\n",
    "    tVisibility = 0\n",
    "    for j in range(len(df_ajk[i])):\n",
    "        try:\n",
    "            tTemp += float(ast.literal_eval(df_ajk[i][j])['Temp'][:2])\n",
    "            tWind += float(ast.literal_eval(df_ajk[i][j])['Wind'][:2])\n",
    "            tBarometer += float(ast.literal_eval(df_ajk[i][j])['Barometer'][:2])\n",
    "            tVisibility += float(ast.literal_eval(df_ajk[i][j])['Visibility'][:5])\n",
    "            \n",
    "        except:\n",
    "            continue\n",
    "    ajk_final_dict[i] = {\"Temp\" : round(tTemp/j, 2), \"Wind\" : round(tWind/j, 2), \"Barometer\" : round(tBarometer/j, 2),\n",
    "                          \"Visibility\" : round(tVisibility/j, 2), \"Weather\" : ast.literal_eval(df_ajk[i][0])['Weather']}\n",
    "    "
   ]
  },
  {
   "cell_type": "code",
   "execution_count": null,
   "id": "ca2618bb",
   "metadata": {},
   "outputs": [],
   "source": [
    "kpk_final_dict = {}\n",
    "for i in df_kpk.columns:\n",
    "    tTemp = 0\n",
    "    tWind = 0\n",
    "    tBarometer = 0\n",
    "    tVisibility = 0\n",
    "    for j in range(len(df_kpk[i])):\n",
    "        try:\n",
    "            tTemp += float(ast.literal_eval(df_kpk[i][j])['Temp'][:2])\n",
    "            tWind += float(ast.literal_eval(df_kpk[i][j])['Wind'][:2])\n",
    "            tBarometer += float(ast.literal_eval(df_kpk[i][j])['Barometer'][:2])\n",
    "            tVisibility += float(ast.literal_eval(df_kpk[i][j])['Visibility'][:5])\n",
    "            \n",
    "        except:\n",
    "            continue\n",
    "    kpk_final_dict[i] = {\"Temp\" : round(tTemp/j, 2), \"Wind\" : round(tWind/j, 2), \"Barometer\" : round(tBarometer/j, 2),\n",
    "                          \"Visibility\" : round(tVisibility/j, 2), \"Weather\" : ast.literal_eval(df_kpk[i][0])['Weather']}\n",
    "    "
   ]
  },
  {
   "cell_type": "code",
   "execution_count": null,
   "id": "e2f72ba6",
   "metadata": {},
   "outputs": [],
   "source": [
    "gb_final_dict = {}\n",
    "for i in df_gb.columns:\n",
    "    tTemp = 0\n",
    "    tWind = 0\n",
    "    tBarometer = 0\n",
    "    tVisibility = 0\n",
    "    for j in range(len(df_gb[i])):\n",
    "        try:\n",
    "            tTemp += float(ast.literal_eval(df_gb[i][j])['Temp'][:2])\n",
    "            tWind += float(ast.literal_eval(df_gb[i][j])['Wind'][:2])\n",
    "            tBarometer += float(ast.literal_eval(df_gb[i][j])['Barometer'][:2])\n",
    "            tVisibility += float(ast.literal_eval(df_gb[i][j])['Visibility'][:5])\n",
    "            \n",
    "        except:\n",
    "            continue\n",
    "    gb_final_dict[i] = {\"Temp\" : round(tTemp/j, 2), \"Wind\" : round(tWind/j, 2), \"Barometer\" : round(tBarometer/j, 2),\n",
    "                          \"Visibility\" : round(tVisibility/j, 2), \"Weather\" : ast.literal_eval(df_gb[i][0])['Weather']}\n",
    "    "
   ]
  },
  {
   "cell_type": "code",
   "execution_count": null,
   "id": "b6cb9aa2",
   "metadata": {},
   "outputs": [],
   "source": [
    "pd.DataFrame(sindh_final_dict).T.to_csv('C:\\\\Users\\\\OvaizAli\\\\Desktop\\\\FYP-2021\\\\Master\\\\FYP-I\\\\Data Collection\\\\CollectedData\\\\Weather Data\\\\Sindh_Final_Weather.csv')"
   ]
  },
  {
   "cell_type": "code",
   "execution_count": null,
   "id": "3e52197d",
   "metadata": {},
   "outputs": [],
   "source": [
    "pd.DataFrame(punjab_final_dict).T.to_csv('C:\\\\Users\\\\OvaizAli\\\\Desktop\\\\FYP-2021\\\\Master\\\\FYP-I\\\\Data Collection\\\\CollectedData\\\\Weather Data\\\\Punjab_Final_Weather.csv')"
   ]
  },
  {
   "cell_type": "code",
   "execution_count": null,
   "id": "cd294f48",
   "metadata": {},
   "outputs": [],
   "source": [
    "pd.DataFrame(isb_final_dict).T.to_csv('C:\\\\Users\\\\OvaizAli\\\\Desktop\\\\FYP-2021\\\\Master\\\\FYP-I\\\\Data Collection\\\\CollectedData\\\\Weather Data\\\\ISB_Final_Weather.csv')"
   ]
  },
  {
   "cell_type": "code",
   "execution_count": null,
   "id": "2b0dbb44",
   "metadata": {},
   "outputs": [],
   "source": [
    "pd.DataFrame(kpk_final_dict).T.to_csv('C:\\\\Users\\\\OvaizAli\\\\Desktop\\\\FYP-2021\\\\Master\\\\FYP-I\\\\Data Collection\\\\CollectedData\\\\Weather Data\\\\KPK_Final_Weather.csv')"
   ]
  },
  {
   "cell_type": "code",
   "execution_count": null,
   "id": "46c608ec",
   "metadata": {},
   "outputs": [],
   "source": [
    "pd.DataFrame(ajk_final_dict).T.to_csv('C:\\\\Users\\\\OvaizAli\\\\Desktop\\\\FYP-2021\\\\Master\\\\FYP-I\\\\Data Collection\\\\CollectedData\\\\Weather Data\\\\AJK_Final_Weather.csv')"
   ]
  },
  {
   "cell_type": "code",
   "execution_count": null,
   "id": "047490eb",
   "metadata": {},
   "outputs": [],
   "source": [
    "pd.DataFrame(bal_final_dict).T.to_csv('C:\\\\Users\\\\OvaizAli\\\\Desktop\\\\FYP-2021\\\\Master\\\\FYP-I\\\\Data Collection\\\\CollectedData\\\\Weather Data\\\\BAL_Final_Weather.csv')"
   ]
  },
  {
   "cell_type": "code",
   "execution_count": null,
   "id": "4339fb47",
   "metadata": {},
   "outputs": [],
   "source": [
    "pd.DataFrame(gb_final_dict).T.to_csv('C:\\\\Users\\\\OvaizAli\\\\Desktop\\\\FYP-2021\\\\Master\\\\FYP-I\\\\Data Collection\\\\CollectedData\\\\Weather Data\\\\GB_Final_Weather.csv')"
   ]
  },
  {
   "cell_type": "code",
   "execution_count": null,
   "id": "6673fe40",
   "metadata": {},
   "outputs": [],
   "source": [
    "dfw_sindh = pd.read_csv('C:\\\\Users\\\\OvaizAli\\\\Desktop\\\\FYP-2021\\\\Master\\\\FYP-I\\\\Data Collection\\\\CollectedData\\\\Weather Data\\\\Sindh_Final_Weather.csv')\n",
    "dfw_sindh[\"Province\"] = \"Sindh\"\n",
    "dfw_punjab = pd.read_csv('C:\\\\Users\\\\OvaizAli\\\\Desktop\\\\FYP-2021\\\\Master\\\\FYP-I\\\\Data Collection\\\\CollectedData\\\\Weather Data\\\\Punjab_Final_Weather.csv')\n",
    "dfw_punjab[\"Province\"] = \"Punjab\"\n",
    "dfw_ajk = pd.read_csv('C:\\\\Users\\\\OvaizAli\\\\Desktop\\\\FYP-2021\\\\Master\\\\FYP-I\\\\Data Collection\\\\CollectedData\\\\Weather Data\\\\AJK_Final_Weather.csv')\n",
    "dfw_ajk[\"Province\"] = \"Azad Jammu and Kashmir\"\n",
    "dfw_kpk = pd.read_csv('C:\\\\Users\\\\OvaizAli\\\\Desktop\\\\FYP-2021\\\\Master\\\\FYP-I\\\\Data Collection\\\\CollectedData\\\\Weather Data\\\\KPK_Final_Weather.csv')\n",
    "dfw_kpk[\"Province\"] = \"Khyber Pakhtunkhwa\"\n",
    "dfw_bal = pd.read_csv('C:\\\\Users\\\\OvaizAli\\\\Desktop\\\\FYP-2021\\\\Master\\\\FYP-I\\\\Data Collection\\\\CollectedData\\\\Weather Data\\\\BAL_Final_Weather.csv')\n",
    "dfw_bal[\"Province\"] = \"Balochistan\"\n",
    "dfw_gb = pd.read_csv('C:\\\\Users\\\\OvaizAli\\\\Desktop\\\\FYP-2021\\\\Master\\\\FYP-I\\\\Data Collection\\\\CollectedData\\\\Weather Data\\\\ISB_Final_Weather.csv')\n",
    "dfw_gb[\"Province\"] = \"Gilgit-Baltistan\"\n",
    "dfw_isb = pd.read_csv('C:\\\\Users\\\\OvaizAli\\\\Desktop\\\\FYP-2021\\\\Master\\\\FYP-I\\\\Data Collection\\\\CollectedData\\\\Weather Data\\\\Sindh_Final_Weather.csv')\n",
    "dfw_isb[\"Province\"] = \"Islamabad\"\n",
    "# dfw_sindh.rename(columns={'Unnamed: 0':'Date'}, inplace=True )"
   ]
  },
  {
   "cell_type": "code",
   "execution_count": null,
   "id": "cb0e59ae",
   "metadata": {},
   "outputs": [],
   "source": [
    "dfw_sindh.columns.values[0] = 'Date'\n",
    "dfw_punjab.columns.values[0] = 'Date'\n",
    "dfw_ajk.columns.values[0] = 'Date'\n",
    "dfw_kpk.columns.values[0] = 'Date'\n",
    "dfw_bal.columns.values[0] = 'Date'\n",
    "dfw_gb.columns.values[0] = 'Date'\n",
    "dfw_isb.columns.values[0] = 'Date'"
   ]
  },
  {
   "cell_type": "code",
   "execution_count": null,
   "id": "b526eed3",
   "metadata": {},
   "outputs": [],
   "source": [
    "dfw_all_provinces = pd.concat([dfw_sindh, dfw_punjab, dfw_ajk, dfw_kpk, dfw_bal, dfw_gb, dfw_isb])\n",
    "# dfw_all_provinces.rename(columns={'Unnamed: 0':'Date'}, inplace=True )\n",
    "dfw_all_provinces[dfw_all_provinces['Date'] == \"Previous 24 hours\"] = \"NaN\""
   ]
  },
  {
   "cell_type": "code",
   "execution_count": null,
   "id": "78fb1913",
   "metadata": {},
   "outputs": [],
   "source": [
    "dfw_all_provinces[dfw_all_provinces['Date'] == \"NaN\"]"
   ]
  },
  {
   "cell_type": "code",
   "execution_count": null,
   "id": "bb028813",
   "metadata": {},
   "outputs": [],
   "source": [
    "dfw_all_provinces = dfw_all_provinces.dropna()"
   ]
  },
  {
   "cell_type": "code",
   "execution_count": null,
   "id": "c46d801b",
   "metadata": {},
   "outputs": [],
   "source": [
    "dfw_all_provinces.head()"
   ]
  },
  {
   "cell_type": "code",
   "execution_count": null,
   "id": "a458c30f",
   "metadata": {},
   "outputs": [],
   "source": [
    "dfw_all_provinces.isnull().sum()"
   ]
  },
  {
   "cell_type": "code",
   "execution_count": null,
   "id": "e815dc58",
   "metadata": {},
   "outputs": [],
   "source": [
    "dfw_all_provinces['Date'] = pd.to_datetime(dfw_all_provinces['Date'])"
   ]
  },
  {
   "cell_type": "code",
   "execution_count": null,
   "id": "ddb08a54",
   "metadata": {},
   "outputs": [],
   "source": [
    "df_JHU_IHME['Date'] = pd.to_datetime(df_JHU_IHME['Date'])"
   ]
  },
  {
   "cell_type": "code",
   "execution_count": null,
   "id": "73b38dc5",
   "metadata": {},
   "outputs": [],
   "source": [
    "dfw_all_provinces.isnull().sum()"
   ]
  },
  {
   "cell_type": "code",
   "execution_count": null,
   "id": "94a6c5f3",
   "metadata": {},
   "outputs": [],
   "source": [
    "df_JHU_IHME_TD = pd.merge(left=df_JHU_IHME, right=dfw_all_provinces, how='left', left_on=['Date', 'Province'], right_on=['Date', 'Province'])"
   ]
  },
  {
   "cell_type": "code",
   "execution_count": null,
   "id": "0c5df2b1",
   "metadata": {},
   "outputs": [],
   "source": [
    "df_JHU_IHME_TD.head()"
   ]
  },
  {
   "cell_type": "code",
   "execution_count": null,
   "id": "18cda2ef",
   "metadata": {},
   "outputs": [],
   "source": [
    "len(df_JHU_IHME_TD.columns)"
   ]
  },
  {
   "cell_type": "code",
   "execution_count": null,
   "id": "a624ecf0",
   "metadata": {},
   "outputs": [],
   "source": [
    "pd.options.mode.chained_assignment = None  # default='warn'\n",
    "columns = ['Confirmed',\n",
    "       'Deaths', 'Recovered', 'inf_mean', 'inf_upper', 'inf_lower',\n",
    "       'seir_cumulative_mean', 'seir_cumulative_lower',\n",
    "       'seir_cumulative_upper', 'inf_cuml_mean', 'inf_cuml_lower',\n",
    "       'inf_cuml_upper', 'seir_daily_mean', 'seir_daily_lower',\n",
    "       'seir_daily_upper', 'seir_daily_unscaled_mean',\n",
    "       'seir_daily_unscaled_lower', 'seir_daily_unscaled_upper',\n",
    "       'seir_cumulative_unscaled_mean', 'seir_cumulative_unscaled_lower',\n",
    "       'seir_cumulative_unscaled_upper', 'cases_mean', 'cases_lower',\n",
    "       'cases_upper', 'inf_cuml_mean_vax', 'inf_cuml_lower_vax',\n",
    "       'inf_cuml_upper_vax', 'inf_cuml_mean_unvax', 'inf_cuml_lower_unvax',\n",
    "       'inf_cuml_upper_unvax', 'inf_mean_vax', 'inf_lower_vax',\n",
    "       'inf_upper_vax', 'inf_mean_unvax', 'inf_lower_unvax', 'inf_upper_unvax',\n",
    "       'population', 'mobility_mean', 'mobility_obs', 'testing_obs',\n",
    "       'pneumonia_mean', 'pneumonia_obs', 'mask_use_mean', 'mask_use_obs',\n",
    "       'hospital_beds_mean', 'hospital_beds_upper', 'hospital_beds_lower',\n",
    "       'icu_beds_mean', 'icu_beds_upper', 'icu_beds_lower', 'admis_mean',\n",
    "       'admis_upper', 'admis_lower', 'admis_mean_vax', 'admis_upper_vax',\n",
    "       'admis_lower_vax', 'admis_mean_unvax', 'admis_upper_unvax',\n",
    "       'admis_lower_unvax', \"Temp\", \"Wind\", \"Barometer\", \"Visibility\"]\n",
    "\n",
    "for i in range(len(df_JHU_IHME_TD)):\n",
    "    for j in columns:\n",
    "        if df_JHU_IHME_TD[j][i] < 0:\n",
    "            df_JHU_IHME_TD[j][i] = abs(df_JHU_IHME_TD[j][i])"
   ]
  },
  {
   "cell_type": "code",
   "execution_count": null,
   "id": "33e921f7",
   "metadata": {},
   "outputs": [],
   "source": [
    "df_JHU_IHME_TD.to_csv('C:\\\\Users\\\\OvaizAli\\\\Desktop\\\\FYP-2021\\\\Master\\\\FYP-I\\\\Data Collection\\\\CollectedData\\\\JHU_IHME_TD.csv', index = False)"
   ]
  },
  {
   "cell_type": "code",
   "execution_count": null,
   "id": "19c9accf",
   "metadata": {},
   "outputs": [],
   "source": [
    "df = df_JHU_IHME_TD.isnull().sum() \n",
    "# df.where(df > 0)\n",
    "df.tail(5)"
   ]
  },
  {
   "cell_type": "code",
   "execution_count": null,
   "id": "12835ed7",
   "metadata": {},
   "outputs": [],
   "source": [
    "# Done till here"
   ]
  },
  {
   "cell_type": "markdown",
   "id": "68dc1f59",
   "metadata": {},
   "source": [
    "# Further Data Preparation"
   ]
  },
  {
   "cell_type": "code",
   "execution_count": 483,
   "id": "ce73e9d4",
   "metadata": {},
   "outputs": [],
   "source": [
    "path = \"C:\\\\Users\\\\OvaizAli\\\\Desktop\\\\FYP-2021\\\\FYP-I\\\\Master\\\\Data Collection\\\\CollectedData\\\\JHU_IHME_TD.csv\""
   ]
  },
  {
   "cell_type": "code",
   "execution_count": 484,
   "id": "6a741fc3",
   "metadata": {},
   "outputs": [],
   "source": [
    "df = pd.read_csv(path)"
   ]
  },
  {
   "cell_type": "code",
   "execution_count": 485,
   "id": "1d261382",
   "metadata": {},
   "outputs": [
    {
     "data": {
      "text/html": [
       "<div>\n",
       "<style scoped>\n",
       "    .dataframe tbody tr th:only-of-type {\n",
       "        vertical-align: middle;\n",
       "    }\n",
       "\n",
       "    .dataframe tbody tr th {\n",
       "        vertical-align: top;\n",
       "    }\n",
       "\n",
       "    .dataframe thead th {\n",
       "        text-align: right;\n",
       "    }\n",
       "</style>\n",
       "<table border=\"1\" class=\"dataframe\">\n",
       "  <thead>\n",
       "    <tr style=\"text-align: right;\">\n",
       "      <th></th>\n",
       "      <th>Province</th>\n",
       "      <th>Country_Region</th>\n",
       "      <th>Date</th>\n",
       "      <th>Lat</th>\n",
       "      <th>Long_</th>\n",
       "      <th>Confirmed</th>\n",
       "      <th>Deaths</th>\n",
       "      <th>Recovered</th>\n",
       "      <th>inf_mean</th>\n",
       "      <th>inf_upper</th>\n",
       "      <th>...</th>\n",
       "      <th>admis_upper_vax</th>\n",
       "      <th>admis_lower_vax</th>\n",
       "      <th>admis_mean_unvax</th>\n",
       "      <th>admis_upper_unvax</th>\n",
       "      <th>admis_lower_unvax</th>\n",
       "      <th>Temp</th>\n",
       "      <th>Wind</th>\n",
       "      <th>Barometer</th>\n",
       "      <th>Visibility</th>\n",
       "      <th>Weather</th>\n",
       "    </tr>\n",
       "  </thead>\n",
       "  <tbody>\n",
       "    <tr>\n",
       "      <th>0</th>\n",
       "      <td>Azad Jammu and Kashmir</td>\n",
       "      <td>Pakistan</td>\n",
       "      <td>2021-01-02</td>\n",
       "      <td>34.027401</td>\n",
       "      <td>73.947253</td>\n",
       "      <td>8303.0</td>\n",
       "      <td>224.0</td>\n",
       "      <td>7691.0</td>\n",
       "      <td>3808.83</td>\n",
       "      <td>6326.40</td>\n",
       "      <td>...</td>\n",
       "      <td>0.0</td>\n",
       "      <td>0.0</td>\n",
       "      <td>44.315680</td>\n",
       "      <td>87.531220</td>\n",
       "      <td>18.540050</td>\n",
       "      <td>26.86</td>\n",
       "      <td>1.43</td>\n",
       "      <td>42.71</td>\n",
       "      <td>0.00</td>\n",
       "      <td>Clear.</td>\n",
       "    </tr>\n",
       "    <tr>\n",
       "      <th>1</th>\n",
       "      <td>Balochistan</td>\n",
       "      <td>Pakistan</td>\n",
       "      <td>2021-01-02</td>\n",
       "      <td>28.328492</td>\n",
       "      <td>65.898403</td>\n",
       "      <td>18181.0</td>\n",
       "      <td>184.0</td>\n",
       "      <td>17752.0</td>\n",
       "      <td>7796.48</td>\n",
       "      <td>10691.60</td>\n",
       "      <td>...</td>\n",
       "      <td>0.0</td>\n",
       "      <td>0.0</td>\n",
       "      <td>51.534680</td>\n",
       "      <td>99.960110</td>\n",
       "      <td>24.121890</td>\n",
       "      <td>10.43</td>\n",
       "      <td>2.43</td>\n",
       "      <td>8.00</td>\n",
       "      <td>0.00</td>\n",
       "      <td>Clear.</td>\n",
       "    </tr>\n",
       "    <tr>\n",
       "      <th>2</th>\n",
       "      <td>Gilgit-Baltistan</td>\n",
       "      <td>Pakistan</td>\n",
       "      <td>2021-01-02</td>\n",
       "      <td>35.792146</td>\n",
       "      <td>74.982138</td>\n",
       "      <td>4862.0</td>\n",
       "      <td>101.0</td>\n",
       "      <td>4713.0</td>\n",
       "      <td>141.94</td>\n",
       "      <td>291.55</td>\n",
       "      <td>...</td>\n",
       "      <td>0.0</td>\n",
       "      <td>0.0</td>\n",
       "      <td>2.395434</td>\n",
       "      <td>5.133114</td>\n",
       "      <td>1.029408</td>\n",
       "      <td>27.86</td>\n",
       "      <td>0.71</td>\n",
       "      <td>12.14</td>\n",
       "      <td>4.30</td>\n",
       "      <td>Fog.</td>\n",
       "    </tr>\n",
       "    <tr>\n",
       "      <th>3</th>\n",
       "      <td>Islamabad</td>\n",
       "      <td>Pakistan</td>\n",
       "      <td>2021-01-02</td>\n",
       "      <td>33.665087</td>\n",
       "      <td>73.121219</td>\n",
       "      <td>38020.0</td>\n",
       "      <td>421.0</td>\n",
       "      <td>34617.0</td>\n",
       "      <td>1909.63</td>\n",
       "      <td>3303.93</td>\n",
       "      <td>...</td>\n",
       "      <td>0.0</td>\n",
       "      <td>0.0</td>\n",
       "      <td>26.606190</td>\n",
       "      <td>43.253210</td>\n",
       "      <td>11.482480</td>\n",
       "      <td>32.57</td>\n",
       "      <td>4.00</td>\n",
       "      <td>28.00</td>\n",
       "      <td>17.15</td>\n",
       "      <td>Clear.</td>\n",
       "    </tr>\n",
       "    <tr>\n",
       "      <th>4</th>\n",
       "      <td>Khyber Pakhtunkhwa</td>\n",
       "      <td>Pakistan</td>\n",
       "      <td>2021-01-02</td>\n",
       "      <td>34.485332</td>\n",
       "      <td>72.091690</td>\n",
       "      <td>59023.0</td>\n",
       "      <td>1661.0</td>\n",
       "      <td>53942.0</td>\n",
       "      <td>73123.81</td>\n",
       "      <td>99366.35</td>\n",
       "      <td>...</td>\n",
       "      <td>0.0</td>\n",
       "      <td>0.0</td>\n",
       "      <td>466.710000</td>\n",
       "      <td>1027.979000</td>\n",
       "      <td>171.967100</td>\n",
       "      <td>44.34</td>\n",
       "      <td>3.86</td>\n",
       "      <td>36.73</td>\n",
       "      <td>23.24</td>\n",
       "      <td>Passing clouds.</td>\n",
       "    </tr>\n",
       "  </tbody>\n",
       "</table>\n",
       "<p>5 rows × 69 columns</p>\n",
       "</div>"
      ],
      "text/plain": [
       "                 Province Country_Region        Date        Lat      Long_  \\\n",
       "0  Azad Jammu and Kashmir       Pakistan  2021-01-02  34.027401  73.947253   \n",
       "1             Balochistan       Pakistan  2021-01-02  28.328492  65.898403   \n",
       "2        Gilgit-Baltistan       Pakistan  2021-01-02  35.792146  74.982138   \n",
       "3               Islamabad       Pakistan  2021-01-02  33.665087  73.121219   \n",
       "4      Khyber Pakhtunkhwa       Pakistan  2021-01-02  34.485332  72.091690   \n",
       "\n",
       "   Confirmed  Deaths  Recovered  inf_mean  inf_upper  ...  admis_upper_vax  \\\n",
       "0     8303.0   224.0     7691.0   3808.83    6326.40  ...              0.0   \n",
       "1    18181.0   184.0    17752.0   7796.48   10691.60  ...              0.0   \n",
       "2     4862.0   101.0     4713.0    141.94     291.55  ...              0.0   \n",
       "3    38020.0   421.0    34617.0   1909.63    3303.93  ...              0.0   \n",
       "4    59023.0  1661.0    53942.0  73123.81   99366.35  ...              0.0   \n",
       "\n",
       "   admis_lower_vax  admis_mean_unvax  admis_upper_unvax  admis_lower_unvax  \\\n",
       "0              0.0         44.315680          87.531220          18.540050   \n",
       "1              0.0         51.534680          99.960110          24.121890   \n",
       "2              0.0          2.395434           5.133114           1.029408   \n",
       "3              0.0         26.606190          43.253210          11.482480   \n",
       "4              0.0        466.710000        1027.979000         171.967100   \n",
       "\n",
       "    Temp  Wind  Barometer  Visibility          Weather  \n",
       "0  26.86  1.43      42.71        0.00           Clear.  \n",
       "1  10.43  2.43       8.00        0.00           Clear.  \n",
       "2  27.86  0.71      12.14        4.30             Fog.  \n",
       "3  32.57  4.00      28.00       17.15           Clear.  \n",
       "4  44.34  3.86      36.73       23.24  Passing clouds.  \n",
       "\n",
       "[5 rows x 69 columns]"
      ]
     },
     "execution_count": 485,
     "metadata": {},
     "output_type": "execute_result"
    }
   ],
   "source": [
    "df.head()"
   ]
  },
  {
   "cell_type": "code",
   "execution_count": 486,
   "id": "992f6757",
   "metadata": {},
   "outputs": [],
   "source": [
    "NaN = \"\"\n",
    "\n",
    "df.insert(3,\"Day\",NaN)\n",
    "df.insert(4,\"Month\",NaN)\n",
    "df.insert(5,\"Year\",NaN)\n",
    "df.insert(10,\"Daily_Confirmed\",NaN)\n",
    "df.insert(12,\"Daily_Deaths\",NaN)\n",
    "for i in range(len(df)):\n",
    "    x = str(df[\"Date\"][i]).split(\"-\")\n",
    "#     print(x[2])\n",
    "    day = int(x[2])\n",
    "    month = int(x[1])\n",
    "    year = int(x[0])\n",
    "    df[\"Day\"].iloc[i] = day\n",
    "    df[\"Month\"].iloc[i] = month\n",
    "    df[\"Year\"].iloc[i] = year"
   ]
  },
  {
   "cell_type": "code",
   "execution_count": 487,
   "id": "70a0f2b1",
   "metadata": {},
   "outputs": [
    {
     "data": {
      "text/html": [
       "<div>\n",
       "<style scoped>\n",
       "    .dataframe tbody tr th:only-of-type {\n",
       "        vertical-align: middle;\n",
       "    }\n",
       "\n",
       "    .dataframe tbody tr th {\n",
       "        vertical-align: top;\n",
       "    }\n",
       "\n",
       "    .dataframe thead th {\n",
       "        text-align: right;\n",
       "    }\n",
       "</style>\n",
       "<table border=\"1\" class=\"dataframe\">\n",
       "  <thead>\n",
       "    <tr style=\"text-align: right;\">\n",
       "      <th></th>\n",
       "      <th>Province</th>\n",
       "      <th>Country_Region</th>\n",
       "      <th>Date</th>\n",
       "      <th>Day</th>\n",
       "      <th>Month</th>\n",
       "      <th>Year</th>\n",
       "      <th>Lat</th>\n",
       "      <th>Long_</th>\n",
       "      <th>Confirmed</th>\n",
       "      <th>Deaths</th>\n",
       "      <th>...</th>\n",
       "      <th>admis_upper_vax</th>\n",
       "      <th>admis_lower_vax</th>\n",
       "      <th>admis_mean_unvax</th>\n",
       "      <th>admis_upper_unvax</th>\n",
       "      <th>admis_lower_unvax</th>\n",
       "      <th>Temp</th>\n",
       "      <th>Wind</th>\n",
       "      <th>Barometer</th>\n",
       "      <th>Visibility</th>\n",
       "      <th>Weather</th>\n",
       "    </tr>\n",
       "  </thead>\n",
       "  <tbody>\n",
       "    <tr>\n",
       "      <th>0</th>\n",
       "      <td>Azad Jammu and Kashmir</td>\n",
       "      <td>Pakistan</td>\n",
       "      <td>2021-01-02</td>\n",
       "      <td>2</td>\n",
       "      <td>1</td>\n",
       "      <td>2021</td>\n",
       "      <td>34.027401</td>\n",
       "      <td>73.947253</td>\n",
       "      <td>8303.0</td>\n",
       "      <td>224.0</td>\n",
       "      <td>...</td>\n",
       "      <td>0.000000</td>\n",
       "      <td>0.000000</td>\n",
       "      <td>44.315680</td>\n",
       "      <td>87.531220</td>\n",
       "      <td>18.540050</td>\n",
       "      <td>26.86</td>\n",
       "      <td>1.43</td>\n",
       "      <td>42.71</td>\n",
       "      <td>0.00</td>\n",
       "      <td>Clear.</td>\n",
       "    </tr>\n",
       "    <tr>\n",
       "      <th>1</th>\n",
       "      <td>Balochistan</td>\n",
       "      <td>Pakistan</td>\n",
       "      <td>2021-01-02</td>\n",
       "      <td>2</td>\n",
       "      <td>1</td>\n",
       "      <td>2021</td>\n",
       "      <td>28.328492</td>\n",
       "      <td>65.898403</td>\n",
       "      <td>18181.0</td>\n",
       "      <td>184.0</td>\n",
       "      <td>...</td>\n",
       "      <td>0.000000</td>\n",
       "      <td>0.000000</td>\n",
       "      <td>51.534680</td>\n",
       "      <td>99.960110</td>\n",
       "      <td>24.121890</td>\n",
       "      <td>10.43</td>\n",
       "      <td>2.43</td>\n",
       "      <td>8.00</td>\n",
       "      <td>0.00</td>\n",
       "      <td>Clear.</td>\n",
       "    </tr>\n",
       "    <tr>\n",
       "      <th>2</th>\n",
       "      <td>Gilgit-Baltistan</td>\n",
       "      <td>Pakistan</td>\n",
       "      <td>2021-01-02</td>\n",
       "      <td>2</td>\n",
       "      <td>1</td>\n",
       "      <td>2021</td>\n",
       "      <td>35.792146</td>\n",
       "      <td>74.982138</td>\n",
       "      <td>4862.0</td>\n",
       "      <td>101.0</td>\n",
       "      <td>...</td>\n",
       "      <td>0.000000</td>\n",
       "      <td>0.000000</td>\n",
       "      <td>2.395434</td>\n",
       "      <td>5.133114</td>\n",
       "      <td>1.029408</td>\n",
       "      <td>27.86</td>\n",
       "      <td>0.71</td>\n",
       "      <td>12.14</td>\n",
       "      <td>4.30</td>\n",
       "      <td>Fog.</td>\n",
       "    </tr>\n",
       "    <tr>\n",
       "      <th>3</th>\n",
       "      <td>Islamabad</td>\n",
       "      <td>Pakistan</td>\n",
       "      <td>2021-01-02</td>\n",
       "      <td>2</td>\n",
       "      <td>1</td>\n",
       "      <td>2021</td>\n",
       "      <td>33.665087</td>\n",
       "      <td>73.121219</td>\n",
       "      <td>38020.0</td>\n",
       "      <td>421.0</td>\n",
       "      <td>...</td>\n",
       "      <td>0.000000</td>\n",
       "      <td>0.000000</td>\n",
       "      <td>26.606190</td>\n",
       "      <td>43.253210</td>\n",
       "      <td>11.482480</td>\n",
       "      <td>32.57</td>\n",
       "      <td>4.00</td>\n",
       "      <td>28.00</td>\n",
       "      <td>17.15</td>\n",
       "      <td>Clear.</td>\n",
       "    </tr>\n",
       "    <tr>\n",
       "      <th>4</th>\n",
       "      <td>Khyber Pakhtunkhwa</td>\n",
       "      <td>Pakistan</td>\n",
       "      <td>2021-01-02</td>\n",
       "      <td>2</td>\n",
       "      <td>1</td>\n",
       "      <td>2021</td>\n",
       "      <td>34.485332</td>\n",
       "      <td>72.091690</td>\n",
       "      <td>59023.0</td>\n",
       "      <td>1661.0</td>\n",
       "      <td>...</td>\n",
       "      <td>0.000000</td>\n",
       "      <td>0.000000</td>\n",
       "      <td>466.710000</td>\n",
       "      <td>1027.979000</td>\n",
       "      <td>171.967100</td>\n",
       "      <td>44.34</td>\n",
       "      <td>3.86</td>\n",
       "      <td>36.73</td>\n",
       "      <td>23.24</td>\n",
       "      <td>Passing clouds.</td>\n",
       "    </tr>\n",
       "    <tr>\n",
       "      <th>5</th>\n",
       "      <td>Punjab</td>\n",
       "      <td>Pakistan</td>\n",
       "      <td>2021-01-02</td>\n",
       "      <td>2</td>\n",
       "      <td>1</td>\n",
       "      <td>2021</td>\n",
       "      <td>30.811346</td>\n",
       "      <td>72.139132</td>\n",
       "      <td>139341.0</td>\n",
       "      <td>4085.0</td>\n",
       "      <td>...</td>\n",
       "      <td>0.000000</td>\n",
       "      <td>0.000000</td>\n",
       "      <td>1367.064000</td>\n",
       "      <td>2409.708000</td>\n",
       "      <td>644.182300</td>\n",
       "      <td>44.77</td>\n",
       "      <td>0.96</td>\n",
       "      <td>3.60</td>\n",
       "      <td>5.00</td>\n",
       "      <td>Passing clouds.</td>\n",
       "    </tr>\n",
       "    <tr>\n",
       "      <th>6</th>\n",
       "      <td>Sindh</td>\n",
       "      <td>Pakistan</td>\n",
       "      <td>2021-01-02</td>\n",
       "      <td>2</td>\n",
       "      <td>1</td>\n",
       "      <td>2021</td>\n",
       "      <td>26.009446</td>\n",
       "      <td>68.776807</td>\n",
       "      <td>216632.0</td>\n",
       "      <td>3582.0</td>\n",
       "      <td>...</td>\n",
       "      <td>0.000000</td>\n",
       "      <td>0.000000</td>\n",
       "      <td>736.080700</td>\n",
       "      <td>1154.621000</td>\n",
       "      <td>419.945000</td>\n",
       "      <td>32.57</td>\n",
       "      <td>4.00</td>\n",
       "      <td>28.00</td>\n",
       "      <td>17.15</td>\n",
       "      <td>Clear.</td>\n",
       "    </tr>\n",
       "    <tr>\n",
       "      <th>7</th>\n",
       "      <td>Azad Jammu and Kashmir</td>\n",
       "      <td>Pakistan</td>\n",
       "      <td>2022-01-02</td>\n",
       "      <td>2</td>\n",
       "      <td>1</td>\n",
       "      <td>2022</td>\n",
       "      <td>34.027401</td>\n",
       "      <td>73.947253</td>\n",
       "      <td>34665.0</td>\n",
       "      <td>746.0</td>\n",
       "      <td>...</td>\n",
       "      <td>3.380239</td>\n",
       "      <td>0.342628</td>\n",
       "      <td>2.036696</td>\n",
       "      <td>4.989993</td>\n",
       "      <td>0.517289</td>\n",
       "      <td>47.57</td>\n",
       "      <td>2.00</td>\n",
       "      <td>35.71</td>\n",
       "      <td>0.00</td>\n",
       "      <td>Clear.</td>\n",
       "    </tr>\n",
       "  </tbody>\n",
       "</table>\n",
       "<p>8 rows × 74 columns</p>\n",
       "</div>"
      ],
      "text/plain": [
       "                 Province Country_Region        Date Day Month  Year  \\\n",
       "0  Azad Jammu and Kashmir       Pakistan  2021-01-02   2     1  2021   \n",
       "1             Balochistan       Pakistan  2021-01-02   2     1  2021   \n",
       "2        Gilgit-Baltistan       Pakistan  2021-01-02   2     1  2021   \n",
       "3               Islamabad       Pakistan  2021-01-02   2     1  2021   \n",
       "4      Khyber Pakhtunkhwa       Pakistan  2021-01-02   2     1  2021   \n",
       "5                  Punjab       Pakistan  2021-01-02   2     1  2021   \n",
       "6                   Sindh       Pakistan  2021-01-02   2     1  2021   \n",
       "7  Azad Jammu and Kashmir       Pakistan  2022-01-02   2     1  2022   \n",
       "\n",
       "         Lat      Long_  Confirmed  Deaths  ... admis_upper_vax  \\\n",
       "0  34.027401  73.947253     8303.0   224.0  ...        0.000000   \n",
       "1  28.328492  65.898403    18181.0   184.0  ...        0.000000   \n",
       "2  35.792146  74.982138     4862.0   101.0  ...        0.000000   \n",
       "3  33.665087  73.121219    38020.0   421.0  ...        0.000000   \n",
       "4  34.485332  72.091690    59023.0  1661.0  ...        0.000000   \n",
       "5  30.811346  72.139132   139341.0  4085.0  ...        0.000000   \n",
       "6  26.009446  68.776807   216632.0  3582.0  ...        0.000000   \n",
       "7  34.027401  73.947253    34665.0   746.0  ...        3.380239   \n",
       "\n",
       "   admis_lower_vax admis_mean_unvax  admis_upper_unvax  admis_lower_unvax  \\\n",
       "0         0.000000        44.315680          87.531220          18.540050   \n",
       "1         0.000000        51.534680          99.960110          24.121890   \n",
       "2         0.000000         2.395434           5.133114           1.029408   \n",
       "3         0.000000        26.606190          43.253210          11.482480   \n",
       "4         0.000000       466.710000        1027.979000         171.967100   \n",
       "5         0.000000      1367.064000        2409.708000         644.182300   \n",
       "6         0.000000       736.080700        1154.621000         419.945000   \n",
       "7         0.342628         2.036696           4.989993           0.517289   \n",
       "\n",
       "    Temp  Wind  Barometer  Visibility          Weather  \n",
       "0  26.86  1.43      42.71        0.00           Clear.  \n",
       "1  10.43  2.43       8.00        0.00           Clear.  \n",
       "2  27.86  0.71      12.14        4.30             Fog.  \n",
       "3  32.57  4.00      28.00       17.15           Clear.  \n",
       "4  44.34  3.86      36.73       23.24  Passing clouds.  \n",
       "5  44.77  0.96       3.60        5.00  Passing clouds.  \n",
       "6  32.57  4.00      28.00       17.15           Clear.  \n",
       "7  47.57  2.00      35.71        0.00           Clear.  \n",
       "\n",
       "[8 rows x 74 columns]"
      ]
     },
     "execution_count": 487,
     "metadata": {},
     "output_type": "execute_result"
    }
   ],
   "source": [
    "df.head(8)"
   ]
  },
  {
   "cell_type": "code",
   "execution_count": 488,
   "id": "7267e6e4",
   "metadata": {},
   "outputs": [],
   "source": [
    "balochistan_df = df[df['Province'] == 'Balochistan']\n",
    "isb_df = df[df['Province'] == 'Islamabad']\n",
    "punjab_df = df[df['Province'] == 'Punjab']\n",
    "sindh_df = df[df['Province'] == 'Sindh']\n",
    "kpk_df = df[df['Province'] == 'Khyber Pakhtunkhwa']\n",
    "gilgit_df= df[df['Province'] == 'Gilgit-Baltistan']\n",
    "kashmir_df= df[df['Province'] == 'Azad Jammu and Kashmir']"
   ]
  },
  {
   "cell_type": "code",
   "execution_count": 489,
   "id": "da977c67",
   "metadata": {},
   "outputs": [],
   "source": [
    "balochistan_df.reset_index(drop=True, inplace=True)\n",
    "isb_df.reset_index(drop=True, inplace=True)\n",
    "punjab_df.reset_index(drop=True, inplace=True)\n",
    "sindh_df.reset_index(drop=True, inplace=True)\n",
    "kpk_df.reset_index(drop=True, inplace=True)\n",
    "gilgit_df.reset_index(drop=True, inplace=True)\n",
    "kashmir_df.reset_index(drop=True, inplace=True)"
   ]
  },
  {
   "cell_type": "code",
   "execution_count": 490,
   "id": "ea67a0f3",
   "metadata": {},
   "outputs": [
    {
     "name": "stdout",
     "output_type": "stream",
     "text": [
      "703\n",
      "703\n",
      "703\n",
      "703\n",
      "703\n",
      "703\n",
      "703\n"
     ]
    }
   ],
   "source": [
    "print(len(balochistan_df))\n",
    "print(len(isb_df))\n",
    "print(len(punjab_df))\n",
    "print(len(sindh_df))\n",
    "print(len(kpk_df))\n",
    "print(len(gilgit_df))\n",
    "print(len(kashmir_df))"
   ]
  },
  {
   "cell_type": "code",
   "execution_count": 491,
   "id": "eaecc6ab",
   "metadata": {},
   "outputs": [],
   "source": [
    "balochistan_df = balochistan_df.sort_values(by = ['Year', 'Month', 'Day']).reset_index()\n",
    "isb_df = isb_df.sort_values(by = ['Year', 'Month', 'Day']).reset_index()\n",
    "punjab_df = punjab_df.sort_values(by = ['Year', 'Month', 'Day']).reset_index()\n",
    "sindh_df = sindh_df.sort_values(by = ['Year', 'Month', 'Day']).reset_index()\n",
    "kpk_df = kpk_df.sort_values(by = ['Year', 'Month', 'Day']).reset_index()\n",
    "gilgit_df = gilgit_df.sort_values(by = ['Year', 'Month', 'Day']).reset_index()\n",
    "kashmir_df = kashmir_df.sort_values(by = ['Year', 'Month', 'Day']).reset_index()"
   ]
  },
  {
   "cell_type": "code",
   "execution_count": 492,
   "id": "a7ce8fa2",
   "metadata": {},
   "outputs": [
    {
     "data": {
      "text/html": [
       "<div>\n",
       "<style scoped>\n",
       "    .dataframe tbody tr th:only-of-type {\n",
       "        vertical-align: middle;\n",
       "    }\n",
       "\n",
       "    .dataframe tbody tr th {\n",
       "        vertical-align: top;\n",
       "    }\n",
       "\n",
       "    .dataframe thead th {\n",
       "        text-align: right;\n",
       "    }\n",
       "</style>\n",
       "<table border=\"1\" class=\"dataframe\">\n",
       "  <thead>\n",
       "    <tr style=\"text-align: right;\">\n",
       "      <th></th>\n",
       "      <th>Province</th>\n",
       "      <th>Country_Region</th>\n",
       "      <th>Date</th>\n",
       "      <th>Day</th>\n",
       "      <th>Month</th>\n",
       "      <th>Year</th>\n",
       "      <th>Confirmed</th>\n",
       "      <th>Daily_Confirmed</th>\n",
       "    </tr>\n",
       "  </thead>\n",
       "  <tbody>\n",
       "    <tr>\n",
       "      <th>0</th>\n",
       "      <td>Balochistan</td>\n",
       "      <td>Pakistan</td>\n",
       "      <td>2020-03-10</td>\n",
       "      <td>10</td>\n",
       "      <td>3</td>\n",
       "      <td>2020</td>\n",
       "      <td>1.0</td>\n",
       "      <td></td>\n",
       "    </tr>\n",
       "    <tr>\n",
       "      <th>1</th>\n",
       "      <td>Balochistan</td>\n",
       "      <td>Pakistan</td>\n",
       "      <td>2020-03-11</td>\n",
       "      <td>11</td>\n",
       "      <td>3</td>\n",
       "      <td>2020</td>\n",
       "      <td>1.0</td>\n",
       "      <td></td>\n",
       "    </tr>\n",
       "    <tr>\n",
       "      <th>2</th>\n",
       "      <td>Balochistan</td>\n",
       "      <td>Pakistan</td>\n",
       "      <td>2020-03-12</td>\n",
       "      <td>12</td>\n",
       "      <td>3</td>\n",
       "      <td>2020</td>\n",
       "      <td>1.0</td>\n",
       "      <td></td>\n",
       "    </tr>\n",
       "    <tr>\n",
       "      <th>3</th>\n",
       "      <td>Balochistan</td>\n",
       "      <td>Pakistan</td>\n",
       "      <td>2020-03-13</td>\n",
       "      <td>13</td>\n",
       "      <td>3</td>\n",
       "      <td>2020</td>\n",
       "      <td>6.0</td>\n",
       "      <td></td>\n",
       "    </tr>\n",
       "    <tr>\n",
       "      <th>4</th>\n",
       "      <td>Balochistan</td>\n",
       "      <td>Pakistan</td>\n",
       "      <td>2020-03-14</td>\n",
       "      <td>14</td>\n",
       "      <td>3</td>\n",
       "      <td>2020</td>\n",
       "      <td>6.0</td>\n",
       "      <td></td>\n",
       "    </tr>\n",
       "    <tr>\n",
       "      <th>5</th>\n",
       "      <td>Balochistan</td>\n",
       "      <td>Pakistan</td>\n",
       "      <td>2020-03-15</td>\n",
       "      <td>15</td>\n",
       "      <td>3</td>\n",
       "      <td>2020</td>\n",
       "      <td>11.0</td>\n",
       "      <td></td>\n",
       "    </tr>\n",
       "    <tr>\n",
       "      <th>6</th>\n",
       "      <td>Balochistan</td>\n",
       "      <td>Pakistan</td>\n",
       "      <td>2020-03-16</td>\n",
       "      <td>16</td>\n",
       "      <td>3</td>\n",
       "      <td>2020</td>\n",
       "      <td>14.0</td>\n",
       "      <td></td>\n",
       "    </tr>\n",
       "    <tr>\n",
       "      <th>7</th>\n",
       "      <td>Balochistan</td>\n",
       "      <td>Pakistan</td>\n",
       "      <td>2020-03-17</td>\n",
       "      <td>17</td>\n",
       "      <td>3</td>\n",
       "      <td>2020</td>\n",
       "      <td>15.0</td>\n",
       "      <td></td>\n",
       "    </tr>\n",
       "    <tr>\n",
       "      <th>8</th>\n",
       "      <td>Balochistan</td>\n",
       "      <td>Pakistan</td>\n",
       "      <td>2020-03-18</td>\n",
       "      <td>18</td>\n",
       "      <td>3</td>\n",
       "      <td>2020</td>\n",
       "      <td>23.0</td>\n",
       "      <td></td>\n",
       "    </tr>\n",
       "  </tbody>\n",
       "</table>\n",
       "</div>"
      ],
      "text/plain": [
       "      Province Country_Region        Date Day Month  Year  Confirmed  \\\n",
       "0  Balochistan       Pakistan  2020-03-10  10     3  2020        1.0   \n",
       "1  Balochistan       Pakistan  2020-03-11  11     3  2020        1.0   \n",
       "2  Balochistan       Pakistan  2020-03-12  12     3  2020        1.0   \n",
       "3  Balochistan       Pakistan  2020-03-13  13     3  2020        6.0   \n",
       "4  Balochistan       Pakistan  2020-03-14  14     3  2020        6.0   \n",
       "5  Balochistan       Pakistan  2020-03-15  15     3  2020       11.0   \n",
       "6  Balochistan       Pakistan  2020-03-16  16     3  2020       14.0   \n",
       "7  Balochistan       Pakistan  2020-03-17  17     3  2020       15.0   \n",
       "8  Balochistan       Pakistan  2020-03-18  18     3  2020       23.0   \n",
       "\n",
       "  Daily_Confirmed  \n",
       "0                  \n",
       "1                  \n",
       "2                  \n",
       "3                  \n",
       "4                  \n",
       "5                  \n",
       "6                  \n",
       "7                  \n",
       "8                  "
      ]
     },
     "execution_count": 492,
     "metadata": {},
     "output_type": "execute_result"
    }
   ],
   "source": [
    "balochistan_df[['Province', 'Country_Region', 'Date', 'Day', 'Month', 'Year', 'Confirmed', \"Daily_Confirmed\"]].head(9)"
   ]
  },
  {
   "cell_type": "code",
   "execution_count": 493,
   "id": "3ec9523c",
   "metadata": {},
   "outputs": [],
   "source": [
    "columns = [\"Temp\",\"Wind\",\"Barometer\",\"Visibility\",\"Weather\"]"
   ]
  },
  {
   "cell_type": "code",
   "execution_count": 494,
   "id": "c322008b",
   "metadata": {},
   "outputs": [],
   "source": [
    "balochistan_df[\"Daily_Confirmed\"][0] = balochistan_df[\"Confirmed\"][0]\n",
    "balochistan_df[\"Daily_Deaths\"][0] = balochistan_df[\"Deaths\"][0]\n",
    "for i in range(1,len(balochistan_df)):\n",
    "    balochistan_df[\"Daily_Confirmed\"][i] = balochistan_df[\"Confirmed\"][i] - balochistan_df[\"Confirmed\"][i - 1]\n",
    "    balochistan_df[\"Daily_Deaths\"][i] = balochistan_df[\"Deaths\"][i] - balochistan_df[\"Deaths\"][i - 1]\n",
    "    for col in columns:\n",
    "        if pd.isna(balochistan_df[col][i]) == True:\n",
    "            balochistan_df[col][i] = balochistan_df[col][i - 1]"
   ]
  },
  {
   "cell_type": "code",
   "execution_count": 495,
   "id": "7ce29f70",
   "metadata": {},
   "outputs": [
    {
     "data": {
      "text/html": [
       "<div>\n",
       "<style scoped>\n",
       "    .dataframe tbody tr th:only-of-type {\n",
       "        vertical-align: middle;\n",
       "    }\n",
       "\n",
       "    .dataframe tbody tr th {\n",
       "        vertical-align: top;\n",
       "    }\n",
       "\n",
       "    .dataframe thead th {\n",
       "        text-align: right;\n",
       "    }\n",
       "</style>\n",
       "<table border=\"1\" class=\"dataframe\">\n",
       "  <thead>\n",
       "    <tr style=\"text-align: right;\">\n",
       "      <th></th>\n",
       "      <th>Province</th>\n",
       "      <th>Country_Region</th>\n",
       "      <th>Date</th>\n",
       "      <th>Day</th>\n",
       "      <th>Month</th>\n",
       "      <th>Year</th>\n",
       "      <th>Confirmed</th>\n",
       "      <th>Daily_Confirmed</th>\n",
       "    </tr>\n",
       "  </thead>\n",
       "  <tbody>\n",
       "    <tr>\n",
       "      <th>0</th>\n",
       "      <td>Balochistan</td>\n",
       "      <td>Pakistan</td>\n",
       "      <td>2020-03-10</td>\n",
       "      <td>10</td>\n",
       "      <td>3</td>\n",
       "      <td>2020</td>\n",
       "      <td>1.0</td>\n",
       "      <td>1.0</td>\n",
       "    </tr>\n",
       "    <tr>\n",
       "      <th>1</th>\n",
       "      <td>Balochistan</td>\n",
       "      <td>Pakistan</td>\n",
       "      <td>2020-03-11</td>\n",
       "      <td>11</td>\n",
       "      <td>3</td>\n",
       "      <td>2020</td>\n",
       "      <td>1.0</td>\n",
       "      <td>0.0</td>\n",
       "    </tr>\n",
       "    <tr>\n",
       "      <th>2</th>\n",
       "      <td>Balochistan</td>\n",
       "      <td>Pakistan</td>\n",
       "      <td>2020-03-12</td>\n",
       "      <td>12</td>\n",
       "      <td>3</td>\n",
       "      <td>2020</td>\n",
       "      <td>1.0</td>\n",
       "      <td>0.0</td>\n",
       "    </tr>\n",
       "    <tr>\n",
       "      <th>3</th>\n",
       "      <td>Balochistan</td>\n",
       "      <td>Pakistan</td>\n",
       "      <td>2020-03-13</td>\n",
       "      <td>13</td>\n",
       "      <td>3</td>\n",
       "      <td>2020</td>\n",
       "      <td>6.0</td>\n",
       "      <td>5.0</td>\n",
       "    </tr>\n",
       "    <tr>\n",
       "      <th>4</th>\n",
       "      <td>Balochistan</td>\n",
       "      <td>Pakistan</td>\n",
       "      <td>2020-03-14</td>\n",
       "      <td>14</td>\n",
       "      <td>3</td>\n",
       "      <td>2020</td>\n",
       "      <td>6.0</td>\n",
       "      <td>0.0</td>\n",
       "    </tr>\n",
       "    <tr>\n",
       "      <th>5</th>\n",
       "      <td>Balochistan</td>\n",
       "      <td>Pakistan</td>\n",
       "      <td>2020-03-15</td>\n",
       "      <td>15</td>\n",
       "      <td>3</td>\n",
       "      <td>2020</td>\n",
       "      <td>11.0</td>\n",
       "      <td>5.0</td>\n",
       "    </tr>\n",
       "    <tr>\n",
       "      <th>6</th>\n",
       "      <td>Balochistan</td>\n",
       "      <td>Pakistan</td>\n",
       "      <td>2020-03-16</td>\n",
       "      <td>16</td>\n",
       "      <td>3</td>\n",
       "      <td>2020</td>\n",
       "      <td>14.0</td>\n",
       "      <td>3.0</td>\n",
       "    </tr>\n",
       "    <tr>\n",
       "      <th>7</th>\n",
       "      <td>Balochistan</td>\n",
       "      <td>Pakistan</td>\n",
       "      <td>2020-03-17</td>\n",
       "      <td>17</td>\n",
       "      <td>3</td>\n",
       "      <td>2020</td>\n",
       "      <td>15.0</td>\n",
       "      <td>1.0</td>\n",
       "    </tr>\n",
       "    <tr>\n",
       "      <th>8</th>\n",
       "      <td>Balochistan</td>\n",
       "      <td>Pakistan</td>\n",
       "      <td>2020-03-18</td>\n",
       "      <td>18</td>\n",
       "      <td>3</td>\n",
       "      <td>2020</td>\n",
       "      <td>23.0</td>\n",
       "      <td>8.0</td>\n",
       "    </tr>\n",
       "  </tbody>\n",
       "</table>\n",
       "</div>"
      ],
      "text/plain": [
       "      Province Country_Region        Date Day Month  Year  Confirmed  \\\n",
       "0  Balochistan       Pakistan  2020-03-10  10     3  2020        1.0   \n",
       "1  Balochistan       Pakistan  2020-03-11  11     3  2020        1.0   \n",
       "2  Balochistan       Pakistan  2020-03-12  12     3  2020        1.0   \n",
       "3  Balochistan       Pakistan  2020-03-13  13     3  2020        6.0   \n",
       "4  Balochistan       Pakistan  2020-03-14  14     3  2020        6.0   \n",
       "5  Balochistan       Pakistan  2020-03-15  15     3  2020       11.0   \n",
       "6  Balochistan       Pakistan  2020-03-16  16     3  2020       14.0   \n",
       "7  Balochistan       Pakistan  2020-03-17  17     3  2020       15.0   \n",
       "8  Balochistan       Pakistan  2020-03-18  18     3  2020       23.0   \n",
       "\n",
       "  Daily_Confirmed  \n",
       "0             1.0  \n",
       "1             0.0  \n",
       "2             0.0  \n",
       "3             5.0  \n",
       "4             0.0  \n",
       "5             5.0  \n",
       "6             3.0  \n",
       "7             1.0  \n",
       "8             8.0  "
      ]
     },
     "execution_count": 495,
     "metadata": {},
     "output_type": "execute_result"
    }
   ],
   "source": [
    "balochistan_df[['Province', 'Country_Region', 'Date', 'Day', 'Month', 'Year', 'Confirmed', \"Daily_Confirmed\"]].head(9)"
   ]
  },
  {
   "cell_type": "code",
   "execution_count": 496,
   "id": "9e1d33fa",
   "metadata": {},
   "outputs": [],
   "source": [
    "isb_df[\"Daily_Confirmed\"][0] = isb_df[\"Confirmed\"][0]\n",
    "isb_df[\"Daily_Deaths\"][0] = isb_df[\"Deaths\"][0]\n",
    "for i in range(1,len(isb_df)):\n",
    "    isb_df[\"Daily_Confirmed\"][i] = isb_df[\"Confirmed\"][i] - isb_df[\"Confirmed\"][i - 1]\n",
    "    isb_df[\"Daily_Deaths\"][i] = isb_df[\"Deaths\"][i] - isb_df[\"Deaths\"][i - 1]\n",
    "    for col in columns:\n",
    "        if pd.isna(isb_df[col][i]) == True:\n",
    "            isb_df[col][i] = isb_df[col][i - 1]"
   ]
  },
  {
   "cell_type": "code",
   "execution_count": 497,
   "id": "b3ae70fd",
   "metadata": {},
   "outputs": [],
   "source": [
    "punjab_df[\"Daily_Confirmed\"][0] = punjab_df[\"Confirmed\"][0]\n",
    "punjab_df[\"Daily_Deaths\"][0] = punjab_df[\"Deaths\"][0]\n",
    "for i in range(1,len(punjab_df)):\n",
    "    punjab_df[\"Daily_Confirmed\"][i] = punjab_df[\"Confirmed\"][i] - punjab_df[\"Confirmed\"][i - 1]\n",
    "    punjab_df[\"Daily_Deaths\"][i] = punjab_df[\"Deaths\"][i] - punjab_df[\"Deaths\"][i - 1]\n",
    "    for col in columns:\n",
    "        if pd.isna(punjab_df[col][i]) == True:\n",
    "            punjab_df[col][i] = punjab_df[col][i - 1]"
   ]
  },
  {
   "cell_type": "code",
   "execution_count": 498,
   "id": "0560dc67",
   "metadata": {},
   "outputs": [],
   "source": [
    "kashmir_df[\"Daily_Confirmed\"][0] = kashmir_df[\"Confirmed\"][0]\n",
    "kashmir_df[\"Daily_Deaths\"][0] = kashmir_df[\"Deaths\"][0]\n",
    "for i in range(1,len(kashmir_df)):\n",
    "    kashmir_df[\"Daily_Confirmed\"][i] = kashmir_df[\"Confirmed\"][i] - kashmir_df[\"Confirmed\"][i - 1]\n",
    "    kashmir_df[\"Daily_Deaths\"][i] = kashmir_df[\"Deaths\"][i] - kashmir_df[\"Deaths\"][i - 1]\n",
    "    for col in columns:\n",
    "        if pd.isna(kashmir_df[col][i]) == True:\n",
    "            kashmir_df[col][i] = kashmir_df[col][i - 1]"
   ]
  },
  {
   "cell_type": "code",
   "execution_count": 499,
   "id": "214c7915",
   "metadata": {},
   "outputs": [],
   "source": [
    "kpk_df[\"Daily_Confirmed\"][0] = kpk_df[\"Confirmed\"][0]\n",
    "kpk_df[\"Daily_Deaths\"][0] = kpk_df[\"Deaths\"][0]\n",
    "for i in range(1,len(kpk_df)):\n",
    "    kpk_df[\"Daily_Confirmed\"][i] = kpk_df[\"Confirmed\"][i] - kpk_df[\"Confirmed\"][i - 1]\n",
    "    kpk_df[\"Daily_Deaths\"][i] = kpk_df[\"Deaths\"][i] - kpk_df[\"Deaths\"][i - 1]\n",
    "    for col in columns:\n",
    "        if pd.isna(kpk_df[col][i]) == True:\n",
    "            kpk_df[col][i] = kpk_df[col][i - 1]"
   ]
  },
  {
   "cell_type": "code",
   "execution_count": 500,
   "id": "1afc742f",
   "metadata": {},
   "outputs": [],
   "source": [
    "sindh_df[\"Daily_Confirmed\"][0] = sindh_df[\"Confirmed\"][0]\n",
    "sindh_df[\"Daily_Deaths\"][0] = sindh_df[\"Deaths\"][0]\n",
    "for i in range(1,len(sindh_df)):\n",
    "    sindh_df[\"Daily_Confirmed\"][i] = sindh_df[\"Confirmed\"][i] - sindh_df[\"Confirmed\"][i - 1]\n",
    "    sindh_df[\"Daily_Deaths\"][i] = sindh_df[\"Deaths\"][i] - sindh_df[\"Deaths\"][i - 1]\n",
    "    for col in columns:\n",
    "        if pd.isna(sindh_df[col][i]) == True:\n",
    "            sindh_df[col][i] = sindh_df[col][i - 1]"
   ]
  },
  {
   "cell_type": "code",
   "execution_count": 501,
   "id": "00a5633b",
   "metadata": {},
   "outputs": [],
   "source": [
    "gilgit_df[\"Daily_Confirmed\"][0] = gilgit_df[\"Confirmed\"][0]\n",
    "gilgit_df[\"Daily_Deaths\"][0] = gilgit_df[\"Deaths\"][0]\n",
    "for i in range(1,len(gilgit_df)):\n",
    "    gilgit_df[\"Daily_Confirmed\"][i] = gilgit_df[\"Confirmed\"][i] - gilgit_df[\"Confirmed\"][i - 1]\n",
    "    gilgit_df[\"Daily_Deaths\"][i] = gilgit_df[\"Deaths\"][i] - gilgit_df[\"Deaths\"][i - 1]\n",
    "    for col in columns:\n",
    "        if pd.isna(gilgit_df[col][i]) == True:\n",
    "            gilgit_df[col][i] = gilgit_df[col][i - 1]"
   ]
  },
  {
   "cell_type": "code",
   "execution_count": 502,
   "id": "f9c454bb",
   "metadata": {},
   "outputs": [
    {
     "data": {
      "text/plain": [
       "index             0\n",
       "Province          0\n",
       "Country_Region    0\n",
       "Date              0\n",
       "Day               0\n",
       "                 ..\n",
       "Temp              0\n",
       "Wind              0\n",
       "Barometer         0\n",
       "Visibility        0\n",
       "Weather           0\n",
       "Length: 75, dtype: int64"
      ]
     },
     "execution_count": 502,
     "metadata": {},
     "output_type": "execute_result"
    }
   ],
   "source": [
    "# balochistan_df.isnull().sum()\n",
    "# isb_df.isnull().sum()\n",
    "# punjab_df.isnull().sum()\n",
    "# sindh_df.isnull().sum()\n",
    "# kpk_df.isnull().sum()\n",
    "# kashmir_df.isnull().sum()\n",
    "gilgit_df.isnull().sum()"
   ]
  },
  {
   "cell_type": "code",
   "execution_count": 503,
   "id": "85a9e579",
   "metadata": {},
   "outputs": [],
   "source": [
    "dataframes = {}\n",
    "\n",
    "dataframes.update({\"balochistan_df\":balochistan_df})\n",
    "dataframes.update({\"isb_df\":isb_df})\n",
    "dataframes.update({\"punjab_df\":punjab_df})\n",
    "dataframes.update({\"sindh_df\":sindh_df})\n",
    "dataframes.update({\"kpk_df\":kpk_df})\n",
    "dataframes.update({\"kashmir_df\":kashmir_df})\n",
    "dataframes.update({\"gilgit_df\":gilgit_df})"
   ]
  },
  {
   "cell_type": "code",
   "execution_count": 586,
   "id": "4bfb7849",
   "metadata": {},
   "outputs": [],
   "source": [
    "master_df = pd.DataFrame()\n",
    "values = list(dataframes.values())\n",
    "\n",
    "for i in range(len(kpk_df)):\n",
    "    for value in values:\n",
    "        temp_df = value.iloc[[i]]\n",
    "        master_df = master_df.append(temp_df.loc[[i]])\n",
    "        "
   ]
  },
  {
   "cell_type": "code",
   "execution_count": 587,
   "id": "26df074b",
   "metadata": {},
   "outputs": [
    {
     "data": {
      "text/html": [
       "<div>\n",
       "<style scoped>\n",
       "    .dataframe tbody tr th:only-of-type {\n",
       "        vertical-align: middle;\n",
       "    }\n",
       "\n",
       "    .dataframe tbody tr th {\n",
       "        vertical-align: top;\n",
       "    }\n",
       "\n",
       "    .dataframe thead th {\n",
       "        text-align: right;\n",
       "    }\n",
       "</style>\n",
       "<table border=\"1\" class=\"dataframe\">\n",
       "  <thead>\n",
       "    <tr style=\"text-align: right;\">\n",
       "      <th></th>\n",
       "      <th>index</th>\n",
       "      <th>Province</th>\n",
       "      <th>Country_Region</th>\n",
       "      <th>Date</th>\n",
       "      <th>Day</th>\n",
       "      <th>Month</th>\n",
       "      <th>Year</th>\n",
       "      <th>Lat</th>\n",
       "      <th>Long_</th>\n",
       "      <th>Confirmed</th>\n",
       "      <th>...</th>\n",
       "      <th>admis_upper_vax</th>\n",
       "      <th>admis_lower_vax</th>\n",
       "      <th>admis_mean_unvax</th>\n",
       "      <th>admis_upper_unvax</th>\n",
       "      <th>admis_lower_unvax</th>\n",
       "      <th>Temp</th>\n",
       "      <th>Wind</th>\n",
       "      <th>Barometer</th>\n",
       "      <th>Visibility</th>\n",
       "      <th>Weather</th>\n",
       "    </tr>\n",
       "  </thead>\n",
       "  <tbody>\n",
       "    <tr>\n",
       "      <th>0</th>\n",
       "      <td>610</td>\n",
       "      <td>Balochistan</td>\n",
       "      <td>Pakistan</td>\n",
       "      <td>2020-03-10</td>\n",
       "      <td>10</td>\n",
       "      <td>3</td>\n",
       "      <td>2020</td>\n",
       "      <td>28.328492</td>\n",
       "      <td>65.898403</td>\n",
       "      <td>1.0</td>\n",
       "      <td>...</td>\n",
       "      <td>0.0</td>\n",
       "      <td>0.0</td>\n",
       "      <td>25.615120</td>\n",
       "      <td>44.61881</td>\n",
       "      <td>10.791250</td>\n",
       "      <td>46.29</td>\n",
       "      <td>15.00</td>\n",
       "      <td>31.43</td>\n",
       "      <td>0.00</td>\n",
       "      <td>Haze.</td>\n",
       "    </tr>\n",
       "    <tr>\n",
       "      <th>0</th>\n",
       "      <td>610</td>\n",
       "      <td>Islamabad</td>\n",
       "      <td>Pakistan</td>\n",
       "      <td>2020-03-10</td>\n",
       "      <td>10</td>\n",
       "      <td>3</td>\n",
       "      <td>2020</td>\n",
       "      <td>33.665087</td>\n",
       "      <td>73.121219</td>\n",
       "      <td>2.0</td>\n",
       "      <td>...</td>\n",
       "      <td>0.0</td>\n",
       "      <td>0.0</td>\n",
       "      <td>0.004133</td>\n",
       "      <td>0.00000</td>\n",
       "      <td>0.000000</td>\n",
       "      <td>65.14</td>\n",
       "      <td>9.57</td>\n",
       "      <td>34.71</td>\n",
       "      <td>21.33</td>\n",
       "      <td>Clear.</td>\n",
       "    </tr>\n",
       "    <tr>\n",
       "      <th>0</th>\n",
       "      <td>610</td>\n",
       "      <td>Punjab</td>\n",
       "      <td>Pakistan</td>\n",
       "      <td>2020-03-10</td>\n",
       "      <td>10</td>\n",
       "      <td>3</td>\n",
       "      <td>2020</td>\n",
       "      <td>30.811346</td>\n",
       "      <td>72.139132</td>\n",
       "      <td>0.0</td>\n",
       "      <td>...</td>\n",
       "      <td>0.0</td>\n",
       "      <td>0.0</td>\n",
       "      <td>40.904370</td>\n",
       "      <td>89.53674</td>\n",
       "      <td>11.384460</td>\n",
       "      <td>56.40</td>\n",
       "      <td>2.44</td>\n",
       "      <td>23.67</td>\n",
       "      <td>11.88</td>\n",
       "      <td>Clear.</td>\n",
       "    </tr>\n",
       "    <tr>\n",
       "      <th>0</th>\n",
       "      <td>610</td>\n",
       "      <td>Sindh</td>\n",
       "      <td>Pakistan</td>\n",
       "      <td>2020-03-10</td>\n",
       "      <td>10</td>\n",
       "      <td>3</td>\n",
       "      <td>2020</td>\n",
       "      <td>26.009446</td>\n",
       "      <td>68.776807</td>\n",
       "      <td>0.0</td>\n",
       "      <td>...</td>\n",
       "      <td>0.0</td>\n",
       "      <td>0.0</td>\n",
       "      <td>22.339800</td>\n",
       "      <td>81.02134</td>\n",
       "      <td>6.179772</td>\n",
       "      <td>65.14</td>\n",
       "      <td>9.57</td>\n",
       "      <td>34.71</td>\n",
       "      <td>21.33</td>\n",
       "      <td>Clear.</td>\n",
       "    </tr>\n",
       "    <tr>\n",
       "      <th>0</th>\n",
       "      <td>610</td>\n",
       "      <td>Khyber Pakhtunkhwa</td>\n",
       "      <td>Pakistan</td>\n",
       "      <td>2020-03-10</td>\n",
       "      <td>10</td>\n",
       "      <td>3</td>\n",
       "      <td>2020</td>\n",
       "      <td>34.485332</td>\n",
       "      <td>72.091690</td>\n",
       "      <td>0.0</td>\n",
       "      <td>...</td>\n",
       "      <td>0.0</td>\n",
       "      <td>0.0</td>\n",
       "      <td>17.376130</td>\n",
       "      <td>39.58196</td>\n",
       "      <td>5.953569</td>\n",
       "      <td>48.80</td>\n",
       "      <td>4.64</td>\n",
       "      <td>49.20</td>\n",
       "      <td>23.21</td>\n",
       "      <td>Fog.</td>\n",
       "    </tr>\n",
       "    <tr>\n",
       "      <th>0</th>\n",
       "      <td>610</td>\n",
       "      <td>Azad Jammu and Kashmir</td>\n",
       "      <td>Pakistan</td>\n",
       "      <td>2020-03-10</td>\n",
       "      <td>10</td>\n",
       "      <td>3</td>\n",
       "      <td>2020</td>\n",
       "      <td>34.027401</td>\n",
       "      <td>73.947253</td>\n",
       "      <td>0.0</td>\n",
       "      <td>...</td>\n",
       "      <td>0.0</td>\n",
       "      <td>0.0</td>\n",
       "      <td>0.000000</td>\n",
       "      <td>0.00000</td>\n",
       "      <td>0.000000</td>\n",
       "      <td>39.86</td>\n",
       "      <td>1.86</td>\n",
       "      <td>42.43</td>\n",
       "      <td>0.00</td>\n",
       "      <td>Clear.</td>\n",
       "    </tr>\n",
       "    <tr>\n",
       "      <th>0</th>\n",
       "      <td>610</td>\n",
       "      <td>Gilgit-Baltistan</td>\n",
       "      <td>Pakistan</td>\n",
       "      <td>2020-03-10</td>\n",
       "      <td>10</td>\n",
       "      <td>3</td>\n",
       "      <td>2020</td>\n",
       "      <td>35.792146</td>\n",
       "      <td>74.982138</td>\n",
       "      <td>2.0</td>\n",
       "      <td>...</td>\n",
       "      <td>0.0</td>\n",
       "      <td>0.0</td>\n",
       "      <td>12.495310</td>\n",
       "      <td>23.41426</td>\n",
       "      <td>3.297438</td>\n",
       "      <td>32.71</td>\n",
       "      <td>3.71</td>\n",
       "      <td>23.57</td>\n",
       "      <td>12.82</td>\n",
       "      <td>Fog.</td>\n",
       "    </tr>\n",
       "  </tbody>\n",
       "</table>\n",
       "<p>7 rows × 75 columns</p>\n",
       "</div>"
      ],
      "text/plain": [
       "   index                Province Country_Region        Date Day Month  Year  \\\n",
       "0    610             Balochistan       Pakistan  2020-03-10  10     3  2020   \n",
       "0    610               Islamabad       Pakistan  2020-03-10  10     3  2020   \n",
       "0    610                  Punjab       Pakistan  2020-03-10  10     3  2020   \n",
       "0    610                   Sindh       Pakistan  2020-03-10  10     3  2020   \n",
       "0    610      Khyber Pakhtunkhwa       Pakistan  2020-03-10  10     3  2020   \n",
       "0    610  Azad Jammu and Kashmir       Pakistan  2020-03-10  10     3  2020   \n",
       "0    610        Gilgit-Baltistan       Pakistan  2020-03-10  10     3  2020   \n",
       "\n",
       "         Lat      Long_  Confirmed  ...  admis_upper_vax admis_lower_vax  \\\n",
       "0  28.328492  65.898403        1.0  ...              0.0             0.0   \n",
       "0  33.665087  73.121219        2.0  ...              0.0             0.0   \n",
       "0  30.811346  72.139132        0.0  ...              0.0             0.0   \n",
       "0  26.009446  68.776807        0.0  ...              0.0             0.0   \n",
       "0  34.485332  72.091690        0.0  ...              0.0             0.0   \n",
       "0  34.027401  73.947253        0.0  ...              0.0             0.0   \n",
       "0  35.792146  74.982138        2.0  ...              0.0             0.0   \n",
       "\n",
       "   admis_mean_unvax admis_upper_unvax  admis_lower_unvax   Temp   Wind  \\\n",
       "0         25.615120          44.61881          10.791250  46.29  15.00   \n",
       "0          0.004133           0.00000           0.000000  65.14   9.57   \n",
       "0         40.904370          89.53674          11.384460  56.40   2.44   \n",
       "0         22.339800          81.02134           6.179772  65.14   9.57   \n",
       "0         17.376130          39.58196           5.953569  48.80   4.64   \n",
       "0          0.000000           0.00000           0.000000  39.86   1.86   \n",
       "0         12.495310          23.41426           3.297438  32.71   3.71   \n",
       "\n",
       "   Barometer  Visibility  Weather  \n",
       "0      31.43        0.00    Haze.  \n",
       "0      34.71       21.33   Clear.  \n",
       "0      23.67       11.88   Clear.  \n",
       "0      34.71       21.33   Clear.  \n",
       "0      49.20       23.21     Fog.  \n",
       "0      42.43        0.00   Clear.  \n",
       "0      23.57       12.82     Fog.  \n",
       "\n",
       "[7 rows x 75 columns]"
      ]
     },
     "execution_count": 587,
     "metadata": {},
     "output_type": "execute_result"
    }
   ],
   "source": [
    "# master_df.drop(S.No, axis = 1)\n",
    "master_df.head(7)"
   ]
  },
  {
   "cell_type": "code",
   "execution_count": 588,
   "id": "5f240f6c",
   "metadata": {},
   "outputs": [
    {
     "data": {
      "text/plain": [
       "index             0\n",
       "Province          0\n",
       "Country_Region    0\n",
       "Date              0\n",
       "Day               0\n",
       "                 ..\n",
       "Temp              0\n",
       "Wind              0\n",
       "Barometer         0\n",
       "Visibility        0\n",
       "Weather           0\n",
       "Length: 75, dtype: int64"
      ]
     },
     "execution_count": 588,
     "metadata": {},
     "output_type": "execute_result"
    }
   ],
   "source": [
    "master_df.isnull().sum()"
   ]
  },
  {
   "cell_type": "code",
   "execution_count": 589,
   "id": "2fd81cb9",
   "metadata": {},
   "outputs": [],
   "source": [
    "master_df.drop('index', inplace = True, axis = 1)"
   ]
  },
  {
   "cell_type": "code",
   "execution_count": 590,
   "id": "a230c668",
   "metadata": {},
   "outputs": [],
   "source": [
    "master_df.reset_index(drop=True, inplace=True)"
   ]
  },
  {
   "cell_type": "code",
   "execution_count": 591,
   "id": "8e2d7fa6",
   "metadata": {},
   "outputs": [],
   "source": [
    "pd.options.mode.chained_assignment = None  # default='warn'\n",
    "columns = ['Confirmed', 'Deaths', 'Daily_Confirmed', 'Recovered',\n",
    "       'Daily_Deaths', 'inf_mean', 'inf_upper', 'inf_lower',\n",
    "       'seir_cumulative_mean', 'seir_cumulative_lower',\n",
    "       'seir_cumulative_upper', 'inf_cuml_mean', 'inf_cuml_lower',\n",
    "       'inf_cuml_upper', 'seir_daily_mean', 'seir_daily_lower',\n",
    "       'seir_daily_upper', 'seir_daily_unscaled_mean',\n",
    "       'seir_daily_unscaled_lower', 'seir_daily_unscaled_upper',\n",
    "       'seir_cumulative_unscaled_mean', 'seir_cumulative_unscaled_lower',\n",
    "       'seir_cumulative_unscaled_upper', 'cases_mean', 'cases_lower',\n",
    "       'cases_upper', 'inf_cuml_mean_vax', 'inf_cuml_lower_vax',\n",
    "       'inf_cuml_upper_vax', 'inf_cuml_mean_unvax', 'inf_cuml_lower_unvax',\n",
    "       'inf_cuml_upper_unvax', 'inf_mean_vax', 'inf_lower_vax',\n",
    "       'inf_upper_vax', 'inf_mean_unvax', 'inf_lower_unvax', 'inf_upper_unvax',\n",
    "       'population', 'mobility_mean', 'mobility_obs', 'testing_obs',\n",
    "       'pneumonia_mean', 'pneumonia_obs', 'mask_use_mean', 'mask_use_obs',\n",
    "       'hospital_beds_mean', 'hospital_beds_upper', 'hospital_beds_lower',\n",
    "       'icu_beds_mean', 'icu_beds_upper', 'icu_beds_lower', 'admis_mean',\n",
    "       'admis_upper', 'admis_lower', 'admis_mean_vax', 'admis_upper_vax',\n",
    "       'admis_lower_vax', 'admis_mean_unvax', 'admis_upper_unvax',\n",
    "       'admis_lower_unvax', 'Temp', 'Wind', 'Barometer', 'Visibility']\n",
    "\n",
    "for i in range(len(master_df)):\n",
    "    for j in columns:\n",
    "        if master_df[j][i] < 0:\n",
    "            master_df[j][i] = abs(master_df[j][i])"
   ]
  },
  {
   "cell_type": "markdown",
   "id": "3bdc8dc2",
   "metadata": {},
   "source": [
    "### Recovered Cases (2020)"
   ]
  },
  {
   "cell_type": "code",
   "execution_count": 592,
   "id": "49686ad4",
   "metadata": {},
   "outputs": [],
   "source": [
    "recoveredSindh2020 = master_df[(master_df['Year'] == 2020) & (master_df['Province'] == 'Sindh')]['Recovered']\n",
    "confirmedSindh2020 = master_df[(master_df['Year'] == 2020) & (master_df['Province'] == 'Sindh')]['Confirmed']\n",
    "\n",
    "recoveredPunjab2020 = master_df[(master_df['Year'] == 2020) & (master_df['Province'] == 'Punjab')]['Recovered']\n",
    "confirmedPunjab2020 = master_df[(master_df['Year'] == 2020) & (master_df['Province'] == 'Punjab')]['Confirmed']\n",
    "\n",
    "recoveredBalochistan2020 = master_df[(master_df['Year'] == 2020) & (master_df['Province'] == 'Balochistan')]['Recovered']\n",
    "confirmedBalochistan2020 = master_df[(master_df['Year'] == 2020) & (master_df['Province'] == 'Balochistan')]['Confirmed']\n",
    "\n",
    "recoveredIslamabad2020 = master_df[(master_df['Year'] == 2020) & (master_df['Province'] == 'Islamabad')]['Recovered']\n",
    "confirmedIslamabad2020 = master_df[(master_df['Year'] == 2020) & (master_df['Province'] == 'Islamabad')]['Confirmed']\n",
    "\n",
    "recoveredKhyberPakhtunkhwa2020 = master_df[(master_df['Year'] == 2020) & (master_df['Province'] == 'Khyber Pakhtunkhwa')]['Recovered']\n",
    "confirmedKhyberPakhtunkhwa2020 = master_df[(master_df['Year'] == 2020) & (master_df['Province'] == 'Khyber Pakhtunkhwa')]['Confirmed']\n",
    "\n",
    "recoveredAzadJammuKashmir2020 = master_df[(master_df['Year'] == 2020) & (master_df['Province'] == 'Azad Jammu and Kashmir')]['Recovered']\n",
    "confirmedAzadJammuKashmir2020 = master_df[(master_df['Year'] == 2020) & (master_df['Province'] == 'Azad Jammu and Kashmir')]['Confirmed']\n",
    "\n",
    "recoveredGilgitBaltistan2020 = master_df[(master_df['Year'] == 2020) & (master_df['Province'] == 'Gilgit-Baltistan')]['Recovered']\n",
    "confirmedGilgitBaltistan2020 = master_df[(master_df['Year'] == 2020) & (master_df['Province'] == 'Gilgit-Baltistan')]['Confirmed']"
   ]
  },
  {
   "cell_type": "code",
   "execution_count": 593,
   "id": "d89d9d24",
   "metadata": {},
   "outputs": [],
   "source": [
    "ratioSindh2020 = round((recoveredSindh2020/confirmedSindh2020).mode().mean(), 3)\n",
    "ratioPunjab2020 = round((recoveredPunjab2020/confirmedPunjab2020).mode().mean(), 3)\n",
    "ratioBalochistan2020 = round((recoveredBalochistan2020/confirmedBalochistan2020).mode().mean(), 3)\n",
    "ratioIslamabad2020 = round((recoveredIslamabad2020/confirmedIslamabad2020).mode().mean(), 3)\n",
    "ratioKhyberPakhtunkhwa2020 = round((recoveredKhyberPakhtunkhwa2020/confirmedKhyberPakhtunkhwa2020).mode().mean(), 3)\n",
    "ratioAzadJammuKashmir2020 = round((recoveredAzadJammuKashmir2020/confirmedAzadJammuKashmir2020).mode().mean(), 3)\n",
    "ratioGilgitBaltistan2020 = round((recoveredGilgitBaltistan2020/confirmedGilgitBaltistan2020).mode().mean(), 3)"
   ]
  },
  {
   "cell_type": "code",
   "execution_count": 601,
   "id": "b2aca930",
   "metadata": {},
   "outputs": [],
   "source": [
    "master_df.loc[(master_df['Year'] == 2020) & (master_df['Province'] == 'Sindh'), 'Recovered'] = master_df.loc[(master_df['Year'] == 2020) & (master_df['Province'] == 'Sindh'), 'Recovered'].fillna(master_df.loc[(master_df['Year'] == 2020) & (master_df['Province'] == 'Sindh'), 'Confirmed'] * ratioSindh2020)\n",
    "master_df.loc[(master_df['Year'] == 2020) & (master_df['Province'] == 'Punjab'), 'Recovered'] = master_df.loc[(master_df['Year'] == 2020) & (master_df['Province'] == 'Punjab'), 'Recovered'].fillna(master_df.loc[(master_df['Year'] == 2020) & (master_df['Province'] == 'Punjab'), 'Confirmed'] * ratioPunjab2020)\n",
    "master_df.loc[(master_df['Year'] == 2020) & (master_df['Province'] == 'Balochistan'), 'Recovered'] = master_df.loc[(master_df['Year'] == 2020) & (master_df['Province'] == 'Balochistan'), 'Recovered'].fillna(master_df.loc[(master_df['Year'] == 2020) & (master_df['Province'] == 'Balochistan'), 'Confirmed'] * ratioBalochistan2020)\n",
    "master_df.loc[(master_df['Year'] == 2020) & (master_df['Province'] == 'Islamabad'), 'Recovered'] = master_df.loc[(master_df['Year'] == 2020) & (master_df['Province'] == 'Islamabad'), 'Recovered'].fillna(master_df.loc[(master_df['Year'] == 2020) & (master_df['Province'] == 'Islamabad'), 'Confirmed'] * ratioIslamabad2020)\n",
    "master_df.loc[(master_df['Year'] == 2020) & (master_df['Province'] == 'Khyber Pakhtunkhwa'), 'Recovered'] = master_df.loc[(master_df['Year'] == 2020) & (master_df['Province'] == 'Khyber Pakhtunkhwa'), 'Recovered'].fillna(master_df.loc[(master_df['Year'] == 2020) & (master_df['Province'] == 'Khyber Pakhtunkhwa'), 'Confirmed'] * ratioKhyberPakhtunkhwa2020)\n",
    "master_df.loc[(master_df['Year'] == 2020) & (master_df['Province'] == 'Azad Jammu and Kashmir'), 'Recovered'] = master_df.loc[(master_df['Year'] == 2020) & (master_df['Province'] == 'Azad Jammu and Kashmir'), 'Recovered'].fillna(master_df.loc[(master_df['Year'] == 2020) & (master_df['Province'] == 'Azad Jammu and Kashmir'), 'Confirmed'] * ratioAzadJammuKashmir2020)\n",
    "master_df.loc[(master_df['Year'] == 2020) & (master_df['Province'] == 'Gilgit-Baltistan'), 'Recovered'] = master_df.loc[(master_df['Year'] == 2020) & (master_df['Province'] == 'Gilgit-Baltistan'), 'Recovered'].fillna(master_df.loc[(master_df['Year'] == 2020) & (master_df['Province'] == 'Gilgit-Baltistan'), 'Confirmed'] * ratioGilgitBaltistan2020)"
   ]
  },
  {
   "cell_type": "code",
   "execution_count": 605,
   "id": "719ddaa8",
   "metadata": {},
   "outputs": [
    {
     "data": {
      "text/plain": [
       "0"
      ]
     },
     "execution_count": 605,
     "metadata": {},
     "output_type": "execute_result"
    }
   ],
   "source": [
    "master_df.loc[(master_df['Year'] == 2020), 'Recovered'].isnull().sum()"
   ]
  },
  {
   "cell_type": "markdown",
   "id": "e5873a26",
   "metadata": {},
   "source": [
    "### Recovered Cases (2021)"
   ]
  },
  {
   "cell_type": "code",
   "execution_count": 607,
   "id": "bfd18070",
   "metadata": {},
   "outputs": [],
   "source": [
    "recoveredSindh2021 = master_df[(master_df['Year'] == 2021) & (master_df['Province'] == 'Sindh')]['Recovered']\n",
    "confirmedSindh2021 = master_df[(master_df['Year'] == 2021) & (master_df['Province'] == 'Sindh')]['Confirmed']\n",
    "\n",
    "recoveredPunjab2021 = master_df[(master_df['Year'] == 2021) & (master_df['Province'] == 'Punjab')]['Recovered']\n",
    "confirmedPunjab2021 = master_df[(master_df['Year'] == 2021) & (master_df['Province'] == 'Punjab')]['Confirmed']\n",
    "\n",
    "recoveredBalochistan2021 = master_df[(master_df['Year'] == 2021) & (master_df['Province'] == 'Balochistan')]['Recovered']\n",
    "confirmedBalochistan2021 = master_df[(master_df['Year'] == 2021) & (master_df['Province'] == 'Balochistan')]['Confirmed']\n",
    "\n",
    "recoveredIslamabad2021 = master_df[(master_df['Year'] == 2021) & (master_df['Province'] == 'Islamabad')]['Recovered']\n",
    "confirmedIslamabad2021 = master_df[(master_df['Year'] == 2021) & (master_df['Province'] == 'Islamabad')]['Confirmed']\n",
    "\n",
    "recoveredKhyberPakhtunkhwa2021 = master_df[(master_df['Year'] == 2021) & (master_df['Province'] == 'Khyber Pakhtunkhwa')]['Recovered']\n",
    "confirmedKhyberPakhtunkhwa2021 = master_df[(master_df['Year'] == 2021) & (master_df['Province'] == 'Khyber Pakhtunkhwa')]['Confirmed']\n",
    "\n",
    "recoveredAzadJammuKashmir2021 = master_df[(master_df['Year'] == 2021) & (master_df['Province'] == 'Azad Jammu and Kashmir')]['Recovered']\n",
    "confirmedAzadJammuKashmir2021 = master_df[(master_df['Year'] == 2021) & (master_df['Province'] == 'Azad Jammu and Kashmir')]['Confirmed']\n",
    "\n",
    "recoveredGilgitBaltistan2021 = master_df[(master_df['Year'] == 2021) & (master_df['Province'] == 'Gilgit-Baltistan')]['Recovered']\n",
    "confirmedGilgitBaltistan2021 = master_df[(master_df['Year'] == 2021) & (master_df['Province'] == 'Gilgit-Baltistan')]['Confirmed']"
   ]
  },
  {
   "cell_type": "code",
   "execution_count": 608,
   "id": "290b7d70",
   "metadata": {},
   "outputs": [],
   "source": [
    "ratioSindh2021 = round((recoveredSindh2021/confirmedSindh2021).mode().mean(), 3)\n",
    "ratioPunjab2021 = round((recoveredPunjab2021/confirmedPunjab2021).mode().mean(), 3)\n",
    "ratioBalochistan2021 = round((recoveredBalochistan2021/confirmedBalochistan2021).mode().mean(), 3)\n",
    "ratioIslamabad2021 = round((recoveredIslamabad2021/confirmedIslamabad2021).mode().mean(), 3)\n",
    "ratioKhyberPakhtunkhwa2021 = round((recoveredKhyberPakhtunkhwa2021/confirmedKhyberPakhtunkhwa2021).mode().mean(), 3)\n",
    "ratioAzadJammuKashmir2021 = round((recoveredAzadJammuKashmir2021/confirmedAzadJammuKashmir2021).mode().mean(), 3)\n",
    "ratioGilgitBaltistan2021 = round((recoveredGilgitBaltistan2021/confirmedGilgitBaltistan2021).mode().mean(), 3)"
   ]
  },
  {
   "cell_type": "code",
   "execution_count": 609,
   "id": "0d55b068",
   "metadata": {},
   "outputs": [],
   "source": [
    "master_df.loc[(master_df['Year'] == 2021) & (master_df['Province'] == 'Sindh'), 'Recovered'] = master_df.loc[(master_df['Year'] == 2021) & (master_df['Province'] == 'Sindh'), 'Recovered'].fillna(master_df.loc[(master_df['Year'] == 2021) & (master_df['Province'] == 'Sindh'), 'Confirmed'] * ratioSindh2021)\n",
    "master_df.loc[(master_df['Year'] == 2021) & (master_df['Province'] == 'Punjab'), 'Recovered'] = master_df.loc[(master_df['Year'] == 2021) & (master_df['Province'] == 'Punjab'), 'Recovered'].fillna(master_df.loc[(master_df['Year'] == 2021) & (master_df['Province'] == 'Punjab'), 'Confirmed'] * ratioPunjab2021)\n",
    "master_df.loc[(master_df['Year'] == 2021) & (master_df['Province'] == 'Balochistan'), 'Recovered'] = master_df.loc[(master_df['Year'] == 2021) & (master_df['Province'] == 'Balochistan'), 'Recovered'].fillna(master_df.loc[(master_df['Year'] == 2021) & (master_df['Province'] == 'Balochistan'), 'Confirmed'] * ratioBalochistan2021)\n",
    "master_df.loc[(master_df['Year'] == 2021) & (master_df['Province'] == 'Islamabad'), 'Recovered'] = master_df.loc[(master_df['Year'] == 2021) & (master_df['Province'] == 'Islamabad'), 'Recovered'].fillna(master_df.loc[(master_df['Year'] == 2021) & (master_df['Province'] == 'Islamabad'), 'Confirmed'] * ratioIslamabad2021)\n",
    "master_df.loc[(master_df['Year'] == 2021) & (master_df['Province'] == 'Khyber Pakhtunkhwa'), 'Recovered'] = master_df.loc[(master_df['Year'] == 2021) & (master_df['Province'] == 'Khyber Pakhtunkhwa'), 'Recovered'].fillna(master_df.loc[(master_df['Year'] == 2021) & (master_df['Province'] == 'Khyber Pakhtunkhwa'), 'Confirmed'] * ratioKhyberPakhtunkhwa2021)\n",
    "master_df.loc[(master_df['Year'] == 2021) & (master_df['Province'] == 'Azad Jammu and Kashmir'), 'Recovered'] = master_df.loc[(master_df['Year'] == 2021) & (master_df['Province'] == 'Azad Jammu and Kashmir'), 'Recovered'].fillna(master_df.loc[(master_df['Year'] == 2021) & (master_df['Province'] == 'Azad Jammu and Kashmir'), 'Confirmed'] * ratioAzadJammuKashmir2021)\n",
    "master_df.loc[(master_df['Year'] == 2021) & (master_df['Province'] == 'Gilgit-Baltistan'), 'Recovered'] = master_df.loc[(master_df['Year'] == 2021) & (master_df['Province'] == 'Gilgit-Baltistan'), 'Recovered'].fillna(master_df.loc[(master_df['Year'] == 2021) & (master_df['Province'] == 'Gilgit-Baltistan'), 'Confirmed'] * ratioGilgitBaltistan2021)"
   ]
  },
  {
   "cell_type": "code",
   "execution_count": 610,
   "id": "6dd6ab32",
   "metadata": {},
   "outputs": [
    {
     "data": {
      "text/plain": [
       "0"
      ]
     },
     "execution_count": 610,
     "metadata": {},
     "output_type": "execute_result"
    }
   ],
   "source": [
    "master_df.loc[(master_df['Year'] == 2021), 'Recovered'].isnull().sum()"
   ]
  },
  {
   "cell_type": "markdown",
   "id": "f0d49f9b",
   "metadata": {},
   "source": [
    "### Recovered Cases (2022)"
   ]
  },
  {
   "cell_type": "code",
   "execution_count": 615,
   "id": "8e7b3a65",
   "metadata": {},
   "outputs": [],
   "source": [
    "# recoveredSindh2022 = master_df[(master_df['Year'] == 2022) & (master_df['Province'] == 'Sindh')]['Recovered']\n",
    "# confirmedSindh2022 = master_df[(master_df['Year'] == 2022) & (master_df['Province'] == 'Sindh')]['Confirmed']\n",
    "\n",
    "# recoveredPunjab2022 = master_df[(master_df['Year'] == 2022) & (master_df['Province'] == 'Punjab')]['Recovered']\n",
    "# confirmedPunjab2022 = master_df[(master_df['Year'] == 2022) & (master_df['Province'] == 'Punjab')]['Confirmed']\n",
    "\n",
    "# recoveredBalochistan2022 = master_df[(master_df['Year'] == 2022) & (master_df['Province'] == 'Balochistan')]['Recovered']\n",
    "# confirmedBalochistan2022 = master_df[(master_df['Year'] == 2022) & (master_df['Province'] == 'Balochistan')]['Confirmed']\n",
    "\n",
    "# recoveredIslamabad2022 = master_df[(master_df['Year'] == 2022) & (master_df['Province'] == 'Islamabad')]['Recovered']\n",
    "# confirmedIslamabad2022 = master_df[(master_df['Year'] == 2022) & (master_df['Province'] == 'Islamabad')]['Confirmed']\n",
    "\n",
    "# recoveredKhyberPakhtunkhwa2022 = master_df[(master_df['Year'] == 2022) & (master_df['Province'] == 'Khyber Pakhtunkhwa')]['Recovered']\n",
    "# confirmedKhyberPakhtunkhwa2022 = master_df[(master_df['Year'] == 2022) & (master_df['Province'] == 'Khyber Pakhtunkhwa')]['Confirmed']\n",
    "\n",
    "# recoveredAzadJammuKashmir2022 = master_df[(master_df['Year'] == 2022) & (master_df['Province'] == 'Azad Jammu and Kashmir')]['Recovered']\n",
    "# confirmedAzadJammuKashmir2022 = master_df[(master_df['Year'] == 2022) & (master_df['Province'] == 'Azad Jammu and Kashmir')]['Confirmed']\n",
    "\n",
    "# recoveredGilgitBaltistan2022 = master_df[(master_df['Year'] == 2022) & (master_df['Province'] == 'Gilgit-Baltistan')]['Recovered']\n",
    "# confirmedGilgitBaltistan2022 = master_df[(master_df['Year'] == 2022) & (master_df['Province'] == 'Gilgit-Baltistan')]['Confirmed']"
   ]
  },
  {
   "cell_type": "code",
   "execution_count": 616,
   "id": "9fcbe761",
   "metadata": {},
   "outputs": [],
   "source": [
    "# ratioSindh2022 = round((recoveredSindh2022/confirmedSindh2022).mode().mean(), 3)\n",
    "# ratioPunjab2022 = round((recoveredPunjab2022/confirmedPunjab2022).mode().mean(), 3)\n",
    "# ratioBalochistan2022 = round((recoveredBalochistan2022/confirmedBalochistan2022).mode().mean(), 3)\n",
    "# ratioIslamabad2022 = round((recoveredIslamabad2022/confirmedIslamabad2022).mode().mean(), 3)\n",
    "# ratioKhyberPakhtunkhwa2022 = round((recoveredKhyberPakhtunkhwa2022/confirmedKhyberPakhtunkhwa2022).mode().mean(), 3)\n",
    "# ratioAzadJammuKashmir2022 = round((recoveredAzadJammuKashmir2022/confirmedAzadJammuKashmir2022).mode().mean(), 3)\n",
    "# ratioGilgitBaltistan2022 = round((recoveredGilgitBaltistan2022/confirmedGilgitBaltistan2022).mode().mean(), 3)"
   ]
  },
  {
   "cell_type": "code",
   "execution_count": 617,
   "id": "1412c62c",
   "metadata": {},
   "outputs": [],
   "source": [
    "# master_df.loc[(master_df['Year'] == 2022) & (master_df['Province'] == 'Sindh'), 'Recovered'] = master_df.loc[(master_df['Year'] == 2022) & (master_df['Province'] == 'Sindh'), 'Recovered'].fillna(master_df.loc[(master_df['Year'] == 2022) & (master_df['Province'] == 'Sindh'), 'Confirmed'] * ratioSindh2022)\n",
    "# master_df.loc[(master_df['Year'] == 2022) & (master_df['Province'] == 'Punjab'), 'Recovered'] = master_df.loc[(master_df['Year'] == 2022) & (master_df['Province'] == 'Punjab'), 'Recovered'].fillna(master_df.loc[(master_df['Year'] == 2022) & (master_df['Province'] == 'Punjab'), 'Confirmed'] * ratioPunjab2022)\n",
    "# master_df.loc[(master_df['Year'] == 2022) & (master_df['Province'] == 'Balochistan'), 'Recovered'] = master_df.loc[(master_df['Year'] == 2022) & (master_df['Province'] == 'Balochistan'), 'Recovered'].fillna(master_df.loc[(master_df['Year'] == 2022) & (master_df['Province'] == 'Balochistan'), 'Confirmed'] * ratioBalochistan2022)\n",
    "# master_df.loc[(master_df['Year'] == 2022) & (master_df['Province'] == 'Islamabad'), 'Recovered'] = master_df.loc[(master_df['Year'] == 2022) & (master_df['Province'] == 'Islamabad'), 'Recovered'].fillna(master_df.loc[(master_df['Year'] == 2022) & (master_df['Province'] == 'Islamabad'), 'Confirmed'] * ratioIslamabad2022)\n",
    "# master_df.loc[(master_df['Year'] == 2022) & (master_df['Province'] == 'Khyber Pakhtunkhwa'), 'Recovered'] = master_df.loc[(master_df['Year'] == 2022) & (master_df['Province'] == 'Khyber Pakhtunkhwa'), 'Recovered'].fillna(master_df.loc[(master_df['Year'] == 2022) & (master_df['Province'] == 'Khyber Pakhtunkhwa'), 'Confirmed'] * ratioKhyberPakhtunkhwa2022)\n",
    "# master_df.loc[(master_df['Year'] == 2022) & (master_df['Province'] == 'Azad Jammu and Kashmir'), 'Recovered'] = master_df.loc[(master_df['Year'] == 2022) & (master_df['Province'] == 'Azad Jammu and Kashmir'), 'Recovered'].fillna(master_df.loc[(master_df['Year'] == 2022) & (master_df['Province'] == 'Azad Jammu and Kashmir'), 'Confirmed'] * ratioAzadJammuKashmir2022)\n",
    "# master_df.loc[(master_df['Year'] == 2022) & (master_df['Province'] == 'Gilgit-Baltistan'), 'Recovered'] = master_df.loc[(master_df['Year'] == 2022) & (master_df['Province'] == 'Gilgit-Baltistan'), 'Recovered'].fillna(master_df.loc[(master_df['Year'] == 2022) & (master_df['Province'] == 'Gilgit-Baltistan'), 'Confirmed'] * ratioGilgitBaltistan2022)"
   ]
  },
  {
   "cell_type": "code",
   "execution_count": 641,
   "id": "bd414426",
   "metadata": {},
   "outputs": [
    {
     "data": {
      "text/plain": [
       "nan"
      ]
     },
     "execution_count": 641,
     "metadata": {},
     "output_type": "execute_result"
    }
   ],
   "source": [
    "# ratioSindh2022 \n",
    "# ratioPunjab2022 \n",
    "# ratioBalochistan2022 \n",
    "# ratioIslamabad2022 \n",
    "# ratioKhyberPakhtunkhwa2022 \n",
    "# ratioAzadJammuKashmir2022\n",
    "# ratioGilgitBaltistan2022 "
   ]
  },
  {
   "cell_type": "code",
   "execution_count": 642,
   "id": "4dbc2770",
   "metadata": {},
   "outputs": [],
   "source": [
    "master_df.loc[(master_df['Year'] == 2022) & (master_df['Province'] == 'Sindh'), 'Recovered'] = master_df.loc[(master_df['Year'] == 2022) & (master_df['Province'] == 'Sindh'), 'Recovered'].fillna(master_df.loc[(master_df['Year'] == 2022) & (master_df['Province'] == 'Sindh'), 'Confirmed'] * ratioSindh2021)\n",
    "master_df.loc[(master_df['Year'] == 2022) & (master_df['Province'] == 'Punjab'), 'Recovered'] = master_df.loc[(master_df['Year'] == 2022) & (master_df['Province'] == 'Punjab'), 'Recovered'].fillna(master_df.loc[(master_df['Year'] == 2022) & (master_df['Province'] == 'Punjab'), 'Confirmed'] * ratioPunjab2021)\n",
    "master_df.loc[(master_df['Year'] == 2022) & (master_df['Province'] == 'Balochistan'), 'Recovered'] = master_df.loc[(master_df['Year'] == 2022) & (master_df['Province'] == 'Balochistan'), 'Recovered'].fillna(master_df.loc[(master_df['Year'] == 2022) & (master_df['Province'] == 'Balochistan'), 'Confirmed'] * ratioBalochistan2021)\n",
    "master_df.loc[(master_df['Year'] == 2022) & (master_df['Province'] == 'Islamabad'), 'Recovered'] = master_df.loc[(master_df['Year'] == 2022) & (master_df['Province'] == 'Islamabad'), 'Recovered'].fillna(master_df.loc[(master_df['Year'] == 2022) & (master_df['Province'] == 'Islamabad'), 'Confirmed'] * ratioIslamabad2021)\n",
    "master_df.loc[(master_df['Year'] == 2022) & (master_df['Province'] == 'Khyber Pakhtunkhwa'), 'Recovered'] = master_df.loc[(master_df['Year'] == 2022) & (master_df['Province'] == 'Khyber Pakhtunkhwa'), 'Recovered'].fillna(master_df.loc[(master_df['Year'] == 2022) & (master_df['Province'] == 'Khyber Pakhtunkhwa'), 'Confirmed'] * ratioKhyberPakhtunkhwa2021)\n",
    "master_df.loc[(master_df['Year'] == 2022) & (master_df['Province'] == 'Azad Jammu and Kashmir'), 'Recovered'] = master_df.loc[(master_df['Year'] == 2022) & (master_df['Province'] == 'Azad Jammu and Kashmir'), 'Recovered'].fillna(master_df.loc[(master_df['Year'] == 2022) & (master_df['Province'] == 'Azad Jammu and Kashmir'), 'Confirmed'] * ratioAzadJammuKashmir2021)\n",
    "master_df.loc[(master_df['Year'] == 2022) & (master_df['Province'] == 'Gilgit-Baltistan'), 'Recovered'] = master_df.loc[(master_df['Year'] == 2022) & (master_df['Province'] == 'Gilgit-Baltistan'), 'Recovered'].fillna(master_df.loc[(master_df['Year'] == 2022) & (master_df['Province'] == 'Gilgit-Baltistan'), 'Confirmed'] * ratioGilgitBaltistan2021)"
   ]
  },
  {
   "cell_type": "code",
   "execution_count": 643,
   "id": "5c5539a7",
   "metadata": {},
   "outputs": [
    {
     "data": {
      "text/plain": [
       "0"
      ]
     },
     "execution_count": 643,
     "metadata": {},
     "output_type": "execute_result"
    }
   ],
   "source": [
    "master_df.loc[(master_df['Year'] == 2022), 'Recovered'].isnull().sum()"
   ]
  },
  {
   "cell_type": "code",
   "execution_count": 649,
   "id": "63c5a260",
   "metadata": {},
   "outputs": [
    {
     "ename": "TypeError",
     "evalue": "cannot convert the series to <class 'int'>",
     "output_type": "error",
     "traceback": [
      "\u001b[1;31m---------------------------------------------------------------------------\u001b[0m",
      "\u001b[1;31mTypeError\u001b[0m                                 Traceback (most recent call last)",
      "\u001b[1;32m<ipython-input-649-5fa4fa11d653>\u001b[0m in \u001b[0;36m<module>\u001b[1;34m\u001b[0m\n\u001b[1;32m----> 1\u001b[1;33m \u001b[0mint\u001b[0m\u001b[1;33m(\u001b[0m\u001b[0mround\u001b[0m\u001b[1;33m(\u001b[0m\u001b[0mmaster_df\u001b[0m\u001b[1;33m[\u001b[0m\u001b[1;34m'Recovered'\u001b[0m\u001b[1;33m]\u001b[0m\u001b[1;33m)\u001b[0m\u001b[1;33m)\u001b[0m\u001b[1;33m\u001b[0m\u001b[1;33m\u001b[0m\u001b[0m\n\u001b[0m",
      "\u001b[1;32m~\\anaconda3\\lib\\site-packages\\pandas\\core\\series.py\u001b[0m in \u001b[0;36mwrapper\u001b[1;34m(self)\u001b[0m\n\u001b[0;32m    139\u001b[0m         \u001b[1;32mif\u001b[0m \u001b[0mlen\u001b[0m\u001b[1;33m(\u001b[0m\u001b[0mself\u001b[0m\u001b[1;33m)\u001b[0m \u001b[1;33m==\u001b[0m \u001b[1;36m1\u001b[0m\u001b[1;33m:\u001b[0m\u001b[1;33m\u001b[0m\u001b[1;33m\u001b[0m\u001b[0m\n\u001b[0;32m    140\u001b[0m             \u001b[1;32mreturn\u001b[0m \u001b[0mconverter\u001b[0m\u001b[1;33m(\u001b[0m\u001b[0mself\u001b[0m\u001b[1;33m.\u001b[0m\u001b[0miloc\u001b[0m\u001b[1;33m[\u001b[0m\u001b[1;36m0\u001b[0m\u001b[1;33m]\u001b[0m\u001b[1;33m)\u001b[0m\u001b[1;33m\u001b[0m\u001b[1;33m\u001b[0m\u001b[0m\n\u001b[1;32m--> 141\u001b[1;33m         \u001b[1;32mraise\u001b[0m \u001b[0mTypeError\u001b[0m\u001b[1;33m(\u001b[0m\u001b[1;34mf\"cannot convert the series to {converter}\"\u001b[0m\u001b[1;33m)\u001b[0m\u001b[1;33m\u001b[0m\u001b[1;33m\u001b[0m\u001b[0m\n\u001b[0m\u001b[0;32m    142\u001b[0m \u001b[1;33m\u001b[0m\u001b[0m\n\u001b[0;32m    143\u001b[0m     \u001b[0mwrapper\u001b[0m\u001b[1;33m.\u001b[0m\u001b[0m__name__\u001b[0m \u001b[1;33m=\u001b[0m \u001b[1;34mf\"__{converter.__name__}__\"\u001b[0m\u001b[1;33m\u001b[0m\u001b[1;33m\u001b[0m\u001b[0m\n",
      "\u001b[1;31mTypeError\u001b[0m: cannot convert the series to <class 'int'>"
     ]
    }
   ],
   "source": [
    "round(master_df['Recovered']).astype()"
   ]
  },
  {
   "cell_type": "code",
   "execution_count": 645,
   "id": "32c570a4",
   "metadata": {},
   "outputs": [],
   "source": [
    "master_df.to_csv(\"C:\\\\Users\\\\OvaizAli\\\\Desktop\\\\FYP-2021\\\\FYP-I\\\\Master\\\\Data Collection\\\\CollectedData\\\\Final_Data.csv\")"
   ]
  },
  {
   "cell_type": "markdown",
   "id": "103eb4ff",
   "metadata": {},
   "source": [
    "# Preparing Vaccination Data"
   ]
  },
  {
   "cell_type": "code",
   "execution_count": 414,
   "id": "3004203f",
   "metadata": {},
   "outputs": [],
   "source": [
    "# path = \"C:\\\\Users\\\\OvaizAli\\\\Desktop\\\\FYP-2021\\\\Working Directory\\\\Data (CSSE) at Johns Hopkins University\\\\COVID-19\\\\vaccinations_data\\\\vaccinations.csv\""
   ]
  },
  {
   "cell_type": "code",
   "execution_count": 415,
   "id": "405821be",
   "metadata": {},
   "outputs": [],
   "source": [
    "# df_vaccinations = pd.read_csv(path)"
   ]
  },
  {
   "cell_type": "code",
   "execution_count": 416,
   "id": "2ef6450b",
   "metadata": {},
   "outputs": [],
   "source": [
    "# df_vac_pak = df_vaccinations[df_vaccinations['location'] == \"Pakistan\"]\n",
    "# df_vac_pak.head()"
   ]
  },
  {
   "cell_type": "code",
   "execution_count": 417,
   "id": "878ec4df",
   "metadata": {},
   "outputs": [],
   "source": [
    "# df_vac_pak = df_vac_pak[['date', 'daily_vaccinations', 'daily_vaccinations_per_million']]\n",
    "# df_vac_pak = df_vac_pak.dropna(subset=['daily_vaccinations', 'daily_vaccinations_per_million'])\n",
    "# df_vac_pak.head()"
   ]
  },
  {
   "cell_type": "markdown",
   "id": "cbe179f8",
   "metadata": {},
   "source": [
    "# Merging Vaccination Data to JHU_IHME"
   ]
  },
  {
   "cell_type": "code",
   "execution_count": 418,
   "id": "c8d53229",
   "metadata": {},
   "outputs": [],
   "source": [
    "# path = 'C:\\\\Users\\\\OvaizAli\\\\Desktop\\\\FYP-2021\\\\Working Directory\\\\JHU_IHME.csv'\n",
    "# df_JHU_IHME = pd.read_csv(path)"
   ]
  },
  {
   "cell_type": "code",
   "execution_count": 419,
   "id": "57bb249b",
   "metadata": {},
   "outputs": [],
   "source": [
    "# df_JHU_IHME_Vac = pd.merge(left=df_JHU_IHME, right=df_vac_pak, how='left', left_on=['Date', 'Province'], right_on=['Date', 'Province'])"
   ]
  },
  {
   "cell_type": "code",
   "execution_count": null,
   "id": "72bd19c0",
   "metadata": {},
   "outputs": [],
   "source": []
  },
  {
   "cell_type": "code",
   "execution_count": null,
   "id": "d1ba0581",
   "metadata": {},
   "outputs": [],
   "source": []
  }
 ],
 "metadata": {
  "colab": {
   "collapsed_sections": [],
   "name": "Data Collection.ipynb",
   "provenance": []
  },
  "kernelspec": {
   "display_name": "Python 3",
   "language": "python",
   "name": "python3"
  },
  "language_info": {
   "codemirror_mode": {
    "name": "ipython",
    "version": 3
   },
   "file_extension": ".py",
   "mimetype": "text/x-python",
   "name": "python",
   "nbconvert_exporter": "python",
   "pygments_lexer": "ipython3",
   "version": "3.8.8"
  }
 },
 "nbformat": 4,
 "nbformat_minor": 5
}
