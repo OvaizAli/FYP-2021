{
 "cells": [
  {
   "cell_type": "markdown",
   "id": "766b373e",
   "metadata": {
    "id": "766b373e"
   },
   "source": [
    "# Parsing all the Data from the Files available on \"COVID-19 Data Repository by the Center for Systems Science and Engineering (CSSE) at Johns Hopkins University\"  \n",
    "\n",
    "Link : https://github.com/CSSEGISandData/COVID-19/tree/master/csse_covid_19_data/csse_covid_19_daily_reports"
   ]
  },
  {
   "cell_type": "code",
   "execution_count": 140,
   "id": "324befb4",
   "metadata": {
    "id": "324befb4"
   },
   "outputs": [],
   "source": [
    "import pandas as pd\n",
    "import os\n",
    "import ast\n",
    "import numpy as np\n",
    "from datetime import datetime\n",
    "import warnings\n",
    "warnings.filterwarnings(\"ignore\")"
   ]
  },
  {
   "cell_type": "code",
   "execution_count": 141,
   "id": "15829641",
   "metadata": {},
   "outputs": [],
   "source": [
    "path = \"C:\\\\Users\\\\OvaizAli\\\\Desktop\\\\FYP-2021\\\\Working Directory\\\\Raw Data (CSSE) at Johns Hopkins University\\\\COVID-19\\\\csse_covid_19_data\\\\csse_covid_19_daily_reports\\\\\""
   ]
  },
  {
   "cell_type": "code",
   "execution_count": 142,
   "id": "413ba9ba",
   "metadata": {
    "id": "413ba9ba"
   },
   "outputs": [
    {
     "ename": "FileNotFoundError",
     "evalue": "[WinError 3] The system cannot find the path specified: 'C:\\\\Users\\\\OvaizAli\\\\Desktop\\\\FYP-2021\\\\Working Directory\\\\Raw Data (CSSE) at Johns Hopkins University\\\\COVID-19\\\\csse_covid_19_data\\\\csse_covid_19_daily_reports\\\\'",
     "output_type": "error",
     "traceback": [
      "\u001b[1;31m---------------------------------------------------------------------------\u001b[0m",
      "\u001b[1;31mFileNotFoundError\u001b[0m                         Traceback (most recent call last)",
      "\u001b[1;32m<ipython-input-142-8254099ca19e>\u001b[0m in \u001b[0;36m<module>\u001b[1;34m\u001b[0m\n\u001b[0;32m      1\u001b[0m \u001b[0mdf_final\u001b[0m \u001b[1;33m=\u001b[0m \u001b[0mpd\u001b[0m\u001b[1;33m.\u001b[0m\u001b[0mDataFrame\u001b[0m\u001b[1;33m(\u001b[0m\u001b[1;33m{\u001b[0m\u001b[1;34m'Province_State'\u001b[0m \u001b[1;33m:\u001b[0m \u001b[1;33m[\u001b[0m\u001b[1;33m]\u001b[0m\u001b[1;33m,\u001b[0m \u001b[1;34m'Country_Region'\u001b[0m \u001b[1;33m:\u001b[0m \u001b[1;33m[\u001b[0m\u001b[1;33m]\u001b[0m\u001b[1;33m,\u001b[0m \u001b[1;34m'Last_Update'\u001b[0m \u001b[1;33m:\u001b[0m \u001b[1;33m[\u001b[0m\u001b[1;33m]\u001b[0m\u001b[1;33m,\u001b[0m \u001b[1;34m'Lat'\u001b[0m \u001b[1;33m:\u001b[0m \u001b[1;33m[\u001b[0m\u001b[1;33m]\u001b[0m\u001b[1;33m,\u001b[0m \u001b[1;34m'Long_'\u001b[0m \u001b[1;33m:\u001b[0m \u001b[1;33m[\u001b[0m\u001b[1;33m]\u001b[0m\u001b[1;33m,\u001b[0m\u001b[1;34m'Confirmed'\u001b[0m \u001b[1;33m:\u001b[0m \u001b[1;33m[\u001b[0m\u001b[1;33m]\u001b[0m\u001b[1;33m,\u001b[0m \u001b[1;34m'Deaths'\u001b[0m \u001b[1;33m:\u001b[0m \u001b[1;33m[\u001b[0m\u001b[1;33m]\u001b[0m\u001b[1;33m,\u001b[0m \u001b[1;34m'Recovered'\u001b[0m \u001b[1;33m:\u001b[0m \u001b[1;33m[\u001b[0m\u001b[1;33m]\u001b[0m\u001b[1;33m,\u001b[0m \u001b[1;34m'Active'\u001b[0m \u001b[1;33m:\u001b[0m \u001b[1;33m[\u001b[0m\u001b[1;33m]\u001b[0m\u001b[1;33m,\u001b[0m \u001b[1;34m'Combined_Key'\u001b[0m \u001b[1;33m:\u001b[0m \u001b[1;33m[\u001b[0m\u001b[1;33m]\u001b[0m\u001b[1;33m,\u001b[0m\u001b[1;34m'Incident_Rate'\u001b[0m \u001b[1;33m:\u001b[0m \u001b[1;33m[\u001b[0m\u001b[1;33m]\u001b[0m\u001b[1;33m,\u001b[0m \u001b[1;34m'Case_Fatality_Ratio'\u001b[0m \u001b[1;33m:\u001b[0m \u001b[1;33m[\u001b[0m\u001b[1;33m]\u001b[0m\u001b[1;33m}\u001b[0m\u001b[1;33m)\u001b[0m\u001b[1;33m\u001b[0m\u001b[1;33m\u001b[0m\u001b[0m\n\u001b[1;32m----> 2\u001b[1;33m \u001b[1;32mfor\u001b[0m \u001b[0mfile\u001b[0m \u001b[1;32min\u001b[0m \u001b[0mos\u001b[0m\u001b[1;33m.\u001b[0m\u001b[0mlistdir\u001b[0m\u001b[1;33m(\u001b[0m\u001b[0mpath\u001b[0m\u001b[1;33m)\u001b[0m\u001b[1;33m:\u001b[0m\u001b[1;33m\u001b[0m\u001b[1;33m\u001b[0m\u001b[0m\n\u001b[0m\u001b[0;32m      3\u001b[0m     \u001b[1;32mif\u001b[0m \u001b[0mfile\u001b[0m\u001b[1;33m.\u001b[0m\u001b[0mendswith\u001b[0m\u001b[1;33m(\u001b[0m\u001b[1;34m\".csv\"\u001b[0m\u001b[1;33m)\u001b[0m\u001b[1;33m:\u001b[0m\u001b[1;33m\u001b[0m\u001b[1;33m\u001b[0m\u001b[0m\n\u001b[0;32m      4\u001b[0m         \u001b[0mdf\u001b[0m \u001b[1;33m=\u001b[0m \u001b[0mpd\u001b[0m\u001b[1;33m.\u001b[0m\u001b[0mread_csv\u001b[0m\u001b[1;33m(\u001b[0m\u001b[0mpath\u001b[0m \u001b[1;33m+\u001b[0m \u001b[0mfile\u001b[0m\u001b[1;33m,\u001b[0m \u001b[0mindex_col\u001b[0m\u001b[1;33m=\u001b[0m\u001b[1;32mFalse\u001b[0m\u001b[1;33m)\u001b[0m\u001b[1;33m\u001b[0m\u001b[1;33m\u001b[0m\u001b[0m\n\u001b[0;32m      5\u001b[0m         \u001b[1;32mtry\u001b[0m\u001b[1;33m:\u001b[0m\u001b[1;33m\u001b[0m\u001b[1;33m\u001b[0m\u001b[0m\n",
      "\u001b[1;31mFileNotFoundError\u001b[0m: [WinError 3] The system cannot find the path specified: 'C:\\\\Users\\\\OvaizAli\\\\Desktop\\\\FYP-2021\\\\Working Directory\\\\Raw Data (CSSE) at Johns Hopkins University\\\\COVID-19\\\\csse_covid_19_data\\\\csse_covid_19_daily_reports\\\\'"
     ]
    }
   ],
   "source": [
    "df_final = pd.DataFrame({'Province_State' : [], 'Country_Region' : [], 'Last_Update' : [], 'Lat' : [], 'Long_' : [],'Confirmed' : [], 'Deaths' : [], 'Recovered' : [], 'Active' : [], 'Combined_Key' : [],'Incident_Rate' : [], 'Case_Fatality_Ratio' : []})\n",
    "for file in os.listdir(path):\n",
    "    if file.endswith(\".csv\"):\n",
    "        df = pd.read_csv(path + file, index_col=False)\n",
    "        try:\n",
    "            df_temp = df[df['Country_Region'] == \"Pakistan\"].copy()\n",
    "            df_temp.drop(['FIPS', 'Admin2'], axis = 1, inplace = True)\n",
    "            \n",
    "            if(len(df_temp.columns) == 12):\n",
    "                df_final = df_final.append(df_temp, True)\n",
    "                df_final.drop(['Combined_Key'], axis = 1, inplace = True)\n",
    "               \n",
    "        except :\n",
    "            continue\n",
    "            "
   ]
  },
  {
   "cell_type": "code",
   "execution_count": null,
   "id": "8b960ebd",
   "metadata": {},
   "outputs": [],
   "source": [
    "df_final.isnull().sum()"
   ]
  },
  {
   "cell_type": "code",
   "execution_count": null,
   "id": "3dc2f5dd",
   "metadata": {
    "id": "3dc2f5dd"
   },
   "outputs": [],
   "source": [
    "df_final.drop(['Active'], axis = 1, inplace = True)\n",
    "df_final = df_final.dropna(subset=['Province_State'])"
   ]
  },
  {
   "cell_type": "code",
   "execution_count": null,
   "id": "4634b65e",
   "metadata": {
    "id": "4634b65e"
   },
   "outputs": [],
   "source": [
    "df_final.drop(['Incident_Rate', 'Incidence_Rate', 'Case-Fatality_Ratio', 'Case_Fatality_Ratio'], axis = 1, inplace = True)"
   ]
  },
  {
   "cell_type": "code",
   "execution_count": null,
   "id": "09c6c9eb",
   "metadata": {
    "id": "09c6c9eb",
    "outputId": "ad1abfe8-d277-4217-e238-8d50ce52c08a"
   },
   "outputs": [],
   "source": [
    "df_final.isnull().sum()"
   ]
  },
  {
   "cell_type": "code",
   "execution_count": null,
   "id": "9c4cfea0",
   "metadata": {
    "id": "9c4cfea0"
   },
   "outputs": [],
   "source": [
    "# df_temp = df_final['Case_Fatality_Ratio'].fillna(df_final['Case-Fatality_Ratio'])\n",
    "# df_final.loc[df_final['Case_Fatality_Ratio'].isnull(), 'Case_Fatality_Ratio'] = df_temp"
   ]
  },
  {
   "cell_type": "code",
   "execution_count": null,
   "id": "5b721939",
   "metadata": {
    "id": "5b721939"
   },
   "outputs": [],
   "source": [
    "# df_temp = df_final['Incident_Rate'].fillna(df_final['Incidence_Rate'])\n",
    "# df_final.loc[df_final['Incident_Rate'].isnull(), 'Incident_Rate'] = df_temp"
   ]
  },
  {
   "cell_type": "code",
   "execution_count": null,
   "id": "69ca77ae",
   "metadata": {
    "id": "69ca77ae"
   },
   "outputs": [],
   "source": [
    "# df_final = df_final.dropna(subset=['Incidence_Rate', 'Case-Fatality_Ratio'])"
   ]
  },
  {
   "cell_type": "code",
   "execution_count": null,
   "id": "fd3f5425",
   "metadata": {
    "id": "fd3f5425",
    "outputId": "431d5320-755d-4301-98c3-300c29a6d89d"
   },
   "outputs": [],
   "source": [
    "df_final.isnull().sum()"
   ]
  },
  {
   "cell_type": "code",
   "execution_count": null,
   "id": "edd4153d",
   "metadata": {
    "id": "edd4153d",
    "outputId": "6fecb2c1-2bd0-42af-efef-5b80c8da2931"
   },
   "outputs": [],
   "source": [
    "len(df_final)"
   ]
  },
  {
   "cell_type": "code",
   "execution_count": null,
   "id": "a87c6717",
   "metadata": {
    "id": "a87c6717"
   },
   "outputs": [],
   "source": [
    "df_final.to_csv(\"C:\\\\Users\\\\OvaizAli\\\\Desktop\\\\FYP-2021\\\\Master\\\\FYP-I\\\\Data Collection\\\\CollectedData\\\\JHU Data\\\\All_Province (06-2020 to 02-2022).csv\", index = False)"
   ]
  },
  {
   "cell_type": "markdown",
   "id": "db82d534",
   "metadata": {
    "id": "db82d534"
   },
   "source": [
    "# Remaining Data Preparation For Merging"
   ]
  },
  {
   "cell_type": "code",
   "execution_count": null,
   "id": "dcc33f93",
   "metadata": {
    "id": "dcc33f93",
    "outputId": "1651aaf2-9370-4733-a07c-68b4c6eba779"
   },
   "outputs": [],
   "source": [
    "path = \"C:\\\\Users\\\\OvaizAli\\\\Desktop\\\\FYP-2021\\\\Working Directory\\\\Raw Data (CSSE) at Johns Hopkins University\\\\COVID-19\\\\remaining_province_wise_data\\\\Pakistan_Province_summary_covid19_confirmed.csv\"\n",
    "df_confirmed = pd.read_csv(path, index_col=False)\n",
    "df_confirmed.drop(['code'], axis = 1, inplace = True)\n",
    "df_confirmed.sort_values(by=['Date'])\n",
    "df_confirmed['Date'] = pd.to_datetime(df_confirmed['Date'])\n",
    "\n",
    "confirmed_cases = df_confirmed[df_confirmed['Date'] < \"2020-06-11\"]\n",
    "confirmed_cases.head()"
   ]
  },
  {
   "cell_type": "code",
   "execution_count": null,
   "id": "3f115017",
   "metadata": {
    "id": "3f115017",
    "outputId": "6fff0be4-f8df-41dc-88f2-c6e9d0d44137"
   },
   "outputs": [],
   "source": [
    "path = \"C:\\\\Users\\\\OvaizAli\\\\Desktop\\\\FYP-2021\\\\Working Directory\\\\Raw Data (CSSE) at Johns Hopkins University\\\\COVID-19\\\\remaining_province_wise_data\\\\Pakistan_Province_summary_covid19_death.csv\"\n",
    "df_deaths = pd.read_csv(path, index_col=False)\n",
    "df_deaths.drop(['code'], axis = 1, inplace = True)\n",
    "df_deaths.sort_values(by=['Date'])\n",
    "df_deaths['Date'] = pd.to_datetime(df_deaths['Date'])\n",
    "\n",
    "deaths = df_deaths[df_deaths['Date'] < \"2020-06-11\"]\n",
    "deaths.head()"
   ]
  },
  {
   "cell_type": "code",
   "execution_count": null,
   "id": "83b7df44",
   "metadata": {
    "id": "83b7df44",
    "outputId": "f124a029-2632-404a-910a-3cd829a5d8f7"
   },
   "outputs": [],
   "source": [
    "remaining_data = confirmed_cases.merge(deaths, how='inner', on=['Province', 'Date'])\n",
    "remaining_data = remaining_data.rename(columns={\"Confirmed cases\" : \"Confirmed\"})\n",
    "remaining_data['Date'] = pd.to_datetime(remaining_data['Date']).dt.date\n",
    "remaining_data.head()"
   ]
  },
  {
   "cell_type": "markdown",
   "id": "a709f24b",
   "metadata": {
    "id": "a709f24b"
   },
   "source": [
    "# Merging All the Data into One File"
   ]
  },
  {
   "cell_type": "code",
   "execution_count": null,
   "id": "b66f485a",
   "metadata": {
    "id": "b66f485a"
   },
   "outputs": [],
   "source": [
    "df_final['Last_Update'] = pd.to_datetime(df_final['Last_Update']).dt.date\n"
   ]
  },
  {
   "cell_type": "code",
   "execution_count": null,
   "id": "4d495a1e",
   "metadata": {
    "id": "4d495a1e"
   },
   "outputs": [],
   "source": [
    "df_final = df_final.rename(columns={\"Province_State\" : \"Province\",\"Last_Update\" : \"Date\"})"
   ]
  },
  {
   "cell_type": "code",
   "execution_count": null,
   "id": "c2d8cd26",
   "metadata": {
    "id": "c2d8cd26",
    "outputId": "b536c895-c6e3-4f5d-d08e-71a248e53a93"
   },
   "outputs": [],
   "source": [
    "len(remaining_data)"
   ]
  },
  {
   "cell_type": "code",
   "execution_count": null,
   "id": "b74e47e8",
   "metadata": {
    "id": "b74e47e8",
    "outputId": "e0c3e832-d9a6-4a28-820d-d9d84493cf04"
   },
   "outputs": [],
   "source": [
    "df_final.tail(7)"
   ]
  },
  {
   "cell_type": "code",
   "execution_count": null,
   "id": "8c89bd69",
   "metadata": {
    "id": "8c89bd69"
   },
   "outputs": [],
   "source": [
    " df_final = df_final.append(remaining_data)"
   ]
  },
  {
   "cell_type": "code",
   "execution_count": null,
   "id": "ec1addfa",
   "metadata": {
    "id": "ec1addfa",
    "outputId": "e56cf36c-95cf-4c43-e02e-c0ac55a85671"
   },
   "outputs": [],
   "source": [
    "df_final.isnull().sum()"
   ]
  },
  {
   "cell_type": "code",
   "execution_count": null,
   "id": "5bef65fa",
   "metadata": {
    "id": "5bef65fa"
   },
   "outputs": [],
   "source": [
    "df_final.loc[df_final['Country_Region'].isnull(), 'Country_Region'] = \"Pakistan\""
   ]
  },
  {
   "cell_type": "code",
   "execution_count": null,
   "id": "3b41cf75",
   "metadata": {
    "id": "3b41cf75"
   },
   "outputs": [],
   "source": [
    "# df_final[df_final['Province'] == 'Sindh'][['Lat', 'Long_']]\n",
    "# 26.009446, 68.776807\n",
    "# df_final[df_final['Province'] == 'Punjab'][['Lat', 'Long_']]\n",
    "# 30.811346, 72.139132\n",
    "# df_final[df_final['Province'] == 'Gilgit-Baltistan'][['Lat', 'Long_']]\n",
    "# 35.792146, 74.982138\n",
    "# df_final[df_final['Province'] == 'Islamabad'][['Lat', 'Long_']]\n",
    "# 33.665087, 73.121219\n",
    "# df_final[df_final['Province'] == 'Khyber Pakhtunkhwa'][['Lat', 'Long_']]\n",
    "# 34.485332, 72.09169\n",
    "# df_final[df_final['Province'] == 'Balochistan'][['Lat', 'Long_']]\n",
    "# 28.328492, 65.898403\n",
    "# df_final[df_final['Province'] == 'Azad Jammu and Kashmir'][['Lat', 'Long_']]\n",
    "# 34.027401, 73.947253"
   ]
  },
  {
   "cell_type": "code",
   "execution_count": null,
   "id": "d4586613",
   "metadata": {
    "id": "d4586613"
   },
   "outputs": [],
   "source": [
    "df_final.loc[df_final['Province'] == 'Sindh', 'Lat'] = 26.009446\n",
    "df_final.loc[df_final['Province'] == 'Sindh', 'Long_'] = 68.776807\n",
    "\n",
    "df_final.loc[df_final['Province'] == 'Punjab', 'Lat'] = 30.811346\n",
    "df_final.loc[df_final['Province'] == 'Punjab', 'Long_'] = 72.139132\n",
    "\n",
    "df_final.loc[df_final['Province'] == 'Gilgit-Baltistan', 'Lat'] = 35.792146\n",
    "df_final.loc[df_final['Province'] == 'Gilgit-Baltistan', 'Long_'] = 74.982138\n",
    "\n",
    "df_final.loc[df_final['Province'] == 'Islamabad', 'Lat'] = 33.665087\n",
    "df_final.loc[df_final['Province'] == 'Islamabad', 'Long_'] = 73.121219\n",
    "\n",
    "df_final.loc[df_final['Province'] == 'Khyber Pakhtunkhwa', 'Lat'] = 34.485332\n",
    "df_final.loc[df_final['Province'] == 'Khyber Pakhtunkhwa', 'Long_'] = 72.09169\n",
    "\n",
    "df_final.loc[df_final['Province'] == 'Balochistan', 'Lat'] = 28.328492\n",
    "df_final.loc[df_final['Province'] == 'Balochistan', 'Long_'] = 65.898403\n",
    "\n",
    "df_final.loc[df_final['Province'] == 'Azad Jammu and Kashmir', 'Lat'] = 34.027401\n",
    "df_final.loc[df_final['Province'] == 'Azad Jammu and Kashmir', 'Long_'] = 73.947253"
   ]
  },
  {
   "cell_type": "code",
   "execution_count": null,
   "id": "ae3c5f30",
   "metadata": {
    "id": "ae3c5f30",
    "outputId": "4fa1210d-ea7d-4886-fb89-9223d52c04f7"
   },
   "outputs": [],
   "source": [
    "df_final.isnull().sum()"
   ]
  },
  {
   "cell_type": "code",
   "execution_count": null,
   "id": "590ce865",
   "metadata": {},
   "outputs": [],
   "source": [
    "df_final.head()"
   ]
  },
  {
   "cell_type": "code",
   "execution_count": null,
   "id": "c28db416",
   "metadata": {
    "id": "c28db416"
   },
   "outputs": [],
   "source": [
    "df_final.to_csv(\"C:\\\\Users\\\\OvaizAli\\\\Desktop\\\\FYP-2021\\\\Master\\\\FYP-I\\\\Data Collection\\\\CollectedData\\\\JHU Data\\\\All_Province (03-2020 to 02-2022).csv\", index = False)"
   ]
  },
  {
   "cell_type": "markdown",
   "id": "prxB0wbkMNQj",
   "metadata": {
    "id": "prxB0wbkMNQj"
   },
   "source": [
    "# Working on Data From IHME"
   ]
  },
  {
   "cell_type": "code",
   "execution_count": null,
   "id": "gyKoAhyXMMX6",
   "metadata": {
    "id": "gyKoAhyXMMX6"
   },
   "outputs": [],
   "source": [
    "path2020 = \"C:\\\\Users\\\\OvaizAli\\\\Desktop\\\\FYP-2021\\\\Working Directory\\\\data_download_file_reference_2020.csv\"\n",
    "path2021 = \"C:\\\\Users\\\\OvaizAli\\\\Desktop\\\\FYP-2021\\\\Working Directory\\\\data_download_file_reference_2021.csv\"\n",
    "path2022 = \"C:\\\\Users\\\\OvaizAli\\\\Desktop\\\\FYP-2021\\\\Working Directory\\\\data_download_file_reference_2022.csv\""
   ]
  },
  {
   "cell_type": "code",
   "execution_count": null,
   "id": "355ea831",
   "metadata": {},
   "outputs": [],
   "source": [
    "df2020 = pd.read_csv(path2020, index_col = False)\n",
    "df2021 = pd.read_csv(path2021, index_col = False)\n",
    "df2022 = pd.read_csv(path2022, index_col = False)"
   ]
  },
  {
   "cell_type": "code",
   "execution_count": null,
   "id": "209f28e5",
   "metadata": {},
   "outputs": [],
   "source": [
    "dfNull2020 = df2020.columns[df2020.isnull().any()]\n",
    "df2020.drop(dfNull2020, axis = 1, inplace = True)\n",
    "\n",
    "dfNull2021 = df2021.columns[df2021.isnull().any()]\n",
    "df2021.drop(dfNull2021, axis = 1, inplace = True)\n",
    "\n",
    "dfNull2022 = df2022.columns[df2022.isnull().any()]\n",
    "df2022.drop(dfNull2022, axis = 1, inplace = True)"
   ]
  },
  {
   "cell_type": "code",
   "execution_count": null,
   "id": "b2b7a09c",
   "metadata": {},
   "outputs": [],
   "source": [
    "df_All_IHME = pd.DataFrame()\n",
    "\n",
    "provinces = ['Sindh', 'Punjab', 'Balochistan', 'Azad Jammu & Kashmir', \"Gilgit-Baltistan\", \"Islamabad Capital Territory\", \"Khyber Pakhtunkhwa\"]\n",
    "\n",
    "for i in range(len(provinces)):\n",
    "    df_All_IHME = df_All_IHME.append(df2020[df2020['location_name'] == provinces[i]])\n",
    "    df_All_IHME = df_All_IHME.append(df2021[df2021['location_name'] == provinces[i]])\n",
    "    df_All_IHME = df_All_IHME.append(df2022[df2022['location_name'] == provinces[i]])"
   ]
  },
  {
   "cell_type": "code",
   "execution_count": null,
   "id": "0f578393",
   "metadata": {},
   "outputs": [],
   "source": [
    "len(df_All_IHME)"
   ]
  },
  {
   "cell_type": "code",
   "execution_count": null,
   "id": "WhMm4sM9MZ3j",
   "metadata": {
    "colab": {
     "base_uri": "https://localhost:8080/",
     "height": 275
    },
    "id": "WhMm4sM9MZ3j",
    "outputId": "c9fd1831-d3fe-4860-e9ca-4f4d594075c8"
   },
   "outputs": [],
   "source": [
    "df_All_IHME.head()"
   ]
  },
  {
   "cell_type": "code",
   "execution_count": null,
   "id": "_hHmiALzMoby",
   "metadata": {
    "id": "_hHmiALzMoby"
   },
   "outputs": [],
   "source": [
    "df_All_IHME.drop([df_All_IHME.columns[0], \"location_id\", \"version_name\"], axis = 1, inplace = True)"
   ]
  },
  {
   "cell_type": "code",
   "execution_count": null,
   "id": "jV0VF2NfZiXj",
   "metadata": {
    "colab": {
     "base_uri": "https://localhost:8080/"
    },
    "id": "jV0VF2NfZiXj",
    "outputId": "e07aca69-9ef2-41ab-f16f-89f56477f5c1"
   },
   "outputs": [],
   "source": [
    "len(df_All_IHME)"
   ]
  },
  {
   "cell_type": "code",
   "execution_count": null,
   "id": "D4Try6pPUYIe",
   "metadata": {
    "id": "D4Try6pPUYIe"
   },
   "outputs": [],
   "source": [
    "nan_value = float(\"NaN\")\n",
    "df_All_IHME.replace(\"\", nan_value, inplace=True)\n",
    "df_All_IHME.dropna(how='any', axis=1, inplace=True)"
   ]
  },
  {
   "cell_type": "code",
   "execution_count": null,
   "id": "1Mgnmd1LSjEm",
   "metadata": {
    "colab": {
     "base_uri": "https://localhost:8080/"
    },
    "id": "1Mgnmd1LSjEm",
    "outputId": "dc79f1c0-a348-468a-bb96-65977af31260"
   },
   "outputs": [],
   "source": [
    "df_All_IHME.isnull().sum()"
   ]
  },
  {
   "cell_type": "code",
   "execution_count": null,
   "id": "W2tRHRsbeTZM",
   "metadata": {
    "id": "W2tRHRsbeTZM"
   },
   "outputs": [],
   "source": [
    "df_All_IHME = df_All_IHME.rename(columns={'date' : 'Date', 'location_name' : 'Province'})"
   ]
  },
  {
   "cell_type": "code",
   "execution_count": null,
   "id": "rSgylVmc01Gc",
   "metadata": {
    "id": "rSgylVmc01Gc"
   },
   "outputs": [],
   "source": [
    "df_All_IHME['Date'] = pd.to_datetime(df_All_IHME['Date']).dt.date"
   ]
  },
  {
   "cell_type": "code",
   "execution_count": null,
   "id": "iXo0jONkZ2FL",
   "metadata": {
    "colab": {
     "base_uri": "https://localhost:8080/",
     "height": 422
    },
    "id": "iXo0jONkZ2FL",
    "outputId": "140fe276-9b29-4f80-b57d-17e43934c6e7"
   },
   "outputs": [],
   "source": [
    "df_All_IHME.head(7)"
   ]
  },
  {
   "cell_type": "code",
   "execution_count": null,
   "id": "Axi0Dv9ie5TP",
   "metadata": {
    "id": "Axi0Dv9ie5TP"
   },
   "outputs": [],
   "source": [
    "df_All_IHME.loc[df_All_IHME['Province'] == \"Azad Jammu & Kashmir\", 'Province'] = \"Azad Jammu and Kashmir\"\n",
    "df_All_IHME.loc[df_All_IHME['Province'] == \"Islamabad Capital Territory\", 'Province'] = \"Islamabad\""
   ]
  },
  {
   "cell_type": "code",
   "execution_count": null,
   "id": "___QnOJFf2ax",
   "metadata": {
    "colab": {
     "base_uri": "https://localhost:8080/",
     "height": 405
    },
    "id": "___QnOJFf2ax",
    "outputId": "63ad2ddc-6087-4322-c642-78e389bd0727"
   },
   "outputs": [],
   "source": [
    "df_All_IHME.head(7)"
   ]
  },
  {
   "cell_type": "code",
   "execution_count": null,
   "id": "321jEdZSabI0",
   "metadata": {
    "id": "321jEdZSabI0"
   },
   "outputs": [],
   "source": [
    "df_All_IHME.to_csv(\"C:\\\\Users\\\\OvaizAli\\\\Desktop\\\\FYP-2021\\\\Master\\\\FYP-I\\\\Data Collection\\\\CollectedData\\\\IHME Data\\\\IHME.csv\", index = False)"
   ]
  },
  {
   "cell_type": "markdown",
   "id": "2jwxaSuGb1G7",
   "metadata": {
    "id": "2jwxaSuGb1G7"
   },
   "source": [
    "# Merging All the Data from JHU and IHME"
   ]
  },
  {
   "cell_type": "code",
   "execution_count": null,
   "id": "7AFK4mm1b0XU",
   "metadata": {
    "id": "7AFK4mm1b0XU"
   },
   "outputs": [],
   "source": [
    "path = \"C:\\\\Users\\\\OvaizAli\\\\Desktop\\\\FYP-2021\\\\Master\\\\FYP-I\\\\Data Collection\\\\CollectedData\\\\JHU Data\\\\All_Province (03-2020 to 02-2022).csv\""
   ]
  },
  {
   "cell_type": "code",
   "execution_count": null,
   "id": "QorrCec1dSHN",
   "metadata": {
    "colab": {
     "base_uri": "https://localhost:8080/",
     "height": 266
    },
    "id": "QorrCec1dSHN",
    "outputId": "0722fcc7-0511-4feb-929d-8941470f153a"
   },
   "outputs": [],
   "source": [
    "df_JHU = pd.read_csv(path)\n",
    "df_JHU.head(7)"
   ]
  },
  {
   "cell_type": "code",
   "execution_count": null,
   "id": "2f562d0f",
   "metadata": {},
   "outputs": [],
   "source": [
    "df_JHU['Date'] = pd.to_datetime(df_JHU['Date']).dt.date"
   ]
  },
  {
   "cell_type": "code",
   "execution_count": null,
   "id": "Rdmajm2Qdcbc",
   "metadata": {
    "colab": {
     "base_uri": "https://localhost:8080/",
     "height": 374
    },
    "id": "Rdmajm2Qdcbc",
    "outputId": "df186c62-0b32-414d-ed23-e88a6bf1e253"
   },
   "outputs": [],
   "source": [
    "df_JHU_IHME = pd.merge(left=df_JHU, right=df_All_IHME, how='left', left_on=['Date', 'Province'], right_on=['Date', 'Province'])"
   ]
  },
  {
   "cell_type": "code",
   "execution_count": null,
   "id": "1ggJCYcyghTu",
   "metadata": {
    "colab": {
     "base_uri": "https://localhost:8080/",
     "height": 326
    },
    "id": "1ggJCYcyghTu",
    "outputId": "3ef79cf2-358f-430c-db57-6cb7a6ef870f"
   },
   "outputs": [],
   "source": [
    "df_JHU_IHME.head() "
   ]
  },
  {
   "cell_type": "code",
   "execution_count": null,
   "id": "KiESWERyhS7y",
   "metadata": {
    "colab": {
     "base_uri": "https://localhost:8080/"
    },
    "id": "KiESWERyhS7y",
    "outputId": "1e9dc2a4-1f87-4786-9526-abe6d9c21fbe"
   },
   "outputs": [],
   "source": [
    "df_JHU_IHME.isnull().sum()"
   ]
  },
  {
   "cell_type": "code",
   "execution_count": null,
   "id": "2caf03bf",
   "metadata": {},
   "outputs": [],
   "source": [
    "df_JHU_IHME.rename(columns={'Unnamed: 0':'S.No'}, inplace=True )"
   ]
  },
  {
   "cell_type": "code",
   "execution_count": null,
   "id": "ffe011d7",
   "metadata": {},
   "outputs": [],
   "source": [
    "df_JHU_IHME.head()"
   ]
  },
  {
   "cell_type": "code",
   "execution_count": null,
   "id": "hlYJL2VSjblG",
   "metadata": {
    "id": "hlYJL2VSjblG"
   },
   "outputs": [],
   "source": [
    "df_JHU_IHME.to_csv('C:\\\\Users\\\\OvaizAli\\\\Desktop\\\\FYP-2021\\\\Master\\\\FYP-I\\\\Data Collection\\\\CollectedData\\\\JHU_IHME.csv', index = False)"
   ]
  },
  {
   "cell_type": "markdown",
   "id": "d3689e66",
   "metadata": {},
   "source": [
    "# Merging Weather related Data to JHU_IHME"
   ]
  },
  {
   "cell_type": "code",
   "execution_count": null,
   "id": "43ee0018",
   "metadata": {},
   "outputs": [],
   "source": [
    "path = 'C:\\\\Users\\\\OvaizAli\\\\Desktop\\\\FYP-2021\\\\Master\\\\FYP-I\\\\Data Collection\\\\CollectedData\\\\JHU_IHME.csv'"
   ]
  },
  {
   "cell_type": "code",
   "execution_count": null,
   "id": "b295f47e",
   "metadata": {},
   "outputs": [],
   "source": [
    "df_JHU_IHME = pd.read_csv(path)"
   ]
  },
  {
   "cell_type": "code",
   "execution_count": null,
   "id": "4f9b7acf",
   "metadata": {},
   "outputs": [],
   "source": [
    "# df_JHU_IHME.drop(['Unnamed: 0'], axis = 1, inplace = True)"
   ]
  },
  {
   "cell_type": "code",
   "execution_count": null,
   "id": "fbeb1d9c",
   "metadata": {},
   "outputs": [],
   "source": [
    "df_JHU_IHME.head(7)"
   ]
  },
  {
   "cell_type": "code",
   "execution_count": null,
   "id": "0aeb5011",
   "metadata": {},
   "outputs": [],
   "source": [
    "sindh_weather_path = 'C:\\\\Users\\\\OvaizAli\\\\Desktop\\\\FYP-2021\\\\Working Directory\\\\Sindh.csv'\n",
    "punjab_weather_path = 'C:\\\\Users\\\\OvaizAli\\\\Desktop\\\\FYP-2021\\\\Working Directory\\\\Punjab.csv'\n",
    "isb_weather_path = 'C:\\\\Users\\\\OvaizAli\\\\Desktop\\\\FYP-2021\\\\Working Directory\\\\ISB.csv'\n",
    "bal_weather_path = 'C:\\\\Users\\\\OvaizAli\\\\Desktop\\\\FYP-2021\\\\Working Directory\\\\Bal.csv'\n",
    "ajk_weather_path = 'C:\\\\Users\\\\OvaizAli\\\\Desktop\\\\FYP-2021\\\\Working Directory\\\\AJK.csv'\n",
    "kpk_weather_path = 'C:\\\\Users\\\\OvaizAli\\\\Desktop\\\\FYP-2021\\\\Working Directory\\\\KPK.csv'\n",
    "gb_weather_path = 'C:\\\\Users\\\\OvaizAli\\\\Desktop\\\\FYP-2021\\\\Working Directory\\\\GB.csv'"
   ]
  },
  {
   "cell_type": "code",
   "execution_count": null,
   "id": "4c223df8",
   "metadata": {},
   "outputs": [],
   "source": [
    "df_sindh = pd.read_csv(sindh_weather_path)\n",
    "df_sindh.drop(['Unnamed: 0'], axis = 1, inplace = True)\n",
    "\n",
    "df_punjab = pd.read_csv(punjab_weather_path)\n",
    "df_punjab.drop(['Unnamed: 0'], axis = 1, inplace = True)\n",
    "\n",
    "df_isb = pd.read_csv(isb_weather_path)\n",
    "df_isb.drop(['Unnamed: 0'], axis = 1, inplace = True)\n",
    "\n",
    "df_bal = pd.read_csv(bal_weather_path)\n",
    "df_bal.drop(['Unnamed: 0'], axis = 1, inplace = True)\n",
    "\n",
    "df_ajk = pd.read_csv(ajk_weather_path)\n",
    "df_ajk.drop(['Unnamed: 0'], axis = 1, inplace = True)\n",
    "\n",
    "df_kpk = pd.read_csv(kpk_weather_path)\n",
    "df_kpk.drop(['Unnamed: 0'], axis = 1, inplace = True)\n",
    "\n",
    "df_gb = pd.read_csv(gb_weather_path)\n",
    "df_gb.drop(['Unnamed: 0'], axis = 1, inplace = True)"
   ]
  },
  {
   "cell_type": "code",
   "execution_count": null,
   "id": "abb59663",
   "metadata": {},
   "outputs": [],
   "source": [
    "df_sindh.head(2)"
   ]
  },
  {
   "cell_type": "code",
   "execution_count": null,
   "id": "64ee7ebf",
   "metadata": {},
   "outputs": [],
   "source": [
    "ast.literal_eval(df_sindh['January 1, 2020'][0])"
   ]
  },
  {
   "cell_type": "code",
   "execution_count": null,
   "id": "3bcb7f58",
   "metadata": {
    "scrolled": true
   },
   "outputs": [],
   "source": [
    "ast.literal_eval(df_sindh['January 1, 2020'][3])['Weather']"
   ]
  },
  {
   "cell_type": "code",
   "execution_count": null,
   "id": "24a1724c",
   "metadata": {},
   "outputs": [],
   "source": [
    "sindh_final_dict = {}\n",
    "for i in df_sindh.columns:\n",
    "    tTemp = 0\n",
    "    tWind = 0\n",
    "    tBarometer = 0\n",
    "    tVisibility = 0\n",
    "    for j in range(len(df_sindh[i])):\n",
    "        try:\n",
    "            tTemp += float(ast.literal_eval(df_sindh[i][j])['Temp'][:2])\n",
    "            tWind += float(ast.literal_eval(df_sindh[i][j])['Wind'][:2])\n",
    "            tBarometer += float(ast.literal_eval(df_sindh[i][j])['Barometer'][:2])\n",
    "            tVisibility += float(ast.literal_eval(df_sindh[i][j])['Visibility'][:5])\n",
    "            \n",
    "        except:\n",
    "            continue\n",
    "    sindh_final_dict[i] = {\"Temp\" : round(tTemp/j, 2), \"Wind\" : round(tWind/j, 2), \"Barometer\" : round(tBarometer/j, 2),\n",
    "                          \"Visibility\" : round(tVisibility/j, 2), \"Weather\" : ast.literal_eval(df_sindh[i][0])['Weather']}\n",
    "    "
   ]
  },
  {
   "cell_type": "code",
   "execution_count": null,
   "id": "d354ed29",
   "metadata": {},
   "outputs": [],
   "source": [
    "punjab_final_dict = {}\n",
    "for i in df_punjab.columns:\n",
    "    tTemp = 0\n",
    "    tWind = 0\n",
    "    tBarometer = 0\n",
    "    tVisibility = 0\n",
    "    for j in range(len(df_punjab[i])):\n",
    "        try:\n",
    "            tTemp += float(ast.literal_eval(df_punjab[i][j])['Temp'][:2])\n",
    "            tWind += float(ast.literal_eval(df_punjab[i][j])['Wind'][:2])\n",
    "            tBarometer += float(ast.literal_eval(df_punjab[i][j])['Barometer'][:2])\n",
    "            tVisibility += float(ast.literal_eval(df_punjab[i][j])['Visibility'][:5])\n",
    "            \n",
    "        except:\n",
    "            continue\n",
    "    punjab_final_dict[i] = {\"Temp\" : round(tTemp/j, 2), \"Wind\" : round(tWind/j, 2), \"Barometer\" : round(tBarometer/j, 2),\n",
    "                          \"Visibility\" : round(tVisibility/j, 2), \"Weather\" : ast.literal_eval(df_punjab[i][0])['Weather']}\n",
    "    "
   ]
  },
  {
   "cell_type": "code",
   "execution_count": null,
   "id": "7b01520f",
   "metadata": {},
   "outputs": [],
   "source": [
    "isb_final_dict = {}\n",
    "for i in df_isb.columns:\n",
    "    tTemp = 0\n",
    "    tWind = 0\n",
    "    tBarometer = 0\n",
    "    tVisibility = 0\n",
    "    for j in range(len(df_isb[i])):\n",
    "        try:\n",
    "            tTemp += float(ast.literal_eval(df_isb[i][j])['Temp'][:2])\n",
    "            tWind += float(ast.literal_eval(df_isb[i][j])['Wind'][:2])\n",
    "            tBarometer += float(ast.literal_eval(df_isb[i][j])['Barometer'][:2])\n",
    "            tVisibility += float(ast.literal_eval(df_isb[i][j])['Visibility'][:5])\n",
    "            \n",
    "        except:\n",
    "            continue\n",
    "    isb_final_dict[i] = {\"Temp\" : round(tTemp/j, 2), \"Wind\" : round(tWind/j, 2), \"Barometer\" : round(tBarometer/j, 2),\n",
    "                          \"Visibility\" : round(tVisibility/j, 2), \"Weather\" : ast.literal_eval(df_isb[i][0])['Weather']}\n",
    "    "
   ]
  },
  {
   "cell_type": "code",
   "execution_count": null,
   "id": "51497664",
   "metadata": {},
   "outputs": [],
   "source": [
    "bal_final_dict = {}\n",
    "for i in df_bal.columns:\n",
    "    tTemp = 0\n",
    "    tWind = 0\n",
    "    tBarometer = 0\n",
    "    tVisibility = 0\n",
    "    for j in range(len(df_bal[i])):\n",
    "        try:\n",
    "            tTemp += float(ast.literal_eval(df_bal[i][j])['Temp'][:2])\n",
    "            tWind += float(ast.literal_eval(df_bal[i][j])['Wind'][:2])\n",
    "            tBarometer += float(ast.literal_eval(df_bal[i][j])['Barometer'][:2])\n",
    "            tVisibility += float(ast.literal_eval(df_bal[i][j])['Visibility'][:5])\n",
    "            \n",
    "        except:\n",
    "            continue\n",
    "    bal_final_dict[i] = {\"Temp\" : round(tTemp/j, 2), \"Wind\" : round(tWind/j, 2), \"Barometer\" : round(tBarometer/j, 2),\n",
    "                          \"Visibility\" : round(tVisibility/j, 2), \"Weather\" : ast.literal_eval(df_bal[i][0])['Weather']}\n",
    "    "
   ]
  },
  {
   "cell_type": "code",
   "execution_count": null,
   "id": "179b3f4e",
   "metadata": {},
   "outputs": [],
   "source": [
    "ajk_final_dict = {}\n",
    "for i in df_ajk.columns:\n",
    "    tTemp = 0\n",
    "    tWind = 0\n",
    "    tBarometer = 0\n",
    "    tVisibility = 0\n",
    "    for j in range(len(df_ajk[i])):\n",
    "        try:\n",
    "            tTemp += float(ast.literal_eval(df_ajk[i][j])['Temp'][:2])\n",
    "            tWind += float(ast.literal_eval(df_ajk[i][j])['Wind'][:2])\n",
    "            tBarometer += float(ast.literal_eval(df_ajk[i][j])['Barometer'][:2])\n",
    "            tVisibility += float(ast.literal_eval(df_ajk[i][j])['Visibility'][:5])\n",
    "            \n",
    "        except:\n",
    "            continue\n",
    "    ajk_final_dict[i] = {\"Temp\" : round(tTemp/j, 2), \"Wind\" : round(tWind/j, 2), \"Barometer\" : round(tBarometer/j, 2),\n",
    "                          \"Visibility\" : round(tVisibility/j, 2), \"Weather\" : ast.literal_eval(df_ajk[i][0])['Weather']}\n",
    "    "
   ]
  },
  {
   "cell_type": "code",
   "execution_count": null,
   "id": "ca2618bb",
   "metadata": {},
   "outputs": [],
   "source": [
    "kpk_final_dict = {}\n",
    "for i in df_kpk.columns:\n",
    "    tTemp = 0\n",
    "    tWind = 0\n",
    "    tBarometer = 0\n",
    "    tVisibility = 0\n",
    "    for j in range(len(df_kpk[i])):\n",
    "        try:\n",
    "            tTemp += float(ast.literal_eval(df_kpk[i][j])['Temp'][:2])\n",
    "            tWind += float(ast.literal_eval(df_kpk[i][j])['Wind'][:2])\n",
    "            tBarometer += float(ast.literal_eval(df_kpk[i][j])['Barometer'][:2])\n",
    "            tVisibility += float(ast.literal_eval(df_kpk[i][j])['Visibility'][:5])\n",
    "            \n",
    "        except:\n",
    "            continue\n",
    "    kpk_final_dict[i] = {\"Temp\" : round(tTemp/j, 2), \"Wind\" : round(tWind/j, 2), \"Barometer\" : round(tBarometer/j, 2),\n",
    "                          \"Visibility\" : round(tVisibility/j, 2), \"Weather\" : ast.literal_eval(df_kpk[i][0])['Weather']}\n",
    "    "
   ]
  },
  {
   "cell_type": "code",
   "execution_count": null,
   "id": "e2f72ba6",
   "metadata": {},
   "outputs": [],
   "source": [
    "gb_final_dict = {}\n",
    "for i in df_gb.columns:\n",
    "    tTemp = 0\n",
    "    tWind = 0\n",
    "    tBarometer = 0\n",
    "    tVisibility = 0\n",
    "    for j in range(len(df_gb[i])):\n",
    "        try:\n",
    "            tTemp += float(ast.literal_eval(df_gb[i][j])['Temp'][:2])\n",
    "            tWind += float(ast.literal_eval(df_gb[i][j])['Wind'][:2])\n",
    "            tBarometer += float(ast.literal_eval(df_gb[i][j])['Barometer'][:2])\n",
    "            tVisibility += float(ast.literal_eval(df_gb[i][j])['Visibility'][:5])\n",
    "            \n",
    "        except:\n",
    "            continue\n",
    "    gb_final_dict[i] = {\"Temp\" : round(tTemp/j, 2), \"Wind\" : round(tWind/j, 2), \"Barometer\" : round(tBarometer/j, 2),\n",
    "                          \"Visibility\" : round(tVisibility/j, 2), \"Weather\" : ast.literal_eval(df_gb[i][0])['Weather']}\n",
    "    "
   ]
  },
  {
   "cell_type": "code",
   "execution_count": null,
   "id": "b6cb9aa2",
   "metadata": {},
   "outputs": [],
   "source": [
    "pd.DataFrame(sindh_final_dict).T.to_csv('C:\\\\Users\\\\OvaizAli\\\\Desktop\\\\FYP-2021\\\\Master\\\\FYP-I\\\\Data Collection\\\\CollectedData\\\\Weather Data\\\\Sindh_Final_Weather.csv')"
   ]
  },
  {
   "cell_type": "code",
   "execution_count": null,
   "id": "3e52197d",
   "metadata": {},
   "outputs": [],
   "source": [
    "pd.DataFrame(punjab_final_dict).T.to_csv('C:\\\\Users\\\\OvaizAli\\\\Desktop\\\\FYP-2021\\\\Master\\\\FYP-I\\\\Data Collection\\\\CollectedData\\\\Weather Data\\\\Punjab_Final_Weather.csv')"
   ]
  },
  {
   "cell_type": "code",
   "execution_count": null,
   "id": "cd294f48",
   "metadata": {},
   "outputs": [],
   "source": [
    "pd.DataFrame(isb_final_dict).T.to_csv('C:\\\\Users\\\\OvaizAli\\\\Desktop\\\\FYP-2021\\\\Master\\\\FYP-I\\\\Data Collection\\\\CollectedData\\\\Weather Data\\\\ISB_Final_Weather.csv')"
   ]
  },
  {
   "cell_type": "code",
   "execution_count": null,
   "id": "2b0dbb44",
   "metadata": {},
   "outputs": [],
   "source": [
    "pd.DataFrame(kpk_final_dict).T.to_csv('C:\\\\Users\\\\OvaizAli\\\\Desktop\\\\FYP-2021\\\\Master\\\\FYP-I\\\\Data Collection\\\\CollectedData\\\\Weather Data\\\\KPK_Final_Weather.csv')"
   ]
  },
  {
   "cell_type": "code",
   "execution_count": null,
   "id": "46c608ec",
   "metadata": {},
   "outputs": [],
   "source": [
    "pd.DataFrame(ajk_final_dict).T.to_csv('C:\\\\Users\\\\OvaizAli\\\\Desktop\\\\FYP-2021\\\\Master\\\\FYP-I\\\\Data Collection\\\\CollectedData\\\\Weather Data\\\\AJK_Final_Weather.csv')"
   ]
  },
  {
   "cell_type": "code",
   "execution_count": null,
   "id": "047490eb",
   "metadata": {},
   "outputs": [],
   "source": [
    "pd.DataFrame(bal_final_dict).T.to_csv('C:\\\\Users\\\\OvaizAli\\\\Desktop\\\\FYP-2021\\\\Master\\\\FYP-I\\\\Data Collection\\\\CollectedData\\\\Weather Data\\\\BAL_Final_Weather.csv')"
   ]
  },
  {
   "cell_type": "code",
   "execution_count": null,
   "id": "4339fb47",
   "metadata": {},
   "outputs": [],
   "source": [
    "pd.DataFrame(gb_final_dict).T.to_csv('C:\\\\Users\\\\OvaizAli\\\\Desktop\\\\FYP-2021\\\\Master\\\\FYP-I\\\\Data Collection\\\\CollectedData\\\\Weather Data\\\\GB_Final_Weather.csv')"
   ]
  },
  {
   "cell_type": "code",
   "execution_count": null,
   "id": "6673fe40",
   "metadata": {},
   "outputs": [],
   "source": [
    "dfw_sindh = pd.read_csv('C:\\\\Users\\\\OvaizAli\\\\Desktop\\\\FYP-2021\\\\Master\\\\FYP-I\\\\Data Collection\\\\CollectedData\\\\Weather Data\\\\Sindh_Final_Weather.csv')\n",
    "dfw_sindh[\"Province\"] = \"Sindh\"\n",
    "dfw_punjab = pd.read_csv('C:\\\\Users\\\\OvaizAli\\\\Desktop\\\\FYP-2021\\\\Master\\\\FYP-I\\\\Data Collection\\\\CollectedData\\\\Weather Data\\\\Punjab_Final_Weather.csv')\n",
    "dfw_punjab[\"Province\"] = \"Punjab\"\n",
    "dfw_ajk = pd.read_csv('C:\\\\Users\\\\OvaizAli\\\\Desktop\\\\FYP-2021\\\\Master\\\\FYP-I\\\\Data Collection\\\\CollectedData\\\\Weather Data\\\\AJK_Final_Weather.csv')\n",
    "dfw_ajk[\"Province\"] = \"Azad Jammu and Kashmir\"\n",
    "dfw_kpk = pd.read_csv('C:\\\\Users\\\\OvaizAli\\\\Desktop\\\\FYP-2021\\\\Master\\\\FYP-I\\\\Data Collection\\\\CollectedData\\\\Weather Data\\\\KPK_Final_Weather.csv')\n",
    "dfw_kpk[\"Province\"] = \"Khyber Pakhtunkhwa\"\n",
    "dfw_bal = pd.read_csv('C:\\\\Users\\\\OvaizAli\\\\Desktop\\\\FYP-2021\\\\Master\\\\FYP-I\\\\Data Collection\\\\CollectedData\\\\Weather Data\\\\BAL_Final_Weather.csv')\n",
    "dfw_bal[\"Province\"] = \"Balochistan\"\n",
    "dfw_gb = pd.read_csv('C:\\\\Users\\\\OvaizAli\\\\Desktop\\\\FYP-2021\\\\Master\\\\FYP-I\\\\Data Collection\\\\CollectedData\\\\Weather Data\\\\ISB_Final_Weather.csv')\n",
    "dfw_gb[\"Province\"] = \"Gilgit-Baltistan\"\n",
    "dfw_isb = pd.read_csv('C:\\\\Users\\\\OvaizAli\\\\Desktop\\\\FYP-2021\\\\Master\\\\FYP-I\\\\Data Collection\\\\CollectedData\\\\Weather Data\\\\Sindh_Final_Weather.csv')\n",
    "dfw_isb[\"Province\"] = \"Islamabad\"\n",
    "# dfw_sindh.rename(columns={'Unnamed: 0':'Date'}, inplace=True )"
   ]
  },
  {
   "cell_type": "code",
   "execution_count": null,
   "id": "cb0e59ae",
   "metadata": {},
   "outputs": [],
   "source": [
    "dfw_sindh.columns.values[0] = 'Date'\n",
    "dfw_punjab.columns.values[0] = 'Date'\n",
    "dfw_ajk.columns.values[0] = 'Date'\n",
    "dfw_kpk.columns.values[0] = 'Date'\n",
    "dfw_bal.columns.values[0] = 'Date'\n",
    "dfw_gb.columns.values[0] = 'Date'\n",
    "dfw_isb.columns.values[0] = 'Date'"
   ]
  },
  {
   "cell_type": "code",
   "execution_count": null,
   "id": "b526eed3",
   "metadata": {},
   "outputs": [],
   "source": [
    "dfw_all_provinces = pd.concat([dfw_sindh, dfw_punjab, dfw_ajk, dfw_kpk, dfw_bal, dfw_gb, dfw_isb])\n",
    "# dfw_all_provinces.rename(columns={'Unnamed: 0':'Date'}, inplace=True )\n",
    "dfw_all_provinces[dfw_all_provinces['Date'] == \"Previous 24 hours\"] = \"NaN\""
   ]
  },
  {
   "cell_type": "code",
   "execution_count": null,
   "id": "78fb1913",
   "metadata": {},
   "outputs": [],
   "source": [
    "dfw_all_provinces[dfw_all_provinces['Date'] == \"NaN\"]"
   ]
  },
  {
   "cell_type": "code",
   "execution_count": null,
   "id": "bb028813",
   "metadata": {},
   "outputs": [],
   "source": [
    "dfw_all_provinces = dfw_all_provinces.dropna()"
   ]
  },
  {
   "cell_type": "code",
   "execution_count": null,
   "id": "c46d801b",
   "metadata": {},
   "outputs": [],
   "source": [
    "dfw_all_provinces.head()"
   ]
  },
  {
   "cell_type": "code",
   "execution_count": null,
   "id": "a458c30f",
   "metadata": {},
   "outputs": [],
   "source": [
    "dfw_all_provinces.isnull().sum()"
   ]
  },
  {
   "cell_type": "code",
   "execution_count": null,
   "id": "e815dc58",
   "metadata": {},
   "outputs": [],
   "source": [
    "dfw_all_provinces['Date'] = pd.to_datetime(dfw_all_provinces['Date'])"
   ]
  },
  {
   "cell_type": "code",
   "execution_count": null,
   "id": "ddb08a54",
   "metadata": {},
   "outputs": [],
   "source": [
    "df_JHU_IHME['Date'] = pd.to_datetime(df_JHU_IHME['Date'])"
   ]
  },
  {
   "cell_type": "code",
   "execution_count": null,
   "id": "73b38dc5",
   "metadata": {},
   "outputs": [],
   "source": [
    "dfw_all_provinces.isnull().sum()"
   ]
  },
  {
   "cell_type": "code",
   "execution_count": null,
   "id": "94a6c5f3",
   "metadata": {},
   "outputs": [],
   "source": [
    "df_JHU_IHME_TD = pd.merge(left=df_JHU_IHME, right=dfw_all_provinces, how='left', left_on=['Date', 'Province'], right_on=['Date', 'Province'])"
   ]
  },
  {
   "cell_type": "code",
   "execution_count": null,
   "id": "0c5df2b1",
   "metadata": {},
   "outputs": [],
   "source": [
    "df_JHU_IHME_TD.head()"
   ]
  },
  {
   "cell_type": "code",
   "execution_count": null,
   "id": "18cda2ef",
   "metadata": {},
   "outputs": [],
   "source": [
    "len(df_JHU_IHME_TD.columns)"
   ]
  },
  {
   "cell_type": "code",
   "execution_count": null,
   "id": "a624ecf0",
   "metadata": {},
   "outputs": [],
   "source": [
    "pd.options.mode.chained_assignment = None  # default='warn'\n",
    "columns = ['Confirmed',\n",
    "       'Deaths', 'Recovered', 'inf_mean', 'inf_upper', 'inf_lower',\n",
    "       'seir_cumulative_mean', 'seir_cumulative_lower',\n",
    "       'seir_cumulative_upper', 'inf_cuml_mean', 'inf_cuml_lower',\n",
    "       'inf_cuml_upper', 'seir_daily_mean', 'seir_daily_lower',\n",
    "       'seir_daily_upper', 'seir_daily_unscaled_mean',\n",
    "       'seir_daily_unscaled_lower', 'seir_daily_unscaled_upper',\n",
    "       'seir_cumulative_unscaled_mean', 'seir_cumulative_unscaled_lower',\n",
    "       'seir_cumulative_unscaled_upper', 'cases_mean', 'cases_lower',\n",
    "       'cases_upper', 'inf_cuml_mean_vax', 'inf_cuml_lower_vax',\n",
    "       'inf_cuml_upper_vax', 'inf_cuml_mean_unvax', 'inf_cuml_lower_unvax',\n",
    "       'inf_cuml_upper_unvax', 'inf_mean_vax', 'inf_lower_vax',\n",
    "       'inf_upper_vax', 'inf_mean_unvax', 'inf_lower_unvax', 'inf_upper_unvax',\n",
    "       'population', 'mobility_mean', 'mobility_obs', 'testing_obs',\n",
    "       'pneumonia_mean', 'pneumonia_obs', 'mask_use_mean', 'mask_use_obs',\n",
    "       'hospital_beds_mean', 'hospital_beds_upper', 'hospital_beds_lower',\n",
    "       'icu_beds_mean', 'icu_beds_upper', 'icu_beds_lower', 'admis_mean',\n",
    "       'admis_upper', 'admis_lower', 'admis_mean_vax', 'admis_upper_vax',\n",
    "       'admis_lower_vax', 'admis_mean_unvax', 'admis_upper_unvax',\n",
    "       'admis_lower_unvax', \"Temp\", \"Wind\", \"Barometer\", \"Visibility\"]\n",
    "\n",
    "for i in range(len(df_JHU_IHME_TD)):\n",
    "    for j in columns:\n",
    "        if df_JHU_IHME_TD[j][i] < 0:\n",
    "            df_JHU_IHME_TD[j][i] = abs(df_JHU_IHME_TD[j][i])"
   ]
  },
  {
   "cell_type": "code",
   "execution_count": null,
   "id": "33e921f7",
   "metadata": {},
   "outputs": [],
   "source": [
    "df_JHU_IHME_TD.to_csv('C:\\\\Users\\\\OvaizAli\\\\Desktop\\\\FYP-2021\\\\Master\\\\FYP-I\\\\Data Collection\\\\CollectedData\\\\JHU_IHME_TD.csv', index = False)"
   ]
  },
  {
   "cell_type": "code",
   "execution_count": null,
   "id": "19c9accf",
   "metadata": {},
   "outputs": [],
   "source": [
    "df = df_JHU_IHME_TD.isnull().sum() \n",
    "# df.where(df > 0)\n",
    "df.tail(5)"
   ]
  },
  {
   "cell_type": "code",
   "execution_count": null,
   "id": "12835ed7",
   "metadata": {},
   "outputs": [],
   "source": [
    "# Done till here"
   ]
  },
  {
   "cell_type": "markdown",
   "id": "f667d53b",
   "metadata": {},
   "source": [
    "# Further Data Preparation"
   ]
  },
  {
   "cell_type": "code",
   "execution_count": 185,
   "id": "7a3edafc",
   "metadata": {},
   "outputs": [],
   "source": [
    "path = \"C:\\\\Users\\\\OvaizAli\\\\Desktop\\\\FYP-2021\\\\FYP-I\\\\Master\\\\Data Collection\\\\CollectedData\\\\JHU_IHME_TD_Sorted.csv\""
   ]
  },
  {
   "cell_type": "code",
   "execution_count": 186,
   "id": "c71cfec2",
   "metadata": {},
   "outputs": [],
   "source": [
    "df = pd.read_csv(path)"
   ]
  },
  {
   "cell_type": "code",
   "execution_count": 187,
   "id": "f74629b3",
   "metadata": {},
   "outputs": [
    {
     "data": {
      "text/html": [
       "<div>\n",
       "<style scoped>\n",
       "    .dataframe tbody tr th:only-of-type {\n",
       "        vertical-align: middle;\n",
       "    }\n",
       "\n",
       "    .dataframe tbody tr th {\n",
       "        vertical-align: top;\n",
       "    }\n",
       "\n",
       "    .dataframe thead th {\n",
       "        text-align: right;\n",
       "    }\n",
       "</style>\n",
       "<table border=\"1\" class=\"dataframe\">\n",
       "  <thead>\n",
       "    <tr style=\"text-align: right;\">\n",
       "      <th></th>\n",
       "      <th>Province</th>\n",
       "      <th>Country_Region</th>\n",
       "      <th>Date</th>\n",
       "      <th>Lat</th>\n",
       "      <th>Long_</th>\n",
       "      <th>Confirmed</th>\n",
       "      <th>Deaths</th>\n",
       "      <th>Recovered</th>\n",
       "      <th>inf_mean</th>\n",
       "      <th>inf_upper</th>\n",
       "      <th>...</th>\n",
       "      <th>admis_upper_vax</th>\n",
       "      <th>admis_lower_vax</th>\n",
       "      <th>admis_mean_unvax</th>\n",
       "      <th>admis_upper_unvax</th>\n",
       "      <th>admis_lower_unvax</th>\n",
       "      <th>Temp</th>\n",
       "      <th>Wind</th>\n",
       "      <th>Barometer</th>\n",
       "      <th>Visibility</th>\n",
       "      <th>Weather</th>\n",
       "    </tr>\n",
       "  </thead>\n",
       "  <tbody>\n",
       "    <tr>\n",
       "      <th>0</th>\n",
       "      <td>Azad Jammu and Kashmir</td>\n",
       "      <td>Pakistan</td>\n",
       "      <td>1/2/2021</td>\n",
       "      <td>34.027401</td>\n",
       "      <td>73.947253</td>\n",
       "      <td>8303</td>\n",
       "      <td>224</td>\n",
       "      <td>7691.0</td>\n",
       "      <td>3808.83</td>\n",
       "      <td>6326.40</td>\n",
       "      <td>...</td>\n",
       "      <td>0.0</td>\n",
       "      <td>0.0</td>\n",
       "      <td>44.315680</td>\n",
       "      <td>87.531220</td>\n",
       "      <td>18.540050</td>\n",
       "      <td>26.86</td>\n",
       "      <td>1.43</td>\n",
       "      <td>42.71</td>\n",
       "      <td>0.00</td>\n",
       "      <td>Clear.</td>\n",
       "    </tr>\n",
       "    <tr>\n",
       "      <th>1</th>\n",
       "      <td>Balochistan</td>\n",
       "      <td>Pakistan</td>\n",
       "      <td>1/2/2021</td>\n",
       "      <td>28.328492</td>\n",
       "      <td>65.898403</td>\n",
       "      <td>18181</td>\n",
       "      <td>184</td>\n",
       "      <td>17752.0</td>\n",
       "      <td>7796.48</td>\n",
       "      <td>10691.60</td>\n",
       "      <td>...</td>\n",
       "      <td>0.0</td>\n",
       "      <td>0.0</td>\n",
       "      <td>51.534680</td>\n",
       "      <td>99.960110</td>\n",
       "      <td>24.121890</td>\n",
       "      <td>10.43</td>\n",
       "      <td>2.43</td>\n",
       "      <td>8.00</td>\n",
       "      <td>0.00</td>\n",
       "      <td>Clear.</td>\n",
       "    </tr>\n",
       "    <tr>\n",
       "      <th>2</th>\n",
       "      <td>Gilgit-Baltistan</td>\n",
       "      <td>Pakistan</td>\n",
       "      <td>1/2/2021</td>\n",
       "      <td>35.792146</td>\n",
       "      <td>74.982138</td>\n",
       "      <td>4862</td>\n",
       "      <td>101</td>\n",
       "      <td>4713.0</td>\n",
       "      <td>141.94</td>\n",
       "      <td>291.55</td>\n",
       "      <td>...</td>\n",
       "      <td>0.0</td>\n",
       "      <td>0.0</td>\n",
       "      <td>2.395434</td>\n",
       "      <td>5.133114</td>\n",
       "      <td>1.029408</td>\n",
       "      <td>27.86</td>\n",
       "      <td>0.71</td>\n",
       "      <td>12.14</td>\n",
       "      <td>4.30</td>\n",
       "      <td>Fog.</td>\n",
       "    </tr>\n",
       "    <tr>\n",
       "      <th>3</th>\n",
       "      <td>Islamabad</td>\n",
       "      <td>Pakistan</td>\n",
       "      <td>1/2/2021</td>\n",
       "      <td>33.665087</td>\n",
       "      <td>73.121219</td>\n",
       "      <td>38020</td>\n",
       "      <td>421</td>\n",
       "      <td>34617.0</td>\n",
       "      <td>1909.63</td>\n",
       "      <td>3303.93</td>\n",
       "      <td>...</td>\n",
       "      <td>0.0</td>\n",
       "      <td>0.0</td>\n",
       "      <td>26.606190</td>\n",
       "      <td>43.253210</td>\n",
       "      <td>11.482480</td>\n",
       "      <td>32.57</td>\n",
       "      <td>4.00</td>\n",
       "      <td>28.00</td>\n",
       "      <td>17.15</td>\n",
       "      <td>Clear.</td>\n",
       "    </tr>\n",
       "    <tr>\n",
       "      <th>4</th>\n",
       "      <td>Khyber Pakhtunkhwa</td>\n",
       "      <td>Pakistan</td>\n",
       "      <td>1/2/2021</td>\n",
       "      <td>34.485332</td>\n",
       "      <td>72.091690</td>\n",
       "      <td>59023</td>\n",
       "      <td>1661</td>\n",
       "      <td>53942.0</td>\n",
       "      <td>73123.81</td>\n",
       "      <td>99366.35</td>\n",
       "      <td>...</td>\n",
       "      <td>0.0</td>\n",
       "      <td>0.0</td>\n",
       "      <td>466.710000</td>\n",
       "      <td>1027.979000</td>\n",
       "      <td>171.967100</td>\n",
       "      <td>44.34</td>\n",
       "      <td>3.86</td>\n",
       "      <td>36.73</td>\n",
       "      <td>23.24</td>\n",
       "      <td>Passing clouds.</td>\n",
       "    </tr>\n",
       "  </tbody>\n",
       "</table>\n",
       "<p>5 rows × 69 columns</p>\n",
       "</div>"
      ],
      "text/plain": [
       "                 Province Country_Region      Date        Lat      Long_  \\\n",
       "0  Azad Jammu and Kashmir       Pakistan  1/2/2021  34.027401  73.947253   \n",
       "1             Balochistan       Pakistan  1/2/2021  28.328492  65.898403   \n",
       "2        Gilgit-Baltistan       Pakistan  1/2/2021  35.792146  74.982138   \n",
       "3               Islamabad       Pakistan  1/2/2021  33.665087  73.121219   \n",
       "4      Khyber Pakhtunkhwa       Pakistan  1/2/2021  34.485332  72.091690   \n",
       "\n",
       "   Confirmed  Deaths  Recovered  inf_mean  inf_upper  ...  admis_upper_vax  \\\n",
       "0       8303     224     7691.0   3808.83    6326.40  ...              0.0   \n",
       "1      18181     184    17752.0   7796.48   10691.60  ...              0.0   \n",
       "2       4862     101     4713.0    141.94     291.55  ...              0.0   \n",
       "3      38020     421    34617.0   1909.63    3303.93  ...              0.0   \n",
       "4      59023    1661    53942.0  73123.81   99366.35  ...              0.0   \n",
       "\n",
       "   admis_lower_vax  admis_mean_unvax  admis_upper_unvax  admis_lower_unvax  \\\n",
       "0              0.0         44.315680          87.531220          18.540050   \n",
       "1              0.0         51.534680          99.960110          24.121890   \n",
       "2              0.0          2.395434           5.133114           1.029408   \n",
       "3              0.0         26.606190          43.253210          11.482480   \n",
       "4              0.0        466.710000        1027.979000         171.967100   \n",
       "\n",
       "    Temp  Wind  Barometer  Visibility          Weather  \n",
       "0  26.86  1.43      42.71        0.00           Clear.  \n",
       "1  10.43  2.43       8.00        0.00           Clear.  \n",
       "2  27.86  0.71      12.14        4.30             Fog.  \n",
       "3  32.57  4.00      28.00       17.15           Clear.  \n",
       "4  44.34  3.86      36.73       23.24  Passing clouds.  \n",
       "\n",
       "[5 rows x 69 columns]"
      ]
     },
     "execution_count": 187,
     "metadata": {},
     "output_type": "execute_result"
    }
   ],
   "source": [
    "df.head()"
   ]
  },
  {
   "cell_type": "code",
   "execution_count": 188,
   "id": "6cc92913",
   "metadata": {},
   "outputs": [],
   "source": [
    "NaN = \"\"\n",
    "\n",
    "df.insert(3,\"Day\",NaN)\n",
    "df.insert(4,\"Month\",NaN)\n",
    "df.insert(5,\"Year\",NaN)\n",
    "df.insert(10,\"Daily_Confirmed\",NaN)\n",
    "df.insert(12,\"Daily_Deaths\",NaN)\n",
    "for i in range(len(df)):\n",
    "    x = str(df[\"Date\"][i]).split(\"-\")\n",
    "#     print(x[0].split(\"/\")[2])\n",
    "    day = int(x[0].split(\"/\")[1])\n",
    "    month = int(x[0].split(\"/\")[0])\n",
    "    year = int(x[0].split(\"/\")[2])\n",
    "    df[\"Day\"].iloc[i] = day\n",
    "    df[\"Month\"].iloc[i] = month\n",
    "    df[\"Year\"].iloc[i] = year"
   ]
  },
  {
   "cell_type": "code",
   "execution_count": 190,
   "id": "d6f94eb9",
   "metadata": {},
   "outputs": [
    {
     "data": {
      "text/html": [
       "<div>\n",
       "<style scoped>\n",
       "    .dataframe tbody tr th:only-of-type {\n",
       "        vertical-align: middle;\n",
       "    }\n",
       "\n",
       "    .dataframe tbody tr th {\n",
       "        vertical-align: top;\n",
       "    }\n",
       "\n",
       "    .dataframe thead th {\n",
       "        text-align: right;\n",
       "    }\n",
       "</style>\n",
       "<table border=\"1\" class=\"dataframe\">\n",
       "  <thead>\n",
       "    <tr style=\"text-align: right;\">\n",
       "      <th></th>\n",
       "      <th>Province</th>\n",
       "      <th>Country_Region</th>\n",
       "      <th>Date</th>\n",
       "      <th>Day</th>\n",
       "      <th>Month</th>\n",
       "      <th>Year</th>\n",
       "      <th>Lat</th>\n",
       "      <th>Long_</th>\n",
       "      <th>Confirmed</th>\n",
       "      <th>Deaths</th>\n",
       "      <th>...</th>\n",
       "      <th>admis_upper_vax</th>\n",
       "      <th>admis_lower_vax</th>\n",
       "      <th>admis_mean_unvax</th>\n",
       "      <th>admis_upper_unvax</th>\n",
       "      <th>admis_lower_unvax</th>\n",
       "      <th>Temp</th>\n",
       "      <th>Wind</th>\n",
       "      <th>Barometer</th>\n",
       "      <th>Visibility</th>\n",
       "      <th>Weather</th>\n",
       "    </tr>\n",
       "  </thead>\n",
       "  <tbody>\n",
       "    <tr>\n",
       "      <th>0</th>\n",
       "      <td>Azad Jammu and Kashmir</td>\n",
       "      <td>Pakistan</td>\n",
       "      <td>1/2/2021</td>\n",
       "      <td>2</td>\n",
       "      <td>1</td>\n",
       "      <td>2021</td>\n",
       "      <td>34.027401</td>\n",
       "      <td>73.947253</td>\n",
       "      <td>8303</td>\n",
       "      <td>224</td>\n",
       "      <td>...</td>\n",
       "      <td>0.000000</td>\n",
       "      <td>0.000000</td>\n",
       "      <td>44.315680</td>\n",
       "      <td>87.531220</td>\n",
       "      <td>18.540050</td>\n",
       "      <td>26.86</td>\n",
       "      <td>1.43</td>\n",
       "      <td>42.71</td>\n",
       "      <td>0.00</td>\n",
       "      <td>Clear.</td>\n",
       "    </tr>\n",
       "    <tr>\n",
       "      <th>1</th>\n",
       "      <td>Balochistan</td>\n",
       "      <td>Pakistan</td>\n",
       "      <td>1/2/2021</td>\n",
       "      <td>2</td>\n",
       "      <td>1</td>\n",
       "      <td>2021</td>\n",
       "      <td>28.328492</td>\n",
       "      <td>65.898403</td>\n",
       "      <td>18181</td>\n",
       "      <td>184</td>\n",
       "      <td>...</td>\n",
       "      <td>0.000000</td>\n",
       "      <td>0.000000</td>\n",
       "      <td>51.534680</td>\n",
       "      <td>99.960110</td>\n",
       "      <td>24.121890</td>\n",
       "      <td>10.43</td>\n",
       "      <td>2.43</td>\n",
       "      <td>8.00</td>\n",
       "      <td>0.00</td>\n",
       "      <td>Clear.</td>\n",
       "    </tr>\n",
       "    <tr>\n",
       "      <th>2</th>\n",
       "      <td>Gilgit-Baltistan</td>\n",
       "      <td>Pakistan</td>\n",
       "      <td>1/2/2021</td>\n",
       "      <td>2</td>\n",
       "      <td>1</td>\n",
       "      <td>2021</td>\n",
       "      <td>35.792146</td>\n",
       "      <td>74.982138</td>\n",
       "      <td>4862</td>\n",
       "      <td>101</td>\n",
       "      <td>...</td>\n",
       "      <td>0.000000</td>\n",
       "      <td>0.000000</td>\n",
       "      <td>2.395434</td>\n",
       "      <td>5.133114</td>\n",
       "      <td>1.029408</td>\n",
       "      <td>27.86</td>\n",
       "      <td>0.71</td>\n",
       "      <td>12.14</td>\n",
       "      <td>4.30</td>\n",
       "      <td>Fog.</td>\n",
       "    </tr>\n",
       "    <tr>\n",
       "      <th>3</th>\n",
       "      <td>Islamabad</td>\n",
       "      <td>Pakistan</td>\n",
       "      <td>1/2/2021</td>\n",
       "      <td>2</td>\n",
       "      <td>1</td>\n",
       "      <td>2021</td>\n",
       "      <td>33.665087</td>\n",
       "      <td>73.121219</td>\n",
       "      <td>38020</td>\n",
       "      <td>421</td>\n",
       "      <td>...</td>\n",
       "      <td>0.000000</td>\n",
       "      <td>0.000000</td>\n",
       "      <td>26.606190</td>\n",
       "      <td>43.253210</td>\n",
       "      <td>11.482480</td>\n",
       "      <td>32.57</td>\n",
       "      <td>4.00</td>\n",
       "      <td>28.00</td>\n",
       "      <td>17.15</td>\n",
       "      <td>Clear.</td>\n",
       "    </tr>\n",
       "    <tr>\n",
       "      <th>4</th>\n",
       "      <td>Khyber Pakhtunkhwa</td>\n",
       "      <td>Pakistan</td>\n",
       "      <td>1/2/2021</td>\n",
       "      <td>2</td>\n",
       "      <td>1</td>\n",
       "      <td>2021</td>\n",
       "      <td>34.485332</td>\n",
       "      <td>72.091690</td>\n",
       "      <td>59023</td>\n",
       "      <td>1661</td>\n",
       "      <td>...</td>\n",
       "      <td>0.000000</td>\n",
       "      <td>0.000000</td>\n",
       "      <td>466.710000</td>\n",
       "      <td>1027.979000</td>\n",
       "      <td>171.967100</td>\n",
       "      <td>44.34</td>\n",
       "      <td>3.86</td>\n",
       "      <td>36.73</td>\n",
       "      <td>23.24</td>\n",
       "      <td>Passing clouds.</td>\n",
       "    </tr>\n",
       "    <tr>\n",
       "      <th>5</th>\n",
       "      <td>Punjab</td>\n",
       "      <td>Pakistan</td>\n",
       "      <td>1/2/2021</td>\n",
       "      <td>2</td>\n",
       "      <td>1</td>\n",
       "      <td>2021</td>\n",
       "      <td>30.811346</td>\n",
       "      <td>72.139132</td>\n",
       "      <td>139341</td>\n",
       "      <td>4085</td>\n",
       "      <td>...</td>\n",
       "      <td>0.000000</td>\n",
       "      <td>0.000000</td>\n",
       "      <td>1367.064000</td>\n",
       "      <td>2409.708000</td>\n",
       "      <td>644.182300</td>\n",
       "      <td>44.77</td>\n",
       "      <td>0.96</td>\n",
       "      <td>3.60</td>\n",
       "      <td>5.00</td>\n",
       "      <td>Passing clouds.</td>\n",
       "    </tr>\n",
       "    <tr>\n",
       "      <th>6</th>\n",
       "      <td>Sindh</td>\n",
       "      <td>Pakistan</td>\n",
       "      <td>1/2/2021</td>\n",
       "      <td>2</td>\n",
       "      <td>1</td>\n",
       "      <td>2021</td>\n",
       "      <td>26.009446</td>\n",
       "      <td>68.776807</td>\n",
       "      <td>216632</td>\n",
       "      <td>3582</td>\n",
       "      <td>...</td>\n",
       "      <td>0.000000</td>\n",
       "      <td>0.000000</td>\n",
       "      <td>736.080700</td>\n",
       "      <td>1154.621000</td>\n",
       "      <td>419.945000</td>\n",
       "      <td>32.57</td>\n",
       "      <td>4.00</td>\n",
       "      <td>28.00</td>\n",
       "      <td>17.15</td>\n",
       "      <td>Clear.</td>\n",
       "    </tr>\n",
       "    <tr>\n",
       "      <th>7</th>\n",
       "      <td>Azad Jammu and Kashmir</td>\n",
       "      <td>Pakistan</td>\n",
       "      <td>1/2/2022</td>\n",
       "      <td>2</td>\n",
       "      <td>1</td>\n",
       "      <td>2022</td>\n",
       "      <td>34.027401</td>\n",
       "      <td>73.947253</td>\n",
       "      <td>34665</td>\n",
       "      <td>746</td>\n",
       "      <td>...</td>\n",
       "      <td>3.380239</td>\n",
       "      <td>0.342628</td>\n",
       "      <td>2.036696</td>\n",
       "      <td>4.989993</td>\n",
       "      <td>0.517289</td>\n",
       "      <td>47.57</td>\n",
       "      <td>2.00</td>\n",
       "      <td>35.71</td>\n",
       "      <td>0.00</td>\n",
       "      <td>Clear.</td>\n",
       "    </tr>\n",
       "  </tbody>\n",
       "</table>\n",
       "<p>8 rows × 74 columns</p>\n",
       "</div>"
      ],
      "text/plain": [
       "                 Province Country_Region      Date Day Month  Year        Lat  \\\n",
       "0  Azad Jammu and Kashmir       Pakistan  1/2/2021   2     1  2021  34.027401   \n",
       "1             Balochistan       Pakistan  1/2/2021   2     1  2021  28.328492   \n",
       "2        Gilgit-Baltistan       Pakistan  1/2/2021   2     1  2021  35.792146   \n",
       "3               Islamabad       Pakistan  1/2/2021   2     1  2021  33.665087   \n",
       "4      Khyber Pakhtunkhwa       Pakistan  1/2/2021   2     1  2021  34.485332   \n",
       "5                  Punjab       Pakistan  1/2/2021   2     1  2021  30.811346   \n",
       "6                   Sindh       Pakistan  1/2/2021   2     1  2021  26.009446   \n",
       "7  Azad Jammu and Kashmir       Pakistan  1/2/2022   2     1  2022  34.027401   \n",
       "\n",
       "       Long_  Confirmed  Deaths  ... admis_upper_vax  admis_lower_vax  \\\n",
       "0  73.947253       8303     224  ...        0.000000         0.000000   \n",
       "1  65.898403      18181     184  ...        0.000000         0.000000   \n",
       "2  74.982138       4862     101  ...        0.000000         0.000000   \n",
       "3  73.121219      38020     421  ...        0.000000         0.000000   \n",
       "4  72.091690      59023    1661  ...        0.000000         0.000000   \n",
       "5  72.139132     139341    4085  ...        0.000000         0.000000   \n",
       "6  68.776807     216632    3582  ...        0.000000         0.000000   \n",
       "7  73.947253      34665     746  ...        3.380239         0.342628   \n",
       "\n",
       "  admis_mean_unvax  admis_upper_unvax  admis_lower_unvax   Temp  Wind  \\\n",
       "0        44.315680          87.531220          18.540050  26.86  1.43   \n",
       "1        51.534680          99.960110          24.121890  10.43  2.43   \n",
       "2         2.395434           5.133114           1.029408  27.86  0.71   \n",
       "3        26.606190          43.253210          11.482480  32.57  4.00   \n",
       "4       466.710000        1027.979000         171.967100  44.34  3.86   \n",
       "5      1367.064000        2409.708000         644.182300  44.77  0.96   \n",
       "6       736.080700        1154.621000         419.945000  32.57  4.00   \n",
       "7         2.036696           4.989993           0.517289  47.57  2.00   \n",
       "\n",
       "   Barometer  Visibility          Weather  \n",
       "0      42.71        0.00           Clear.  \n",
       "1       8.00        0.00           Clear.  \n",
       "2      12.14        4.30             Fog.  \n",
       "3      28.00       17.15           Clear.  \n",
       "4      36.73       23.24  Passing clouds.  \n",
       "5       3.60        5.00  Passing clouds.  \n",
       "6      28.00       17.15           Clear.  \n",
       "7      35.71        0.00           Clear.  \n",
       "\n",
       "[8 rows x 74 columns]"
      ]
     },
     "execution_count": 190,
     "metadata": {},
     "output_type": "execute_result"
    }
   ],
   "source": [
    "df.head(8)"
   ]
  },
  {
   "cell_type": "code",
   "execution_count": 181,
   "id": "ae24912c",
   "metadata": {},
   "outputs": [],
   "source": [
    "balochistan_df = df[df['Province'] == 'Balochistan']\n",
    "isb_df = df[df['Province'] == 'Islamabad']\n",
    "punjab_df = df[df['Province'] == 'Punjab']\n",
    "sindh_df = df[df['Province'] == 'Sindh']\n",
    "kpk_df = df[df['Province'] == 'Khyber Pakhtunkhwa']\n",
    "gilgit_df= df[df['Province'] == 'Gilgit-Baltistan']\n",
    "kashmir_df= df[df['Province'] == 'Azad Jammu and Kashmir']"
   ]
  },
  {
   "cell_type": "code",
   "execution_count": 182,
   "id": "7eb1f9e7",
   "metadata": {},
   "outputs": [],
   "source": [
    "balochistan_df.reset_index(drop=True, inplace=True)\n",
    "isb_df.reset_index(drop=True, inplace=True)\n",
    "punjab_df.reset_index(drop=True, inplace=True)\n",
    "sindh_df.reset_index(drop=True, inplace=True)\n",
    "kpk_df.reset_index(drop=True, inplace=True)\n",
    "gilgit_df.reset_index(drop=True, inplace=True)\n",
    "kashmir_df.reset_index(drop=True, inplace=True)"
   ]
  },
  {
   "cell_type": "code",
   "execution_count": 183,
   "id": "3cd20f8e",
   "metadata": {},
   "outputs": [
    {
     "name": "stdout",
     "output_type": "stream",
     "text": [
      "703\n",
      "703\n",
      "703\n",
      "703\n",
      "703\n",
      "703\n",
      "703\n"
     ]
    }
   ],
   "source": [
    "print(len(balochistan_df))\n",
    "print(len(isb_df))\n",
    "print(len(punjab_df))\n",
    "print(len(sindh_df))\n",
    "print(len(kpk_df))\n",
    "print(len(gilgit_df))\n",
    "print(len(kashmir_df))"
   ]
  },
  {
   "cell_type": "code",
   "execution_count": 152,
   "id": "bf1e9882",
   "metadata": {},
   "outputs": [],
   "source": [
    "# print((isb_df).isna().sum())\n",
    "# print((punjab_df).isna().sum())\n",
    "# print((sindh_df).isna().sum())\n",
    "# print((kpk_df).isna().sum())\n",
    "# print((gilgit_df).isna().sum())\n",
    "# print((kashmir_df).isna().sum())\n",
    "# print((balochistan_df).isna().sum())"
   ]
  },
  {
   "cell_type": "code",
   "execution_count": 191,
   "id": "8a146d33",
   "metadata": {},
   "outputs": [
    {
     "data": {
      "text/html": [
       "<div>\n",
       "<style scoped>\n",
       "    .dataframe tbody tr th:only-of-type {\n",
       "        vertical-align: middle;\n",
       "    }\n",
       "\n",
       "    .dataframe tbody tr th {\n",
       "        vertical-align: top;\n",
       "    }\n",
       "\n",
       "    .dataframe thead th {\n",
       "        text-align: right;\n",
       "    }\n",
       "</style>\n",
       "<table border=\"1\" class=\"dataframe\">\n",
       "  <thead>\n",
       "    <tr style=\"text-align: right;\">\n",
       "      <th></th>\n",
       "      <th>Province</th>\n",
       "      <th>Country_Region</th>\n",
       "      <th>Date</th>\n",
       "      <th>Day</th>\n",
       "      <th>Month</th>\n",
       "      <th>Year</th>\n",
       "      <th>Lat</th>\n",
       "      <th>Long_</th>\n",
       "      <th>Confirmed</th>\n",
       "      <th>Deaths</th>\n",
       "      <th>...</th>\n",
       "      <th>admis_upper_vax</th>\n",
       "      <th>admis_lower_vax</th>\n",
       "      <th>admis_mean_unvax</th>\n",
       "      <th>admis_upper_unvax</th>\n",
       "      <th>admis_lower_unvax</th>\n",
       "      <th>Temp</th>\n",
       "      <th>Wind</th>\n",
       "      <th>Barometer</th>\n",
       "      <th>Visibility</th>\n",
       "      <th>Weather</th>\n",
       "    </tr>\n",
       "  </thead>\n",
       "  <tbody>\n",
       "    <tr>\n",
       "      <th>0</th>\n",
       "      <td>Balochistan</td>\n",
       "      <td>Pakistan</td>\n",
       "      <td>1/2/2021</td>\n",
       "      <td>2</td>\n",
       "      <td>1</td>\n",
       "      <td>2021</td>\n",
       "      <td>28.328492</td>\n",
       "      <td>65.898403</td>\n",
       "      <td>18181</td>\n",
       "      <td>184</td>\n",
       "      <td>...</td>\n",
       "      <td>0.000000</td>\n",
       "      <td>0.000000</td>\n",
       "      <td>51.534680</td>\n",
       "      <td>99.960110</td>\n",
       "      <td>24.121890</td>\n",
       "      <td>10.43</td>\n",
       "      <td>2.43</td>\n",
       "      <td>8.00</td>\n",
       "      <td>0.0</td>\n",
       "      <td>Clear.</td>\n",
       "    </tr>\n",
       "    <tr>\n",
       "      <th>1</th>\n",
       "      <td>Balochistan</td>\n",
       "      <td>Pakistan</td>\n",
       "      <td>1/2/2022</td>\n",
       "      <td>2</td>\n",
       "      <td>1</td>\n",
       "      <td>2022</td>\n",
       "      <td>28.328492</td>\n",
       "      <td>65.898403</td>\n",
       "      <td>33644</td>\n",
       "      <td>364</td>\n",
       "      <td>...</td>\n",
       "      <td>2.975467</td>\n",
       "      <td>0.226448</td>\n",
       "      <td>2.984857</td>\n",
       "      <td>6.800451</td>\n",
       "      <td>0.518772</td>\n",
       "      <td>45.71</td>\n",
       "      <td>8.86</td>\n",
       "      <td>73.43</td>\n",
       "      <td>0.0</td>\n",
       "      <td>Overcast.</td>\n",
       "    </tr>\n",
       "    <tr>\n",
       "      <th>2</th>\n",
       "      <td>Balochistan</td>\n",
       "      <td>Pakistan</td>\n",
       "      <td>1/3/2021</td>\n",
       "      <td>3</td>\n",
       "      <td>1</td>\n",
       "      <td>2021</td>\n",
       "      <td>28.328492</td>\n",
       "      <td>65.898403</td>\n",
       "      <td>18218</td>\n",
       "      <td>185</td>\n",
       "      <td>...</td>\n",
       "      <td>0.000000</td>\n",
       "      <td>0.000000</td>\n",
       "      <td>51.198140</td>\n",
       "      <td>99.540310</td>\n",
       "      <td>21.916420</td>\n",
       "      <td>24.14</td>\n",
       "      <td>3.43</td>\n",
       "      <td>15.00</td>\n",
       "      <td>0.0</td>\n",
       "      <td>Sunny.</td>\n",
       "    </tr>\n",
       "    <tr>\n",
       "      <th>3</th>\n",
       "      <td>Balochistan</td>\n",
       "      <td>Pakistan</td>\n",
       "      <td>1/3/2022</td>\n",
       "      <td>3</td>\n",
       "      <td>1</td>\n",
       "      <td>2022</td>\n",
       "      <td>28.328492</td>\n",
       "      <td>65.898403</td>\n",
       "      <td>33644</td>\n",
       "      <td>364</td>\n",
       "      <td>...</td>\n",
       "      <td>2.684986</td>\n",
       "      <td>0.212256</td>\n",
       "      <td>2.683249</td>\n",
       "      <td>6.076282</td>\n",
       "      <td>0.481867</td>\n",
       "      <td>42.71</td>\n",
       "      <td>11.29</td>\n",
       "      <td>53.86</td>\n",
       "      <td>0.0</td>\n",
       "      <td>Fog.</td>\n",
       "    </tr>\n",
       "    <tr>\n",
       "      <th>4</th>\n",
       "      <td>Balochistan</td>\n",
       "      <td>Pakistan</td>\n",
       "      <td>1/4/2021</td>\n",
       "      <td>4</td>\n",
       "      <td>1</td>\n",
       "      <td>2021</td>\n",
       "      <td>28.328492</td>\n",
       "      <td>65.898403</td>\n",
       "      <td>18247</td>\n",
       "      <td>185</td>\n",
       "      <td>...</td>\n",
       "      <td>0.000000</td>\n",
       "      <td>0.000000</td>\n",
       "      <td>52.143640</td>\n",
       "      <td>96.672730</td>\n",
       "      <td>21.674630</td>\n",
       "      <td>26.00</td>\n",
       "      <td>3.14</td>\n",
       "      <td>18.00</td>\n",
       "      <td>0.0</td>\n",
       "      <td>Clear.</td>\n",
       "    </tr>\n",
       "  </tbody>\n",
       "</table>\n",
       "<p>5 rows × 74 columns</p>\n",
       "</div>"
      ],
      "text/plain": [
       "      Province Country_Region      Date Day Month  Year        Lat      Long_  \\\n",
       "0  Balochistan       Pakistan  1/2/2021   2     1  2021  28.328492  65.898403   \n",
       "1  Balochistan       Pakistan  1/2/2022   2     1  2022  28.328492  65.898403   \n",
       "2  Balochistan       Pakistan  1/3/2021   3     1  2021  28.328492  65.898403   \n",
       "3  Balochistan       Pakistan  1/3/2022   3     1  2022  28.328492  65.898403   \n",
       "4  Balochistan       Pakistan  1/4/2021   4     1  2021  28.328492  65.898403   \n",
       "\n",
       "   Confirmed  Deaths  ... admis_upper_vax  admis_lower_vax admis_mean_unvax  \\\n",
       "0      18181     184  ...        0.000000         0.000000        51.534680   \n",
       "1      33644     364  ...        2.975467         0.226448         2.984857   \n",
       "2      18218     185  ...        0.000000         0.000000        51.198140   \n",
       "3      33644     364  ...        2.684986         0.212256         2.683249   \n",
       "4      18247     185  ...        0.000000         0.000000        52.143640   \n",
       "\n",
       "   admis_upper_unvax  admis_lower_unvax   Temp   Wind  Barometer  Visibility  \\\n",
       "0          99.960110          24.121890  10.43   2.43       8.00         0.0   \n",
       "1           6.800451           0.518772  45.71   8.86      73.43         0.0   \n",
       "2          99.540310          21.916420  24.14   3.43      15.00         0.0   \n",
       "3           6.076282           0.481867  42.71  11.29      53.86         0.0   \n",
       "4          96.672730          21.674630  26.00   3.14      18.00         0.0   \n",
       "\n",
       "     Weather  \n",
       "0     Clear.  \n",
       "1  Overcast.  \n",
       "2     Sunny.  \n",
       "3       Fog.  \n",
       "4     Clear.  \n",
       "\n",
       "[5 rows x 74 columns]"
      ]
     },
     "execution_count": 191,
     "metadata": {},
     "output_type": "execute_result"
    }
   ],
   "source": [
    "balochistan_df.head()"
   ]
  },
  {
   "cell_type": "code",
   "execution_count": 153,
   "id": "4f509f0b",
   "metadata": {},
   "outputs": [],
   "source": [
    "columns = [\"Temp\",\"Wind\",\"Barometer\",\"Visibility\",\"Weather\"]"
   ]
  },
  {
   "cell_type": "code",
   "execution_count": 172,
   "id": "4ed421b9",
   "metadata": {},
   "outputs": [],
   "source": [
    "balochistan_df[\"Daily_Confirmed\"][1] = 0\n",
    "balochistan_df[\"Daily_Deaths\"][1] = 0\n",
    "for i in range(8,len(balochistan_df), 7):\n",
    "    balochistan_df[\"Daily_Confirmed\"][i] = balochistan_df[\"Confirmed\"][i] - balochistan_df[\"Confirmed\"][i - 7]\n",
    "    balochistan_df[\"Daily_Deaths\"][i] = balochistan_df[\"Deaths\"][i] - balochistan_df[\"Deaths\"][i - 7]\n",
    "    for col in columns:\n",
    "        if pd.isna(balochistan_df[col][i]) == True:\n",
    "            balochistan_df[col][i] = balochistan_df[col][i - 7]"
   ]
  },
  {
   "cell_type": "code",
   "execution_count": 155,
   "id": "0f419abf",
   "metadata": {},
   "outputs": [],
   "source": [
    "isb_df[\"Daily_Confirmed\"][3] = 0\n",
    "isb_df[\"Daily_Deaths\"][3] = 0\n",
    "for i in range(10,len(isb_df), 7):\n",
    "    isb_df[\"Daily_Confirmed\"][i] = isb_df[\"Confirmed\"][i] - isb_df[\"Confirmed\"][i - 7]\n",
    "    isb_df[\"Daily_Deaths\"][i] = isb_df[\"Deaths\"][i] - isb_df[\"Deaths\"][i - 7]\n",
    "    for col in columns:\n",
    "        if pd.isna(isb_df[col][i]) == True:\n",
    "            isb_df[col][i] = isb_df[col][i - 7]"
   ]
  },
  {
   "cell_type": "code",
   "execution_count": 156,
   "id": "70da4d76",
   "metadata": {},
   "outputs": [],
   "source": [
    "gilgit_df[\"Daily_Confirmed\"][2] = 0\n",
    "gilgit_df[\"Daily_Deaths\"][2] = 0\n",
    "for i in range(9,len(gilgit_df),7):\n",
    "    gilgit_df[\"Daily_Confirmed\"][i] = gilgit_df[\"Confirmed\"][i] - gilgit_df[\"Confirmed\"][i - 7]\n",
    "    gilgit_df[\"Daily_Deaths\"][i] = gilgit_df[\"Deaths\"][i] - gilgit_df[\"Deaths\"][i - 7]\n",
    "    for col in columns:\n",
    "        if pd.isna(gilgit_df[col][i]) == True:\n",
    "            gilgit_df[col][i] = gilgit_df[col][i - 7]"
   ]
  },
  {
   "cell_type": "code",
   "execution_count": 157,
   "id": "37235936",
   "metadata": {},
   "outputs": [],
   "source": [
    "kashmir_df[\"Daily_Confirmed\"][0] = 0\n",
    "kashmir_df[\"Daily_Deaths\"][0] = 0\n",
    "for i in range(7,len(kashmir_df),7):\n",
    "    kashmir_df[\"Daily_Confirmed\"][i] = kashmir_df[\"Confirmed\"][i] - kashmir_df[\"Confirmed\"][i - 7]\n",
    "    kashmir_df[\"Daily_Deaths\"][i] = kashmir_df[\"Deaths\"][i] - kashmir_df[\"Deaths\"][i - 7]\n",
    "    for col in columns:\n",
    "        if pd.isna(kashmir_df[col][i]) == True:\n",
    "            kashmir_df[col][i] = kashmir_df[col][i - 7]"
   ]
  },
  {
   "cell_type": "code",
   "execution_count": 158,
   "id": "4444ad53",
   "metadata": {},
   "outputs": [],
   "source": [
    "kpk_df[\"Daily_Confirmed\"][4] = 0\n",
    "kpk_df[\"Daily_Deaths\"][4] = 0\n",
    "for i in range(11,len(kpk_df),7):\n",
    "    kpk_df[\"Daily_Confirmed\"][i] = kpk_df[\"Confirmed\"][i] - kpk_df[\"Confirmed\"][i - 7]\n",
    "    kpk_df[\"Daily_Deaths\"][i] = kpk_df[\"Deaths\"][i] - kpk_df[\"Deaths\"][i - 7]\n",
    "    for col in columns:\n",
    "        if pd.isna(kpk_df[col][i]) == True:\n",
    "            kpk_df[col][i] = kpk_df[col][i - 7]"
   ]
  },
  {
   "cell_type": "code",
   "execution_count": 159,
   "id": "1a0be714",
   "metadata": {},
   "outputs": [],
   "source": [
    "sindh_df[\"Daily_Confirmed\"][6] = 0\n",
    "sindh_df[\"Daily_Deaths\"][3] = 0\n",
    "for i in range(13,len(sindh_df),7):\n",
    "    sindh_df[\"Daily_Confirmed\"][i] = sindh_df[\"Confirmed\"][i] - sindh_df[\"Confirmed\"][i - 7]\n",
    "    sindh_df[\"Daily_Deaths\"][i] = sindh_df[\"Deaths\"][i] - sindh_df[\"Deaths\"][i - 7]\n",
    "    for col in columns:\n",
    "        if pd.isna(sindh_df[col][i]) == True:\n",
    "            sindh_df[col][i] = sindh_df[col][i - 7]"
   ]
  },
  {
   "cell_type": "code",
   "execution_count": 160,
   "id": "67ab7ac9",
   "metadata": {},
   "outputs": [],
   "source": [
    "punjab_df[\"Daily_Confirmed\"][5] = 0\n",
    "punjab_df[\"Daily_Deaths\"][5] = 0\n",
    "for i in range(12,len(punjab_df),7):\n",
    "    punjab_df[\"Daily_Confirmed\"][i] = punjab_df[\"Confirmed\"][i] - punjab_df[\"Confirmed\"][i - 7]\n",
    "    punjab_df[\"Daily_Deaths\"][i] = punjab_df[\"Deaths\"][i] - punjab_df[\"Deaths\"][i - 7]\n",
    "    for col in columns:\n",
    "        if pd.isna(punjab_df[col][i]) == True:\n",
    "            punjab_df[col][i] = punjab_df[col][i - 7]"
   ]
  },
  {
   "cell_type": "code",
   "execution_count": 161,
   "id": "2a314084",
   "metadata": {},
   "outputs": [
    {
     "data": {
      "text/plain": [
       "0"
      ]
     },
     "execution_count": 161,
     "metadata": {},
     "output_type": "execute_result"
    }
   ],
   "source": [
    "punjab_df[\"Daily_Confirmed\"].isnull().sum()"
   ]
  },
  {
   "cell_type": "code",
   "execution_count": 173,
   "id": "812bfbcb",
   "metadata": {},
   "outputs": [],
   "source": [
    "dataframes = {}\n",
    "\n",
    "dataframes.update({\"balochistan_df\":balochistan_df})\n",
    "dataframes.update({\"isb_df\":isb_df})\n",
    "dataframes.update({\"punjab_df\":punjab_df})\n",
    "dataframes.update({\"sindh_df\":sindh_df})\n",
    "dataframes.update({\"kpk_df\":kpk_df})\n",
    "dataframes.update({\"kashmir_df\":kashmir_df})\n",
    "dataframes.update({\"gilgit_df\":gilgit_df})"
   ]
  },
  {
   "cell_type": "code",
   "execution_count": 174,
   "id": "dc78bafb",
   "metadata": {},
   "outputs": [],
   "source": [
    "master_df = pd.DataFrame()\n",
    "values = list(dataframes.values())\n",
    "\n",
    "for i in range(len(kpk_df)):\n",
    "    for value in values:\n",
    "        temp_df = value.iloc[[i]]\n",
    "        master_df = master_df.append(temp_df.loc[[i]])\n",
    "        "
   ]
  },
  {
   "cell_type": "code",
   "execution_count": 175,
   "id": "e3a97b59",
   "metadata": {},
   "outputs": [
    {
     "data": {
      "text/html": [
       "<div>\n",
       "<style scoped>\n",
       "    .dataframe tbody tr th:only-of-type {\n",
       "        vertical-align: middle;\n",
       "    }\n",
       "\n",
       "    .dataframe tbody tr th {\n",
       "        vertical-align: top;\n",
       "    }\n",
       "\n",
       "    .dataframe thead th {\n",
       "        text-align: right;\n",
       "    }\n",
       "</style>\n",
       "<table border=\"1\" class=\"dataframe\">\n",
       "  <thead>\n",
       "    <tr style=\"text-align: right;\">\n",
       "      <th></th>\n",
       "      <th>Province</th>\n",
       "      <th>Country_Region</th>\n",
       "      <th>Date</th>\n",
       "      <th>Day</th>\n",
       "      <th>Month</th>\n",
       "      <th>Year</th>\n",
       "      <th>Lat</th>\n",
       "      <th>Long_</th>\n",
       "      <th>Confirmed</th>\n",
       "      <th>Deaths</th>\n",
       "      <th>...</th>\n",
       "      <th>admis_upper_vax</th>\n",
       "      <th>admis_lower_vax</th>\n",
       "      <th>admis_mean_unvax</th>\n",
       "      <th>admis_upper_unvax</th>\n",
       "      <th>admis_lower_unvax</th>\n",
       "      <th>Temp</th>\n",
       "      <th>Wind</th>\n",
       "      <th>Barometer</th>\n",
       "      <th>Visibility</th>\n",
       "      <th>Weather</th>\n",
       "    </tr>\n",
       "  </thead>\n",
       "  <tbody>\n",
       "    <tr>\n",
       "      <th>0</th>\n",
       "      <td>Balochistan</td>\n",
       "      <td>Pakistan</td>\n",
       "      <td>1/2/2021</td>\n",
       "      <td>2</td>\n",
       "      <td>1</td>\n",
       "      <td>2021</td>\n",
       "      <td>28.328492</td>\n",
       "      <td>65.898403</td>\n",
       "      <td>18181</td>\n",
       "      <td>184</td>\n",
       "      <td>...</td>\n",
       "      <td>0.0</td>\n",
       "      <td>0.0</td>\n",
       "      <td>51.53468</td>\n",
       "      <td>99.96011</td>\n",
       "      <td>24.12189</td>\n",
       "      <td>10.43</td>\n",
       "      <td>2.43</td>\n",
       "      <td>8.00</td>\n",
       "      <td>0.00</td>\n",
       "      <td>Clear.</td>\n",
       "    </tr>\n",
       "    <tr>\n",
       "      <th>0</th>\n",
       "      <td>Islamabad</td>\n",
       "      <td>Pakistan</td>\n",
       "      <td>1/2/2021</td>\n",
       "      <td>2</td>\n",
       "      <td>1</td>\n",
       "      <td>2021</td>\n",
       "      <td>33.665087</td>\n",
       "      <td>73.121219</td>\n",
       "      <td>38020</td>\n",
       "      <td>421</td>\n",
       "      <td>...</td>\n",
       "      <td>0.0</td>\n",
       "      <td>0.0</td>\n",
       "      <td>26.60619</td>\n",
       "      <td>43.25321</td>\n",
       "      <td>11.48248</td>\n",
       "      <td>32.57</td>\n",
       "      <td>4.00</td>\n",
       "      <td>28.00</td>\n",
       "      <td>17.15</td>\n",
       "      <td>Clear.</td>\n",
       "    </tr>\n",
       "    <tr>\n",
       "      <th>0</th>\n",
       "      <td>Punjab</td>\n",
       "      <td>Pakistan</td>\n",
       "      <td>1/2/2021</td>\n",
       "      <td>2</td>\n",
       "      <td>1</td>\n",
       "      <td>2021</td>\n",
       "      <td>30.811346</td>\n",
       "      <td>72.139132</td>\n",
       "      <td>139341</td>\n",
       "      <td>4085</td>\n",
       "      <td>...</td>\n",
       "      <td>0.0</td>\n",
       "      <td>0.0</td>\n",
       "      <td>1367.06400</td>\n",
       "      <td>2409.70800</td>\n",
       "      <td>644.18230</td>\n",
       "      <td>44.77</td>\n",
       "      <td>0.96</td>\n",
       "      <td>3.60</td>\n",
       "      <td>5.00</td>\n",
       "      <td>Passing clouds.</td>\n",
       "    </tr>\n",
       "    <tr>\n",
       "      <th>0</th>\n",
       "      <td>Sindh</td>\n",
       "      <td>Pakistan</td>\n",
       "      <td>1/2/2021</td>\n",
       "      <td>2</td>\n",
       "      <td>1</td>\n",
       "      <td>2021</td>\n",
       "      <td>26.009446</td>\n",
       "      <td>68.776807</td>\n",
       "      <td>216632</td>\n",
       "      <td>3582</td>\n",
       "      <td>...</td>\n",
       "      <td>0.0</td>\n",
       "      <td>0.0</td>\n",
       "      <td>736.08070</td>\n",
       "      <td>1154.62100</td>\n",
       "      <td>419.94500</td>\n",
       "      <td>32.57</td>\n",
       "      <td>4.00</td>\n",
       "      <td>28.00</td>\n",
       "      <td>17.15</td>\n",
       "      <td>Clear.</td>\n",
       "    </tr>\n",
       "    <tr>\n",
       "      <th>0</th>\n",
       "      <td>Khyber Pakhtunkhwa</td>\n",
       "      <td>Pakistan</td>\n",
       "      <td>1/2/2021</td>\n",
       "      <td>2</td>\n",
       "      <td>1</td>\n",
       "      <td>2021</td>\n",
       "      <td>34.485332</td>\n",
       "      <td>72.091690</td>\n",
       "      <td>59023</td>\n",
       "      <td>1661</td>\n",
       "      <td>...</td>\n",
       "      <td>0.0</td>\n",
       "      <td>0.0</td>\n",
       "      <td>466.71000</td>\n",
       "      <td>1027.97900</td>\n",
       "      <td>171.96710</td>\n",
       "      <td>44.34</td>\n",
       "      <td>3.86</td>\n",
       "      <td>36.73</td>\n",
       "      <td>23.24</td>\n",
       "      <td>Passing clouds.</td>\n",
       "    </tr>\n",
       "  </tbody>\n",
       "</table>\n",
       "<p>5 rows × 74 columns</p>\n",
       "</div>"
      ],
      "text/plain": [
       "             Province Country_Region      Date Day Month  Year        Lat  \\\n",
       "0         Balochistan       Pakistan  1/2/2021   2     1  2021  28.328492   \n",
       "0           Islamabad       Pakistan  1/2/2021   2     1  2021  33.665087   \n",
       "0              Punjab       Pakistan  1/2/2021   2     1  2021  30.811346   \n",
       "0               Sindh       Pakistan  1/2/2021   2     1  2021  26.009446   \n",
       "0  Khyber Pakhtunkhwa       Pakistan  1/2/2021   2     1  2021  34.485332   \n",
       "\n",
       "       Long_  Confirmed  Deaths  ... admis_upper_vax  admis_lower_vax  \\\n",
       "0  65.898403      18181     184  ...             0.0              0.0   \n",
       "0  73.121219      38020     421  ...             0.0              0.0   \n",
       "0  72.139132     139341    4085  ...             0.0              0.0   \n",
       "0  68.776807     216632    3582  ...             0.0              0.0   \n",
       "0  72.091690      59023    1661  ...             0.0              0.0   \n",
       "\n",
       "  admis_mean_unvax  admis_upper_unvax  admis_lower_unvax   Temp  Wind  \\\n",
       "0         51.53468           99.96011           24.12189  10.43  2.43   \n",
       "0         26.60619           43.25321           11.48248  32.57  4.00   \n",
       "0       1367.06400         2409.70800          644.18230  44.77  0.96   \n",
       "0        736.08070         1154.62100          419.94500  32.57  4.00   \n",
       "0        466.71000         1027.97900          171.96710  44.34  3.86   \n",
       "\n",
       "   Barometer  Visibility          Weather  \n",
       "0       8.00        0.00           Clear.  \n",
       "0      28.00       17.15           Clear.  \n",
       "0       3.60        5.00  Passing clouds.  \n",
       "0      28.00       17.15           Clear.  \n",
       "0      36.73       23.24  Passing clouds.  \n",
       "\n",
       "[5 rows x 74 columns]"
      ]
     },
     "execution_count": 175,
     "metadata": {},
     "output_type": "execute_result"
    }
   ],
   "source": [
    "# master_df.drop(S.No, axis = 1)\n",
    "master_df.head()"
   ]
  },
  {
   "cell_type": "code",
   "execution_count": 176,
   "id": "69ca62ae",
   "metadata": {},
   "outputs": [
    {
     "data": {
      "text/plain": [
       "Province            0\n",
       "Country_Region      0\n",
       "Date                0\n",
       "Day                 0\n",
       "Month               0\n",
       "                 ... \n",
       "Temp              133\n",
       "Wind              133\n",
       "Barometer         133\n",
       "Visibility        133\n",
       "Weather           134\n",
       "Length: 74, dtype: int64"
      ]
     },
     "execution_count": 176,
     "metadata": {},
     "output_type": "execute_result"
    }
   ],
   "source": [
    "master_df.isnull().sum()"
   ]
  },
  {
   "cell_type": "markdown",
   "id": "103eb4ff",
   "metadata": {},
   "source": [
    "# Preparing Vaccination Data"
   ]
  },
  {
   "cell_type": "code",
   "execution_count": 166,
   "id": "3004203f",
   "metadata": {},
   "outputs": [],
   "source": [
    "# path = \"C:\\\\Users\\\\OvaizAli\\\\Desktop\\\\FYP-2021\\\\Working Directory\\\\Data (CSSE) at Johns Hopkins University\\\\COVID-19\\\\vaccinations_data\\\\vaccinations.csv\""
   ]
  },
  {
   "cell_type": "code",
   "execution_count": 167,
   "id": "405821be",
   "metadata": {},
   "outputs": [],
   "source": [
    "# df_vaccinations = pd.read_csv(path)"
   ]
  },
  {
   "cell_type": "code",
   "execution_count": 168,
   "id": "2ef6450b",
   "metadata": {},
   "outputs": [],
   "source": [
    "# df_vac_pak = df_vaccinations[df_vaccinations['location'] == \"Pakistan\"]\n",
    "# df_vac_pak.head()"
   ]
  },
  {
   "cell_type": "code",
   "execution_count": 169,
   "id": "878ec4df",
   "metadata": {},
   "outputs": [],
   "source": [
    "# df_vac_pak = df_vac_pak[['date', 'daily_vaccinations', 'daily_vaccinations_per_million']]\n",
    "# df_vac_pak = df_vac_pak.dropna(subset=['daily_vaccinations', 'daily_vaccinations_per_million'])\n",
    "# df_vac_pak.head()"
   ]
  },
  {
   "cell_type": "markdown",
   "id": "cbe179f8",
   "metadata": {},
   "source": [
    "# Merging Vaccination Data to JHU_IHME"
   ]
  },
  {
   "cell_type": "code",
   "execution_count": 170,
   "id": "c8d53229",
   "metadata": {},
   "outputs": [],
   "source": [
    "# path = 'C:\\\\Users\\\\OvaizAli\\\\Desktop\\\\FYP-2021\\\\Working Directory\\\\JHU_IHME.csv'\n",
    "# df_JHU_IHME = pd.read_csv(path)"
   ]
  },
  {
   "cell_type": "code",
   "execution_count": 171,
   "id": "57bb249b",
   "metadata": {},
   "outputs": [],
   "source": [
    "# df_JHU_IHME_Vac = pd.merge(left=df_JHU_IHME, right=df_vac_pak, how='left', left_on=['Date', 'Province'], right_on=['Date', 'Province'])"
   ]
  },
  {
   "cell_type": "code",
   "execution_count": null,
   "id": "72bd19c0",
   "metadata": {},
   "outputs": [],
   "source": []
  },
  {
   "cell_type": "code",
   "execution_count": null,
   "id": "d1ba0581",
   "metadata": {},
   "outputs": [],
   "source": []
  }
 ],
 "metadata": {
  "colab": {
   "collapsed_sections": [],
   "name": "Data Collection.ipynb",
   "provenance": []
  },
  "kernelspec": {
   "display_name": "Python 3",
   "language": "python",
   "name": "python3"
  },
  "language_info": {
   "codemirror_mode": {
    "name": "ipython",
    "version": 3
   },
   "file_extension": ".py",
   "mimetype": "text/x-python",
   "name": "python",
   "nbconvert_exporter": "python",
   "pygments_lexer": "ipython3",
   "version": "3.8.8"
  }
 },
 "nbformat": 4,
 "nbformat_minor": 5
}
