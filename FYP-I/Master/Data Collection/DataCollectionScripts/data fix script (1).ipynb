{
 "cells": [
  {
   "cell_type": "code",
   "execution_count": 1,
   "id": "4724e883",
   "metadata": {},
   "outputs": [],
   "source": [
    "import pandas as pd\n",
    "import numpy as np\n",
    "import warnings\n",
    "warnings.filterwarnings(\"ignore\")"
   ]
  },
  {
   "cell_type": "code",
   "execution_count": 2,
   "id": "e2d78b7b",
   "metadata": {},
   "outputs": [],
   "source": [
    "df = pd.read_excel(r\"F:\\FYP\\_JHU_IHME_TD.xlsx\")"
   ]
  },
  {
   "cell_type": "code",
   "execution_count": 3,
   "id": "eb91d935",
   "metadata": {},
   "outputs": [
    {
     "data": {
      "text/html": [
       "<div>\n",
       "<style scoped>\n",
       "    .dataframe tbody tr th:only-of-type {\n",
       "        vertical-align: middle;\n",
       "    }\n",
       "\n",
       "    .dataframe tbody tr th {\n",
       "        vertical-align: top;\n",
       "    }\n",
       "\n",
       "    .dataframe thead th {\n",
       "        text-align: right;\n",
       "    }\n",
       "</style>\n",
       "<table border=\"1\" class=\"dataframe\">\n",
       "  <thead>\n",
       "    <tr style=\"text-align: right;\">\n",
       "      <th></th>\n",
       "      <th>Province</th>\n",
       "      <th>Country_Region</th>\n",
       "      <th>Date</th>\n",
       "      <th>Day</th>\n",
       "      <th>Month</th>\n",
       "      <th>Year</th>\n",
       "      <th>Lat</th>\n",
       "      <th>Long_</th>\n",
       "      <th>Confirmed</th>\n",
       "      <th>Deaths</th>\n",
       "      <th>...</th>\n",
       "      <th>admis_upper_vax</th>\n",
       "      <th>admis_lower_vax</th>\n",
       "      <th>admis_mean_unvax</th>\n",
       "      <th>admis_upper_unvax</th>\n",
       "      <th>admis_lower_unvax</th>\n",
       "      <th>Temp</th>\n",
       "      <th>Wind</th>\n",
       "      <th>Barometer</th>\n",
       "      <th>Visibility</th>\n",
       "      <th>Weather</th>\n",
       "    </tr>\n",
       "  </thead>\n",
       "  <tbody>\n",
       "    <tr>\n",
       "      <th>0</th>\n",
       "      <td>Azad Jammu and Kashmir</td>\n",
       "      <td>Pakistan</td>\n",
       "      <td>2020-03-10</td>\n",
       "      <td>10</td>\n",
       "      <td>3</td>\n",
       "      <td>2020</td>\n",
       "      <td>34.027401</td>\n",
       "      <td>73.947253</td>\n",
       "      <td>0</td>\n",
       "      <td>0</td>\n",
       "      <td>...</td>\n",
       "      <td>0.0</td>\n",
       "      <td>0.0</td>\n",
       "      <td>0.000000</td>\n",
       "      <td>0.00000</td>\n",
       "      <td>0.000000</td>\n",
       "      <td>39.86</td>\n",
       "      <td>1.86</td>\n",
       "      <td>42.43</td>\n",
       "      <td>0.00</td>\n",
       "      <td>Clear.</td>\n",
       "    </tr>\n",
       "    <tr>\n",
       "      <th>1</th>\n",
       "      <td>Balochistan</td>\n",
       "      <td>Pakistan</td>\n",
       "      <td>2020-03-10</td>\n",
       "      <td>10</td>\n",
       "      <td>3</td>\n",
       "      <td>2020</td>\n",
       "      <td>28.328492</td>\n",
       "      <td>65.898403</td>\n",
       "      <td>1</td>\n",
       "      <td>0</td>\n",
       "      <td>...</td>\n",
       "      <td>0.0</td>\n",
       "      <td>0.0</td>\n",
       "      <td>25.615120</td>\n",
       "      <td>44.61881</td>\n",
       "      <td>10.791250</td>\n",
       "      <td>46.29</td>\n",
       "      <td>15.00</td>\n",
       "      <td>31.43</td>\n",
       "      <td>0.00</td>\n",
       "      <td>Haze.</td>\n",
       "    </tr>\n",
       "    <tr>\n",
       "      <th>2</th>\n",
       "      <td>Gilgit-Baltistan</td>\n",
       "      <td>Pakistan</td>\n",
       "      <td>2020-03-10</td>\n",
       "      <td>10</td>\n",
       "      <td>3</td>\n",
       "      <td>2020</td>\n",
       "      <td>35.792146</td>\n",
       "      <td>74.982138</td>\n",
       "      <td>2</td>\n",
       "      <td>0</td>\n",
       "      <td>...</td>\n",
       "      <td>0.0</td>\n",
       "      <td>0.0</td>\n",
       "      <td>12.495310</td>\n",
       "      <td>23.41426</td>\n",
       "      <td>3.297438</td>\n",
       "      <td>32.71</td>\n",
       "      <td>3.71</td>\n",
       "      <td>23.57</td>\n",
       "      <td>12.82</td>\n",
       "      <td>Fog.</td>\n",
       "    </tr>\n",
       "    <tr>\n",
       "      <th>3</th>\n",
       "      <td>Islamabad</td>\n",
       "      <td>Pakistan</td>\n",
       "      <td>2020-03-10</td>\n",
       "      <td>10</td>\n",
       "      <td>3</td>\n",
       "      <td>2020</td>\n",
       "      <td>33.665087</td>\n",
       "      <td>73.121219</td>\n",
       "      <td>2</td>\n",
       "      <td>0</td>\n",
       "      <td>...</td>\n",
       "      <td>0.0</td>\n",
       "      <td>0.0</td>\n",
       "      <td>0.004133</td>\n",
       "      <td>0.00000</td>\n",
       "      <td>0.000000</td>\n",
       "      <td>65.14</td>\n",
       "      <td>9.57</td>\n",
       "      <td>34.71</td>\n",
       "      <td>21.33</td>\n",
       "      <td>Clear.</td>\n",
       "    </tr>\n",
       "    <tr>\n",
       "      <th>4</th>\n",
       "      <td>Khyber Pakhtunkhwa</td>\n",
       "      <td>Pakistan</td>\n",
       "      <td>2020-03-10</td>\n",
       "      <td>10</td>\n",
       "      <td>3</td>\n",
       "      <td>2020</td>\n",
       "      <td>34.485332</td>\n",
       "      <td>72.091690</td>\n",
       "      <td>0</td>\n",
       "      <td>0</td>\n",
       "      <td>...</td>\n",
       "      <td>0.0</td>\n",
       "      <td>0.0</td>\n",
       "      <td>17.376130</td>\n",
       "      <td>39.58196</td>\n",
       "      <td>5.953569</td>\n",
       "      <td>48.80</td>\n",
       "      <td>4.64</td>\n",
       "      <td>49.20</td>\n",
       "      <td>23.21</td>\n",
       "      <td>Fog.</td>\n",
       "    </tr>\n",
       "  </tbody>\n",
       "</table>\n",
       "<p>5 rows × 74 columns</p>\n",
       "</div>"
      ],
      "text/plain": [
       "                 Province Country_Region       Date Day Month  Year  \\\n",
       "0  Azad Jammu and Kashmir       Pakistan 2020-03-10  10     3  2020   \n",
       "1             Balochistan       Pakistan 2020-03-10  10     3  2020   \n",
       "2        Gilgit-Baltistan       Pakistan 2020-03-10  10     3  2020   \n",
       "3               Islamabad       Pakistan 2020-03-10  10     3  2020   \n",
       "4      Khyber Pakhtunkhwa       Pakistan 2020-03-10  10     3  2020   \n",
       "\n",
       "         Lat      Long_  Confirmed  Deaths  ... admis_upper_vax  \\\n",
       "0  34.027401  73.947253          0       0  ...             0.0   \n",
       "1  28.328492  65.898403          1       0  ...             0.0   \n",
       "2  35.792146  74.982138          2       0  ...             0.0   \n",
       "3  33.665087  73.121219          2       0  ...             0.0   \n",
       "4  34.485332  72.091690          0       0  ...             0.0   \n",
       "\n",
       "   admis_lower_vax admis_mean_unvax  admis_upper_unvax  admis_lower_unvax  \\\n",
       "0              0.0         0.000000            0.00000           0.000000   \n",
       "1              0.0        25.615120           44.61881          10.791250   \n",
       "2              0.0        12.495310           23.41426           3.297438   \n",
       "3              0.0         0.004133            0.00000           0.000000   \n",
       "4              0.0        17.376130           39.58196           5.953569   \n",
       "\n",
       "    Temp   Wind  Barometer  Visibility  Weather  \n",
       "0  39.86   1.86      42.43        0.00   Clear.  \n",
       "1  46.29  15.00      31.43        0.00    Haze.  \n",
       "2  32.71   3.71      23.57       12.82     Fog.  \n",
       "3  65.14   9.57      34.71       21.33   Clear.  \n",
       "4  48.80   4.64      49.20       23.21     Fog.  \n",
       "\n",
       "[5 rows x 74 columns]"
      ]
     },
     "execution_count": 3,
     "metadata": {},
     "output_type": "execute_result"
    }
   ],
   "source": [
    "NaN = \"\"\n",
    "\n",
    "df.insert(3,\"Day\",NaN)\n",
    "df.insert(4,\"Month\",NaN)\n",
    "df.insert(5,\"Year\",NaN)\n",
    "df.insert(10,\"Daily_Confirmed\",NaN)\n",
    "df.insert(12,\"Daily_Deaths\",NaN)\n",
    "for i in range(len(df)):\n",
    "    x = str(df[\"Date\"][i]).split(\"-\")\n",
    "    day = int(x[2].split(\" \")[0])\n",
    "    month = int(x[1])\n",
    "    year = int(x[0])\n",
    "    df[\"Day\"][i] = day\n",
    "    df[\"Month\"][i] = month\n",
    "    df[\"Year\"][i] = year\n",
    "    \n",
    "df.head()"
   ]
  },
  {
   "cell_type": "code",
   "execution_count": 4,
   "id": "d54ccae0",
   "metadata": {},
   "outputs": [],
   "source": [
    "balochistan_df = df[df['Province'] == 'Balochistan']\n",
    "isb_df = df[df['Province'] == 'Islamabad']\n",
    "punjab_df = df[df['Province'] == 'Punjab']\n",
    "sindh_df = df[df['Province'] == 'Sindh']\n",
    "kpk_df = df[df['Province'] == 'Khyber Pakhtunkhwa']\n",
    "gilgit_df= df[df['Province'] == 'Gilgit-Baltistan']\n",
    "kashmir_df= df[df['Province'] == 'Azad Jammu and Kashmir']"
   ]
  },
  {
   "cell_type": "code",
   "execution_count": 5,
   "id": "b50eef29",
   "metadata": {},
   "outputs": [
    {
     "name": "stdout",
     "output_type": "stream",
     "text": [
      "703\n",
      "703\n",
      "703\n",
      "703\n",
      "703\n",
      "703\n",
      "703\n"
     ]
    }
   ],
   "source": [
    "print(len(balochistan_df))\n",
    "print(len(isb_df))\n",
    "print(len(punjab_df))\n",
    "print(len(sindh_df))\n",
    "print(len(kpk_df))\n",
    "print(len(gilgit_df))\n",
    "print(len(kashmir_df))"
   ]
  },
  {
   "cell_type": "code",
   "execution_count": 6,
   "id": "84e66cea",
   "metadata": {},
   "outputs": [
    {
     "name": "stdout",
     "output_type": "stream",
     "text": [
      "Province           0\n",
      "Country_Region     0\n",
      "Date               0\n",
      "Day                0\n",
      "Month              0\n",
      "                  ..\n",
      "Temp              29\n",
      "Wind              29\n",
      "Barometer         29\n",
      "Visibility        29\n",
      "Weather           29\n",
      "Length: 74, dtype: int64\n"
     ]
    }
   ],
   "source": [
    "# print((isb_df).isna().sum())\n",
    "print((punjab_df).isna().sum())\n",
    "# print((sindh_df).isna().sum())\n",
    "# print((kpk_df).isna().sum())\n",
    "# print((gilgit_df).isna().sum())\n",
    "# print((kashmir_df).isna().sum())\n",
    "# print((balochistan_df).isna().sum())"
   ]
  },
  {
   "cell_type": "code",
   "execution_count": 7,
   "id": "7d7b6171",
   "metadata": {},
   "outputs": [],
   "source": [
    "columns = [\"Temp\",\"Wind\",\"Barometer\",\"Visibility\",\"Weather\"]"
   ]
  },
  {
   "cell_type": "code",
   "execution_count": 8,
   "id": "28c085b4",
   "metadata": {},
   "outputs": [],
   "source": [
    "balochistan_df[\"Daily_Confirmed\"][1] = 0\n",
    "balochistan_df[\"Daily_Deaths\"][1] = 0\n",
    "for i in range(8,len(balochistan_df) * 7,7):\n",
    "    balochistan_df[\"Daily_Confirmed\"][i] = balochistan_df[\"Confirmed\"][i] - balochistan_df[\"Confirmed\"][i - 7]\n",
    "    balochistan_df[\"Daily_Deaths\"][i] = balochistan_df[\"Deaths\"][i] - balochistan_df[\"Deaths\"][i - 7]\n",
    "    for col in columns:\n",
    "        if pd.isna(balochistan_df[col][i]) == True:\n",
    "            balochistan_df[col][i] = balochistan_df[col][i - 7]"
   ]
  },
  {
   "cell_type": "code",
   "execution_count": 9,
   "id": "6011c6cc",
   "metadata": {},
   "outputs": [],
   "source": [
    "isb_df[\"Daily_Confirmed\"][3] = 0\n",
    "isb_df[\"Daily_Deaths\"][3] = 0\n",
    "for i in range(10,len(isb_df) * 7,7):\n",
    "    isb_df[\"Daily_Confirmed\"][i] = isb_df[\"Confirmed\"][i] - isb_df[\"Confirmed\"][i - 7]\n",
    "    isb_df[\"Daily_Deaths\"][i] = isb_df[\"Deaths\"][i] - isb_df[\"Deaths\"][i - 7]\n",
    "    for col in columns:\n",
    "        if pd.isna(isb_df[col][i]) == True:\n",
    "            isb_df[col][i] = isb_df[col][i - 7]"
   ]
  },
  {
   "cell_type": "code",
   "execution_count": 10,
   "id": "039bd680",
   "metadata": {},
   "outputs": [],
   "source": [
    "gilgit_df[\"Daily_Confirmed\"][2] = 0\n",
    "gilgit_df[\"Daily_Deaths\"][2] = 0\n",
    "for i in range(9,len(gilgit_df) * 7,7):\n",
    "    gilgit_df[\"Daily_Confirmed\"][i] = gilgit_df[\"Confirmed\"][i] - gilgit_df[\"Confirmed\"][i - 7]\n",
    "    gilgit_df[\"Daily_Deaths\"][i] = gilgit_df[\"Deaths\"][i] - gilgit_df[\"Deaths\"][i - 7]\n",
    "    for col in columns:\n",
    "        if pd.isna(gilgit_df[col][i]) == True:\n",
    "            gilgit_df[col][i] = gilgit_df[col][i - 7]"
   ]
  },
  {
   "cell_type": "code",
   "execution_count": 11,
   "id": "6cfa7855",
   "metadata": {},
   "outputs": [],
   "source": [
    "kashmir_df[\"Daily_Confirmed\"][0] = 0\n",
    "kashmir_df[\"Daily_Deaths\"][0] = 0\n",
    "for i in range(7,len(kashmir_df) * 7,7):\n",
    "    kashmir_df[\"Daily_Confirmed\"][i] = kashmir_df[\"Confirmed\"][i] - kashmir_df[\"Confirmed\"][i - 7]\n",
    "    kashmir_df[\"Daily_Deaths\"][i] = kashmir_df[\"Deaths\"][i] - kashmir_df[\"Deaths\"][i - 7]\n",
    "    for col in columns:\n",
    "        if pd.isna(kashmir_df[col][i]) == True:\n",
    "            kashmir_df[col][i] = kashmir_df[col][i - 7]"
   ]
  },
  {
   "cell_type": "code",
   "execution_count": 12,
   "id": "bed312bd",
   "metadata": {},
   "outputs": [],
   "source": [
    "kpk_df[\"Daily_Confirmed\"][4] = 0\n",
    "kpk_df[\"Daily_Deaths\"][4] = 0\n",
    "for i in range(11,len(kpk_df) * 7,7):\n",
    "    kpk_df[\"Daily_Confirmed\"][i] = kpk_df[\"Confirmed\"][i] - kpk_df[\"Confirmed\"][i - 7]\n",
    "    kpk_df[\"Daily_Deaths\"][i] = kpk_df[\"Deaths\"][i] - kpk_df[\"Deaths\"][i - 7]\n",
    "    for col in columns:\n",
    "        if pd.isna(kpk_df[col][i]) == True:\n",
    "            kpk_df[col][i] = kpk_df[col][i - 7]"
   ]
  },
  {
   "cell_type": "code",
   "execution_count": 13,
   "id": "85b9c020",
   "metadata": {},
   "outputs": [],
   "source": [
    "sindh_df[\"Daily_Confirmed\"][6] = 0\n",
    "sindh_df[\"Daily_Deaths\"][3] = 0\n",
    "for i in range(13,len(sindh_df) * 7,7):\n",
    "    sindh_df[\"Daily_Confirmed\"][i] = sindh_df[\"Confirmed\"][i] - sindh_df[\"Confirmed\"][i - 7]\n",
    "    sindh_df[\"Daily_Deaths\"][i] = sindh_df[\"Deaths\"][i] - sindh_df[\"Deaths\"][i - 7]\n",
    "    for col in columns:\n",
    "        if pd.isna(sindh_df[col][i]) == True:\n",
    "            sindh_df[col][i] = sindh_df[col][i - 7]"
   ]
  },
  {
   "cell_type": "code",
   "execution_count": 14,
   "id": "b00d12d4",
   "metadata": {},
   "outputs": [],
   "source": [
    "punjab_df[\"Daily_Confirmed\"][5] = 0\n",
    "punjab_df[\"Daily_Deaths\"][5] = 0\n",
    "for i in range(12,len(punjab_df) * 7,7):\n",
    "    punjab_df[\"Daily_Confirmed\"][i] = punjab_df[\"Confirmed\"][i] - punjab_df[\"Confirmed\"][i - 7]\n",
    "    punjab_df[\"Daily_Deaths\"][i] = punjab_df[\"Deaths\"][i] - punjab_df[\"Deaths\"][i - 7]\n",
    "    for col in columns:\n",
    "        if pd.isna(punjab_df[col][i]) == True:\n",
    "            punjab_df[col][i] = punjab_df[col][i - 7]"
   ]
  },
  {
   "cell_type": "code",
   "execution_count": 15,
   "id": "ec7d2a81",
   "metadata": {},
   "outputs": [],
   "source": [
    "dataframes = {}\n",
    "\n",
    "dataframes.update({\"balochistan_df\":balochistan_df})\n",
    "dataframes.update({\"isb_df\":isb_df})\n",
    "dataframes.update({\"punjab_df\":punjab_df})\n",
    "dataframes.update({\"sindh_df\":sindh_df})\n",
    "dataframes.update({\"kpk_df\":kpk_df})\n",
    "dataframes.update({\"kashmir_df\":kashmir_df})\n",
    "dataframes.update({\"gilgit_df\":gilgit_df})"
   ]
  },
  {
   "cell_type": "code",
   "execution_count": 16,
   "id": "c421f421",
   "metadata": {},
   "outputs": [
    {
     "ename": "KeyError",
     "evalue": "\"None of [Int64Index([0], dtype='int64')] are in the [index]\"",
     "output_type": "error",
     "traceback": [
      "\u001b[1;31m---------------------------------------------------------------------------\u001b[0m",
      "\u001b[1;31mKeyError\u001b[0m                                  Traceback (most recent call last)",
      "\u001b[1;32m~\\AppData\\Local\\Temp/ipykernel_21400/3563841832.py\u001b[0m in \u001b[0;36m<module>\u001b[1;34m\u001b[0m\n\u001b[0;32m      5\u001b[0m     \u001b[1;32mfor\u001b[0m \u001b[0mvalue\u001b[0m \u001b[1;32min\u001b[0m \u001b[0mvalues\u001b[0m\u001b[1;33m:\u001b[0m\u001b[1;33m\u001b[0m\u001b[1;33m\u001b[0m\u001b[0m\n\u001b[0;32m      6\u001b[0m         \u001b[0mtemp_df\u001b[0m \u001b[1;33m=\u001b[0m \u001b[0mvalue\u001b[0m\u001b[1;33m.\u001b[0m\u001b[0miloc\u001b[0m\u001b[1;33m[\u001b[0m\u001b[1;33m[\u001b[0m\u001b[0mi\u001b[0m\u001b[1;33m]\u001b[0m\u001b[1;33m]\u001b[0m\u001b[1;33m\u001b[0m\u001b[1;33m\u001b[0m\u001b[0m\n\u001b[1;32m----> 7\u001b[1;33m         \u001b[0mmaster_df\u001b[0m \u001b[1;33m=\u001b[0m \u001b[0mmaster_df\u001b[0m\u001b[1;33m.\u001b[0m\u001b[0mappend\u001b[0m\u001b[1;33m(\u001b[0m\u001b[0mtemp_df\u001b[0m\u001b[1;33m.\u001b[0m\u001b[0mloc\u001b[0m\u001b[1;33m[\u001b[0m\u001b[1;33m[\u001b[0m\u001b[0mi\u001b[0m\u001b[1;33m]\u001b[0m\u001b[1;33m]\u001b[0m\u001b[1;33m)\u001b[0m\u001b[1;33m\u001b[0m\u001b[1;33m\u001b[0m\u001b[0m\n\u001b[0m\u001b[0;32m      8\u001b[0m \u001b[1;33m\u001b[0m\u001b[0m\n\u001b[0;32m      9\u001b[0m \u001b[0mmaster_df\u001b[0m\u001b[1;33m.\u001b[0m\u001b[0mdrop\u001b[0m\u001b[1;33m(\u001b[0m\u001b[0mS\u001b[0m\u001b[1;33m.\u001b[0m\u001b[0mNo\u001b[0m\u001b[1;33m,\u001b[0m \u001b[0maxis\u001b[0m \u001b[1;33m=\u001b[0m \u001b[1;36m1\u001b[0m\u001b[1;33m)\u001b[0m\u001b[1;33m\u001b[0m\u001b[1;33m\u001b[0m\u001b[0m\n",
      "\u001b[1;32m~\\AppData\\Local\\Programs\\Python\\Python39\\lib\\site-packages\\pandas\\core\\indexing.py\u001b[0m in \u001b[0;36m__getitem__\u001b[1;34m(self, key)\u001b[0m\n\u001b[0;32m    929\u001b[0m \u001b[1;33m\u001b[0m\u001b[0m\n\u001b[0;32m    930\u001b[0m             \u001b[0mmaybe_callable\u001b[0m \u001b[1;33m=\u001b[0m \u001b[0mcom\u001b[0m\u001b[1;33m.\u001b[0m\u001b[0mapply_if_callable\u001b[0m\u001b[1;33m(\u001b[0m\u001b[0mkey\u001b[0m\u001b[1;33m,\u001b[0m \u001b[0mself\u001b[0m\u001b[1;33m.\u001b[0m\u001b[0mobj\u001b[0m\u001b[1;33m)\u001b[0m\u001b[1;33m\u001b[0m\u001b[1;33m\u001b[0m\u001b[0m\n\u001b[1;32m--> 931\u001b[1;33m             \u001b[1;32mreturn\u001b[0m \u001b[0mself\u001b[0m\u001b[1;33m.\u001b[0m\u001b[0m_getitem_axis\u001b[0m\u001b[1;33m(\u001b[0m\u001b[0mmaybe_callable\u001b[0m\u001b[1;33m,\u001b[0m \u001b[0maxis\u001b[0m\u001b[1;33m=\u001b[0m\u001b[0maxis\u001b[0m\u001b[1;33m)\u001b[0m\u001b[1;33m\u001b[0m\u001b[1;33m\u001b[0m\u001b[0m\n\u001b[0m\u001b[0;32m    932\u001b[0m \u001b[1;33m\u001b[0m\u001b[0m\n\u001b[0;32m    933\u001b[0m     \u001b[1;32mdef\u001b[0m \u001b[0m_is_scalar_access\u001b[0m\u001b[1;33m(\u001b[0m\u001b[0mself\u001b[0m\u001b[1;33m,\u001b[0m \u001b[0mkey\u001b[0m\u001b[1;33m:\u001b[0m \u001b[0mtuple\u001b[0m\u001b[1;33m)\u001b[0m\u001b[1;33m:\u001b[0m\u001b[1;33m\u001b[0m\u001b[1;33m\u001b[0m\u001b[0m\n",
      "\u001b[1;32m~\\AppData\\Local\\Programs\\Python\\Python39\\lib\\site-packages\\pandas\\core\\indexing.py\u001b[0m in \u001b[0;36m_getitem_axis\u001b[1;34m(self, key, axis)\u001b[0m\n\u001b[0;32m   1151\u001b[0m                     \u001b[1;32mraise\u001b[0m \u001b[0mValueError\u001b[0m\u001b[1;33m(\u001b[0m\u001b[1;34m\"Cannot index with multidimensional key\"\u001b[0m\u001b[1;33m)\u001b[0m\u001b[1;33m\u001b[0m\u001b[1;33m\u001b[0m\u001b[0m\n\u001b[0;32m   1152\u001b[0m \u001b[1;33m\u001b[0m\u001b[0m\n\u001b[1;32m-> 1153\u001b[1;33m                 \u001b[1;32mreturn\u001b[0m \u001b[0mself\u001b[0m\u001b[1;33m.\u001b[0m\u001b[0m_getitem_iterable\u001b[0m\u001b[1;33m(\u001b[0m\u001b[0mkey\u001b[0m\u001b[1;33m,\u001b[0m \u001b[0maxis\u001b[0m\u001b[1;33m=\u001b[0m\u001b[0maxis\u001b[0m\u001b[1;33m)\u001b[0m\u001b[1;33m\u001b[0m\u001b[1;33m\u001b[0m\u001b[0m\n\u001b[0m\u001b[0;32m   1154\u001b[0m \u001b[1;33m\u001b[0m\u001b[0m\n\u001b[0;32m   1155\u001b[0m             \u001b[1;31m# nested tuple slicing\u001b[0m\u001b[1;33m\u001b[0m\u001b[1;33m\u001b[0m\u001b[0m\n",
      "\u001b[1;32m~\\AppData\\Local\\Programs\\Python\\Python39\\lib\\site-packages\\pandas\\core\\indexing.py\u001b[0m in \u001b[0;36m_getitem_iterable\u001b[1;34m(self, key, axis)\u001b[0m\n\u001b[0;32m   1091\u001b[0m \u001b[1;33m\u001b[0m\u001b[0m\n\u001b[0;32m   1092\u001b[0m         \u001b[1;31m# A collection of keys\u001b[0m\u001b[1;33m\u001b[0m\u001b[1;33m\u001b[0m\u001b[0m\n\u001b[1;32m-> 1093\u001b[1;33m         \u001b[0mkeyarr\u001b[0m\u001b[1;33m,\u001b[0m \u001b[0mindexer\u001b[0m \u001b[1;33m=\u001b[0m \u001b[0mself\u001b[0m\u001b[1;33m.\u001b[0m\u001b[0m_get_listlike_indexer\u001b[0m\u001b[1;33m(\u001b[0m\u001b[0mkey\u001b[0m\u001b[1;33m,\u001b[0m \u001b[0maxis\u001b[0m\u001b[1;33m)\u001b[0m\u001b[1;33m\u001b[0m\u001b[1;33m\u001b[0m\u001b[0m\n\u001b[0m\u001b[0;32m   1094\u001b[0m         return self.obj._reindex_with_indexers(\n\u001b[0;32m   1095\u001b[0m             \u001b[1;33m{\u001b[0m\u001b[0maxis\u001b[0m\u001b[1;33m:\u001b[0m \u001b[1;33m[\u001b[0m\u001b[0mkeyarr\u001b[0m\u001b[1;33m,\u001b[0m \u001b[0mindexer\u001b[0m\u001b[1;33m]\u001b[0m\u001b[1;33m}\u001b[0m\u001b[1;33m,\u001b[0m \u001b[0mcopy\u001b[0m\u001b[1;33m=\u001b[0m\u001b[1;32mTrue\u001b[0m\u001b[1;33m,\u001b[0m \u001b[0mallow_dups\u001b[0m\u001b[1;33m=\u001b[0m\u001b[1;32mTrue\u001b[0m\u001b[1;33m\u001b[0m\u001b[1;33m\u001b[0m\u001b[0m\n",
      "\u001b[1;32m~\\AppData\\Local\\Programs\\Python\\Python39\\lib\\site-packages\\pandas\\core\\indexing.py\u001b[0m in \u001b[0;36m_get_listlike_indexer\u001b[1;34m(self, key, axis)\u001b[0m\n\u001b[0;32m   1312\u001b[0m             \u001b[0mkeyarr\u001b[0m\u001b[1;33m,\u001b[0m \u001b[0mindexer\u001b[0m\u001b[1;33m,\u001b[0m \u001b[0mnew_indexer\u001b[0m \u001b[1;33m=\u001b[0m \u001b[0max\u001b[0m\u001b[1;33m.\u001b[0m\u001b[0m_reindex_non_unique\u001b[0m\u001b[1;33m(\u001b[0m\u001b[0mkeyarr\u001b[0m\u001b[1;33m)\u001b[0m\u001b[1;33m\u001b[0m\u001b[1;33m\u001b[0m\u001b[0m\n\u001b[0;32m   1313\u001b[0m \u001b[1;33m\u001b[0m\u001b[0m\n\u001b[1;32m-> 1314\u001b[1;33m         \u001b[0mself\u001b[0m\u001b[1;33m.\u001b[0m\u001b[0m_validate_read_indexer\u001b[0m\u001b[1;33m(\u001b[0m\u001b[0mkeyarr\u001b[0m\u001b[1;33m,\u001b[0m \u001b[0mindexer\u001b[0m\u001b[1;33m,\u001b[0m \u001b[0maxis\u001b[0m\u001b[1;33m)\u001b[0m\u001b[1;33m\u001b[0m\u001b[1;33m\u001b[0m\u001b[0m\n\u001b[0m\u001b[0;32m   1315\u001b[0m \u001b[1;33m\u001b[0m\u001b[0m\n\u001b[0;32m   1316\u001b[0m         if needs_i8_conversion(ax.dtype) or isinstance(\n",
      "\u001b[1;32m~\\AppData\\Local\\Programs\\Python\\Python39\\lib\\site-packages\\pandas\\core\\indexing.py\u001b[0m in \u001b[0;36m_validate_read_indexer\u001b[1;34m(self, key, indexer, axis)\u001b[0m\n\u001b[0;32m   1372\u001b[0m                 \u001b[1;32mif\u001b[0m \u001b[0muse_interval_msg\u001b[0m\u001b[1;33m:\u001b[0m\u001b[1;33m\u001b[0m\u001b[1;33m\u001b[0m\u001b[0m\n\u001b[0;32m   1373\u001b[0m                     \u001b[0mkey\u001b[0m \u001b[1;33m=\u001b[0m \u001b[0mlist\u001b[0m\u001b[1;33m(\u001b[0m\u001b[0mkey\u001b[0m\u001b[1;33m)\u001b[0m\u001b[1;33m\u001b[0m\u001b[1;33m\u001b[0m\u001b[0m\n\u001b[1;32m-> 1374\u001b[1;33m                 \u001b[1;32mraise\u001b[0m \u001b[0mKeyError\u001b[0m\u001b[1;33m(\u001b[0m\u001b[1;34mf\"None of [{key}] are in the [{axis_name}]\"\u001b[0m\u001b[1;33m)\u001b[0m\u001b[1;33m\u001b[0m\u001b[1;33m\u001b[0m\u001b[0m\n\u001b[0m\u001b[0;32m   1375\u001b[0m \u001b[1;33m\u001b[0m\u001b[0m\n\u001b[0;32m   1376\u001b[0m             \u001b[0mnot_found\u001b[0m \u001b[1;33m=\u001b[0m \u001b[0mlist\u001b[0m\u001b[1;33m(\u001b[0m\u001b[0mensure_index\u001b[0m\u001b[1;33m(\u001b[0m\u001b[0mkey\u001b[0m\u001b[1;33m)\u001b[0m\u001b[1;33m[\u001b[0m\u001b[0mmissing_mask\u001b[0m\u001b[1;33m.\u001b[0m\u001b[0mnonzero\u001b[0m\u001b[1;33m(\u001b[0m\u001b[1;33m)\u001b[0m\u001b[1;33m[\u001b[0m\u001b[1;36m0\u001b[0m\u001b[1;33m]\u001b[0m\u001b[1;33m]\u001b[0m\u001b[1;33m.\u001b[0m\u001b[0munique\u001b[0m\u001b[1;33m(\u001b[0m\u001b[1;33m)\u001b[0m\u001b[1;33m)\u001b[0m\u001b[1;33m\u001b[0m\u001b[1;33m\u001b[0m\u001b[0m\n",
      "\u001b[1;31mKeyError\u001b[0m: \"None of [Int64Index([0], dtype='int64')] are in the [index]\""
     ]
    }
   ],
   "source": [
    "master_df = pd.DataFrame()\n",
    "values = list(dataframes.values())\n",
    "\n",
    "for i in range(len(kpk_df)):\n",
    "    for value in values:\n",
    "        temp_df = value.iloc[[i]]\n",
    "        master_df = master_df.append(temp_df.loc[[i]])\n",
    "        \n",
    "master_df.drop(S.No, axis = 1)\n",
    "master_df.head()"
   ]
  },
  {
   "cell_type": "code",
   "execution_count": null,
   "id": "5baa9bca",
   "metadata": {},
   "outputs": [],
   "source": [
    "master_df.isna().sum()"
   ]
  },
  {
   "cell_type": "code",
   "execution_count": null,
   "id": "26c2b34f",
   "metadata": {},
   "outputs": [],
   "source": [
    "path = r\"F:\\FYP\\JHU_IHME_TD.csv\"\n",
    "\n",
    "master_df.to_csv(path)"
   ]
  }
 ],
 "metadata": {
  "kernelspec": {
   "display_name": "Python 3",
   "language": "python",
   "name": "python3"
  },
  "language_info": {
   "codemirror_mode": {
    "name": "ipython",
    "version": 3
   },
   "file_extension": ".py",
   "mimetype": "text/x-python",
   "name": "python",
   "nbconvert_exporter": "python",
   "pygments_lexer": "ipython3",
   "version": "3.8.8"
  }
 },
 "nbformat": 4,
 "nbformat_minor": 5
}
